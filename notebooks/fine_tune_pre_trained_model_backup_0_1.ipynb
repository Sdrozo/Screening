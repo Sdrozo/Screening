{
  "nbformat": 4,
  "nbformat_minor": 0,
  "metadata": {
    "colab": {
      "provenance": [],
      "gpuType": "T4"
    },
    "kernelspec": {
      "name": "python3",
      "display_name": "Python 3"
    },
    "language_info": {
      "name": "python"
    },
    "accelerator": "GPU",
    "widgets": {
      "application/vnd.jupyter.widget-state+json": {
        "d09b71a7c17c4ffba6b14423913ab810": {
          "model_module": "@jupyter-widgets/controls",
          "model_name": "HBoxModel",
          "model_module_version": "1.5.0",
          "state": {
            "_dom_classes": [],
            "_model_module": "@jupyter-widgets/controls",
            "_model_module_version": "1.5.0",
            "_model_name": "HBoxModel",
            "_view_count": null,
            "_view_module": "@jupyter-widgets/controls",
            "_view_module_version": "1.5.0",
            "_view_name": "HBoxView",
            "box_style": "",
            "children": [
              "IPY_MODEL_e50f6e39880f4e929e6b05b5ab30fa2c",
              "IPY_MODEL_6d4f1b19a9a24b99b31c3ab244396a4a",
              "IPY_MODEL_6bd2c9a128b6435fa3b7fa025d69d1a8"
            ],
            "layout": "IPY_MODEL_2fe8e395044e42e684a8f5fde272411c"
          }
        },
        "e50f6e39880f4e929e6b05b5ab30fa2c": {
          "model_module": "@jupyter-widgets/controls",
          "model_name": "HTMLModel",
          "model_module_version": "1.5.0",
          "state": {
            "_dom_classes": [],
            "_model_module": "@jupyter-widgets/controls",
            "_model_module_version": "1.5.0",
            "_model_name": "HTMLModel",
            "_view_count": null,
            "_view_module": "@jupyter-widgets/controls",
            "_view_module_version": "1.5.0",
            "_view_name": "HTMLView",
            "description": "",
            "description_tooltip": null,
            "layout": "IPY_MODEL_8b48323fbcf94018b4960a3f79aaca85",
            "placeholder": "​",
            "style": "IPY_MODEL_3dcebf12ddf04940be864cd402552181",
            "value": "tokenizer_config.json: 100%"
          }
        },
        "6d4f1b19a9a24b99b31c3ab244396a4a": {
          "model_module": "@jupyter-widgets/controls",
          "model_name": "FloatProgressModel",
          "model_module_version": "1.5.0",
          "state": {
            "_dom_classes": [],
            "_model_module": "@jupyter-widgets/controls",
            "_model_module_version": "1.5.0",
            "_model_name": "FloatProgressModel",
            "_view_count": null,
            "_view_module": "@jupyter-widgets/controls",
            "_view_module_version": "1.5.0",
            "_view_name": "ProgressView",
            "bar_style": "success",
            "description": "",
            "description_tooltip": null,
            "layout": "IPY_MODEL_2535e4981cec4070b73397965a6a0fda",
            "max": 48,
            "min": 0,
            "orientation": "horizontal",
            "style": "IPY_MODEL_432684a825644bfbaa0540ee28f36d7c",
            "value": 48
          }
        },
        "6bd2c9a128b6435fa3b7fa025d69d1a8": {
          "model_module": "@jupyter-widgets/controls",
          "model_name": "HTMLModel",
          "model_module_version": "1.5.0",
          "state": {
            "_dom_classes": [],
            "_model_module": "@jupyter-widgets/controls",
            "_model_module_version": "1.5.0",
            "_model_name": "HTMLModel",
            "_view_count": null,
            "_view_module": "@jupyter-widgets/controls",
            "_view_module_version": "1.5.0",
            "_view_name": "HTMLView",
            "description": "",
            "description_tooltip": null,
            "layout": "IPY_MODEL_3f0d6e3753254dbe9150a663441b9e63",
            "placeholder": "​",
            "style": "IPY_MODEL_e68c7c17b0eb4f48b00c8557861d7d34",
            "value": " 48.0/48.0 [00:00&lt;00:00, 4.45kB/s]"
          }
        },
        "2fe8e395044e42e684a8f5fde272411c": {
          "model_module": "@jupyter-widgets/base",
          "model_name": "LayoutModel",
          "model_module_version": "1.2.0",
          "state": {
            "_model_module": "@jupyter-widgets/base",
            "_model_module_version": "1.2.0",
            "_model_name": "LayoutModel",
            "_view_count": null,
            "_view_module": "@jupyter-widgets/base",
            "_view_module_version": "1.2.0",
            "_view_name": "LayoutView",
            "align_content": null,
            "align_items": null,
            "align_self": null,
            "border": null,
            "bottom": null,
            "display": null,
            "flex": null,
            "flex_flow": null,
            "grid_area": null,
            "grid_auto_columns": null,
            "grid_auto_flow": null,
            "grid_auto_rows": null,
            "grid_column": null,
            "grid_gap": null,
            "grid_row": null,
            "grid_template_areas": null,
            "grid_template_columns": null,
            "grid_template_rows": null,
            "height": null,
            "justify_content": null,
            "justify_items": null,
            "left": null,
            "margin": null,
            "max_height": null,
            "max_width": null,
            "min_height": null,
            "min_width": null,
            "object_fit": null,
            "object_position": null,
            "order": null,
            "overflow": null,
            "overflow_x": null,
            "overflow_y": null,
            "padding": null,
            "right": null,
            "top": null,
            "visibility": null,
            "width": null
          }
        },
        "8b48323fbcf94018b4960a3f79aaca85": {
          "model_module": "@jupyter-widgets/base",
          "model_name": "LayoutModel",
          "model_module_version": "1.2.0",
          "state": {
            "_model_module": "@jupyter-widgets/base",
            "_model_module_version": "1.2.0",
            "_model_name": "LayoutModel",
            "_view_count": null,
            "_view_module": "@jupyter-widgets/base",
            "_view_module_version": "1.2.0",
            "_view_name": "LayoutView",
            "align_content": null,
            "align_items": null,
            "align_self": null,
            "border": null,
            "bottom": null,
            "display": null,
            "flex": null,
            "flex_flow": null,
            "grid_area": null,
            "grid_auto_columns": null,
            "grid_auto_flow": null,
            "grid_auto_rows": null,
            "grid_column": null,
            "grid_gap": null,
            "grid_row": null,
            "grid_template_areas": null,
            "grid_template_columns": null,
            "grid_template_rows": null,
            "height": null,
            "justify_content": null,
            "justify_items": null,
            "left": null,
            "margin": null,
            "max_height": null,
            "max_width": null,
            "min_height": null,
            "min_width": null,
            "object_fit": null,
            "object_position": null,
            "order": null,
            "overflow": null,
            "overflow_x": null,
            "overflow_y": null,
            "padding": null,
            "right": null,
            "top": null,
            "visibility": null,
            "width": null
          }
        },
        "3dcebf12ddf04940be864cd402552181": {
          "model_module": "@jupyter-widgets/controls",
          "model_name": "DescriptionStyleModel",
          "model_module_version": "1.5.0",
          "state": {
            "_model_module": "@jupyter-widgets/controls",
            "_model_module_version": "1.5.0",
            "_model_name": "DescriptionStyleModel",
            "_view_count": null,
            "_view_module": "@jupyter-widgets/base",
            "_view_module_version": "1.2.0",
            "_view_name": "StyleView",
            "description_width": ""
          }
        },
        "2535e4981cec4070b73397965a6a0fda": {
          "model_module": "@jupyter-widgets/base",
          "model_name": "LayoutModel",
          "model_module_version": "1.2.0",
          "state": {
            "_model_module": "@jupyter-widgets/base",
            "_model_module_version": "1.2.0",
            "_model_name": "LayoutModel",
            "_view_count": null,
            "_view_module": "@jupyter-widgets/base",
            "_view_module_version": "1.2.0",
            "_view_name": "LayoutView",
            "align_content": null,
            "align_items": null,
            "align_self": null,
            "border": null,
            "bottom": null,
            "display": null,
            "flex": null,
            "flex_flow": null,
            "grid_area": null,
            "grid_auto_columns": null,
            "grid_auto_flow": null,
            "grid_auto_rows": null,
            "grid_column": null,
            "grid_gap": null,
            "grid_row": null,
            "grid_template_areas": null,
            "grid_template_columns": null,
            "grid_template_rows": null,
            "height": null,
            "justify_content": null,
            "justify_items": null,
            "left": null,
            "margin": null,
            "max_height": null,
            "max_width": null,
            "min_height": null,
            "min_width": null,
            "object_fit": null,
            "object_position": null,
            "order": null,
            "overflow": null,
            "overflow_x": null,
            "overflow_y": null,
            "padding": null,
            "right": null,
            "top": null,
            "visibility": null,
            "width": null
          }
        },
        "432684a825644bfbaa0540ee28f36d7c": {
          "model_module": "@jupyter-widgets/controls",
          "model_name": "ProgressStyleModel",
          "model_module_version": "1.5.0",
          "state": {
            "_model_module": "@jupyter-widgets/controls",
            "_model_module_version": "1.5.0",
            "_model_name": "ProgressStyleModel",
            "_view_count": null,
            "_view_module": "@jupyter-widgets/base",
            "_view_module_version": "1.2.0",
            "_view_name": "StyleView",
            "bar_color": null,
            "description_width": ""
          }
        },
        "3f0d6e3753254dbe9150a663441b9e63": {
          "model_module": "@jupyter-widgets/base",
          "model_name": "LayoutModel",
          "model_module_version": "1.2.0",
          "state": {
            "_model_module": "@jupyter-widgets/base",
            "_model_module_version": "1.2.0",
            "_model_name": "LayoutModel",
            "_view_count": null,
            "_view_module": "@jupyter-widgets/base",
            "_view_module_version": "1.2.0",
            "_view_name": "LayoutView",
            "align_content": null,
            "align_items": null,
            "align_self": null,
            "border": null,
            "bottom": null,
            "display": null,
            "flex": null,
            "flex_flow": null,
            "grid_area": null,
            "grid_auto_columns": null,
            "grid_auto_flow": null,
            "grid_auto_rows": null,
            "grid_column": null,
            "grid_gap": null,
            "grid_row": null,
            "grid_template_areas": null,
            "grid_template_columns": null,
            "grid_template_rows": null,
            "height": null,
            "justify_content": null,
            "justify_items": null,
            "left": null,
            "margin": null,
            "max_height": null,
            "max_width": null,
            "min_height": null,
            "min_width": null,
            "object_fit": null,
            "object_position": null,
            "order": null,
            "overflow": null,
            "overflow_x": null,
            "overflow_y": null,
            "padding": null,
            "right": null,
            "top": null,
            "visibility": null,
            "width": null
          }
        },
        "e68c7c17b0eb4f48b00c8557861d7d34": {
          "model_module": "@jupyter-widgets/controls",
          "model_name": "DescriptionStyleModel",
          "model_module_version": "1.5.0",
          "state": {
            "_model_module": "@jupyter-widgets/controls",
            "_model_module_version": "1.5.0",
            "_model_name": "DescriptionStyleModel",
            "_view_count": null,
            "_view_module": "@jupyter-widgets/base",
            "_view_module_version": "1.2.0",
            "_view_name": "StyleView",
            "description_width": ""
          }
        },
        "6a0a38c1ddba4ce1bdfe278dda338fde": {
          "model_module": "@jupyter-widgets/controls",
          "model_name": "HBoxModel",
          "model_module_version": "1.5.0",
          "state": {
            "_dom_classes": [],
            "_model_module": "@jupyter-widgets/controls",
            "_model_module_version": "1.5.0",
            "_model_name": "HBoxModel",
            "_view_count": null,
            "_view_module": "@jupyter-widgets/controls",
            "_view_module_version": "1.5.0",
            "_view_name": "HBoxView",
            "box_style": "",
            "children": [
              "IPY_MODEL_4cc05fa8ed034dfea006af83f8232955",
              "IPY_MODEL_d0d3a4c096444fddbe7fe02b1e232a98",
              "IPY_MODEL_63013e648d5a4df283e17a21c15beb68"
            ],
            "layout": "IPY_MODEL_40751908f7df4dad9ebb1fc5a3c359f2"
          }
        },
        "4cc05fa8ed034dfea006af83f8232955": {
          "model_module": "@jupyter-widgets/controls",
          "model_name": "HTMLModel",
          "model_module_version": "1.5.0",
          "state": {
            "_dom_classes": [],
            "_model_module": "@jupyter-widgets/controls",
            "_model_module_version": "1.5.0",
            "_model_name": "HTMLModel",
            "_view_count": null,
            "_view_module": "@jupyter-widgets/controls",
            "_view_module_version": "1.5.0",
            "_view_name": "HTMLView",
            "description": "",
            "description_tooltip": null,
            "layout": "IPY_MODEL_2e771ca41ea54d23a762c839f2c841c4",
            "placeholder": "​",
            "style": "IPY_MODEL_741584b8bc454dd89b8011f90fad7990",
            "value": "vocab.txt: 100%"
          }
        },
        "d0d3a4c096444fddbe7fe02b1e232a98": {
          "model_module": "@jupyter-widgets/controls",
          "model_name": "FloatProgressModel",
          "model_module_version": "1.5.0",
          "state": {
            "_dom_classes": [],
            "_model_module": "@jupyter-widgets/controls",
            "_model_module_version": "1.5.0",
            "_model_name": "FloatProgressModel",
            "_view_count": null,
            "_view_module": "@jupyter-widgets/controls",
            "_view_module_version": "1.5.0",
            "_view_name": "ProgressView",
            "bar_style": "success",
            "description": "",
            "description_tooltip": null,
            "layout": "IPY_MODEL_716232994e95420ca592e696e0c44bb6",
            "max": 231508,
            "min": 0,
            "orientation": "horizontal",
            "style": "IPY_MODEL_1a718c6ec8e14090b43b19fc0f9bddfc",
            "value": 231508
          }
        },
        "63013e648d5a4df283e17a21c15beb68": {
          "model_module": "@jupyter-widgets/controls",
          "model_name": "HTMLModel",
          "model_module_version": "1.5.0",
          "state": {
            "_dom_classes": [],
            "_model_module": "@jupyter-widgets/controls",
            "_model_module_version": "1.5.0",
            "_model_name": "HTMLModel",
            "_view_count": null,
            "_view_module": "@jupyter-widgets/controls",
            "_view_module_version": "1.5.0",
            "_view_name": "HTMLView",
            "description": "",
            "description_tooltip": null,
            "layout": "IPY_MODEL_8e32b047e03842cc8b17583d3c9cbb45",
            "placeholder": "​",
            "style": "IPY_MODEL_5e8d8d7a350a4d1da2af821b0f52c01e",
            "value": " 232k/232k [00:00&lt;00:00, 1.76MB/s]"
          }
        },
        "40751908f7df4dad9ebb1fc5a3c359f2": {
          "model_module": "@jupyter-widgets/base",
          "model_name": "LayoutModel",
          "model_module_version": "1.2.0",
          "state": {
            "_model_module": "@jupyter-widgets/base",
            "_model_module_version": "1.2.0",
            "_model_name": "LayoutModel",
            "_view_count": null,
            "_view_module": "@jupyter-widgets/base",
            "_view_module_version": "1.2.0",
            "_view_name": "LayoutView",
            "align_content": null,
            "align_items": null,
            "align_self": null,
            "border": null,
            "bottom": null,
            "display": null,
            "flex": null,
            "flex_flow": null,
            "grid_area": null,
            "grid_auto_columns": null,
            "grid_auto_flow": null,
            "grid_auto_rows": null,
            "grid_column": null,
            "grid_gap": null,
            "grid_row": null,
            "grid_template_areas": null,
            "grid_template_columns": null,
            "grid_template_rows": null,
            "height": null,
            "justify_content": null,
            "justify_items": null,
            "left": null,
            "margin": null,
            "max_height": null,
            "max_width": null,
            "min_height": null,
            "min_width": null,
            "object_fit": null,
            "object_position": null,
            "order": null,
            "overflow": null,
            "overflow_x": null,
            "overflow_y": null,
            "padding": null,
            "right": null,
            "top": null,
            "visibility": null,
            "width": null
          }
        },
        "2e771ca41ea54d23a762c839f2c841c4": {
          "model_module": "@jupyter-widgets/base",
          "model_name": "LayoutModel",
          "model_module_version": "1.2.0",
          "state": {
            "_model_module": "@jupyter-widgets/base",
            "_model_module_version": "1.2.0",
            "_model_name": "LayoutModel",
            "_view_count": null,
            "_view_module": "@jupyter-widgets/base",
            "_view_module_version": "1.2.0",
            "_view_name": "LayoutView",
            "align_content": null,
            "align_items": null,
            "align_self": null,
            "border": null,
            "bottom": null,
            "display": null,
            "flex": null,
            "flex_flow": null,
            "grid_area": null,
            "grid_auto_columns": null,
            "grid_auto_flow": null,
            "grid_auto_rows": null,
            "grid_column": null,
            "grid_gap": null,
            "grid_row": null,
            "grid_template_areas": null,
            "grid_template_columns": null,
            "grid_template_rows": null,
            "height": null,
            "justify_content": null,
            "justify_items": null,
            "left": null,
            "margin": null,
            "max_height": null,
            "max_width": null,
            "min_height": null,
            "min_width": null,
            "object_fit": null,
            "object_position": null,
            "order": null,
            "overflow": null,
            "overflow_x": null,
            "overflow_y": null,
            "padding": null,
            "right": null,
            "top": null,
            "visibility": null,
            "width": null
          }
        },
        "741584b8bc454dd89b8011f90fad7990": {
          "model_module": "@jupyter-widgets/controls",
          "model_name": "DescriptionStyleModel",
          "model_module_version": "1.5.0",
          "state": {
            "_model_module": "@jupyter-widgets/controls",
            "_model_module_version": "1.5.0",
            "_model_name": "DescriptionStyleModel",
            "_view_count": null,
            "_view_module": "@jupyter-widgets/base",
            "_view_module_version": "1.2.0",
            "_view_name": "StyleView",
            "description_width": ""
          }
        },
        "716232994e95420ca592e696e0c44bb6": {
          "model_module": "@jupyter-widgets/base",
          "model_name": "LayoutModel",
          "model_module_version": "1.2.0",
          "state": {
            "_model_module": "@jupyter-widgets/base",
            "_model_module_version": "1.2.0",
            "_model_name": "LayoutModel",
            "_view_count": null,
            "_view_module": "@jupyter-widgets/base",
            "_view_module_version": "1.2.0",
            "_view_name": "LayoutView",
            "align_content": null,
            "align_items": null,
            "align_self": null,
            "border": null,
            "bottom": null,
            "display": null,
            "flex": null,
            "flex_flow": null,
            "grid_area": null,
            "grid_auto_columns": null,
            "grid_auto_flow": null,
            "grid_auto_rows": null,
            "grid_column": null,
            "grid_gap": null,
            "grid_row": null,
            "grid_template_areas": null,
            "grid_template_columns": null,
            "grid_template_rows": null,
            "height": null,
            "justify_content": null,
            "justify_items": null,
            "left": null,
            "margin": null,
            "max_height": null,
            "max_width": null,
            "min_height": null,
            "min_width": null,
            "object_fit": null,
            "object_position": null,
            "order": null,
            "overflow": null,
            "overflow_x": null,
            "overflow_y": null,
            "padding": null,
            "right": null,
            "top": null,
            "visibility": null,
            "width": null
          }
        },
        "1a718c6ec8e14090b43b19fc0f9bddfc": {
          "model_module": "@jupyter-widgets/controls",
          "model_name": "ProgressStyleModel",
          "model_module_version": "1.5.0",
          "state": {
            "_model_module": "@jupyter-widgets/controls",
            "_model_module_version": "1.5.0",
            "_model_name": "ProgressStyleModel",
            "_view_count": null,
            "_view_module": "@jupyter-widgets/base",
            "_view_module_version": "1.2.0",
            "_view_name": "StyleView",
            "bar_color": null,
            "description_width": ""
          }
        },
        "8e32b047e03842cc8b17583d3c9cbb45": {
          "model_module": "@jupyter-widgets/base",
          "model_name": "LayoutModel",
          "model_module_version": "1.2.0",
          "state": {
            "_model_module": "@jupyter-widgets/base",
            "_model_module_version": "1.2.0",
            "_model_name": "LayoutModel",
            "_view_count": null,
            "_view_module": "@jupyter-widgets/base",
            "_view_module_version": "1.2.0",
            "_view_name": "LayoutView",
            "align_content": null,
            "align_items": null,
            "align_self": null,
            "border": null,
            "bottom": null,
            "display": null,
            "flex": null,
            "flex_flow": null,
            "grid_area": null,
            "grid_auto_columns": null,
            "grid_auto_flow": null,
            "grid_auto_rows": null,
            "grid_column": null,
            "grid_gap": null,
            "grid_row": null,
            "grid_template_areas": null,
            "grid_template_columns": null,
            "grid_template_rows": null,
            "height": null,
            "justify_content": null,
            "justify_items": null,
            "left": null,
            "margin": null,
            "max_height": null,
            "max_width": null,
            "min_height": null,
            "min_width": null,
            "object_fit": null,
            "object_position": null,
            "order": null,
            "overflow": null,
            "overflow_x": null,
            "overflow_y": null,
            "padding": null,
            "right": null,
            "top": null,
            "visibility": null,
            "width": null
          }
        },
        "5e8d8d7a350a4d1da2af821b0f52c01e": {
          "model_module": "@jupyter-widgets/controls",
          "model_name": "DescriptionStyleModel",
          "model_module_version": "1.5.0",
          "state": {
            "_model_module": "@jupyter-widgets/controls",
            "_model_module_version": "1.5.0",
            "_model_name": "DescriptionStyleModel",
            "_view_count": null,
            "_view_module": "@jupyter-widgets/base",
            "_view_module_version": "1.2.0",
            "_view_name": "StyleView",
            "description_width": ""
          }
        },
        "5e93be6e060148c8b1f2fc3a0d8ddd1e": {
          "model_module": "@jupyter-widgets/controls",
          "model_name": "HBoxModel",
          "model_module_version": "1.5.0",
          "state": {
            "_dom_classes": [],
            "_model_module": "@jupyter-widgets/controls",
            "_model_module_version": "1.5.0",
            "_model_name": "HBoxModel",
            "_view_count": null,
            "_view_module": "@jupyter-widgets/controls",
            "_view_module_version": "1.5.0",
            "_view_name": "HBoxView",
            "box_style": "",
            "children": [
              "IPY_MODEL_b3e2de661ed34106bde6c8de2c4c44b4",
              "IPY_MODEL_ce943195b5c240c5b3e1579ad260c0b9",
              "IPY_MODEL_c41838c87e6548f9a51d7a5ee0404b2d"
            ],
            "layout": "IPY_MODEL_b99e2e12320a4d1fb71ed3ddc0c42ae3"
          }
        },
        "b3e2de661ed34106bde6c8de2c4c44b4": {
          "model_module": "@jupyter-widgets/controls",
          "model_name": "HTMLModel",
          "model_module_version": "1.5.0",
          "state": {
            "_dom_classes": [],
            "_model_module": "@jupyter-widgets/controls",
            "_model_module_version": "1.5.0",
            "_model_name": "HTMLModel",
            "_view_count": null,
            "_view_module": "@jupyter-widgets/controls",
            "_view_module_version": "1.5.0",
            "_view_name": "HTMLView",
            "description": "",
            "description_tooltip": null,
            "layout": "IPY_MODEL_0ce0b485811047799ac7293500bd4a7d",
            "placeholder": "​",
            "style": "IPY_MODEL_582d7ab9d8ac4e8d9ed6dd251e387884",
            "value": "tokenizer.json: 100%"
          }
        },
        "ce943195b5c240c5b3e1579ad260c0b9": {
          "model_module": "@jupyter-widgets/controls",
          "model_name": "FloatProgressModel",
          "model_module_version": "1.5.0",
          "state": {
            "_dom_classes": [],
            "_model_module": "@jupyter-widgets/controls",
            "_model_module_version": "1.5.0",
            "_model_name": "FloatProgressModel",
            "_view_count": null,
            "_view_module": "@jupyter-widgets/controls",
            "_view_module_version": "1.5.0",
            "_view_name": "ProgressView",
            "bar_style": "success",
            "description": "",
            "description_tooltip": null,
            "layout": "IPY_MODEL_a935c6384b6f4cdb91513def462fb93f",
            "max": 466062,
            "min": 0,
            "orientation": "horizontal",
            "style": "IPY_MODEL_884b196802224a41baee536ddd479bf5",
            "value": 466062
          }
        },
        "c41838c87e6548f9a51d7a5ee0404b2d": {
          "model_module": "@jupyter-widgets/controls",
          "model_name": "HTMLModel",
          "model_module_version": "1.5.0",
          "state": {
            "_dom_classes": [],
            "_model_module": "@jupyter-widgets/controls",
            "_model_module_version": "1.5.0",
            "_model_name": "HTMLModel",
            "_view_count": null,
            "_view_module": "@jupyter-widgets/controls",
            "_view_module_version": "1.5.0",
            "_view_name": "HTMLView",
            "description": "",
            "description_tooltip": null,
            "layout": "IPY_MODEL_36f9acb1572a42c4ba8286ff3999906a",
            "placeholder": "​",
            "style": "IPY_MODEL_de322f172f3c4842822ff7b21cfd860d",
            "value": " 466k/466k [00:00&lt;00:00, 2.38MB/s]"
          }
        },
        "b99e2e12320a4d1fb71ed3ddc0c42ae3": {
          "model_module": "@jupyter-widgets/base",
          "model_name": "LayoutModel",
          "model_module_version": "1.2.0",
          "state": {
            "_model_module": "@jupyter-widgets/base",
            "_model_module_version": "1.2.0",
            "_model_name": "LayoutModel",
            "_view_count": null,
            "_view_module": "@jupyter-widgets/base",
            "_view_module_version": "1.2.0",
            "_view_name": "LayoutView",
            "align_content": null,
            "align_items": null,
            "align_self": null,
            "border": null,
            "bottom": null,
            "display": null,
            "flex": null,
            "flex_flow": null,
            "grid_area": null,
            "grid_auto_columns": null,
            "grid_auto_flow": null,
            "grid_auto_rows": null,
            "grid_column": null,
            "grid_gap": null,
            "grid_row": null,
            "grid_template_areas": null,
            "grid_template_columns": null,
            "grid_template_rows": null,
            "height": null,
            "justify_content": null,
            "justify_items": null,
            "left": null,
            "margin": null,
            "max_height": null,
            "max_width": null,
            "min_height": null,
            "min_width": null,
            "object_fit": null,
            "object_position": null,
            "order": null,
            "overflow": null,
            "overflow_x": null,
            "overflow_y": null,
            "padding": null,
            "right": null,
            "top": null,
            "visibility": null,
            "width": null
          }
        },
        "0ce0b485811047799ac7293500bd4a7d": {
          "model_module": "@jupyter-widgets/base",
          "model_name": "LayoutModel",
          "model_module_version": "1.2.0",
          "state": {
            "_model_module": "@jupyter-widgets/base",
            "_model_module_version": "1.2.0",
            "_model_name": "LayoutModel",
            "_view_count": null,
            "_view_module": "@jupyter-widgets/base",
            "_view_module_version": "1.2.0",
            "_view_name": "LayoutView",
            "align_content": null,
            "align_items": null,
            "align_self": null,
            "border": null,
            "bottom": null,
            "display": null,
            "flex": null,
            "flex_flow": null,
            "grid_area": null,
            "grid_auto_columns": null,
            "grid_auto_flow": null,
            "grid_auto_rows": null,
            "grid_column": null,
            "grid_gap": null,
            "grid_row": null,
            "grid_template_areas": null,
            "grid_template_columns": null,
            "grid_template_rows": null,
            "height": null,
            "justify_content": null,
            "justify_items": null,
            "left": null,
            "margin": null,
            "max_height": null,
            "max_width": null,
            "min_height": null,
            "min_width": null,
            "object_fit": null,
            "object_position": null,
            "order": null,
            "overflow": null,
            "overflow_x": null,
            "overflow_y": null,
            "padding": null,
            "right": null,
            "top": null,
            "visibility": null,
            "width": null
          }
        },
        "582d7ab9d8ac4e8d9ed6dd251e387884": {
          "model_module": "@jupyter-widgets/controls",
          "model_name": "DescriptionStyleModel",
          "model_module_version": "1.5.0",
          "state": {
            "_model_module": "@jupyter-widgets/controls",
            "_model_module_version": "1.5.0",
            "_model_name": "DescriptionStyleModel",
            "_view_count": null,
            "_view_module": "@jupyter-widgets/base",
            "_view_module_version": "1.2.0",
            "_view_name": "StyleView",
            "description_width": ""
          }
        },
        "a935c6384b6f4cdb91513def462fb93f": {
          "model_module": "@jupyter-widgets/base",
          "model_name": "LayoutModel",
          "model_module_version": "1.2.0",
          "state": {
            "_model_module": "@jupyter-widgets/base",
            "_model_module_version": "1.2.0",
            "_model_name": "LayoutModel",
            "_view_count": null,
            "_view_module": "@jupyter-widgets/base",
            "_view_module_version": "1.2.0",
            "_view_name": "LayoutView",
            "align_content": null,
            "align_items": null,
            "align_self": null,
            "border": null,
            "bottom": null,
            "display": null,
            "flex": null,
            "flex_flow": null,
            "grid_area": null,
            "grid_auto_columns": null,
            "grid_auto_flow": null,
            "grid_auto_rows": null,
            "grid_column": null,
            "grid_gap": null,
            "grid_row": null,
            "grid_template_areas": null,
            "grid_template_columns": null,
            "grid_template_rows": null,
            "height": null,
            "justify_content": null,
            "justify_items": null,
            "left": null,
            "margin": null,
            "max_height": null,
            "max_width": null,
            "min_height": null,
            "min_width": null,
            "object_fit": null,
            "object_position": null,
            "order": null,
            "overflow": null,
            "overflow_x": null,
            "overflow_y": null,
            "padding": null,
            "right": null,
            "top": null,
            "visibility": null,
            "width": null
          }
        },
        "884b196802224a41baee536ddd479bf5": {
          "model_module": "@jupyter-widgets/controls",
          "model_name": "ProgressStyleModel",
          "model_module_version": "1.5.0",
          "state": {
            "_model_module": "@jupyter-widgets/controls",
            "_model_module_version": "1.5.0",
            "_model_name": "ProgressStyleModel",
            "_view_count": null,
            "_view_module": "@jupyter-widgets/base",
            "_view_module_version": "1.2.0",
            "_view_name": "StyleView",
            "bar_color": null,
            "description_width": ""
          }
        },
        "36f9acb1572a42c4ba8286ff3999906a": {
          "model_module": "@jupyter-widgets/base",
          "model_name": "LayoutModel",
          "model_module_version": "1.2.0",
          "state": {
            "_model_module": "@jupyter-widgets/base",
            "_model_module_version": "1.2.0",
            "_model_name": "LayoutModel",
            "_view_count": null,
            "_view_module": "@jupyter-widgets/base",
            "_view_module_version": "1.2.0",
            "_view_name": "LayoutView",
            "align_content": null,
            "align_items": null,
            "align_self": null,
            "border": null,
            "bottom": null,
            "display": null,
            "flex": null,
            "flex_flow": null,
            "grid_area": null,
            "grid_auto_columns": null,
            "grid_auto_flow": null,
            "grid_auto_rows": null,
            "grid_column": null,
            "grid_gap": null,
            "grid_row": null,
            "grid_template_areas": null,
            "grid_template_columns": null,
            "grid_template_rows": null,
            "height": null,
            "justify_content": null,
            "justify_items": null,
            "left": null,
            "margin": null,
            "max_height": null,
            "max_width": null,
            "min_height": null,
            "min_width": null,
            "object_fit": null,
            "object_position": null,
            "order": null,
            "overflow": null,
            "overflow_x": null,
            "overflow_y": null,
            "padding": null,
            "right": null,
            "top": null,
            "visibility": null,
            "width": null
          }
        },
        "de322f172f3c4842822ff7b21cfd860d": {
          "model_module": "@jupyter-widgets/controls",
          "model_name": "DescriptionStyleModel",
          "model_module_version": "1.5.0",
          "state": {
            "_model_module": "@jupyter-widgets/controls",
            "_model_module_version": "1.5.0",
            "_model_name": "DescriptionStyleModel",
            "_view_count": null,
            "_view_module": "@jupyter-widgets/base",
            "_view_module_version": "1.2.0",
            "_view_name": "StyleView",
            "description_width": ""
          }
        },
        "c2ef63499ffe413d9d7ce755748f772a": {
          "model_module": "@jupyter-widgets/controls",
          "model_name": "HBoxModel",
          "model_module_version": "1.5.0",
          "state": {
            "_dom_classes": [],
            "_model_module": "@jupyter-widgets/controls",
            "_model_module_version": "1.5.0",
            "_model_name": "HBoxModel",
            "_view_count": null,
            "_view_module": "@jupyter-widgets/controls",
            "_view_module_version": "1.5.0",
            "_view_name": "HBoxView",
            "box_style": "",
            "children": [
              "IPY_MODEL_d3dc5f6035524869a51297a57f7f2824",
              "IPY_MODEL_655070b040e5431d834cad8f627b3b16",
              "IPY_MODEL_d7cb9842d6a24563b86ae4159d24011b"
            ],
            "layout": "IPY_MODEL_e9280832143646c8a77fb33aa9b9804b"
          }
        },
        "d3dc5f6035524869a51297a57f7f2824": {
          "model_module": "@jupyter-widgets/controls",
          "model_name": "HTMLModel",
          "model_module_version": "1.5.0",
          "state": {
            "_dom_classes": [],
            "_model_module": "@jupyter-widgets/controls",
            "_model_module_version": "1.5.0",
            "_model_name": "HTMLModel",
            "_view_count": null,
            "_view_module": "@jupyter-widgets/controls",
            "_view_module_version": "1.5.0",
            "_view_name": "HTMLView",
            "description": "",
            "description_tooltip": null,
            "layout": "IPY_MODEL_f769651d28154bf494b3834975abeb3e",
            "placeholder": "​",
            "style": "IPY_MODEL_2e57238d256e4d40924df0b66ca68556",
            "value": "config.json: 100%"
          }
        },
        "655070b040e5431d834cad8f627b3b16": {
          "model_module": "@jupyter-widgets/controls",
          "model_name": "FloatProgressModel",
          "model_module_version": "1.5.0",
          "state": {
            "_dom_classes": [],
            "_model_module": "@jupyter-widgets/controls",
            "_model_module_version": "1.5.0",
            "_model_name": "FloatProgressModel",
            "_view_count": null,
            "_view_module": "@jupyter-widgets/controls",
            "_view_module_version": "1.5.0",
            "_view_name": "ProgressView",
            "bar_style": "success",
            "description": "",
            "description_tooltip": null,
            "layout": "IPY_MODEL_4d40ea0d2b4c4eac931fc41f767d29a9",
            "max": 570,
            "min": 0,
            "orientation": "horizontal",
            "style": "IPY_MODEL_8466619280dd45a5b7207a8d8364cee6",
            "value": 570
          }
        },
        "d7cb9842d6a24563b86ae4159d24011b": {
          "model_module": "@jupyter-widgets/controls",
          "model_name": "HTMLModel",
          "model_module_version": "1.5.0",
          "state": {
            "_dom_classes": [],
            "_model_module": "@jupyter-widgets/controls",
            "_model_module_version": "1.5.0",
            "_model_name": "HTMLModel",
            "_view_count": null,
            "_view_module": "@jupyter-widgets/controls",
            "_view_module_version": "1.5.0",
            "_view_name": "HTMLView",
            "description": "",
            "description_tooltip": null,
            "layout": "IPY_MODEL_bd9fedb9ae2842d29320cb49f117f53b",
            "placeholder": "​",
            "style": "IPY_MODEL_93ab982206844cab8718c1c9d338f766",
            "value": " 570/570 [00:00&lt;00:00, 54.4kB/s]"
          }
        },
        "e9280832143646c8a77fb33aa9b9804b": {
          "model_module": "@jupyter-widgets/base",
          "model_name": "LayoutModel",
          "model_module_version": "1.2.0",
          "state": {
            "_model_module": "@jupyter-widgets/base",
            "_model_module_version": "1.2.0",
            "_model_name": "LayoutModel",
            "_view_count": null,
            "_view_module": "@jupyter-widgets/base",
            "_view_module_version": "1.2.0",
            "_view_name": "LayoutView",
            "align_content": null,
            "align_items": null,
            "align_self": null,
            "border": null,
            "bottom": null,
            "display": null,
            "flex": null,
            "flex_flow": null,
            "grid_area": null,
            "grid_auto_columns": null,
            "grid_auto_flow": null,
            "grid_auto_rows": null,
            "grid_column": null,
            "grid_gap": null,
            "grid_row": null,
            "grid_template_areas": null,
            "grid_template_columns": null,
            "grid_template_rows": null,
            "height": null,
            "justify_content": null,
            "justify_items": null,
            "left": null,
            "margin": null,
            "max_height": null,
            "max_width": null,
            "min_height": null,
            "min_width": null,
            "object_fit": null,
            "object_position": null,
            "order": null,
            "overflow": null,
            "overflow_x": null,
            "overflow_y": null,
            "padding": null,
            "right": null,
            "top": null,
            "visibility": null,
            "width": null
          }
        },
        "f769651d28154bf494b3834975abeb3e": {
          "model_module": "@jupyter-widgets/base",
          "model_name": "LayoutModel",
          "model_module_version": "1.2.0",
          "state": {
            "_model_module": "@jupyter-widgets/base",
            "_model_module_version": "1.2.0",
            "_model_name": "LayoutModel",
            "_view_count": null,
            "_view_module": "@jupyter-widgets/base",
            "_view_module_version": "1.2.0",
            "_view_name": "LayoutView",
            "align_content": null,
            "align_items": null,
            "align_self": null,
            "border": null,
            "bottom": null,
            "display": null,
            "flex": null,
            "flex_flow": null,
            "grid_area": null,
            "grid_auto_columns": null,
            "grid_auto_flow": null,
            "grid_auto_rows": null,
            "grid_column": null,
            "grid_gap": null,
            "grid_row": null,
            "grid_template_areas": null,
            "grid_template_columns": null,
            "grid_template_rows": null,
            "height": null,
            "justify_content": null,
            "justify_items": null,
            "left": null,
            "margin": null,
            "max_height": null,
            "max_width": null,
            "min_height": null,
            "min_width": null,
            "object_fit": null,
            "object_position": null,
            "order": null,
            "overflow": null,
            "overflow_x": null,
            "overflow_y": null,
            "padding": null,
            "right": null,
            "top": null,
            "visibility": null,
            "width": null
          }
        },
        "2e57238d256e4d40924df0b66ca68556": {
          "model_module": "@jupyter-widgets/controls",
          "model_name": "DescriptionStyleModel",
          "model_module_version": "1.5.0",
          "state": {
            "_model_module": "@jupyter-widgets/controls",
            "_model_module_version": "1.5.0",
            "_model_name": "DescriptionStyleModel",
            "_view_count": null,
            "_view_module": "@jupyter-widgets/base",
            "_view_module_version": "1.2.0",
            "_view_name": "StyleView",
            "description_width": ""
          }
        },
        "4d40ea0d2b4c4eac931fc41f767d29a9": {
          "model_module": "@jupyter-widgets/base",
          "model_name": "LayoutModel",
          "model_module_version": "1.2.0",
          "state": {
            "_model_module": "@jupyter-widgets/base",
            "_model_module_version": "1.2.0",
            "_model_name": "LayoutModel",
            "_view_count": null,
            "_view_module": "@jupyter-widgets/base",
            "_view_module_version": "1.2.0",
            "_view_name": "LayoutView",
            "align_content": null,
            "align_items": null,
            "align_self": null,
            "border": null,
            "bottom": null,
            "display": null,
            "flex": null,
            "flex_flow": null,
            "grid_area": null,
            "grid_auto_columns": null,
            "grid_auto_flow": null,
            "grid_auto_rows": null,
            "grid_column": null,
            "grid_gap": null,
            "grid_row": null,
            "grid_template_areas": null,
            "grid_template_columns": null,
            "grid_template_rows": null,
            "height": null,
            "justify_content": null,
            "justify_items": null,
            "left": null,
            "margin": null,
            "max_height": null,
            "max_width": null,
            "min_height": null,
            "min_width": null,
            "object_fit": null,
            "object_position": null,
            "order": null,
            "overflow": null,
            "overflow_x": null,
            "overflow_y": null,
            "padding": null,
            "right": null,
            "top": null,
            "visibility": null,
            "width": null
          }
        },
        "8466619280dd45a5b7207a8d8364cee6": {
          "model_module": "@jupyter-widgets/controls",
          "model_name": "ProgressStyleModel",
          "model_module_version": "1.5.0",
          "state": {
            "_model_module": "@jupyter-widgets/controls",
            "_model_module_version": "1.5.0",
            "_model_name": "ProgressStyleModel",
            "_view_count": null,
            "_view_module": "@jupyter-widgets/base",
            "_view_module_version": "1.2.0",
            "_view_name": "StyleView",
            "bar_color": null,
            "description_width": ""
          }
        },
        "bd9fedb9ae2842d29320cb49f117f53b": {
          "model_module": "@jupyter-widgets/base",
          "model_name": "LayoutModel",
          "model_module_version": "1.2.0",
          "state": {
            "_model_module": "@jupyter-widgets/base",
            "_model_module_version": "1.2.0",
            "_model_name": "LayoutModel",
            "_view_count": null,
            "_view_module": "@jupyter-widgets/base",
            "_view_module_version": "1.2.0",
            "_view_name": "LayoutView",
            "align_content": null,
            "align_items": null,
            "align_self": null,
            "border": null,
            "bottom": null,
            "display": null,
            "flex": null,
            "flex_flow": null,
            "grid_area": null,
            "grid_auto_columns": null,
            "grid_auto_flow": null,
            "grid_auto_rows": null,
            "grid_column": null,
            "grid_gap": null,
            "grid_row": null,
            "grid_template_areas": null,
            "grid_template_columns": null,
            "grid_template_rows": null,
            "height": null,
            "justify_content": null,
            "justify_items": null,
            "left": null,
            "margin": null,
            "max_height": null,
            "max_width": null,
            "min_height": null,
            "min_width": null,
            "object_fit": null,
            "object_position": null,
            "order": null,
            "overflow": null,
            "overflow_x": null,
            "overflow_y": null,
            "padding": null,
            "right": null,
            "top": null,
            "visibility": null,
            "width": null
          }
        },
        "93ab982206844cab8718c1c9d338f766": {
          "model_module": "@jupyter-widgets/controls",
          "model_name": "DescriptionStyleModel",
          "model_module_version": "1.5.0",
          "state": {
            "_model_module": "@jupyter-widgets/controls",
            "_model_module_version": "1.5.0",
            "_model_name": "DescriptionStyleModel",
            "_view_count": null,
            "_view_module": "@jupyter-widgets/base",
            "_view_module_version": "1.2.0",
            "_view_name": "StyleView",
            "description_width": ""
          }
        },
        "bd6b9657c2ec4625a3b4a9f75794e143": {
          "model_module": "@jupyter-widgets/controls",
          "model_name": "HBoxModel",
          "model_module_version": "1.5.0",
          "state": {
            "_dom_classes": [],
            "_model_module": "@jupyter-widgets/controls",
            "_model_module_version": "1.5.0",
            "_model_name": "HBoxModel",
            "_view_count": null,
            "_view_module": "@jupyter-widgets/controls",
            "_view_module_version": "1.5.0",
            "_view_name": "HBoxView",
            "box_style": "",
            "children": [
              "IPY_MODEL_2d9fb538c36b4f15b7095d2945c8a2aa",
              "IPY_MODEL_6b682951fe52451d9d21fab16b5467c5",
              "IPY_MODEL_e0cbcf03ae614d19af18299ad6fceb98"
            ],
            "layout": "IPY_MODEL_9803dbed82c343b987d64961fb37a9ef"
          }
        },
        "2d9fb538c36b4f15b7095d2945c8a2aa": {
          "model_module": "@jupyter-widgets/controls",
          "model_name": "HTMLModel",
          "model_module_version": "1.5.0",
          "state": {
            "_dom_classes": [],
            "_model_module": "@jupyter-widgets/controls",
            "_model_module_version": "1.5.0",
            "_model_name": "HTMLModel",
            "_view_count": null,
            "_view_module": "@jupyter-widgets/controls",
            "_view_module_version": "1.5.0",
            "_view_name": "HTMLView",
            "description": "",
            "description_tooltip": null,
            "layout": "IPY_MODEL_702e2dd2758d4ec5b224b166579d40bc",
            "placeholder": "​",
            "style": "IPY_MODEL_f622fedd1b784f02a355244fb28aff2a",
            "value": "model.safetensors: 100%"
          }
        },
        "6b682951fe52451d9d21fab16b5467c5": {
          "model_module": "@jupyter-widgets/controls",
          "model_name": "FloatProgressModel",
          "model_module_version": "1.5.0",
          "state": {
            "_dom_classes": [],
            "_model_module": "@jupyter-widgets/controls",
            "_model_module_version": "1.5.0",
            "_model_name": "FloatProgressModel",
            "_view_count": null,
            "_view_module": "@jupyter-widgets/controls",
            "_view_module_version": "1.5.0",
            "_view_name": "ProgressView",
            "bar_style": "success",
            "description": "",
            "description_tooltip": null,
            "layout": "IPY_MODEL_b616726035cf4dbf97ccf5be339caa3e",
            "max": 440449768,
            "min": 0,
            "orientation": "horizontal",
            "style": "IPY_MODEL_652f35cbd3dc4bfb9cf6b5a785516e34",
            "value": 440449768
          }
        },
        "e0cbcf03ae614d19af18299ad6fceb98": {
          "model_module": "@jupyter-widgets/controls",
          "model_name": "HTMLModel",
          "model_module_version": "1.5.0",
          "state": {
            "_dom_classes": [],
            "_model_module": "@jupyter-widgets/controls",
            "_model_module_version": "1.5.0",
            "_model_name": "HTMLModel",
            "_view_count": null,
            "_view_module": "@jupyter-widgets/controls",
            "_view_module_version": "1.5.0",
            "_view_name": "HTMLView",
            "description": "",
            "description_tooltip": null,
            "layout": "IPY_MODEL_963a752d0dd84901b6b4df24e2143ebe",
            "placeholder": "​",
            "style": "IPY_MODEL_b73d4da5db8843689af2ba7c8c0c068a",
            "value": " 440M/440M [00:01&lt;00:00, 251MB/s]"
          }
        },
        "9803dbed82c343b987d64961fb37a9ef": {
          "model_module": "@jupyter-widgets/base",
          "model_name": "LayoutModel",
          "model_module_version": "1.2.0",
          "state": {
            "_model_module": "@jupyter-widgets/base",
            "_model_module_version": "1.2.0",
            "_model_name": "LayoutModel",
            "_view_count": null,
            "_view_module": "@jupyter-widgets/base",
            "_view_module_version": "1.2.0",
            "_view_name": "LayoutView",
            "align_content": null,
            "align_items": null,
            "align_self": null,
            "border": null,
            "bottom": null,
            "display": null,
            "flex": null,
            "flex_flow": null,
            "grid_area": null,
            "grid_auto_columns": null,
            "grid_auto_flow": null,
            "grid_auto_rows": null,
            "grid_column": null,
            "grid_gap": null,
            "grid_row": null,
            "grid_template_areas": null,
            "grid_template_columns": null,
            "grid_template_rows": null,
            "height": null,
            "justify_content": null,
            "justify_items": null,
            "left": null,
            "margin": null,
            "max_height": null,
            "max_width": null,
            "min_height": null,
            "min_width": null,
            "object_fit": null,
            "object_position": null,
            "order": null,
            "overflow": null,
            "overflow_x": null,
            "overflow_y": null,
            "padding": null,
            "right": null,
            "top": null,
            "visibility": null,
            "width": null
          }
        },
        "702e2dd2758d4ec5b224b166579d40bc": {
          "model_module": "@jupyter-widgets/base",
          "model_name": "LayoutModel",
          "model_module_version": "1.2.0",
          "state": {
            "_model_module": "@jupyter-widgets/base",
            "_model_module_version": "1.2.0",
            "_model_name": "LayoutModel",
            "_view_count": null,
            "_view_module": "@jupyter-widgets/base",
            "_view_module_version": "1.2.0",
            "_view_name": "LayoutView",
            "align_content": null,
            "align_items": null,
            "align_self": null,
            "border": null,
            "bottom": null,
            "display": null,
            "flex": null,
            "flex_flow": null,
            "grid_area": null,
            "grid_auto_columns": null,
            "grid_auto_flow": null,
            "grid_auto_rows": null,
            "grid_column": null,
            "grid_gap": null,
            "grid_row": null,
            "grid_template_areas": null,
            "grid_template_columns": null,
            "grid_template_rows": null,
            "height": null,
            "justify_content": null,
            "justify_items": null,
            "left": null,
            "margin": null,
            "max_height": null,
            "max_width": null,
            "min_height": null,
            "min_width": null,
            "object_fit": null,
            "object_position": null,
            "order": null,
            "overflow": null,
            "overflow_x": null,
            "overflow_y": null,
            "padding": null,
            "right": null,
            "top": null,
            "visibility": null,
            "width": null
          }
        },
        "f622fedd1b784f02a355244fb28aff2a": {
          "model_module": "@jupyter-widgets/controls",
          "model_name": "DescriptionStyleModel",
          "model_module_version": "1.5.0",
          "state": {
            "_model_module": "@jupyter-widgets/controls",
            "_model_module_version": "1.5.0",
            "_model_name": "DescriptionStyleModel",
            "_view_count": null,
            "_view_module": "@jupyter-widgets/base",
            "_view_module_version": "1.2.0",
            "_view_name": "StyleView",
            "description_width": ""
          }
        },
        "b616726035cf4dbf97ccf5be339caa3e": {
          "model_module": "@jupyter-widgets/base",
          "model_name": "LayoutModel",
          "model_module_version": "1.2.0",
          "state": {
            "_model_module": "@jupyter-widgets/base",
            "_model_module_version": "1.2.0",
            "_model_name": "LayoutModel",
            "_view_count": null,
            "_view_module": "@jupyter-widgets/base",
            "_view_module_version": "1.2.0",
            "_view_name": "LayoutView",
            "align_content": null,
            "align_items": null,
            "align_self": null,
            "border": null,
            "bottom": null,
            "display": null,
            "flex": null,
            "flex_flow": null,
            "grid_area": null,
            "grid_auto_columns": null,
            "grid_auto_flow": null,
            "grid_auto_rows": null,
            "grid_column": null,
            "grid_gap": null,
            "grid_row": null,
            "grid_template_areas": null,
            "grid_template_columns": null,
            "grid_template_rows": null,
            "height": null,
            "justify_content": null,
            "justify_items": null,
            "left": null,
            "margin": null,
            "max_height": null,
            "max_width": null,
            "min_height": null,
            "min_width": null,
            "object_fit": null,
            "object_position": null,
            "order": null,
            "overflow": null,
            "overflow_x": null,
            "overflow_y": null,
            "padding": null,
            "right": null,
            "top": null,
            "visibility": null,
            "width": null
          }
        },
        "652f35cbd3dc4bfb9cf6b5a785516e34": {
          "model_module": "@jupyter-widgets/controls",
          "model_name": "ProgressStyleModel",
          "model_module_version": "1.5.0",
          "state": {
            "_model_module": "@jupyter-widgets/controls",
            "_model_module_version": "1.5.0",
            "_model_name": "ProgressStyleModel",
            "_view_count": null,
            "_view_module": "@jupyter-widgets/base",
            "_view_module_version": "1.2.0",
            "_view_name": "StyleView",
            "bar_color": null,
            "description_width": ""
          }
        },
        "963a752d0dd84901b6b4df24e2143ebe": {
          "model_module": "@jupyter-widgets/base",
          "model_name": "LayoutModel",
          "model_module_version": "1.2.0",
          "state": {
            "_model_module": "@jupyter-widgets/base",
            "_model_module_version": "1.2.0",
            "_model_name": "LayoutModel",
            "_view_count": null,
            "_view_module": "@jupyter-widgets/base",
            "_view_module_version": "1.2.0",
            "_view_name": "LayoutView",
            "align_content": null,
            "align_items": null,
            "align_self": null,
            "border": null,
            "bottom": null,
            "display": null,
            "flex": null,
            "flex_flow": null,
            "grid_area": null,
            "grid_auto_columns": null,
            "grid_auto_flow": null,
            "grid_auto_rows": null,
            "grid_column": null,
            "grid_gap": null,
            "grid_row": null,
            "grid_template_areas": null,
            "grid_template_columns": null,
            "grid_template_rows": null,
            "height": null,
            "justify_content": null,
            "justify_items": null,
            "left": null,
            "margin": null,
            "max_height": null,
            "max_width": null,
            "min_height": null,
            "min_width": null,
            "object_fit": null,
            "object_position": null,
            "order": null,
            "overflow": null,
            "overflow_x": null,
            "overflow_y": null,
            "padding": null,
            "right": null,
            "top": null,
            "visibility": null,
            "width": null
          }
        },
        "b73d4da5db8843689af2ba7c8c0c068a": {
          "model_module": "@jupyter-widgets/controls",
          "model_name": "DescriptionStyleModel",
          "model_module_version": "1.5.0",
          "state": {
            "_model_module": "@jupyter-widgets/controls",
            "_model_module_version": "1.5.0",
            "_model_name": "DescriptionStyleModel",
            "_view_count": null,
            "_view_module": "@jupyter-widgets/base",
            "_view_module_version": "1.2.0",
            "_view_name": "StyleView",
            "description_width": ""
          }
        }
      }
    }
  },
  "cells": [
    {
      "cell_type": "markdown",
      "source": [
        "#### Load Dependencies"
      ],
      "metadata": {
        "id": "j8vkUpIWNTEp"
      }
    },
    {
      "cell_type": "code",
      "source": [
        "# pip install codecarbon"
      ],
      "metadata": {
        "id": "PCqsIDnubT_h"
      },
      "execution_count": null,
      "outputs": []
    },
    {
      "cell_type": "code",
      "execution_count": null,
      "metadata": {
        "id": "S5bIJ3vUL-On"
      },
      "outputs": [],
      "source": [
        "import pandas as pd\n",
        "import numpy as np\n",
        "from pathlib import Path\n",
        "import matplotlib.pyplot as plt\n",
        "import torch\n",
        "import torch.nn as nn\n",
        "\n",
        "from torch.utils.data import TensorDataset, DataLoader, RandomSampler, SequentialSampler\n",
        "from transformers import BertTokenizer, BertModel, AdamW, get_linear_schedule_with_warmup, AutoTokenizer, AutoModelForMaskedLM\n",
        "from sklearn.model_selection import train_test_split\n",
        "from sklearn.metrics import accuracy_score, confusion_matrix\n",
        "\n",
        "from codecarbon import EmissionsTracker\n"
      ]
    },
    {
      "cell_type": "code",
      "source": [
        "# current_directory = Path.cwd()\n",
        "# base_directory = current_directory.parent\n",
        "# results_file_sample = base_directory/'data'/'...'"
      ],
      "metadata": {
        "id": "pxx52qs_uytN"
      },
      "execution_count": null,
      "outputs": []
    },
    {
      "cell_type": "markdown",
      "source": [
        "#### Load And Inspect Data"
      ],
      "metadata": {
        "id": "8JPBEVT-Nc7M"
      }
    },
    {
      "cell_type": "code",
      "source": [
        "data_path = '/content/fixed_examples_v02.csv'\n",
        "data = pd.read_csv(data_path, delimiter=\"/\")\n",
        "data.head()"
      ],
      "metadata": {
        "colab": {
          "base_uri": "https://localhost:8080/",
          "height": 206
        },
        "id": "1q1cIKElNgGN",
        "outputId": "18fbb828-7851-4065-e614-e346523d4fa1"
      },
      "execution_count": null,
      "outputs": [
        {
          "output_type": "execute_result",
          "data": {
            "text/plain": [
              "               skills                                            context  \\\n",
              "0          JavaScript  I have developed interactive front-end applica...   \n",
              "1  Data Visualization   Data Visualization is a skill I plan to learn...   \n",
              "2               React   My recent projects involved creating dynamic ...   \n",
              "3    Machine Learning   I’m currently undertaking a course to underst...   \n",
              "4                 SQL   In my previous role, I was responsible for da...   \n",
              "\n",
              "                                          buzzwords      action_verbs  \\\n",
              "0              interactive; front-end; applications         developed   \n",
              "1                                             learn             learn   \n",
              "2                      dynamic; web pages; projects          creating   \n",
              "3                              fundamentals; course       undertaking   \n",
              "4   database management; previous role; responsible   was responsible   \n",
              "\n",
              "  verb_tense  target  \n",
              "0       past     1.0  \n",
              "1    present     0.0  \n",
              "2       past     1.0  \n",
              "3    present     0.0  \n",
              "4       past     1.0  "
            ],
            "text/html": [
              "\n",
              "  <div id=\"df-7e1f52e4-7cba-483d-96fa-53fca807c8c7\" class=\"colab-df-container\">\n",
              "    <div>\n",
              "<style scoped>\n",
              "    .dataframe tbody tr th:only-of-type {\n",
              "        vertical-align: middle;\n",
              "    }\n",
              "\n",
              "    .dataframe tbody tr th {\n",
              "        vertical-align: top;\n",
              "    }\n",
              "\n",
              "    .dataframe thead th {\n",
              "        text-align: right;\n",
              "    }\n",
              "</style>\n",
              "<table border=\"1\" class=\"dataframe\">\n",
              "  <thead>\n",
              "    <tr style=\"text-align: right;\">\n",
              "      <th></th>\n",
              "      <th>skills</th>\n",
              "      <th>context</th>\n",
              "      <th>buzzwords</th>\n",
              "      <th>action_verbs</th>\n",
              "      <th>verb_tense</th>\n",
              "      <th>target</th>\n",
              "    </tr>\n",
              "  </thead>\n",
              "  <tbody>\n",
              "    <tr>\n",
              "      <th>0</th>\n",
              "      <td>JavaScript</td>\n",
              "      <td>I have developed interactive front-end applica...</td>\n",
              "      <td>interactive; front-end; applications</td>\n",
              "      <td>developed</td>\n",
              "      <td>past</td>\n",
              "      <td>1.0</td>\n",
              "    </tr>\n",
              "    <tr>\n",
              "      <th>1</th>\n",
              "      <td>Data Visualization</td>\n",
              "      <td>Data Visualization is a skill I plan to learn...</td>\n",
              "      <td>learn</td>\n",
              "      <td>learn</td>\n",
              "      <td>present</td>\n",
              "      <td>0.0</td>\n",
              "    </tr>\n",
              "    <tr>\n",
              "      <th>2</th>\n",
              "      <td>React</td>\n",
              "      <td>My recent projects involved creating dynamic ...</td>\n",
              "      <td>dynamic; web pages; projects</td>\n",
              "      <td>creating</td>\n",
              "      <td>past</td>\n",
              "      <td>1.0</td>\n",
              "    </tr>\n",
              "    <tr>\n",
              "      <th>3</th>\n",
              "      <td>Machine Learning</td>\n",
              "      <td>I’m currently undertaking a course to underst...</td>\n",
              "      <td>fundamentals; course</td>\n",
              "      <td>undertaking</td>\n",
              "      <td>present</td>\n",
              "      <td>0.0</td>\n",
              "    </tr>\n",
              "    <tr>\n",
              "      <th>4</th>\n",
              "      <td>SQL</td>\n",
              "      <td>In my previous role, I was responsible for da...</td>\n",
              "      <td>database management; previous role; responsible</td>\n",
              "      <td>was responsible</td>\n",
              "      <td>past</td>\n",
              "      <td>1.0</td>\n",
              "    </tr>\n",
              "  </tbody>\n",
              "</table>\n",
              "</div>\n",
              "    <div class=\"colab-df-buttons\">\n",
              "\n",
              "  <div class=\"colab-df-container\">\n",
              "    <button class=\"colab-df-convert\" onclick=\"convertToInteractive('df-7e1f52e4-7cba-483d-96fa-53fca807c8c7')\"\n",
              "            title=\"Convert this dataframe to an interactive table.\"\n",
              "            style=\"display:none;\">\n",
              "\n",
              "  <svg xmlns=\"http://www.w3.org/2000/svg\" height=\"24px\" viewBox=\"0 -960 960 960\">\n",
              "    <path d=\"M120-120v-720h720v720H120Zm60-500h600v-160H180v160Zm220 220h160v-160H400v160Zm0 220h160v-160H400v160ZM180-400h160v-160H180v160Zm440 0h160v-160H620v160ZM180-180h160v-160H180v160Zm440 0h160v-160H620v160Z\"/>\n",
              "  </svg>\n",
              "    </button>\n",
              "\n",
              "  <style>\n",
              "    .colab-df-container {\n",
              "      display:flex;\n",
              "      gap: 12px;\n",
              "    }\n",
              "\n",
              "    .colab-df-convert {\n",
              "      background-color: #E8F0FE;\n",
              "      border: none;\n",
              "      border-radius: 50%;\n",
              "      cursor: pointer;\n",
              "      display: none;\n",
              "      fill: #1967D2;\n",
              "      height: 32px;\n",
              "      padding: 0 0 0 0;\n",
              "      width: 32px;\n",
              "    }\n",
              "\n",
              "    .colab-df-convert:hover {\n",
              "      background-color: #E2EBFA;\n",
              "      box-shadow: 0px 1px 2px rgba(60, 64, 67, 0.3), 0px 1px 3px 1px rgba(60, 64, 67, 0.15);\n",
              "      fill: #174EA6;\n",
              "    }\n",
              "\n",
              "    .colab-df-buttons div {\n",
              "      margin-bottom: 4px;\n",
              "    }\n",
              "\n",
              "    [theme=dark] .colab-df-convert {\n",
              "      background-color: #3B4455;\n",
              "      fill: #D2E3FC;\n",
              "    }\n",
              "\n",
              "    [theme=dark] .colab-df-convert:hover {\n",
              "      background-color: #434B5C;\n",
              "      box-shadow: 0px 1px 3px 1px rgba(0, 0, 0, 0.15);\n",
              "      filter: drop-shadow(0px 1px 2px rgba(0, 0, 0, 0.3));\n",
              "      fill: #FFFFFF;\n",
              "    }\n",
              "  </style>\n",
              "\n",
              "    <script>\n",
              "      const buttonEl =\n",
              "        document.querySelector('#df-7e1f52e4-7cba-483d-96fa-53fca807c8c7 button.colab-df-convert');\n",
              "      buttonEl.style.display =\n",
              "        google.colab.kernel.accessAllowed ? 'block' : 'none';\n",
              "\n",
              "      async function convertToInteractive(key) {\n",
              "        const element = document.querySelector('#df-7e1f52e4-7cba-483d-96fa-53fca807c8c7');\n",
              "        const dataTable =\n",
              "          await google.colab.kernel.invokeFunction('convertToInteractive',\n",
              "                                                    [key], {});\n",
              "        if (!dataTable) return;\n",
              "\n",
              "        const docLinkHtml = 'Like what you see? Visit the ' +\n",
              "          '<a target=\"_blank\" href=https://colab.research.google.com/notebooks/data_table.ipynb>data table notebook</a>'\n",
              "          + ' to learn more about interactive tables.';\n",
              "        element.innerHTML = '';\n",
              "        dataTable['output_type'] = 'display_data';\n",
              "        await google.colab.output.renderOutput(dataTable, element);\n",
              "        const docLink = document.createElement('div');\n",
              "        docLink.innerHTML = docLinkHtml;\n",
              "        element.appendChild(docLink);\n",
              "      }\n",
              "    </script>\n",
              "  </div>\n",
              "\n",
              "\n",
              "<div id=\"df-a6cf6f44-a1ae-4731-b6ba-155afa326ab9\">\n",
              "  <button class=\"colab-df-quickchart\" onclick=\"quickchart('df-a6cf6f44-a1ae-4731-b6ba-155afa326ab9')\"\n",
              "            title=\"Suggest charts\"\n",
              "            style=\"display:none;\">\n",
              "\n",
              "<svg xmlns=\"http://www.w3.org/2000/svg\" height=\"24px\"viewBox=\"0 0 24 24\"\n",
              "     width=\"24px\">\n",
              "    <g>\n",
              "        <path d=\"M19 3H5c-1.1 0-2 .9-2 2v14c0 1.1.9 2 2 2h14c1.1 0 2-.9 2-2V5c0-1.1-.9-2-2-2zM9 17H7v-7h2v7zm4 0h-2V7h2v10zm4 0h-2v-4h2v4z\"/>\n",
              "    </g>\n",
              "</svg>\n",
              "  </button>\n",
              "\n",
              "<style>\n",
              "  .colab-df-quickchart {\n",
              "      --bg-color: #E8F0FE;\n",
              "      --fill-color: #1967D2;\n",
              "      --hover-bg-color: #E2EBFA;\n",
              "      --hover-fill-color: #174EA6;\n",
              "      --disabled-fill-color: #AAA;\n",
              "      --disabled-bg-color: #DDD;\n",
              "  }\n",
              "\n",
              "  [theme=dark] .colab-df-quickchart {\n",
              "      --bg-color: #3B4455;\n",
              "      --fill-color: #D2E3FC;\n",
              "      --hover-bg-color: #434B5C;\n",
              "      --hover-fill-color: #FFFFFF;\n",
              "      --disabled-bg-color: #3B4455;\n",
              "      --disabled-fill-color: #666;\n",
              "  }\n",
              "\n",
              "  .colab-df-quickchart {\n",
              "    background-color: var(--bg-color);\n",
              "    border: none;\n",
              "    border-radius: 50%;\n",
              "    cursor: pointer;\n",
              "    display: none;\n",
              "    fill: var(--fill-color);\n",
              "    height: 32px;\n",
              "    padding: 0;\n",
              "    width: 32px;\n",
              "  }\n",
              "\n",
              "  .colab-df-quickchart:hover {\n",
              "    background-color: var(--hover-bg-color);\n",
              "    box-shadow: 0 1px 2px rgba(60, 64, 67, 0.3), 0 1px 3px 1px rgba(60, 64, 67, 0.15);\n",
              "    fill: var(--button-hover-fill-color);\n",
              "  }\n",
              "\n",
              "  .colab-df-quickchart-complete:disabled,\n",
              "  .colab-df-quickchart-complete:disabled:hover {\n",
              "    background-color: var(--disabled-bg-color);\n",
              "    fill: var(--disabled-fill-color);\n",
              "    box-shadow: none;\n",
              "  }\n",
              "\n",
              "  .colab-df-spinner {\n",
              "    border: 2px solid var(--fill-color);\n",
              "    border-color: transparent;\n",
              "    border-bottom-color: var(--fill-color);\n",
              "    animation:\n",
              "      spin 1s steps(1) infinite;\n",
              "  }\n",
              "\n",
              "  @keyframes spin {\n",
              "    0% {\n",
              "      border-color: transparent;\n",
              "      border-bottom-color: var(--fill-color);\n",
              "      border-left-color: var(--fill-color);\n",
              "    }\n",
              "    20% {\n",
              "      border-color: transparent;\n",
              "      border-left-color: var(--fill-color);\n",
              "      border-top-color: var(--fill-color);\n",
              "    }\n",
              "    30% {\n",
              "      border-color: transparent;\n",
              "      border-left-color: var(--fill-color);\n",
              "      border-top-color: var(--fill-color);\n",
              "      border-right-color: var(--fill-color);\n",
              "    }\n",
              "    40% {\n",
              "      border-color: transparent;\n",
              "      border-right-color: var(--fill-color);\n",
              "      border-top-color: var(--fill-color);\n",
              "    }\n",
              "    60% {\n",
              "      border-color: transparent;\n",
              "      border-right-color: var(--fill-color);\n",
              "    }\n",
              "    80% {\n",
              "      border-color: transparent;\n",
              "      border-right-color: var(--fill-color);\n",
              "      border-bottom-color: var(--fill-color);\n",
              "    }\n",
              "    90% {\n",
              "      border-color: transparent;\n",
              "      border-bottom-color: var(--fill-color);\n",
              "    }\n",
              "  }\n",
              "</style>\n",
              "\n",
              "  <script>\n",
              "    async function quickchart(key) {\n",
              "      const quickchartButtonEl =\n",
              "        document.querySelector('#' + key + ' button');\n",
              "      quickchartButtonEl.disabled = true;  // To prevent multiple clicks.\n",
              "      quickchartButtonEl.classList.add('colab-df-spinner');\n",
              "      try {\n",
              "        const charts = await google.colab.kernel.invokeFunction(\n",
              "            'suggestCharts', [key], {});\n",
              "      } catch (error) {\n",
              "        console.error('Error during call to suggestCharts:', error);\n",
              "      }\n",
              "      quickchartButtonEl.classList.remove('colab-df-spinner');\n",
              "      quickchartButtonEl.classList.add('colab-df-quickchart-complete');\n",
              "    }\n",
              "    (() => {\n",
              "      let quickchartButtonEl =\n",
              "        document.querySelector('#df-a6cf6f44-a1ae-4731-b6ba-155afa326ab9 button');\n",
              "      quickchartButtonEl.style.display =\n",
              "        google.colab.kernel.accessAllowed ? 'block' : 'none';\n",
              "    })();\n",
              "  </script>\n",
              "</div>\n",
              "    </div>\n",
              "  </div>\n"
            ],
            "application/vnd.google.colaboratory.intrinsic+json": {
              "type": "dataframe",
              "variable_name": "data",
              "summary": "{\n  \"name\": \"data\",\n  \"rows\": 500,\n  \"fields\": [\n    {\n      \"column\": \"skills\",\n      \"properties\": {\n        \"dtype\": \"string\",\n        \"num_unique_values\": 277,\n        \"samples\": [\n          \"jQuery\",\n          \"Photovoltaic Technology\",\n          \"Big Data Analytics\"\n        ],\n        \"semantic_type\": \"\",\n        \"description\": \"\"\n      }\n    },\n    {\n      \"column\": \"context\",\n      \"properties\": {\n        \"dtype\": \"string\",\n        \"num_unique_values\": 425,\n        \"samples\": [\n          \"I've demonstrated empathy by actively listening to others and understanding their perspectives, fostering trust and collaboration in teams.\",\n          \" My interest in space tech led me to participate in a CubeSat development program. We focused on creating a miniaturized satellite for space research, which was launched last year and is currently collecting data on low Earth orbit atmospheric conditions.\",\n          \"Django framework is on my learning path; I plan to build my next web app with it.\"\n        ],\n        \"semantic_type\": \"\",\n        \"description\": \"\"\n      }\n    },\n    {\n      \"column\": \"buzzwords\",\n      \"properties\": {\n        \"dtype\": \"string\",\n        \"num_unique_values\": 410,\n        \"samples\": [\n          \"deeply familiar; fast-paced; practices\",\n          \" fascinates; studied models; developmental stages\",\n          \" intrigued by; theoretical knowledge; small experiments\"\n        ],\n        \"semantic_type\": \"\",\n        \"description\": \"\"\n      }\n    },\n    {\n      \"column\": \"action_verbs\",\n      \"properties\": {\n        \"dtype\": \"string\",\n        \"num_unique_values\": 264,\n        \"samples\": [\n          \" exploring\",\n          \"haven't developed\",\n          \" led to the development\"\n        ],\n        \"semantic_type\": \"\",\n        \"description\": \"\"\n      }\n    },\n    {\n      \"column\": \"verb_tense\",\n      \"properties\": {\n        \"dtype\": \"category\",\n        \"num_unique_values\": 4,\n        \"samples\": [\n          \" present\",\n          \"past\",\n          \" past\"\n        ],\n        \"semantic_type\": \"\",\n        \"description\": \"\"\n      }\n    },\n    {\n      \"column\": \"target\",\n      \"properties\": {\n        \"dtype\": \"number\",\n        \"std\": 0.5005007512521914,\n        \"min\": 0.0,\n        \"max\": 1.0,\n        \"num_unique_values\": 2,\n        \"samples\": [\n          0.0,\n          1.0\n        ],\n        \"semantic_type\": \"\",\n        \"description\": \"\"\n      }\n    }\n  ]\n}"
            }
          },
          "metadata": {},
          "execution_count": 3
        }
      ]
    },
    {
      "cell_type": "code",
      "source": [
        "# Convert the target column to integer if it's not already\n",
        "if data['target'].dtype != 'int64':\n",
        "    try:\n",
        "        data['target'] = data['target'].astype(int)\n",
        "        print(\"Target column converted to integer.\")\n",
        "    except ValueError:\n",
        "        print(\"Conversion to integer failed. Check if all values in the target column are numeric.\")\n",
        "else:\n",
        "    print('Target values are in correct format')"
      ],
      "metadata": {
        "colab": {
          "base_uri": "https://localhost:8080/"
        },
        "id": "YJzDyDoBQOok",
        "outputId": "99376db1-6630-4602-da29-91a7cafc9809"
      },
      "execution_count": null,
      "outputs": [
        {
          "output_type": "stream",
          "name": "stdout",
          "text": [
            "Target column converted to integer.\n"
          ]
        }
      ]
    },
    {
      "cell_type": "markdown",
      "source": [
        "#### Assign Variables"
      ],
      "metadata": {
        "id": "z9hOodQLNimi"
      }
    },
    {
      "cell_type": "code",
      "source": [
        "# Pre-trained model and tokenizer\n",
        "pretrained_model_name = 'bert-base-uncased'\n",
        "pretrained_tokenizer_name = \"bert-base-uncased\""
      ],
      "metadata": {
        "id": "ySnx6ZzrNl8z"
      },
      "execution_count": null,
      "outputs": []
    },
    {
      "cell_type": "code",
      "source": [
        "features_for_fine_tuning = data['context']\n",
        "target_for_fine_tuning = data['target']"
      ],
      "metadata": {
        "id": "GJBk5bRITTx_"
      },
      "execution_count": null,
      "outputs": []
    },
    {
      "cell_type": "code",
      "source": [
        "# Hyperparameters and other important variables\n",
        "# batch_sizes = [8]\n",
        "batch_sizes = [8, 16, 24, 32, 64]\n",
        "epochs = 10"
      ],
      "metadata": {
        "id": "zAUPvK5JVDH0"
      },
      "execution_count": null,
      "outputs": []
    },
    {
      "cell_type": "code",
      "source": [
        "# Name of fine-tuned model to be exported\n",
        "fine_tuned_model_name = 'screen_bert_v0_2.pth'\n",
        "tokenizer_directory_name = 'tokenizer_directory'"
      ],
      "metadata": {
        "id": "OMhTTHOqZrT-"
      },
      "execution_count": null,
      "outputs": []
    },
    {
      "cell_type": "code",
      "source": [
        "# Set random seed for reproducibility\n",
        "seed_value = 42\n",
        "torch.manual_seed(seed_value)\n",
        "np.random.seed(seed_value)"
      ],
      "metadata": {
        "id": "Qp7FSMs0cvaN"
      },
      "execution_count": null,
      "outputs": []
    },
    {
      "cell_type": "markdown",
      "source": [
        "#### Check Data"
      ],
      "metadata": {
        "id": "jRh-iEXiN9pc"
      }
    },
    {
      "cell_type": "code",
      "source": [
        "# Plot and check whether data is balanced\n",
        "target_counts = data['target'].value_counts()\n",
        "print(\"Number of values for 'Not Skilled' (0):\", target_counts[0])\n",
        "print(\"Number of values for 'Skilled' (1):\", target_counts[1])\n",
        "print(' ')\n",
        "\n",
        "plt.bar(target_counts.index, target_counts.values)\n",
        "plt.xlabel('Target Values 1 and 0')\n",
        "plt.ylabel('Count')\n",
        "plt.title('Distribution of Target Column')\n",
        "plt.xticks(target_counts.index, ['Skilled','Not skilled'])\n",
        "plt.show()"
      ],
      "metadata": {
        "colab": {
          "base_uri": "https://localhost:8080/",
          "height": 524
        },
        "id": "42DUyDaBOKqH",
        "outputId": "58312c44-2cb0-488c-a66a-71af779b810e"
      },
      "execution_count": null,
      "outputs": [
        {
          "output_type": "stream",
          "name": "stdout",
          "text": [
            "Number of values for 'Not Skilled' (0): 250\n",
            "Number of values for 'Skilled' (1): 250\n",
            " \n"
          ]
        },
        {
          "output_type": "display_data",
          "data": {
            "text/plain": [
              "<Figure size 640x480 with 1 Axes>"
            ],
            "image/png": "[encoded data removed]"
          },
          "metadata": {}
        }
      ]
    },
    {
      "cell_type": "markdown",
      "source": [
        "#### Helper Functions For Training, Evaluation, Plotting"
      ],
      "metadata": {
        "id": "_GKjE0nD0sLK"
      }
    },
    {
      "cell_type": "code",
      "source": [
        "def create_dataloader(encodings, labels, batch_size):\n",
        "    \"\"\"Create DataLoader for data with given batch size.\"\"\"\n",
        "    print('entered create_dataloader function')\n",
        "    dataset = TensorDataset(torch.tensor(encodings['input_ids']),\n",
        "                                  torch.tensor(encodings['attention_mask']),\n",
        "                                  labels)\n",
        "    print('created dataset')\n",
        "    sampler = RandomSampler(dataset)\n",
        "    print('randomly sampled stuff ')\n",
        "    return DataLoader(dataset, sampler=sampler, batch_size=batch_size)"
      ],
      "metadata": {
        "id": "DuIUTi4MWaMt"
      },
      "execution_count": null,
      "outputs": []
    },
    {
      "cell_type": "code",
      "source": [
        "# from sklearn.model_selection import StratifiedKFold\n",
        "\n",
        "def k_fold_train_validate(texts, labels,\n",
        "                    # val_dataset\n",
        "                    pretrained_tokenizer,\n",
        "                    model, optimizer, device, epochs, batch_size,\n",
        "                    n_splits=5):\n",
        "\n",
        "    print(type(labels.to_list()[0]))\n",
        "\n",
        "\n",
        "    # Define cross-validation strategy\n",
        "    kf = StratifiedKFold(n_splits=n_splits,\n",
        "                        shuffle=True,\n",
        "                        random_state=42)\n",
        "    print(\"Strategy is set\")\n",
        "\n",
        "    train_loss_per_fold = []\n",
        "    accuracy_per_fold = []\n",
        "\n",
        "    # Perform cross-validation\n",
        "    for fold, (train_index, val_index) in enumerate(kf.split(texts, labels)):\n",
        "        print('fold', fold)\n",
        "        print('train_index', train_index)\n",
        "        print('val_index', val_index)\n",
        "\n",
        "        train_texts = [texts.to_list()[i] for i in train_index]\n",
        "        train_labels = [labels.to_list()[i] for i in train_index]\n",
        "        val_texts = [texts.to_list()[i] for i in val_index]\n",
        "        val_labels = [labels.to_list()[i] for i in val_index]\n",
        "\n",
        "        print('split completed')\n",
        "\n",
        "        print(type(train_labels[0]), type(val_labels[0]))\n",
        "        train_labels = torch.tensor(train_labels)\n",
        "        val_labels = torch.tensor(val_labels)\n",
        "        print(type(train_labels), type(val_labels))\n",
        "\n",
        "        train_encodings = pretrained_tokenizer(train_texts, truncation=True, padding=True)\n",
        "        print(\"train_encodings done\")\n",
        "        val_encodings = pretrained_tokenizer(val_texts, truncation=True, padding=True)\n",
        "        print(\"val_encodings done\")\n",
        "\n",
        "        train_dataloader = create_dataloader(train_encodings,\n",
        "                                             train_labels,\n",
        "                                             batch_size=batch_size,\n",
        "                                             )\n",
        "        print(\"train_dataloader ready to play\")\n",
        "\n",
        "        val_dataloader = create_dataloader(val_encodings,\n",
        "                                           val_labels,\n",
        "                                           batch_size=batch_size)\n",
        "        print(\"val_dataloader ready to play\")\n",
        "\n",
        "        avg_train_loss = train_model(model, train_dataloader, optimizer, device, epochs, batch_size)\n",
        "        accuracy = evaluate_model(model, val_dataloader, device)\n",
        "\n",
        "        train_loss_per_fold.append(avg_train_loss)\n",
        "        accuracy_per_fold.append(accuracy)\n",
        "\n",
        "    return train_loss_per_fold, accuracy_per_fold"
      ],
      "metadata": {
        "id": "qwPx8HH6YJQL"
      },
      "execution_count": null,
      "outputs": []
    },
    {
      "cell_type": "code",
      "source": [
        "# # # Original function  ********* WORKS **********\n",
        "# def train_model(optimizer, epochs, model, dataloader, device):\n",
        "#     \"\"\"Training loop for the model.\"\"\"\n",
        "\n",
        "#     scheduler = get_linear_schedule_with_warmup(optimizer,\n",
        "#                                                 num_warmup_steps=0,\n",
        "#                                                 num_training_steps = epochs * dataloader.dataset.__len__()/ batch_size\n",
        "#                                                 )\n",
        "#     # Set to training mode\n",
        "#     model.train()\n",
        "#     total_loss, total_accuracy = 0, 0\n",
        "\n",
        "#     for step, batch in enumerate(dataloader):\n",
        "\n",
        "#         # progress update after every 50 batches\n",
        "#         if step % 50 == 0 and not step == 0:\n",
        "#             print('  Batch {:>5,}  of  {:>5,}.'.format(step, len(dataloader)))\n",
        "\n",
        "#         # push current dataloader batch to respective device\n",
        "#         batch = tuple(t.to(device) for t in batch)\n",
        "\n",
        "#         input_ids, attention_mask, labels = batch\n",
        "\n",
        "#         # clear optimizer gradients\n",
        "#         optimizer.zero_grad()\n",
        "\n",
        "#         # get model predictions for the current batch\n",
        "#         logits = model(input_ids, attention_mask)\n",
        "\n",
        "#         # compute the loss between actual and predicted values\n",
        "#         loss = nn.CrossEntropyLoss()(logits, labels)\n",
        "\n",
        "#         # add on to the total loss\n",
        "#         total_loss += loss.item()\n",
        "\n",
        "#         # compute accuracy for the current batch\n",
        "#         predictions = torch.argmax(logits, dim=1)\n",
        "#         batch_accuracy = accuracy_score(labels.cpu().numpy(), predictions.cpu().numpy())\n",
        "#         total_accuracy += batch_accuracy\n",
        "\n",
        "#         # backward pass to calculate the gradients\n",
        "#         loss.backward()\n",
        "\n",
        "#         # clip the the gradients to 1.0 to prevent exploding gradient\n",
        "#         torch.nn.utils.clip_grad_norm_(model.parameters(), 1.0)\n",
        "\n",
        "#         # update parameters\n",
        "#         optimizer.step()\n",
        "#         scheduler.step()\n",
        "\n",
        "#     # compute training loss and accuracy of epoch\n",
        "#     avg_train_loss = total_loss / len(dataloader)\n",
        "#     avg_train_accuracy = total_accuracy / len(dataloader)\n",
        "\n",
        "#     return avg_train_loss, avg_train_accuracy"
      ],
      "metadata": {
        "id": "zmn7w0iWN-yO"
      },
      "execution_count": null,
      "outputs": []
    },
    {
      "cell_type": "code",
      "source": [
        "def train_model(optimizer, epochs, model, dataloader, device):\n",
        "    \"\"\"Training loop for the model.\"\"\"\n",
        "\n",
        "    scheduler = get_linear_schedule_with_warmup(optimizer,\n",
        "                                                num_warmup_steps=0,\n",
        "                                                num_training_steps = epochs * dataloader.dataset.__len__()/ batch_size\n",
        "                                                )\n",
        "    # Set to training mode\n",
        "    model.train()\n",
        "    total_loss = 0\n",
        "    predictions = []\n",
        "    true_labels = []\n",
        "\n",
        "    for step, batch in enumerate(dataloader):\n",
        "\n",
        "        # progress update after every 50 batches\n",
        "        if step % 50 == 0 and not step == 0:\n",
        "            print('  Batch {:>5,}  of  {:>5,}.'.format(step, len(dataloader)))\n",
        "\n",
        "        # push current dataloader batch to respective device\n",
        "        batch = tuple(t.to(device) for t in batch)\n",
        "\n",
        "        input_ids, attention_mask, labels = batch\n",
        "\n",
        "        # clear optimizer gradients\n",
        "        optimizer.zero_grad()\n",
        "\n",
        "        # get model predictions for the current batch\n",
        "        logits = model(input_ids, attention_mask)\n",
        "\n",
        "        # compute the loss between actual and predicted values\n",
        "        loss = nn.CrossEntropyLoss()(logits, labels)\n",
        "\n",
        "        # add on to the total loss\n",
        "        total_loss += loss.item()\n",
        "\n",
        "        # compute accuracy for the current batch\n",
        "        batch_predictions = torch.argmax(logits, dim=1)\n",
        "        predictions.extend(batch_predictions.cpu().numpy())\n",
        "\n",
        "        # store true labels\n",
        "        true_labels.extend(labels.cpu().numpy())\n",
        "\n",
        "        # backward pass to calculate the gradients\n",
        "        loss.backward()\n",
        "\n",
        "        # clip the the gradients to 1.0 to prevent exploding gradient\n",
        "        torch.nn.utils.clip_grad_norm_(model.parameters(), 1.0)\n",
        "\n",
        "        # update parameters\n",
        "        optimizer.step()\n",
        "        scheduler.step()\n",
        "\n",
        "    # compute training loss and accuracy of epoch\n",
        "    avg_train_loss = total_loss / len(dataloader)\n",
        "    total_train_accuracy = accuracy_score(true_labels, predictions)\n",
        "\n",
        "\n",
        "    return avg_train_loss, total_train_accuracy"
      ],
      "metadata": {
        "id": "zXEGAbZas_zl"
      },
      "execution_count": null,
      "outputs": []
    },
    {
      "cell_type": "code",
      "source": [
        "# ## Original function ********* WORKS **************\n",
        "# def evaluate_model(model, dataloader, device):\n",
        "\n",
        "#     # deactivate dropout layers\n",
        "#     model.eval()\n",
        "\n",
        "#     total_loss, total_accuracy = 0, 0\n",
        "\n",
        "#     # iterate over batches\n",
        "#     for step,batch in enumerate(dataloader):\n",
        "\n",
        "#         # Progress update every 50 batches.\n",
        "#         if step % 50 == 0 and not step == 0:\n",
        "#             # Report progress.\n",
        "#             print('Batch {:>5,}  of  {:>5,}.'.format(step, len(dataloader)))\n",
        "\n",
        "#         # push batch to device\n",
        "#         batch = tuple(t.to(device) for t in batch)\n",
        "#         input_ids, attention_mask, labels = batch\n",
        "\n",
        "#         # deactivate autograd\n",
        "#         with torch.no_grad():\n",
        "#             # model predictions\n",
        "#             logits = model(input_ids, attention_mask)\n",
        "\n",
        "#             # compute the loss between actual and predicted values\n",
        "#             loss = nn.CrossEntropyLoss()(logits, labels)\n",
        "#             # add on to the total loss\n",
        "#             total_loss += loss.item()\n",
        "\n",
        "#             # compute accuracy for the current batch\n",
        "#             predictions = torch.argmax(logits, dim=1)\n",
        "#             batch_accuracy = accuracy_score(labels.cpu().numpy(), predictions.cpu().numpy())\n",
        "#             total_accuracy += batch_accuracy\n",
        "\n",
        "#     # compute training loss and accuracy of epoch\n",
        "#     avg_loss = total_loss / len(dataloader)\n",
        "#     avg_accuracy = total_accuracy / len(dataloader)\n",
        "\n",
        "#     return avg_loss, avg_accuracy"
      ],
      "metadata": {
        "id": "tjFptSr9zaE8"
      },
      "execution_count": 2,
      "outputs": []
    },
    {
      "cell_type": "code",
      "source": [
        "#### altered\n",
        "def evaluate_model(model, dataloader, device):\n",
        "\n",
        "    # deactivate dropout layers\n",
        "    model.eval()\n",
        "\n",
        "    total_loss = 0\n",
        "    predictions = []\n",
        "    true_labels = []\n",
        "\n",
        "    # iterate over batches\n",
        "    for step,batch in enumerate(dataloader):\n",
        "\n",
        "        # Progress update every 50 batches.\n",
        "        if step % 50 == 0 and not step == 0:\n",
        "            # Report progress.\n",
        "            print('Batch {:>5,}  of  {:>5,}.'.format(step, len(dataloader)))\n",
        "\n",
        "        # push batch to device\n",
        "        batch = tuple(t.to(device) for t in batch)\n",
        "        input_ids, attention_mask, labels = batch\n",
        "\n",
        "        # deactivate autograd\n",
        "        with torch.no_grad():\n",
        "            # model predictions\n",
        "            logits = model(input_ids, attention_mask)\n",
        "            # compute the loss between actual and predicted values\n",
        "            loss = nn.CrossEntropyLoss()(logits, labels)\n",
        "            # add on to the total loss\n",
        "            total_loss += loss.item()\n",
        "\n",
        "            # compute accuracy for the current batch\n",
        "            batch_predictions = torch.argmax(logits, dim=1)\n",
        "            predictions.extend(batch_predictions.cpu().numpy())\n",
        "\n",
        "            # store true labels\n",
        "            true_labels.extend(labels.cpu().numpy())\n",
        "\n",
        "    # compute training loss and accuracy of epoch\n",
        "    avg_loss = total_loss / len(dataloader)\n",
        "    total_accuracy = accuracy_score(true_labels, predictions)\n",
        "\n",
        "    return avg_loss, total_accuracy"
      ],
      "metadata": {
        "id": "HlDPHJ480hLR"
      },
      "execution_count": null,
      "outputs": []
    },
    {
      "cell_type": "code",
      "source": [
        "def validate_model(model):\n",
        "    pass"
      ],
      "metadata": {
        "id": "tVK_ndGaf_rO"
      },
      "execution_count": null,
      "outputs": []
    },
    {
      "cell_type": "code",
      "source": [
        "def plot_training_results(train_losses, epochs, batch_size):\n",
        "    fig, ax1 = plt.subplots(figsize=(10, 5))\n",
        "\n",
        "    ax1.set_xlabel('Epoch')\n",
        "    ax1.set_ylabel('Training Loss', color='tab:red')\n",
        "    ax1.plot(range(1, epochs + 1), train_losses, label='Training Loss', color='tab:red')\n",
        "    ax1.tick_params(axis='y', labelcolor='tab:red')\n",
        "    ax1.set_xticks(range(1, epochs + 1))  # Set x-ticks to show only integer epochs\n",
        "\n",
        "    # Add a title and a legend\n",
        "    fig.tight_layout()\n",
        "    fig.suptitle(f'Training Loss over Epochs (Batch Size: {batch_size})', fontsize=14, y=1.05)\n",
        "    fig.legend(loc='upper left', bbox_to_anchor=(0.1, 0.9))\n",
        "\n",
        "    plt.show()\n",
        "\n",
        "    # loss and val_loss, training_acc, val_acc per epoch\n",
        "    # avg_train_loss per epoch\n",
        "\n",
        "    # train_model returns avg_train_loss_per_epoch list"
      ],
      "metadata": {
        "id": "KIbm2iPPLZ-R"
      },
      "execution_count": null,
      "outputs": []
    },
    {
      "cell_type": "code",
      "source": [
        "def train_and_evaluate_model(train_encodings, val_encodings,\n",
        "                             train_labels, val_labels,\n",
        "                             batch_size, epochs, model, device,\n",
        "                             ):\n",
        "\n",
        "\n",
        "    train_dataloader = create_dataloader(train_encodings,\n",
        "                                         train_labels,\n",
        "                                         batch_size=batch_size,\n",
        "                                         )\n",
        "    print(\"train_dataloader ready to play\")\n",
        "\n",
        "    val_dataloader = create_dataloader(val_encodings,\n",
        "                                       val_labels,\n",
        "                                       batch_size=batch_size\n",
        "                                       )\n",
        "    print(\"val_dataloader ready to play\")\n",
        "\n",
        "    # empty lists to store training and validation loss of each epoch\n",
        "    train_losses=[]\n",
        "    valid_losses=[]\n",
        "    train_acc=[]\n",
        "    valid_acc=[]\n",
        "\n",
        "    print(\"Start training ...\")\n",
        "    for epoch in range(epochs):\n",
        "        avg_train_loss, avg_train_accuracy = train_model(optimizer,\n",
        "                                                         epochs,\n",
        "                                                         model,\n",
        "                                                         train_dataloader,\n",
        "                                                         device)\n",
        "        avg_val_loss, avg_val_accuracy = evaluate_model(model, val_dataloader, device)\n",
        "\n",
        "        print(f'Epoch {epoch}/{epochs}')\n",
        "        print(f'Training Loss: {avg_train_loss:.3f}, Validation Loss: {avg_val_loss:.3f}')\n",
        "        print(f'Training Accuracy: {avg_train_accuracy:.3f}, Validation Accuracy: {avg_val_accuracy:.3f}')\n",
        "\n",
        "        # document losses and acc\n",
        "        train_losses.append(avg_train_loss)\n",
        "        valid_losses.append(avg_val_loss)\n",
        "        train_acc.append(avg_train_accuracy)\n",
        "        valid_acc.append(avg_val_accuracy)\n",
        "\n",
        "    return train_losses, valid_losses, train_acc, valid_acc"
      ],
      "metadata": {
        "id": "ykXr7VAZ4-18"
      },
      "execution_count": null,
      "outputs": []
    },
    {
      "cell_type": "markdown",
      "source": [
        "#### Fine-Tuning Pre-Trained Model"
      ],
      "metadata": {
        "id": "nDtswCLCS59R"
      }
    },
    {
      "cell_type": "code",
      "source": [
        "# Split data into train, test and validation sets\n",
        "train_texts, temp_texts, train_labels, temp_labels = train_test_split(\n",
        "    features_for_fine_tuning,\n",
        "    target_for_fine_tuning,\n",
        "    test_size=0.2,\n",
        "    stratify = target_for_fine_tuning,\n",
        "    random_state=42\n",
        ")\n",
        "\n",
        "test_texts, val_texts, test_labels, val_labels = train_test_split(\n",
        "    temp_texts,\n",
        "    temp_labels,\n",
        "    test_size=0.5,\n",
        "    stratify = temp_labels,\n",
        "    random_state=42\n",
        ")\n",
        "\n",
        "# Validate sizes and proportion of target\n",
        "print(train_texts.shape, test_texts.shape, val_texts.shape)\n",
        "print(train_labels.shape, test_labels.shape, val_labels.shape)\n",
        "print('---')\n",
        "print(train_labels.value_counts(normalize=True))\n",
        "print(test_labels.value_counts(normalize=True))\n",
        "print(val_labels.value_counts(normalize=True))"
      ],
      "metadata": {
        "colab": {
          "base_uri": "https://localhost:8080/"
        },
        "id": "uamLLClytHa_",
        "outputId": "bac272a4-6052-43c9-8844-9d3c2a1feb93"
      },
      "execution_count": null,
      "outputs": [
        {
          "output_type": "stream",
          "name": "stdout",
          "text": [
            "(400,) (50,) (50,)\n",
            "(400,) (50,) (50,)\n",
            "---\n",
            "target\n",
            "1    0.5\n",
            "0    0.5\n",
            "Name: proportion, dtype: float64\n",
            "target\n",
            "0    0.5\n",
            "1    0.5\n",
            "Name: proportion, dtype: float64\n",
            "target\n",
            "1    0.5\n",
            "0    0.5\n",
            "Name: proportion, dtype: float64\n"
          ]
        }
      ]
    },
    {
      "cell_type": "code",
      "source": [
        "# Load tokenizer\n",
        "pretrained_tokenizer = BertTokenizer.from_pretrained(pretrained_tokenizer_name)\n",
        "# Load distilbert tokenizer\n",
        "# pretrained_tokenizer = AutoTokenizer.from_pretrained(pretrained_tokenizer_name)"
      ],
      "metadata": {
        "id": "uf0vfrpzUGOl",
        "colab": {
          "base_uri": "https://localhost:8080/",
          "height": 145,
          "referenced_widgets": [
            "d09b71a7c17c4ffba6b14423913ab810",
            "e50f6e39880f4e929e6b05b5ab30fa2c",
            "6d4f1b19a9a24b99b31c3ab244396a4a",
            "6bd2c9a128b6435fa3b7fa025d69d1a8",
            "2fe8e395044e42e684a8f5fde272411c",
            "8b48323fbcf94018b4960a3f79aaca85",
            "3dcebf12ddf04940be864cd402552181",
            "2535e4981cec4070b73397965a6a0fda",
            "432684a825644bfbaa0540ee28f36d7c",
            "3f0d6e3753254dbe9150a663441b9e63",
            "e68c7c17b0eb4f48b00c8557861d7d34",
            "6a0a38c1ddba4ce1bdfe278dda338fde",
            "4cc05fa8ed034dfea006af83f8232955",
            "d0d3a4c096444fddbe7fe02b1e232a98",
            "63013e648d5a4df283e17a21c15beb68",
            "40751908f7df4dad9ebb1fc5a3c359f2",
            "2e771ca41ea54d23a762c839f2c841c4",
            "741584b8bc454dd89b8011f90fad7990",
            "716232994e95420ca592e696e0c44bb6",
            "1a718c6ec8e14090b43b19fc0f9bddfc",
            "8e32b047e03842cc8b17583d3c9cbb45",
            "5e8d8d7a350a4d1da2af821b0f52c01e",
            "5e93be6e060148c8b1f2fc3a0d8ddd1e",
            "b3e2de661ed34106bde6c8de2c4c44b4",
            "ce943195b5c240c5b3e1579ad260c0b9",
            "c41838c87e6548f9a51d7a5ee0404b2d",
            "b99e2e12320a4d1fb71ed3ddc0c42ae3",
            "0ce0b485811047799ac7293500bd4a7d",
            "582d7ab9d8ac4e8d9ed6dd251e387884",
            "a935c6384b6f4cdb91513def462fb93f",
            "884b196802224a41baee536ddd479bf5",
            "36f9acb1572a42c4ba8286ff3999906a",
            "de322f172f3c4842822ff7b21cfd860d",
            "c2ef63499ffe413d9d7ce755748f772a",
            "d3dc5f6035524869a51297a57f7f2824",
            "655070b040e5431d834cad8f627b3b16",
            "d7cb9842d6a24563b86ae4159d24011b",
            "e9280832143646c8a77fb33aa9b9804b",
            "f769651d28154bf494b3834975abeb3e",
            "2e57238d256e4d40924df0b66ca68556",
            "4d40ea0d2b4c4eac931fc41f767d29a9",
            "8466619280dd45a5b7207a8d8364cee6",
            "bd9fedb9ae2842d29320cb49f117f53b",
            "93ab982206844cab8718c1c9d338f766"
          ]
        },
        "outputId": "1514fd7e-1d8f-4ec3-fa58-1cd69bf09fdd"
      },
      "execution_count": null,
      "outputs": [
        {
          "output_type": "display_data",
          "data": {
            "text/plain": [
              "tokenizer_config.json:   0%|          | 0.00/48.0 [00:00<?, ?B/s]"
            ],
            "application/vnd.jupyter.widget-view+json": {
              "version_major": 2,
              "version_minor": 0,
              "model_id": "d09b71a7c17c4ffba6b14423913ab810"
            }
          },
          "metadata": {}
        },
        {
          "output_type": "display_data",
          "data": {
            "text/plain": [
              "vocab.txt:   0%|          | 0.00/232k [00:00<?, ?B/s]"
            ],
            "application/vnd.jupyter.widget-view+json": {
              "version_major": 2,
              "version_minor": 0,
              "model_id": "6a0a38c1ddba4ce1bdfe278dda338fde"
            }
          },
          "metadata": {}
        },
        {
          "output_type": "display_data",
          "data": {
            "text/plain": [
              "tokenizer.json:   0%|          | 0.00/466k [00:00<?, ?B/s]"
            ],
            "application/vnd.jupyter.widget-view+json": {
              "version_major": 2,
              "version_minor": 0,
              "model_id": "5e93be6e060148c8b1f2fc3a0d8ddd1e"
            }
          },
          "metadata": {}
        },
        {
          "output_type": "display_data",
          "data": {
            "text/plain": [
              "config.json:   0%|          | 0.00/570 [00:00<?, ?B/s]"
            ],
            "application/vnd.jupyter.widget-view+json": {
              "version_major": 2,
              "version_minor": 0,
              "model_id": "c2ef63499ffe413d9d7ce755748f772a"
            }
          },
          "metadata": {}
        }
      ]
    },
    {
      "cell_type": "code",
      "source": [
        "# Tokenize and encode text data\n",
        "test_encodings = pretrained_tokenizer(test_texts.tolist(),\n",
        "                                      truncation=True,\n",
        "                                      padding=True)\n",
        "\n",
        "train_encodings = pretrained_tokenizer(train_texts.tolist(),\n",
        "                                       truncation=True,\n",
        "                                       padding=True)\n",
        "\n",
        "val_encodings = pretrained_tokenizer(val_texts.tolist(),\n",
        "                                     truncation=True,\n",
        "                                     padding=True)\n",
        "\n",
        "print(\"Encodings done\")"
      ],
      "metadata": {
        "colab": {
          "base_uri": "https://localhost:8080/"
        },
        "id": "vnWfl3ieyMxF",
        "outputId": "6c26d78d-d703-43dd-b448-1d12f7d8ab11"
      },
      "execution_count": null,
      "outputs": [
        {
          "output_type": "stream",
          "name": "stdout",
          "text": [
            "Encodings done\n"
          ]
        }
      ]
    },
    {
      "cell_type": "code",
      "source": [
        "# Convert Convert Integer Sequences from Labels to Tensors\n",
        "train_labels = torch.tensor(train_labels.tolist())\n",
        "test_labels = torch.tensor(test_labels.tolist())\n",
        "val_labels = torch.tensor(val_labels.tolist())\n",
        "print(\"Converting labels to tensors done\")"
      ],
      "metadata": {
        "id": "LTxWeYlyrWdZ",
        "colab": {
          "base_uri": "https://localhost:8080/"
        },
        "outputId": "ab32dfce-6766-4c2b-9ae8-d4725daf326c"
      },
      "execution_count": null,
      "outputs": [
        {
          "output_type": "stream",
          "name": "stdout",
          "text": [
            "Converting labels to tensors done\n"
          ]
        }
      ]
    },
    {
      "cell_type": "code",
      "source": [
        "# Prepare for model loading. If running on GPU, assign compute unified device architecture\n",
        "if torch.cuda.is_available():\n",
        "    device = torch.device(\"cuda\")\n",
        "    print(f'GPU computation device: {device}')\n",
        "else:\n",
        "    device = 'cpu'\n",
        "    print(f'Computation device: {device}')\n"
      ],
      "metadata": {
        "colab": {
          "base_uri": "https://localhost:8080/"
        },
        "id": "bnS1ziAKWROo",
        "outputId": "62cc260b-86d5-4ee9-c796-e92b8bc0b881"
      },
      "execution_count": null,
      "outputs": [
        {
          "output_type": "stream",
          "name": "stdout",
          "text": [
            "GPU computation device: cuda\n"
          ]
        }
      ]
    },
    {
      "cell_type": "code",
      "source": [
        "# Define a classification model on top of pre-trained model\n",
        "class ScreenBert(nn.Module):\n",
        "    def __init__(self, pretrained_model_name, droput_prob=0.1):\n",
        "        super(ScreenBert, self).__init__()\n",
        "        self.bert = BertModel.from_pretrained(pretrained_model_name)\n",
        "        self.dropout = nn.Dropout(droput_prob)\n",
        "        self.fc = nn.Linear(768, 2)  # 2 classes: knowledge vs no_knowledge\n",
        "    def forward(self, input_ids, attention_mask):\n",
        "        outputs = self.bert(input_ids=input_ids, attention_mask=attention_mask)\n",
        "        pooled_output = outputs.pooler_output\n",
        "        pooled_output = self.dropout(pooled_output)\n",
        "        logits = self.fc(pooled_output)\n",
        "        return logits\n",
        "\n",
        "# Define a classification model on top of pre-trained model\n",
        "class ScreenDistilBert(nn.Module):\n",
        "    def __init__(self, pretrained_model_name, droput_prob=0.1):\n",
        "        super(ScreenDistilBert, self).__init__()\n",
        "        self.distilbert = AutoModelForMaskedLM.from_pretrained(pretrained_model_name)\n",
        "        self.dropout = nn.Dropout(droput_prob)\n",
        "        self.fc = nn.Linear(768, 2)  # 2 classes: knowledge vs no_knowledge\n",
        "    def forward(self, input_ids, attention_mask):\n",
        "        outputs = self.distilbert(input_ids=input_ids, attention_mask=attention_mask)\n",
        "        pooled_output = outputs.pooler_output\n",
        "        pooled_output = self.dropout(pooled_output)\n",
        "        logits = self.fc(pooled_output)\n",
        "        return logits"
      ],
      "metadata": {
        "id": "ZyhB_oMj3lf1"
      },
      "execution_count": null,
      "outputs": []
    },
    {
      "cell_type": "code",
      "source": [
        "# # Define a classification model on top of pre-trained model\n",
        "# class ScreenBert(nn.Module):\n",
        "#     def __init__(self, pretrained_model, droput_prob=0.1):\n",
        "#         super(ScreenBert, self).__init__()\n",
        "#         self.bert = pretrained_model\n",
        "#         self.dropout = nn.Dropout(droput_prob)\n",
        "#         self.fc = nn.Linear(768, 2)  # 2 classes: knowledge vs no_knowledge\n",
        "#     def forward(self, input_ids, attention_mask):\n",
        "#         outputs = self.bert(input_ids=input_ids, attention_mask=attention_mask)\n",
        "#         pooled_output = outputs.pooler_output\n",
        "#         pooled_output = self.dropout(pooled_output)\n",
        "#         logits = self.fc(pooled_output)\n",
        "#         return logits"
      ],
      "metadata": {
        "id": "BUm7RyZrVQHt"
      },
      "execution_count": null,
      "outputs": []
    },
    {
      "cell_type": "code",
      "source": [
        "# # Load the\n",
        "# pretrained_model = BertModel.from_pretrained(pretrained_model_name)"
      ],
      "metadata": {
        "id": "tDhbYehxoPo5"
      },
      "execution_count": null,
      "outputs": []
    },
    {
      "cell_type": "code",
      "source": [
        "# This is the model instance to be fine-tuned and exported eventually\n",
        "# It is directed to the respective computation device\n",
        "#BaseBert Model\n",
        "model = ScreenBert(pretrained_model_name).to(device)\n",
        "#Distilbert Model\n",
        "# model = ScreenDistilBert(pretrained_model_name).to(device)\n"
      ],
      "metadata": {
        "id": "np_NtN_EVbyV",
        "colab": {
          "base_uri": "https://localhost:8080/",
          "height": 49,
          "referenced_widgets": [
            "bd6b9657c2ec4625a3b4a9f75794e143",
            "2d9fb538c36b4f15b7095d2945c8a2aa",
            "6b682951fe52451d9d21fab16b5467c5",
            "e0cbcf03ae614d19af18299ad6fceb98",
            "9803dbed82c343b987d64961fb37a9ef",
            "702e2dd2758d4ec5b224b166579d40bc",
            "f622fedd1b784f02a355244fb28aff2a",
            "b616726035cf4dbf97ccf5be339caa3e",
            "652f35cbd3dc4bfb9cf6b5a785516e34",
            "963a752d0dd84901b6b4df24e2143ebe",
            "b73d4da5db8843689af2ba7c8c0c068a"
          ]
        },
        "outputId": "e3bf0834-cba0-4af6-f941-bccd84382a3d"
      },
      "execution_count": null,
      "outputs": [
        {
          "output_type": "display_data",
          "data": {
            "text/plain": [
              "model.safetensors:   0%|          | 0.00/440M [00:00<?, ?B/s]"
            ],
            "application/vnd.jupyter.widget-view+json": {
              "version_major": 2,
              "version_minor": 0,
              "model_id": "bd6b9657c2ec4625a3b4a9f75794e143"
            }
          },
          "metadata": {}
        }
      ]
    },
    {
      "cell_type": "code",
      "source": [
        "# Define optimizer and learning rate scheduler\n",
        "optimizer = AdamW(model.parameters(),\n",
        "                  lr=2e-5,\n",
        "                  eps=1e-8)"
      ],
      "metadata": {
        "colab": {
          "base_uri": "https://localhost:8080/"
        },
        "id": "kcYutoR4XGkl",
        "outputId": "48cf27c1-d208-4cfa-d761-fae3e2a1b8c1"
      },
      "execution_count": null,
      "outputs": [
        {
          "output_type": "stream",
          "name": "stderr",
          "text": [
            "/usr/local/lib/python3.10/dist-packages/transformers/optimization.py:521: FutureWarning: This implementation of AdamW is deprecated and will be removed in a future version. Use the PyTorch implementation torch.optim.AdamW instead, or set `no_deprecation_warning=True` to disable this warning\n",
            "  warnings.warn(\n"
          ]
        }
      ]
    },
    {
      "cell_type": "code",
      "source": [
        "# # Let's go\n",
        "# for batch_size in batch_sizes:\n",
        "#     print(\"Batch size: \", batch_size)\n",
        "\n",
        "#     k_fold_train_validate(train_texts, train_labels,\n",
        "#                     pretrained_tokenizer,\n",
        "#                     model, optimizer, device, epochs, batch_size,\n",
        "#                     n_splits=2)\n",
        "\n",
        "#     print(\"---\")"
      ],
      "metadata": {
        "id": "TVyqSG0IziVI"
      },
      "execution_count": null,
      "outputs": []
    },
    {
      "cell_type": "code",
      "source": [
        "# Print the names of the parameters\n",
        "for name, param in model.named_parameters():\n",
        "    print(name)"
      ],
      "metadata": {
        "colab": {
          "base_uri": "https://localhost:8080/"
        },
        "id": "KCsDVf-mYorC",
        "outputId": "546da42e-aa82-4aa9-d608-92cd2bcb7dc3"
      },
      "execution_count": null,
      "outputs": [
        {
          "output_type": "stream",
          "name": "stdout",
          "text": [
            "bert.embeddings.word_embeddings.weight\n",
            "bert.embeddings.position_embeddings.weight\n",
            "bert.embeddings.token_type_embeddings.weight\n",
            "bert.embeddings.LayerNorm.weight\n",
            "bert.embeddings.LayerNorm.bias\n",
            "bert.encoder.layer.0.attention.self.query.weight\n",
            "bert.encoder.layer.0.attention.self.query.bias\n",
            "bert.encoder.layer.0.attention.self.key.weight\n",
            "bert.encoder.layer.0.attention.self.key.bias\n",
            "bert.encoder.layer.0.attention.self.value.weight\n",
            "bert.encoder.layer.0.attention.self.value.bias\n",
            "bert.encoder.layer.0.attention.output.dense.weight\n",
            "bert.encoder.layer.0.attention.output.dense.bias\n",
            "bert.encoder.layer.0.attention.output.LayerNorm.weight\n",
            "bert.encoder.layer.0.attention.output.LayerNorm.bias\n",
            "bert.encoder.layer.0.intermediate.dense.weight\n",
            "bert.encoder.layer.0.intermediate.dense.bias\n",
            "bert.encoder.layer.0.output.dense.weight\n",
            "bert.encoder.layer.0.output.dense.bias\n",
            "bert.encoder.layer.0.output.LayerNorm.weight\n",
            "bert.encoder.layer.0.output.LayerNorm.bias\n",
            "bert.encoder.layer.1.attention.self.query.weight\n",
            "bert.encoder.layer.1.attention.self.query.bias\n",
            "bert.encoder.layer.1.attention.self.key.weight\n",
            "bert.encoder.layer.1.attention.self.key.bias\n",
            "bert.encoder.layer.1.attention.self.value.weight\n",
            "bert.encoder.layer.1.attention.self.value.bias\n",
            "bert.encoder.layer.1.attention.output.dense.weight\n",
            "bert.encoder.layer.1.attention.output.dense.bias\n",
            "bert.encoder.layer.1.attention.output.LayerNorm.weight\n",
            "bert.encoder.layer.1.attention.output.LayerNorm.bias\n",
            "bert.encoder.layer.1.intermediate.dense.weight\n",
            "bert.encoder.layer.1.intermediate.dense.bias\n",
            "bert.encoder.layer.1.output.dense.weight\n",
            "bert.encoder.layer.1.output.dense.bias\n",
            "bert.encoder.layer.1.output.LayerNorm.weight\n",
            "bert.encoder.layer.1.output.LayerNorm.bias\n",
            "bert.encoder.layer.2.attention.self.query.weight\n",
            "bert.encoder.layer.2.attention.self.query.bias\n",
            "bert.encoder.layer.2.attention.self.key.weight\n",
            "bert.encoder.layer.2.attention.self.key.bias\n",
            "bert.encoder.layer.2.attention.self.value.weight\n",
            "bert.encoder.layer.2.attention.self.value.bias\n",
            "bert.encoder.layer.2.attention.output.dense.weight\n",
            "bert.encoder.layer.2.attention.output.dense.bias\n",
            "bert.encoder.layer.2.attention.output.LayerNorm.weight\n",
            "bert.encoder.layer.2.attention.output.LayerNorm.bias\n",
            "bert.encoder.layer.2.intermediate.dense.weight\n",
            "bert.encoder.layer.2.intermediate.dense.bias\n",
            "bert.encoder.layer.2.output.dense.weight\n",
            "bert.encoder.layer.2.output.dense.bias\n",
            "bert.encoder.layer.2.output.LayerNorm.weight\n",
            "bert.encoder.layer.2.output.LayerNorm.bias\n",
            "bert.encoder.layer.3.attention.self.query.weight\n",
            "bert.encoder.layer.3.attention.self.query.bias\n",
            "bert.encoder.layer.3.attention.self.key.weight\n",
            "bert.encoder.layer.3.attention.self.key.bias\n",
            "bert.encoder.layer.3.attention.self.value.weight\n",
            "bert.encoder.layer.3.attention.self.value.bias\n",
            "bert.encoder.layer.3.attention.output.dense.weight\n",
            "bert.encoder.layer.3.attention.output.dense.bias\n",
            "bert.encoder.layer.3.attention.output.LayerNorm.weight\n",
            "bert.encoder.layer.3.attention.output.LayerNorm.bias\n",
            "bert.encoder.layer.3.intermediate.dense.weight\n",
            "bert.encoder.layer.3.intermediate.dense.bias\n",
            "bert.encoder.layer.3.output.dense.weight\n",
            "bert.encoder.layer.3.output.dense.bias\n",
            "bert.encoder.layer.3.output.LayerNorm.weight\n",
            "bert.encoder.layer.3.output.LayerNorm.bias\n",
            "bert.encoder.layer.4.attention.self.query.weight\n",
            "bert.encoder.layer.4.attention.self.query.bias\n",
            "bert.encoder.layer.4.attention.self.key.weight\n",
            "bert.encoder.layer.4.attention.self.key.bias\n",
            "bert.encoder.layer.4.attention.self.value.weight\n",
            "bert.encoder.layer.4.attention.self.value.bias\n",
            "bert.encoder.layer.4.attention.output.dense.weight\n",
            "bert.encoder.layer.4.attention.output.dense.bias\n",
            "bert.encoder.layer.4.attention.output.LayerNorm.weight\n",
            "bert.encoder.layer.4.attention.output.LayerNorm.bias\n",
            "bert.encoder.layer.4.intermediate.dense.weight\n",
            "bert.encoder.layer.4.intermediate.dense.bias\n",
            "bert.encoder.layer.4.output.dense.weight\n",
            "bert.encoder.layer.4.output.dense.bias\n",
            "bert.encoder.layer.4.output.LayerNorm.weight\n",
            "bert.encoder.layer.4.output.LayerNorm.bias\n",
            "bert.encoder.layer.5.attention.self.query.weight\n",
            "bert.encoder.layer.5.attention.self.query.bias\n",
            "bert.encoder.layer.5.attention.self.key.weight\n",
            "bert.encoder.layer.5.attention.self.key.bias\n",
            "bert.encoder.layer.5.attention.self.value.weight\n",
            "bert.encoder.layer.5.attention.self.value.bias\n",
            "bert.encoder.layer.5.attention.output.dense.weight\n",
            "bert.encoder.layer.5.attention.output.dense.bias\n",
            "bert.encoder.layer.5.attention.output.LayerNorm.weight\n",
            "bert.encoder.layer.5.attention.output.LayerNorm.bias\n",
            "bert.encoder.layer.5.intermediate.dense.weight\n",
            "bert.encoder.layer.5.intermediate.dense.bias\n",
            "bert.encoder.layer.5.output.dense.weight\n",
            "bert.encoder.layer.5.output.dense.bias\n",
            "bert.encoder.layer.5.output.LayerNorm.weight\n",
            "bert.encoder.layer.5.output.LayerNorm.bias\n",
            "bert.encoder.layer.6.attention.self.query.weight\n",
            "bert.encoder.layer.6.attention.self.query.bias\n",
            "bert.encoder.layer.6.attention.self.key.weight\n",
            "bert.encoder.layer.6.attention.self.key.bias\n",
            "bert.encoder.layer.6.attention.self.value.weight\n",
            "bert.encoder.layer.6.attention.self.value.bias\n",
            "bert.encoder.layer.6.attention.output.dense.weight\n",
            "bert.encoder.layer.6.attention.output.dense.bias\n",
            "bert.encoder.layer.6.attention.output.LayerNorm.weight\n",
            "bert.encoder.layer.6.attention.output.LayerNorm.bias\n",
            "bert.encoder.layer.6.intermediate.dense.weight\n",
            "bert.encoder.layer.6.intermediate.dense.bias\n",
            "bert.encoder.layer.6.output.dense.weight\n",
            "bert.encoder.layer.6.output.dense.bias\n",
            "bert.encoder.layer.6.output.LayerNorm.weight\n",
            "bert.encoder.layer.6.output.LayerNorm.bias\n",
            "bert.encoder.layer.7.attention.self.query.weight\n",
            "bert.encoder.layer.7.attention.self.query.bias\n",
            "bert.encoder.layer.7.attention.self.key.weight\n",
            "bert.encoder.layer.7.attention.self.key.bias\n",
            "bert.encoder.layer.7.attention.self.value.weight\n",
            "bert.encoder.layer.7.attention.self.value.bias\n",
            "bert.encoder.layer.7.attention.output.dense.weight\n",
            "bert.encoder.layer.7.attention.output.dense.bias\n",
            "bert.encoder.layer.7.attention.output.LayerNorm.weight\n",
            "bert.encoder.layer.7.attention.output.LayerNorm.bias\n",
            "bert.encoder.layer.7.intermediate.dense.weight\n",
            "bert.encoder.layer.7.intermediate.dense.bias\n",
            "bert.encoder.layer.7.output.dense.weight\n",
            "bert.encoder.layer.7.output.dense.bias\n",
            "bert.encoder.layer.7.output.LayerNorm.weight\n",
            "bert.encoder.layer.7.output.LayerNorm.bias\n",
            "bert.encoder.layer.8.attention.self.query.weight\n",
            "bert.encoder.layer.8.attention.self.query.bias\n",
            "bert.encoder.layer.8.attention.self.key.weight\n",
            "bert.encoder.layer.8.attention.self.key.bias\n",
            "bert.encoder.layer.8.attention.self.value.weight\n",
            "bert.encoder.layer.8.attention.self.value.bias\n",
            "bert.encoder.layer.8.attention.output.dense.weight\n",
            "bert.encoder.layer.8.attention.output.dense.bias\n",
            "bert.encoder.layer.8.attention.output.LayerNorm.weight\n",
            "bert.encoder.layer.8.attention.output.LayerNorm.bias\n",
            "bert.encoder.layer.8.intermediate.dense.weight\n",
            "bert.encoder.layer.8.intermediate.dense.bias\n",
            "bert.encoder.layer.8.output.dense.weight\n",
            "bert.encoder.layer.8.output.dense.bias\n",
            "bert.encoder.layer.8.output.LayerNorm.weight\n",
            "bert.encoder.layer.8.output.LayerNorm.bias\n",
            "bert.encoder.layer.9.attention.self.query.weight\n",
            "bert.encoder.layer.9.attention.self.query.bias\n",
            "bert.encoder.layer.9.attention.self.key.weight\n",
            "bert.encoder.layer.9.attention.self.key.bias\n",
            "bert.encoder.layer.9.attention.self.value.weight\n",
            "bert.encoder.layer.9.attention.self.value.bias\n",
            "bert.encoder.layer.9.attention.output.dense.weight\n",
            "bert.encoder.layer.9.attention.output.dense.bias\n",
            "bert.encoder.layer.9.attention.output.LayerNorm.weight\n",
            "bert.encoder.layer.9.attention.output.LayerNorm.bias\n",
            "bert.encoder.layer.9.intermediate.dense.weight\n",
            "bert.encoder.layer.9.intermediate.dense.bias\n",
            "bert.encoder.layer.9.output.dense.weight\n",
            "bert.encoder.layer.9.output.dense.bias\n",
            "bert.encoder.layer.9.output.LayerNorm.weight\n",
            "bert.encoder.layer.9.output.LayerNorm.bias\n",
            "bert.encoder.layer.10.attention.self.query.weight\n",
            "bert.encoder.layer.10.attention.self.query.bias\n",
            "bert.encoder.layer.10.attention.self.key.weight\n",
            "bert.encoder.layer.10.attention.self.key.bias\n",
            "bert.encoder.layer.10.attention.self.value.weight\n",
            "bert.encoder.layer.10.attention.self.value.bias\n",
            "bert.encoder.layer.10.attention.output.dense.weight\n",
            "bert.encoder.layer.10.attention.output.dense.bias\n",
            "bert.encoder.layer.10.attention.output.LayerNorm.weight\n",
            "bert.encoder.layer.10.attention.output.LayerNorm.bias\n",
            "bert.encoder.layer.10.intermediate.dense.weight\n",
            "bert.encoder.layer.10.intermediate.dense.bias\n",
            "bert.encoder.layer.10.output.dense.weight\n",
            "bert.encoder.layer.10.output.dense.bias\n",
            "bert.encoder.layer.10.output.LayerNorm.weight\n",
            "bert.encoder.layer.10.output.LayerNorm.bias\n",
            "bert.encoder.layer.11.attention.self.query.weight\n",
            "bert.encoder.layer.11.attention.self.query.bias\n",
            "bert.encoder.layer.11.attention.self.key.weight\n",
            "bert.encoder.layer.11.attention.self.key.bias\n",
            "bert.encoder.layer.11.attention.self.value.weight\n",
            "bert.encoder.layer.11.attention.self.value.bias\n",
            "bert.encoder.layer.11.attention.output.dense.weight\n",
            "bert.encoder.layer.11.attention.output.dense.bias\n",
            "bert.encoder.layer.11.attention.output.LayerNorm.weight\n",
            "bert.encoder.layer.11.attention.output.LayerNorm.bias\n",
            "bert.encoder.layer.11.intermediate.dense.weight\n",
            "bert.encoder.layer.11.intermediate.dense.bias\n",
            "bert.encoder.layer.11.output.dense.weight\n",
            "bert.encoder.layer.11.output.dense.bias\n",
            "bert.encoder.layer.11.output.LayerNorm.weight\n",
            "bert.encoder.layer.11.output.LayerNorm.bias\n",
            "bert.pooler.dense.weight\n",
            "bert.pooler.dense.bias\n",
            "fc.weight\n",
            "fc.bias\n"
          ]
        }
      ]
    },
    {
      "cell_type": "code",
      "source": [
        "# Initialize CodeCarbon tracker\n",
        "with EmissionsTracker() as tracker:\n",
        "\n",
        "  batch_size_data = {}\n",
        "  best_model = None\n",
        "  best_val_acc = 0.0\n",
        "\n",
        "  for batch_size in batch_sizes:\n",
        "      print(f'Batch Size: {batch_size}')\n",
        "\n",
        "      # Instantiate the model and move it to the appropriate device\n",
        "      #Base BERT model\n",
        "      model = ScreenBert(pretrained_model_name).to(device)\n",
        "\n",
        "      #Distilbert Model\n",
        "      # model = ScreenDistilBert(pretrained_model_name).to(device)\n",
        "\n",
        "      optimizer = AdamW(model.parameters(), lr=2e-5, eps=1e-8)\n",
        "\n",
        "      # Train and evaluate the model\n",
        "      train_losses, valid_losses, train_acc, valid_acc = train_and_evaluate_model(train_encodings,\n",
        "                                                                                  val_encodings,\n",
        "                                                                                  train_labels,\n",
        "                                                                                  val_labels,\n",
        "                                                                                  batch_size,\n",
        "                                                                                  epochs,\n",
        "                                                                                  model,\n",
        "                                                                                  device)\n",
        "\n",
        "      # Store the results in a nested dictionary\n",
        "      batch_size_data[batch_size] = {\n",
        "          'train_losses': train_losses,\n",
        "          'valid_losses': valid_losses,\n",
        "          'train_acc': train_acc,\n",
        "          'valid_acc': valid_acc\n",
        "      }\n",
        "\n",
        "      # Save the trained model\n",
        "      #model_name = f'screen_bert_batch_size_{batch_size}.pth'\n",
        "      model_name = f'screen_bert_batch_size_{batch_size}.pth'\n",
        "      torch.save(model.state_dict(), model_name)\n",
        "\n",
        "      # Track the best model based on validation accuracy\n",
        "      if valid_acc[-1] > best_val_acc:\n",
        "          best_val_acc = valid_acc[-1]\n",
        "          best_model = model\n",
        "          best_model_name = model_name\n",
        "\n",
        "  # Print the best validation accuracy and model's state dictionary\n",
        "  print(f'Best Validation Accuracy: {best_val_acc}')\n",
        "  print(f'Best model = {best_model_name}')\n"
      ],
      "metadata": {
        "colab": {
          "base_uri": "https://localhost:8080/",
          "height": 907
        },
        "id": "sslzS_6pezCs",
        "outputId": "361f0521-7b20-40e2-cab4-0006b5231668"
      },
      "execution_count": null,
      "outputs": [
        {
          "output_type": "stream",
          "name": "stderr",
          "text": [
            "[codecarbon INFO @ 09:00:38] [setup] RAM Tracking...\n",
            "[codecarbon INFO @ 09:00:38] [setup] GPU Tracking...\n",
            "[codecarbon INFO @ 09:00:38] Tracking Nvidia GPU via pynvml\n",
            "[codecarbon INFO @ 09:00:38] [setup] CPU Tracking...\n",
            "[codecarbon WARNING @ 09:00:38] No CPU tracking mode found. Falling back on CPU constant mode.\n",
            "[codecarbon WARNING @ 09:00:39] We saw that you have a Intel(R) Xeon(R) CPU @ 2.20GHz but we don't know it. Please contact us.\n",
            "[codecarbon INFO @ 09:00:39] CPU Model on constant consumption mode: Intel(R) Xeon(R) CPU @ 2.20GHz\n",
            "[codecarbon INFO @ 09:00:39] >>> Tracker's metadata:\n",
            "[codecarbon INFO @ 09:00:39]   Platform system: Linux-6.1.58+-x86_64-with-glibc2.35\n",
            "[codecarbon INFO @ 09:00:39]   Python version: 3.10.12\n",
            "[codecarbon INFO @ 09:00:39]   CodeCarbon version: 2.3.5\n",
            "[codecarbon INFO @ 09:00:39]   Available RAM : 62.804 GB\n",
            "[codecarbon INFO @ 09:00:39]   CPU count: 16\n",
            "[codecarbon INFO @ 09:00:39]   CPU model: Intel(R) Xeon(R) CPU @ 2.20GHz\n",
            "[codecarbon INFO @ 09:00:39]   GPU count: 1\n",
            "[codecarbon INFO @ 09:00:39]   GPU model: 1 x NVIDIA L4\n"
          ]
        },
        {
          "output_type": "stream",
          "name": "stdout",
          "text": [
            "Batch Size: 8\n"
          ]
        },
        {
          "output_type": "stream",
          "name": "stderr",
          "text": [
            "/usr/local/lib/python3.10/dist-packages/transformers/optimization.py:521: FutureWarning: This implementation of AdamW is deprecated and will be removed in a future version. Use the PyTorch implementation torch.optim.AdamW instead, or set `no_deprecation_warning=True` to disable this warning\n",
            "  warnings.warn(\n",
            "[codecarbon INFO @ 09:00:39] Energy consumed for RAM : 0.000003 kWh. RAM Power : 23.55161476135254 W\n",
            "[codecarbon INFO @ 09:00:39] Energy consumed for all GPUs : 0.000004 kWh. Total GPU Power : 36.92945038096516 W\n",
            "[codecarbon INFO @ 09:00:39] Energy consumed for all CPUs : 0.000005 kWh. Total CPU Power : 42.5 W\n",
            "[codecarbon INFO @ 09:00:39] 0.000012 kWh of electricity used since the beginning.\n"
          ]
        },
        {
          "output_type": "stream",
          "name": "stdout",
          "text": [
            "entered create_dataloader function\n",
            "created dataset\n",
            "randomly sampled stuff \n",
            "train_dataloader ready to play\n",
            "entered create_dataloader function\n",
            "created dataset\n",
            "randomly sampled stuff \n",
            "val_dataloader ready to play\n",
            "Start training ...\n"
          ]
        },
        {
          "output_type": "error",
          "ename": "TypeError",
          "evalue": "'range' object cannot be interpreted as an integer",
          "traceback": [
            "\u001b[0;31m---------------------------------------------------------------------------\u001b[0m",
            "\u001b[0;31mTypeError\u001b[0m                                 Traceback (most recent call last)",
            "\u001b[0;32m<ipython-input-79-e19e7f844f33>\u001b[0m in \u001b[0;36m<cell line: 2>\u001b[0;34m()\u001b[0m\n\u001b[1;32m     19\u001b[0m \u001b[0;34m\u001b[0m\u001b[0m\n\u001b[1;32m     20\u001b[0m       \u001b[0;31m# Train and evaluate the model\u001b[0m\u001b[0;34m\u001b[0m\u001b[0;34m\u001b[0m\u001b[0m\n\u001b[0;32m---> 21\u001b[0;31m       train_losses, valid_losses, train_acc, valid_acc = train_and_evaluate_model(train_encodings,\n\u001b[0m\u001b[1;32m     22\u001b[0m                                                                                   \u001b[0mval_encodings\u001b[0m\u001b[0;34m,\u001b[0m\u001b[0;34m\u001b[0m\u001b[0;34m\u001b[0m\u001b[0m\n\u001b[1;32m     23\u001b[0m                                                                                   \u001b[0mtrain_labels\u001b[0m\u001b[0;34m,\u001b[0m\u001b[0;34m\u001b[0m\u001b[0;34m\u001b[0m\u001b[0m\n",
            "\u001b[0;32m<ipython-input-41-7df9facd7f95>\u001b[0m in \u001b[0;36mtrain_and_evaluate_model\u001b[0;34m(train_encodings, val_encodings, train_labels, val_labels, batch_size, epochs, model, device)\u001b[0m\n\u001b[1;32m     24\u001b[0m \u001b[0;34m\u001b[0m\u001b[0m\n\u001b[1;32m     25\u001b[0m     \u001b[0mprint\u001b[0m\u001b[0;34m(\u001b[0m\u001b[0;34m\"Start training ...\"\u001b[0m\u001b[0;34m)\u001b[0m\u001b[0;34m\u001b[0m\u001b[0;34m\u001b[0m\u001b[0m\n\u001b[0;32m---> 26\u001b[0;31m     \u001b[0;32mfor\u001b[0m \u001b[0mepoch\u001b[0m \u001b[0;32min\u001b[0m \u001b[0mrange\u001b[0m\u001b[0;34m(\u001b[0m\u001b[0mepochs\u001b[0m\u001b[0;34m)\u001b[0m\u001b[0;34m:\u001b[0m\u001b[0;34m\u001b[0m\u001b[0;34m\u001b[0m\u001b[0m\n\u001b[0m\u001b[1;32m     27\u001b[0m         avg_train_loss, avg_train_accuracy = train_model(optimizer,\n\u001b[1;32m     28\u001b[0m                                                          \u001b[0mepochs\u001b[0m\u001b[0;34m,\u001b[0m\u001b[0;34m\u001b[0m\u001b[0;34m\u001b[0m\u001b[0m\n",
            "\u001b[0;31mTypeError\u001b[0m: 'range' object cannot be interpreted as an integer"
          ]
        }
      ]
    },
    {
      "cell_type": "code",
      "source": [
        "##Graph each batch size\n",
        "# Define colors for each batch size\n",
        "colors = ['b', 'g', 'r', 'c', 'm', 'y', 'k']\n",
        "\n",
        "# Plot losses for each batch size\n",
        "for idx, (batch_size, data) in enumerate(batch_data.items()):\n",
        "    train_losses = data['train_losses']\n",
        "    valid_losses = data['valid_losses']\n",
        "    epochs = range(1, len(train_losses) + 1)\n",
        "    color = colors[idx % len(colors)]  # Cycle through colors for each batch size\n",
        "\n",
        "    plt.figure(figsize=(10, 5))\n",
        "    plt.plot(epochs, train_losses, linestyle='--', color=color, label='Train Loss')\n",
        "    plt.plot(epochs, valid_losses, linestyle='-', color=color, label='Validation Loss')\n",
        "    plt.title(f'Training and Validation Loss (Batch Size: {batch_size})')\n",
        "    plt.xlabel('Epochs')\n",
        "    plt.ylabel('Loss')\n",
        "    plt.legend()\n",
        "    plt.show()\n",
        "\n",
        "# Plot accuracies for each batch size\n",
        "for idx, (batch_size, data) in enumerate(batch_data.items()):\n",
        "    train_acc = data['train_acc']\n",
        "    valid_acc = data['valid_acc']\n",
        "    epochs = range(1, len(train_acc) + 1)\n",
        "    color = colors[idx % len(colors)]  # Cycle through colors for each batch size\n",
        "\n",
        "    plt.figure(figsize=(10, 5))\n",
        "    plt.plot(epochs, train_acc, linestyle='--', color=color, label='Train Accuracy')\n",
        "    plt.plot(epochs, valid_acc, linestyle='-', color=color, label='Validation Accuracy')\n",
        "    plt.title(f'Training and Validation Accuracy (Batch Size: {batch_size})')\n",
        "    plt.xlabel('Epochs')\n",
        "    plt.ylabel('Accuracy')\n",
        "    plt.legend()\n",
        "    plt.show()\n"
      ],
      "metadata": {
        "colab": {
          "base_uri": "https://localhost:8080/",
          "height": 1000
        },
        "id": "ovuubRAled4d",
        "outputId": "641b9d4d-4023-4a91-cd1b-16bacb420fc7"
      },
      "execution_count": null,
      "outputs": [
        {
          "output_type": "display_data",
          "data": {
            "text/plain": [
              "<Figure size 1000x500 with 1 Axes>"
            ],
            "image/png": "[encoded data removed]"
          },
          "metadata": {}
        },
        {
          "output_type": "display_data",
          "data": {
            "text/plain": [
              "<Figure size 1000x500 with 1 Axes>"
            ],
            "image/png": "[encoded data removed]"
          },
          "metadata": {}
        },
        {
          "output_type": "display_data",
          "data": {
            "text/plain": [
              "<Figure size 1000x500 with 1 Axes>"
            ],
            "image/png": "[encoded data removed]"
          },
          "metadata": {}
        },
        {
          "output_type": "display_data",
          "data": {
            "text/plain": [
              "<Figure size 1000x500 with 1 Axes>"
            ],
            "image/png": "[encoded data removed]"
          },
          "metadata": {}
        },
        {
          "output_type": "display_data",
          "data": {
            "text/plain": [
              "<Figure size 1000x500 with 1 Axes>"
            ],
            "image/png": "[encoded data removed]"
          },
          "metadata": {}
        },
        {
          "output_type": "display_data",
          "data": {
            "text/plain": [
              "<Figure size 1000x500 with 1 Axes>"
            ],
            "image/png": "[encoded data removed]"
          },
          "metadata": {}
        },
        {
          "output_type": "display_data",
          "data": {
            "text/plain": [
              "<Figure size 1000x500 with 1 Axes>"
            ],
            "image/png": "[encoded data removed]"
          },
          "metadata": {}
        },
        {
          "output_type": "display_data",
          "data": {
            "text/plain": [
              "<Figure size 1000x500 with 1 Axes>"
            ],
            "image/png": "[encoded data removed]"
          },
          "metadata": {}
        },
        {
          "output_type": "display_data",
          "data": {
            "text/plain": [
              "<Figure size 1000x500 with 1 Axes>"
            ],
            "image/png": "[encoded data removed]"
          },
          "metadata": {}
        },
        {
          "output_type": "display_data",
          "data": {
            "text/plain": [
              "<Figure size 1000x500 with 1 Axes>"
            ],
            "image/png": "[encoded data removed]"
          },
          "metadata": {}
        }
      ]
    },
    {
      "cell_type": "code",
      "source": [
        "best_model_name"
      ],
      "metadata": {
        "id": "KHlSEM00gYxn"
      },
      "execution_count": null,
      "outputs": []
    },
    {
      "cell_type": "code",
      "source": [
        "test_dataloader = create_dataloader(test_encodings, test_labels, batch_size=16)"
      ],
      "metadata": {
        "id": "RvLlT79jittu"
      },
      "execution_count": null,
      "outputs": []
    },
    {
      "cell_type": "code",
      "source": [
        "test_loss, test_acc = evaluate_model(best_model, test_dataloader, device)\n",
        "test_loss, test_acc"
      ],
      "metadata": {
        "id": "lt9CiroLikKC"
      },
      "execution_count": null,
      "outputs": []
    },
    {
      "cell_type": "code",
      "source": [
        "# Evaluation\n",
        "best_model.eval()\n",
        "predictions = []\n",
        "true_labels = []\n",
        "for batch in test_dataloader:\n",
        "    batch = tuple(t.to(device) for t in batch)\n",
        "    input_ids, attention_mask, labels = batch\n",
        "    with torch.no_grad():\n",
        "        logits = best_model(input_ids, attention_mask)\n",
        "        preds = torch.argmax(logits, axis=1)\n",
        "        predictions.extend(preds.cpu().numpy())\n",
        "        true_labels.extend(labels.cpu().numpy())"
      ],
      "metadata": {
        "id": "hBrZb0bSkqWz"
      },
      "execution_count": null,
      "outputs": []
    },
    {
      "cell_type": "code",
      "source": [
        "# Calculate accuracy\n",
        "accuracy = accuracy_score(true_labels, predictions)\n",
        "print(\"Accuracy:\", accuracy)"
      ],
      "metadata": {
        "id": "OtA8LSq8mkzu"
      },
      "execution_count": null,
      "outputs": []
    },
    {
      "cell_type": "code",
      "source": [
        "#confusion matrix\n",
        "matrix  = confusion_matrix(true_labels, predictions)\n",
        "matrix"
      ],
      "metadata": {
        "id": "ErvlZx9y8uEA"
      },
      "execution_count": null,
      "outputs": []
    },
    {
      "cell_type": "code",
      "source": [
        "import os\n",
        "for batch_size in batch_sizes:\n",
        "  model_name = f'screen_bert_batch_size_{batch_size}.pth'\n",
        "  # torch.save(model.state_dict(), model_name)\n",
        "\n",
        "  # Get the file size in bytes\n",
        "  file_size_bytes = os.path.getsize(f'/content/{model_name}')\n",
        "\n",
        "  # Convert bytes to megabytes (MB)\n",
        "  file_size_mb = file_size_bytes / (1024 * 1024)\n",
        "\n",
        "  print(f\"File size of saved model: {file_size_mb:.2f} MB\")\n",
        "\n"
      ],
      "metadata": {
        "id": "2Z0P9BhTfHxv"
      },
      "execution_count": null,
      "outputs": []
    },
    {
      "cell_type": "code",
      "source": [
        "batch_data"
      ],
      "metadata": {
        "id": "dee1TlfbciLG"
      },
      "execution_count": null,
      "outputs": []
    },
    {
      "cell_type": "code",
      "source": [
        "import matplotlib.pyplot as plt\n",
        "\n",
        "# Plot for losses\n",
        "fig, (ax1, ax2) = plt.subplots(2, 1, figsize=(10, 10), sharex=True)\n",
        "\n",
        "# Plot losses\n",
        "ax1.set_ylabel('Loss', color='tab:red')\n",
        "ax1.plot(range(1, epochs + 1), train_losses, label='Training Loss', color='tab:red')\n",
        "ax1.plot(range(1, epochs + 1), valid_losses, label='Validation Loss', color='tab:blue')\n",
        "ax1.tick_params(axis='y', labelcolor='tab:red')\n",
        "ax1.set_xticks(range(1, epochs + 1))\n",
        "\n",
        "# Add legend to the first plot\n",
        "ax1.legend()\n",
        "\n",
        "# Plot accuracies\n",
        "ax2.set_xlabel('Epoch')\n",
        "ax2.set_ylabel('Accuracy', color='tab:green')\n",
        "ax2.plot(range(1, epochs + 1), train_acc, label='Training Accuracy', color='tab:green')\n",
        "ax2.plot(range(1, epochs + 1), valid_acc, label='Validation Accuracy', color='tab:orange')\n",
        "ax2.tick_params(axis='y', labelcolor='tab:green')\n",
        "\n",
        "# Add legend to the second plot\n",
        "ax2.legend()\n",
        "\n",
        "# Add title to the whole figure\n",
        "fig.suptitle(f'Training Metrics over Epochs (Batch Size: {batch_size})', fontsize=14, y=0.95)\n",
        "\n",
        "plt.show()\n"
      ],
      "metadata": {
        "id": "9Yq4UsPzVZmQ"
      },
      "execution_count": null,
      "outputs": []
    },
    {
      "cell_type": "code",
      "source": [
        "# # Visualize results\n",
        "# plot_training_results(epoch_training_losses, accuracy_scores, epochs)"
      ],
      "metadata": {
        "id": "oqi6XClqmRpM"
      },
      "execution_count": null,
      "outputs": []
    },
    {
      "cell_type": "markdown",
      "source": [
        "#### Evaluation Of Fine-Tuned Model"
      ],
      "metadata": {
        "id": "WJJ2HsZSYs1f"
      }
    },
    {
      "cell_type": "code",
      "source": [
        "# model.eval()\n",
        "# predictions = []\n",
        "# true_labels = []\n",
        "# for batch in test_dataloader:\n",
        "#     batch = tuple(t.to(device) for t in batch)\n",
        "#     input_ids, attention_mask, labels = batch\n",
        "#     with torch.no_grad():\n",
        "#         logits = model(input_ids, attention_mask)\n",
        "#     preds = torch.argmax(logits, axis=1)\n",
        "#     predictions.extend(preds.cpu().numpy())\n",
        "#     true_labels.extend(labels.cpu().numpy())"
      ],
      "metadata": {
        "id": "jFdID3_eYw6H"
      },
      "execution_count": null,
      "outputs": []
    },
    {
      "cell_type": "code",
      "source": [
        "# accuracy = accuracy_score(true_labels, predictions)\n",
        "# print(\"Accuracy on validation data:\", accuracy)"
      ],
      "metadata": {
        "id": "JxPJBfWCZEzA"
      },
      "execution_count": null,
      "outputs": []
    },
    {
      "cell_type": "code",
      "source": [
        "# matrix  = confusion_matrix(true_labels, predictions)\n",
        "# matrix"
      ],
      "metadata": {
        "id": "k9n76M0qZMaf"
      },
      "execution_count": null,
      "outputs": []
    },
    {
      "cell_type": "markdown",
      "source": [
        "#### Export The Fine-Tuned Model"
      ],
      "metadata": {
        "id": "1uTJmzjOZg9k"
      }
    },
    {
      "cell_type": "code",
      "source": [
        "# # Uncomment if export is needed\n",
        "# torch.save(model.state_dict(), fine_tuned_model_name)\n",
        "# tokenizer.save_pretrained(tokenizer_directory_name)"
      ],
      "metadata": {
        "id": "pK4iuPdUZgk8"
      },
      "execution_count": null,
      "outputs": []
    },
    {
      "cell_type": "markdown",
      "source": [
        "# Testing model import for pipeline"
      ],
      "metadata": {
        "id": "kXHC4vlF7qeM"
      }
    },
    {
      "cell_type": "code",
      "source": [
        "## Text Samples\n",
        "## Mock question and answer\n",
        "# Interviewer: \"Can you explain the concept of overfitting in neural networks and how you would address it?\"\n",
        "# Candidate:\n",
        "ds_response = '''Certainly. Overfitting is a common challenge in machine learning, particularly with neural networks.\n",
        "It occurs when a model learns to perform exceptionally well on the training data but fails to generalize to unseen data.\n",
        "Essentially, the model memorizes the training examples rather than learning the underlying patterns.\n",
        "This phenomenon often arises when the model is too complex relative to the amount of training data available,\n",
        "allowing it to capture noise and outliers in the data. To address overfitting, several techniques can be employed.\n",
        "One approach is to use regularization methods such as L1 or L2 regularization, which add a penalty term to the loss function to discourage overly complex models.\n",
        "Dropout is another effective technique where random neurons are temporarily dropped out during training, forcing the model to learn more robust features.\n",
        "Additionally, early stopping can be employed, where training is halted when the model's performance on a validation set starts to deteriorate,\n",
        "thus preventing it from over-optimizing on the training data. Furthermore, techniques like data augmentation,\n",
        "which involves generating synthetic training examples by applying random transformations to the existing data,\n",
        "can help expose the model to a more diverse set of examples.\n",
        "Cross-validation can also be utilized to assess the model's performance on multiple subsets of the data,\n",
        "providing a more reliable estimate of its generalization ability. Overall,\n",
        "combating overfitting requires a combination of model regularization, data augmentation,\n",
        "and careful monitoring of the training process. By employing these techniques,\n",
        "we can develop neural networks that not only perform well on the training data but also generalize effectively to new, unseen examples.\"'''\n",
        "\n",
        "ARTICLE = \"\"\" New York (CNN)When Liana Barrientos was 23 years old, she got married in Westchester County, New York.\n",
        "A year later, she got married again in Westchester County, but to a different man and without divorcing her first husband.\n",
        "Only 18 days after that marriage, she got hitched yet again. Then, Barrientos declared \"I do\" five more times, sometimes only within two weeks of each other.\n",
        "In 2010, she married once more, this time in the Bronx. In an application for a marriage license, she stated it was her \"first and only\" marriage.\n",
        "Barrientos, now 39, is facing two criminal counts of \"offering a false instrument for filing in the first degree,\" referring to her false statements on the\n",
        "2010 marriage license application, according to court documents.\n",
        "Prosecutors said the marriages were part of an immigration scam.\n",
        "On Friday, she pleaded not guilty at State Supreme Court in the Bronx, according to her attorney, Christopher Wright, who declined to comment further.\n",
        "After leaving court, Barrientos was arrested and charged with theft of service and criminal trespass for allegedly sneaking into the New York subway through an emergency exit, said Detective\n",
        "Annette Markowski, a police spokeswoman. In total, Barrientos has been married 10 times, with nine of her marriages occurring between 1999 and 2002.\n",
        "All occurred either in Westchester County, Long Island, New Jersey or the Bronx. She is believed to still be married to four men, and at one time, she was married to eight men at once, prosecutors say.\n",
        "Prosecutors said the immigration scam involved some of her husbands, who filed for permanent residence status shortly after the marriages.\n",
        "Any divorces happened only after such filings were approved. It was unclear whether any of the men will be prosecuted.\n",
        "The case was referred to the Bronx District Attorney\\'s Office by Immigration and Customs Enforcement and the Department of Homeland Security\\'s\n",
        "Investigation Division. Seven of the men are from so-called \"red-flagged\" countries, including Egypt, Turkey, Georgia, Pakistan and Mali.\n",
        "Her eighth husband, Rashid Rajput, was deported in 2006 to his native Pakistan after an investigation by the Joint Terrorism Task Force.\n",
        "If convicted, Barrientos faces up to four years in prison.  Her next court appearance is scheduled for May 18.\n",
        "\"\"\"\n",
        "NLP_fundamentals = '''\n",
        "So, when we talk about Natural Language Processing, or NLP, we’re diving into how computers can understand and interact with human languages. It’s like teaching a computer to listen, understand, and even talk back in a way that feels natural to us. This is super important today because it helps make technology more user-friendly and accessible. Imagine an educational app that can talk to students in their language, understand their questions, and offer help just like a human teacher would. That’s where NLP shines in edutech. It’s transforming how educational content is delivered, making learning personalized and interactive. From auto-grading essays to powering chatbots for instant homework help, NLP is truly changing the game in education technology.\n",
        "'''\n",
        "models = '''\n",
        "In the world of NLP, we’ve got a whole toolbox of machine learning models. From the classics like decision trees and Naive Bayes to the heavy hitters like Support Vector Machines and neural networks. But recently, it’s the neural network models, particularly Recurrent Neural Networks (RNNs) and Transformers like BERT, that have really stolen the spotlight. In my own projects, I’ve seen firsthand how something like BERT can grasp the nuances of language in a way others can’t. It’s about understanding not just the words, but the context and subtleties of human language. For example, in a project aimed at analyzing student feedback, BERT helped us pick up on the sentiment and nuances far better than traditional models. What’s cool is that these models have been trained on vast amounts of data before we even start with them, which means we can achieve impressive results with relatively little fine-tuning on our end.\n",
        "'''"
      ],
      "metadata": {
        "id": "0V9o16LadpMN"
      },
      "execution_count": null,
      "outputs": []
    },
    {
      "cell_type": "code",
      "source": [
        "from transformers import pipeline\n",
        "from transformers import BertTokenizer, BertForSequenceClassification, pipeline"
      ],
      "metadata": {
        "id": "s__NO44P7wcP"
      },
      "execution_count": null,
      "outputs": []
    },
    {
      "cell_type": "code",
      "source": [
        "model_path = '/content/screen_bert_batch_size_16.pth'"
      ],
      "metadata": {
        "id": "zkE3ZagQ88UE"
      },
      "execution_count": null,
      "outputs": []
    },
    {
      "cell_type": "code",
      "source": [
        "# Example usage of the pipeline\n",
        "text = \"Your input text here\"\n",
        "result = classifier_pipeline(text)\n",
        "print(result)"
      ],
      "metadata": {
        "id": "r6fIMdJW9Vw4"
      },
      "execution_count": null,
      "outputs": []
    },
    {
      "cell_type": "code",
      "source": [
        "tokenizer = BertTokenizer.from_pretrained('bert-base-uncased')"
      ],
      "metadata": {
        "id": "81Y9ku8i-1pi"
      },
      "execution_count": null,
      "outputs": []
    },
    {
      "cell_type": "code",
      "source": [
        "best_model"
      ],
      "metadata": {
        "id": "wKIZZutZ-WtB"
      },
      "execution_count": null,
      "outputs": []
    },
    {
      "cell_type": "code",
      "source": [
        "def classify_this(text):\n",
        "  inputs = tokenizer.encode_plus(text, add_special_tokens=True, return_tensors='pt')\n",
        "  input_ids = inputs['input_ids'].to(device)\n",
        "  attention_mask = inputs['attention_mask'].to(device)\n",
        "  with torch.no_grad():\n",
        "    output = best_model(input_ids, attention_mask)\n",
        "  return torch.argmax(output, dim=1).item()"
      ],
      "metadata": {
        "id": "JP3cBkes_36L"
      },
      "execution_count": null,
      "outputs": []
    },
    {
      "cell_type": "code",
      "source": [
        "text1 = 'I’m not excited about the opportunity to bring my expertise in web development to ZARA and contribute to creating exceptional digital experiences for its customers.'"
      ],
      "metadata": {
        "id": "3YWde8U2_XFw"
      },
      "execution_count": null,
      "outputs": []
    },
    {
      "cell_type": "code",
      "source": [
        "text2 = 'Leveraging the latest web development technologies and responsive design principles, we ensured that the website delivers a seamless experience across all devices, from desktop to mobile.'"
      ],
      "metadata": {
        "id": "6Az0c642EIgJ"
      },
      "execution_count": null,
      "outputs": []
    },
    {
      "cell_type": "code",
      "source": [
        "classify_this(text2)"
      ],
      "metadata": {
        "colab": {
          "base_uri": "https://localhost:8080/"
        },
        "id": "OBU4XHPeDwFk",
        "outputId": "0c2706c8-4a2a-4c6e-ee7d-35362db3ff6e"
      },
      "execution_count": null,
      "outputs": [
        {
          "output_type": "execute_result",
          "data": {
            "text/plain": [
              "1"
            ]
          },
          "metadata": {},
          "execution_count": 236
        }
      ]
    },
    {
      "cell_type": "code",
      "source": [
        "classify_this('While I haven’t directly worked on web development projects in the past, I do understand the importance of aligning a website with a brand’s identity and customer experience goals.')"
      ],
      "metadata": {
        "colab": {
          "base_uri": "https://localhost:8080/"
        },
        "id": "DJw3hc5EE8EJ",
        "outputId": "ff3098b3-291a-40b9-e2ae-e34262d8db88"
      },
      "execution_count": null,
      "outputs": [
        {
          "output_type": "execute_result",
          "data": {
            "text/plain": [
              "0"
            ]
          },
          "metadata": {},
          "execution_count": 237
        }
      ]
    },
    {
      "cell_type": "code",
      "source": [
        "classify_this('I’m eager to learn more about web development practices and contribute my skills to help ZARA achieve its digital goals.')"
      ],
      "metadata": {
        "colab": {
          "base_uri": "https://localhost:8080/"
        },
        "id": "TyBT0MS2FDIu",
        "outputId": "4e45f0bd-1c85-43ad-b0eb-ecda1ba9c67f"
      },
      "execution_count": null,
      "outputs": [
        {
          "output_type": "execute_result",
          "data": {
            "text/plain": [
              "0"
            ]
          },
          "metadata": {},
          "execution_count": 238
        }
      ]
    },
    {
      "cell_type": "code",
      "source": [
        "classify_this(text1)"
      ],
      "metadata": {
        "colab": {
          "base_uri": "https://localhost:8080/"
        },
        "id": "LzWaMVbfFcez",
        "outputId": "346cd6c6-480f-48d8-d9b7-6188ee67f6f0"
      },
      "execution_count": null,
      "outputs": [
        {
          "output_type": "execute_result",
          "data": {
            "text/plain": [
              "0"
            ]
          },
          "metadata": {},
          "execution_count": 239
        }
      ]
    },
    {
      "cell_type": "markdown",
      "source": [],
      "metadata": {
        "id": "4xaRa-RJD7J2"
      }
    }
  ]
}