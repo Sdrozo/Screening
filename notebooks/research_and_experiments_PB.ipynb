{
  "nbformat": 4,
  "nbformat_minor": 0,
  "metadata": {
    "colab": {
      "provenance": [],
      "collapsed_sections": [
        "yJJiC2qBmWQu"
      ]
    },
    "kernelspec": {
      "name": "python3",
      "display_name": "Python 3"
    },
    "language_info": {
      "name": "python"
    },
    "widgets": {
      "application/vnd.jupyter.widget-state+json": {
        "8a9ae546c8c047a2812f04314bd6e749": {
          "model_module": "@jupyter-widgets/controls",
          "model_name": "HBoxModel",
          "model_module_version": "1.5.0",
          "state": {
            "_dom_classes": [],
            "_model_module": "@jupyter-widgets/controls",
            "_model_module_version": "1.5.0",
            "_model_name": "HBoxModel",
            "_view_count": null,
            "_view_module": "@jupyter-widgets/controls",
            "_view_module_version": "1.5.0",
            "_view_name": "HBoxView",
            "box_style": "",
            "children": [
              "IPY_MODEL_76db24fcefd6434880c6f7d46c0ed9e6",
              "IPY_MODEL_3c8a991d356e4a84a7e092893501d6e6",
              "IPY_MODEL_ef56c02334e5479ea16db82516b7d15d"
            ],
            "layout": "IPY_MODEL_83e41fe97a2843f89f351d3f726cfc8d"
          }
        },
        "76db24fcefd6434880c6f7d46c0ed9e6": {
          "model_module": "@jupyter-widgets/controls",
          "model_name": "HTMLModel",
          "model_module_version": "1.5.0",
          "state": {
            "_dom_classes": [],
            "_model_module": "@jupyter-widgets/controls",
            "_model_module_version": "1.5.0",
            "_model_name": "HTMLModel",
            "_view_count": null,
            "_view_module": "@jupyter-widgets/controls",
            "_view_module_version": "1.5.0",
            "_view_name": "HTMLView",
            "description": "",
            "description_tooltip": null,
            "layout": "IPY_MODEL_7bddd3aa4b6746b3b2ef7a5128ce294c",
            "placeholder": "​",
            "style": "IPY_MODEL_f6ca0ef2a66741828b0e742e3c58b1f3",
            "value": "config.json: 100%"
          }
        },
        "3c8a991d356e4a84a7e092893501d6e6": {
          "model_module": "@jupyter-widgets/controls",
          "model_name": "FloatProgressModel",
          "model_module_version": "1.5.0",
          "state": {
            "_dom_classes": [],
            "_model_module": "@jupyter-widgets/controls",
            "_model_module_version": "1.5.0",
            "_model_name": "FloatProgressModel",
            "_view_count": null,
            "_view_module": "@jupyter-widgets/controls",
            "_view_module_version": "1.5.0",
            "_view_name": "ProgressView",
            "bar_style": "success",
            "description": "",
            "description_tooltip": null,
            "layout": "IPY_MODEL_2c7fedac47db49bda1be8715617f2573",
            "max": 1154,
            "min": 0,
            "orientation": "horizontal",
            "style": "IPY_MODEL_a98824c3859244ac9a649b6f6db88612",
            "value": 1154
          }
        },
        "ef56c02334e5479ea16db82516b7d15d": {
          "model_module": "@jupyter-widgets/controls",
          "model_name": "HTMLModel",
          "model_module_version": "1.5.0",
          "state": {
            "_dom_classes": [],
            "_model_module": "@jupyter-widgets/controls",
            "_model_module_version": "1.5.0",
            "_model_name": "HTMLModel",
            "_view_count": null,
            "_view_module": "@jupyter-widgets/controls",
            "_view_module_version": "1.5.0",
            "_view_name": "HTMLView",
            "description": "",
            "description_tooltip": null,
            "layout": "IPY_MODEL_45bdefa30ca64c1a830a2fed7b5d18d1",
            "placeholder": "​",
            "style": "IPY_MODEL_50fe3ac27d0b4969a5b361c93d1b1835",
            "value": " 1.15k/1.15k [00:00&lt;00:00, 54.8kB/s]"
          }
        },
        "83e41fe97a2843f89f351d3f726cfc8d": {
          "model_module": "@jupyter-widgets/base",
          "model_name": "LayoutModel",
          "model_module_version": "1.2.0",
          "state": {
            "_model_module": "@jupyter-widgets/base",
            "_model_module_version": "1.2.0",
            "_model_name": "LayoutModel",
            "_view_count": null,
            "_view_module": "@jupyter-widgets/base",
            "_view_module_version": "1.2.0",
            "_view_name": "LayoutView",
            "align_content": null,
            "align_items": null,
            "align_self": null,
            "border": null,
            "bottom": null,
            "display": null,
            "flex": null,
            "flex_flow": null,
            "grid_area": null,
            "grid_auto_columns": null,
            "grid_auto_flow": null,
            "grid_auto_rows": null,
            "grid_column": null,
            "grid_gap": null,
            "grid_row": null,
            "grid_template_areas": null,
            "grid_template_columns": null,
            "grid_template_rows": null,
            "height": null,
            "justify_content": null,
            "justify_items": null,
            "left": null,
            "margin": null,
            "max_height": null,
            "max_width": null,
            "min_height": null,
            "min_width": null,
            "object_fit": null,
            "object_position": null,
            "order": null,
            "overflow": null,
            "overflow_x": null,
            "overflow_y": null,
            "padding": null,
            "right": null,
            "top": null,
            "visibility": null,
            "width": null
          }
        },
        "7bddd3aa4b6746b3b2ef7a5128ce294c": {
          "model_module": "@jupyter-widgets/base",
          "model_name": "LayoutModel",
          "model_module_version": "1.2.0",
          "state": {
            "_model_module": "@jupyter-widgets/base",
            "_model_module_version": "1.2.0",
            "_model_name": "LayoutModel",
            "_view_count": null,
            "_view_module": "@jupyter-widgets/base",
            "_view_module_version": "1.2.0",
            "_view_name": "LayoutView",
            "align_content": null,
            "align_items": null,
            "align_self": null,
            "border": null,
            "bottom": null,
            "display": null,
            "flex": null,
            "flex_flow": null,
            "grid_area": null,
            "grid_auto_columns": null,
            "grid_auto_flow": null,
            "grid_auto_rows": null,
            "grid_column": null,
            "grid_gap": null,
            "grid_row": null,
            "grid_template_areas": null,
            "grid_template_columns": null,
            "grid_template_rows": null,
            "height": null,
            "justify_content": null,
            "justify_items": null,
            "left": null,
            "margin": null,
            "max_height": null,
            "max_width": null,
            "min_height": null,
            "min_width": null,
            "object_fit": null,
            "object_position": null,
            "order": null,
            "overflow": null,
            "overflow_x": null,
            "overflow_y": null,
            "padding": null,
            "right": null,
            "top": null,
            "visibility": null,
            "width": null
          }
        },
        "f6ca0ef2a66741828b0e742e3c58b1f3": {
          "model_module": "@jupyter-widgets/controls",
          "model_name": "DescriptionStyleModel",
          "model_module_version": "1.5.0",
          "state": {
            "_model_module": "@jupyter-widgets/controls",
            "_model_module_version": "1.5.0",
            "_model_name": "DescriptionStyleModel",
            "_view_count": null,
            "_view_module": "@jupyter-widgets/base",
            "_view_module_version": "1.2.0",
            "_view_name": "StyleView",
            "description_width": ""
          }
        },
        "2c7fedac47db49bda1be8715617f2573": {
          "model_module": "@jupyter-widgets/base",
          "model_name": "LayoutModel",
          "model_module_version": "1.2.0",
          "state": {
            "_model_module": "@jupyter-widgets/base",
            "_model_module_version": "1.2.0",
            "_model_name": "LayoutModel",
            "_view_count": null,
            "_view_module": "@jupyter-widgets/base",
            "_view_module_version": "1.2.0",
            "_view_name": "LayoutView",
            "align_content": null,
            "align_items": null,
            "align_self": null,
            "border": null,
            "bottom": null,
            "display": null,
            "flex": null,
            "flex_flow": null,
            "grid_area": null,
            "grid_auto_columns": null,
            "grid_auto_flow": null,
            "grid_auto_rows": null,
            "grid_column": null,
            "grid_gap": null,
            "grid_row": null,
            "grid_template_areas": null,
            "grid_template_columns": null,
            "grid_template_rows": null,
            "height": null,
            "justify_content": null,
            "justify_items": null,
            "left": null,
            "margin": null,
            "max_height": null,
            "max_width": null,
            "min_height": null,
            "min_width": null,
            "object_fit": null,
            "object_position": null,
            "order": null,
            "overflow": null,
            "overflow_x": null,
            "overflow_y": null,
            "padding": null,
            "right": null,
            "top": null,
            "visibility": null,
            "width": null
          }
        },
        "a98824c3859244ac9a649b6f6db88612": {
          "model_module": "@jupyter-widgets/controls",
          "model_name": "ProgressStyleModel",
          "model_module_version": "1.5.0",
          "state": {
            "_model_module": "@jupyter-widgets/controls",
            "_model_module_version": "1.5.0",
            "_model_name": "ProgressStyleModel",
            "_view_count": null,
            "_view_module": "@jupyter-widgets/base",
            "_view_module_version": "1.2.0",
            "_view_name": "StyleView",
            "bar_color": null,
            "description_width": ""
          }
        },
        "45bdefa30ca64c1a830a2fed7b5d18d1": {
          "model_module": "@jupyter-widgets/base",
          "model_name": "LayoutModel",
          "model_module_version": "1.2.0",
          "state": {
            "_model_module": "@jupyter-widgets/base",
            "_model_module_version": "1.2.0",
            "_model_name": "LayoutModel",
            "_view_count": null,
            "_view_module": "@jupyter-widgets/base",
            "_view_module_version": "1.2.0",
            "_view_name": "LayoutView",
            "align_content": null,
            "align_items": null,
            "align_self": null,
            "border": null,
            "bottom": null,
            "display": null,
            "flex": null,
            "flex_flow": null,
            "grid_area": null,
            "grid_auto_columns": null,
            "grid_auto_flow": null,
            "grid_auto_rows": null,
            "grid_column": null,
            "grid_gap": null,
            "grid_row": null,
            "grid_template_areas": null,
            "grid_template_columns": null,
            "grid_template_rows": null,
            "height": null,
            "justify_content": null,
            "justify_items": null,
            "left": null,
            "margin": null,
            "max_height": null,
            "max_width": null,
            "min_height": null,
            "min_width": null,
            "object_fit": null,
            "object_position": null,
            "order": null,
            "overflow": null,
            "overflow_x": null,
            "overflow_y": null,
            "padding": null,
            "right": null,
            "top": null,
            "visibility": null,
            "width": null
          }
        },
        "50fe3ac27d0b4969a5b361c93d1b1835": {
          "model_module": "@jupyter-widgets/controls",
          "model_name": "DescriptionStyleModel",
          "model_module_version": "1.5.0",
          "state": {
            "_model_module": "@jupyter-widgets/controls",
            "_model_module_version": "1.5.0",
            "_model_name": "DescriptionStyleModel",
            "_view_count": null,
            "_view_module": "@jupyter-widgets/base",
            "_view_module_version": "1.2.0",
            "_view_name": "StyleView",
            "description_width": ""
          }
        },
        "72593410958747d982cfadf62474543c": {
          "model_module": "@jupyter-widgets/controls",
          "model_name": "HBoxModel",
          "model_module_version": "1.5.0",
          "state": {
            "_dom_classes": [],
            "_model_module": "@jupyter-widgets/controls",
            "_model_module_version": "1.5.0",
            "_model_name": "HBoxModel",
            "_view_count": null,
            "_view_module": "@jupyter-widgets/controls",
            "_view_module_version": "1.5.0",
            "_view_name": "HBoxView",
            "box_style": "",
            "children": [
              "IPY_MODEL_62af00786761461a8177d051692b7713",
              "IPY_MODEL_310aded280b6424086a1e4b892646c9d",
              "IPY_MODEL_a34ddfa1a77a4afcaba3518e77cea7ba"
            ],
            "layout": "IPY_MODEL_592d73b557c544be9b2cd7cc123e3575"
          }
        },
        "62af00786761461a8177d051692b7713": {
          "model_module": "@jupyter-widgets/controls",
          "model_name": "HTMLModel",
          "model_module_version": "1.5.0",
          "state": {
            "_dom_classes": [],
            "_model_module": "@jupyter-widgets/controls",
            "_model_module_version": "1.5.0",
            "_model_name": "HTMLModel",
            "_view_count": null,
            "_view_module": "@jupyter-widgets/controls",
            "_view_module_version": "1.5.0",
            "_view_name": "HTMLView",
            "description": "",
            "description_tooltip": null,
            "layout": "IPY_MODEL_d6960ddfa4e54935b8730be88de70fe1",
            "placeholder": "​",
            "style": "IPY_MODEL_0590af39484840c59d2f947c23a51a2e",
            "value": "model.safetensors: 100%"
          }
        },
        "310aded280b6424086a1e4b892646c9d": {
          "model_module": "@jupyter-widgets/controls",
          "model_name": "FloatProgressModel",
          "model_module_version": "1.5.0",
          "state": {
            "_dom_classes": [],
            "_model_module": "@jupyter-widgets/controls",
            "_model_module_version": "1.5.0",
            "_model_name": "FloatProgressModel",
            "_view_count": null,
            "_view_module": "@jupyter-widgets/controls",
            "_view_module_version": "1.5.0",
            "_view_name": "ProgressView",
            "bar_style": "success",
            "description": "",
            "description_tooltip": null,
            "layout": "IPY_MODEL_6083341d59294c159511cfabed9b4139",
            "max": 1629437147,
            "min": 0,
            "orientation": "horizontal",
            "style": "IPY_MODEL_e0a2b17ab84e492c854ea2e984819a7e",
            "value": 1629437147
          }
        },
        "a34ddfa1a77a4afcaba3518e77cea7ba": {
          "model_module": "@jupyter-widgets/controls",
          "model_name": "HTMLModel",
          "model_module_version": "1.5.0",
          "state": {
            "_dom_classes": [],
            "_model_module": "@jupyter-widgets/controls",
            "_model_module_version": "1.5.0",
            "_model_name": "HTMLModel",
            "_view_count": null,
            "_view_module": "@jupyter-widgets/controls",
            "_view_module_version": "1.5.0",
            "_view_name": "HTMLView",
            "description": "",
            "description_tooltip": null,
            "layout": "IPY_MODEL_b3e466e3037f4193a73d2d2d61acd2d7",
            "placeholder": "​",
            "style": "IPY_MODEL_139f70ae24f24556906a597a1ccfacb5",
            "value": " 1.63G/1.63G [00:51&lt;00:00, 22.4MB/s]"
          }
        },
        "592d73b557c544be9b2cd7cc123e3575": {
          "model_module": "@jupyter-widgets/base",
          "model_name": "LayoutModel",
          "model_module_version": "1.2.0",
          "state": {
            "_model_module": "@jupyter-widgets/base",
            "_model_module_version": "1.2.0",
            "_model_name": "LayoutModel",
            "_view_count": null,
            "_view_module": "@jupyter-widgets/base",
            "_view_module_version": "1.2.0",
            "_view_name": "LayoutView",
            "align_content": null,
            "align_items": null,
            "align_self": null,
            "border": null,
            "bottom": null,
            "display": null,
            "flex": null,
            "flex_flow": null,
            "grid_area": null,
            "grid_auto_columns": null,
            "grid_auto_flow": null,
            "grid_auto_rows": null,
            "grid_column": null,
            "grid_gap": null,
            "grid_row": null,
            "grid_template_areas": null,
            "grid_template_columns": null,
            "grid_template_rows": null,
            "height": null,
            "justify_content": null,
            "justify_items": null,
            "left": null,
            "margin": null,
            "max_height": null,
            "max_width": null,
            "min_height": null,
            "min_width": null,
            "object_fit": null,
            "object_position": null,
            "order": null,
            "overflow": null,
            "overflow_x": null,
            "overflow_y": null,
            "padding": null,
            "right": null,
            "top": null,
            "visibility": null,
            "width": null
          }
        },
        "d6960ddfa4e54935b8730be88de70fe1": {
          "model_module": "@jupyter-widgets/base",
          "model_name": "LayoutModel",
          "model_module_version": "1.2.0",
          "state": {
            "_model_module": "@jupyter-widgets/base",
            "_model_module_version": "1.2.0",
            "_model_name": "LayoutModel",
            "_view_count": null,
            "_view_module": "@jupyter-widgets/base",
            "_view_module_version": "1.2.0",
            "_view_name": "LayoutView",
            "align_content": null,
            "align_items": null,
            "align_self": null,
            "border": null,
            "bottom": null,
            "display": null,
            "flex": null,
            "flex_flow": null,
            "grid_area": null,
            "grid_auto_columns": null,
            "grid_auto_flow": null,
            "grid_auto_rows": null,
            "grid_column": null,
            "grid_gap": null,
            "grid_row": null,
            "grid_template_areas": null,
            "grid_template_columns": null,
            "grid_template_rows": null,
            "height": null,
            "justify_content": null,
            "justify_items": null,
            "left": null,
            "margin": null,
            "max_height": null,
            "max_width": null,
            "min_height": null,
            "min_width": null,
            "object_fit": null,
            "object_position": null,
            "order": null,
            "overflow": null,
            "overflow_x": null,
            "overflow_y": null,
            "padding": null,
            "right": null,
            "top": null,
            "visibility": null,
            "width": null
          }
        },
        "0590af39484840c59d2f947c23a51a2e": {
          "model_module": "@jupyter-widgets/controls",
          "model_name": "DescriptionStyleModel",
          "model_module_version": "1.5.0",
          "state": {
            "_model_module": "@jupyter-widgets/controls",
            "_model_module_version": "1.5.0",
            "_model_name": "DescriptionStyleModel",
            "_view_count": null,
            "_view_module": "@jupyter-widgets/base",
            "_view_module_version": "1.2.0",
            "_view_name": "StyleView",
            "description_width": ""
          }
        },
        "6083341d59294c159511cfabed9b4139": {
          "model_module": "@jupyter-widgets/base",
          "model_name": "LayoutModel",
          "model_module_version": "1.2.0",
          "state": {
            "_model_module": "@jupyter-widgets/base",
            "_model_module_version": "1.2.0",
            "_model_name": "LayoutModel",
            "_view_count": null,
            "_view_module": "@jupyter-widgets/base",
            "_view_module_version": "1.2.0",
            "_view_name": "LayoutView",
            "align_content": null,
            "align_items": null,
            "align_self": null,
            "border": null,
            "bottom": null,
            "display": null,
            "flex": null,
            "flex_flow": null,
            "grid_area": null,
            "grid_auto_columns": null,
            "grid_auto_flow": null,
            "grid_auto_rows": null,
            "grid_column": null,
            "grid_gap": null,
            "grid_row": null,
            "grid_template_areas": null,
            "grid_template_columns": null,
            "grid_template_rows": null,
            "height": null,
            "justify_content": null,
            "justify_items": null,
            "left": null,
            "margin": null,
            "max_height": null,
            "max_width": null,
            "min_height": null,
            "min_width": null,
            "object_fit": null,
            "object_position": null,
            "order": null,
            "overflow": null,
            "overflow_x": null,
            "overflow_y": null,
            "padding": null,
            "right": null,
            "top": null,
            "visibility": null,
            "width": null
          }
        },
        "e0a2b17ab84e492c854ea2e984819a7e": {
          "model_module": "@jupyter-widgets/controls",
          "model_name": "ProgressStyleModel",
          "model_module_version": "1.5.0",
          "state": {
            "_model_module": "@jupyter-widgets/controls",
            "_model_module_version": "1.5.0",
            "_model_name": "ProgressStyleModel",
            "_view_count": null,
            "_view_module": "@jupyter-widgets/base",
            "_view_module_version": "1.2.0",
            "_view_name": "StyleView",
            "bar_color": null,
            "description_width": ""
          }
        },
        "b3e466e3037f4193a73d2d2d61acd2d7": {
          "model_module": "@jupyter-widgets/base",
          "model_name": "LayoutModel",
          "model_module_version": "1.2.0",
          "state": {
            "_model_module": "@jupyter-widgets/base",
            "_model_module_version": "1.2.0",
            "_model_name": "LayoutModel",
            "_view_count": null,
            "_view_module": "@jupyter-widgets/base",
            "_view_module_version": "1.2.0",
            "_view_name": "LayoutView",
            "align_content": null,
            "align_items": null,
            "align_self": null,
            "border": null,
            "bottom": null,
            "display": null,
            "flex": null,
            "flex_flow": null,
            "grid_area": null,
            "grid_auto_columns": null,
            "grid_auto_flow": null,
            "grid_auto_rows": null,
            "grid_column": null,
            "grid_gap": null,
            "grid_row": null,
            "grid_template_areas": null,
            "grid_template_columns": null,
            "grid_template_rows": null,
            "height": null,
            "justify_content": null,
            "justify_items": null,
            "left": null,
            "margin": null,
            "max_height": null,
            "max_width": null,
            "min_height": null,
            "min_width": null,
            "object_fit": null,
            "object_position": null,
            "order": null,
            "overflow": null,
            "overflow_x": null,
            "overflow_y": null,
            "padding": null,
            "right": null,
            "top": null,
            "visibility": null,
            "width": null
          }
        },
        "139f70ae24f24556906a597a1ccfacb5": {
          "model_module": "@jupyter-widgets/controls",
          "model_name": "DescriptionStyleModel",
          "model_module_version": "1.5.0",
          "state": {
            "_model_module": "@jupyter-widgets/controls",
            "_model_module_version": "1.5.0",
            "_model_name": "DescriptionStyleModel",
            "_view_count": null,
            "_view_module": "@jupyter-widgets/base",
            "_view_module_version": "1.2.0",
            "_view_name": "StyleView",
            "description_width": ""
          }
        },
        "a4e4c81cc7e145d48ace6c9b3e4f98dd": {
          "model_module": "@jupyter-widgets/controls",
          "model_name": "HBoxModel",
          "model_module_version": "1.5.0",
          "state": {
            "_dom_classes": [],
            "_model_module": "@jupyter-widgets/controls",
            "_model_module_version": "1.5.0",
            "_model_name": "HBoxModel",
            "_view_count": null,
            "_view_module": "@jupyter-widgets/controls",
            "_view_module_version": "1.5.0",
            "_view_name": "HBoxView",
            "box_style": "",
            "children": [
              "IPY_MODEL_486929233e364625b3265b28c3be529b",
              "IPY_MODEL_bad973191ac2466d8973990949541e29",
              "IPY_MODEL_c2da5d68a9cf48bdb9396371f2ef573a"
            ],
            "layout": "IPY_MODEL_9d2a51c961024c4a8246467acf378443"
          }
        },
        "486929233e364625b3265b28c3be529b": {
          "model_module": "@jupyter-widgets/controls",
          "model_name": "HTMLModel",
          "model_module_version": "1.5.0",
          "state": {
            "_dom_classes": [],
            "_model_module": "@jupyter-widgets/controls",
            "_model_module_version": "1.5.0",
            "_model_name": "HTMLModel",
            "_view_count": null,
            "_view_module": "@jupyter-widgets/controls",
            "_view_module_version": "1.5.0",
            "_view_name": "HTMLView",
            "description": "",
            "description_tooltip": null,
            "layout": "IPY_MODEL_c6ce663751d04d49b61183b3f18efa7b",
            "placeholder": "​",
            "style": "IPY_MODEL_3c808b99d4464ceb967cc16b8ce5944a",
            "value": "tokenizer_config.json: 100%"
          }
        },
        "bad973191ac2466d8973990949541e29": {
          "model_module": "@jupyter-widgets/controls",
          "model_name": "FloatProgressModel",
          "model_module_version": "1.5.0",
          "state": {
            "_dom_classes": [],
            "_model_module": "@jupyter-widgets/controls",
            "_model_module_version": "1.5.0",
            "_model_name": "FloatProgressModel",
            "_view_count": null,
            "_view_module": "@jupyter-widgets/controls",
            "_view_module_version": "1.5.0",
            "_view_name": "ProgressView",
            "bar_style": "success",
            "description": "",
            "description_tooltip": null,
            "layout": "IPY_MODEL_4d3e066abd0b45609f00c8a8b80a277c",
            "max": 26,
            "min": 0,
            "orientation": "horizontal",
            "style": "IPY_MODEL_0343fd2fa016443998028847ddb0acd0",
            "value": 26
          }
        },
        "c2da5d68a9cf48bdb9396371f2ef573a": {
          "model_module": "@jupyter-widgets/controls",
          "model_name": "HTMLModel",
          "model_module_version": "1.5.0",
          "state": {
            "_dom_classes": [],
            "_model_module": "@jupyter-widgets/controls",
            "_model_module_version": "1.5.0",
            "_model_name": "HTMLModel",
            "_view_count": null,
            "_view_module": "@jupyter-widgets/controls",
            "_view_module_version": "1.5.0",
            "_view_name": "HTMLView",
            "description": "",
            "description_tooltip": null,
            "layout": "IPY_MODEL_0f0482e0208446b1810ac6aa55a221e6",
            "placeholder": "​",
            "style": "IPY_MODEL_cda386bbe1d8462e803a15e9662e3f50",
            "value": " 26.0/26.0 [00:00&lt;00:00, 1.39kB/s]"
          }
        },
        "9d2a51c961024c4a8246467acf378443": {
          "model_module": "@jupyter-widgets/base",
          "model_name": "LayoutModel",
          "model_module_version": "1.2.0",
          "state": {
            "_model_module": "@jupyter-widgets/base",
            "_model_module_version": "1.2.0",
            "_model_name": "LayoutModel",
            "_view_count": null,
            "_view_module": "@jupyter-widgets/base",
            "_view_module_version": "1.2.0",
            "_view_name": "LayoutView",
            "align_content": null,
            "align_items": null,
            "align_self": null,
            "border": null,
            "bottom": null,
            "display": null,
            "flex": null,
            "flex_flow": null,
            "grid_area": null,
            "grid_auto_columns": null,
            "grid_auto_flow": null,
            "grid_auto_rows": null,
            "grid_column": null,
            "grid_gap": null,
            "grid_row": null,
            "grid_template_areas": null,
            "grid_template_columns": null,
            "grid_template_rows": null,
            "height": null,
            "justify_content": null,
            "justify_items": null,
            "left": null,
            "margin": null,
            "max_height": null,
            "max_width": null,
            "min_height": null,
            "min_width": null,
            "object_fit": null,
            "object_position": null,
            "order": null,
            "overflow": null,
            "overflow_x": null,
            "overflow_y": null,
            "padding": null,
            "right": null,
            "top": null,
            "visibility": null,
            "width": null
          }
        },
        "c6ce663751d04d49b61183b3f18efa7b": {
          "model_module": "@jupyter-widgets/base",
          "model_name": "LayoutModel",
          "model_module_version": "1.2.0",
          "state": {
            "_model_module": "@jupyter-widgets/base",
            "_model_module_version": "1.2.0",
            "_model_name": "LayoutModel",
            "_view_count": null,
            "_view_module": "@jupyter-widgets/base",
            "_view_module_version": "1.2.0",
            "_view_name": "LayoutView",
            "align_content": null,
            "align_items": null,
            "align_self": null,
            "border": null,
            "bottom": null,
            "display": null,
            "flex": null,
            "flex_flow": null,
            "grid_area": null,
            "grid_auto_columns": null,
            "grid_auto_flow": null,
            "grid_auto_rows": null,
            "grid_column": null,
            "grid_gap": null,
            "grid_row": null,
            "grid_template_areas": null,
            "grid_template_columns": null,
            "grid_template_rows": null,
            "height": null,
            "justify_content": null,
            "justify_items": null,
            "left": null,
            "margin": null,
            "max_height": null,
            "max_width": null,
            "min_height": null,
            "min_width": null,
            "object_fit": null,
            "object_position": null,
            "order": null,
            "overflow": null,
            "overflow_x": null,
            "overflow_y": null,
            "padding": null,
            "right": null,
            "top": null,
            "visibility": null,
            "width": null
          }
        },
        "3c808b99d4464ceb967cc16b8ce5944a": {
          "model_module": "@jupyter-widgets/controls",
          "model_name": "DescriptionStyleModel",
          "model_module_version": "1.5.0",
          "state": {
            "_model_module": "@jupyter-widgets/controls",
            "_model_module_version": "1.5.0",
            "_model_name": "DescriptionStyleModel",
            "_view_count": null,
            "_view_module": "@jupyter-widgets/base",
            "_view_module_version": "1.2.0",
            "_view_name": "StyleView",
            "description_width": ""
          }
        },
        "4d3e066abd0b45609f00c8a8b80a277c": {
          "model_module": "@jupyter-widgets/base",
          "model_name": "LayoutModel",
          "model_module_version": "1.2.0",
          "state": {
            "_model_module": "@jupyter-widgets/base",
            "_model_module_version": "1.2.0",
            "_model_name": "LayoutModel",
            "_view_count": null,
            "_view_module": "@jupyter-widgets/base",
            "_view_module_version": "1.2.0",
            "_view_name": "LayoutView",
            "align_content": null,
            "align_items": null,
            "align_self": null,
            "border": null,
            "bottom": null,
            "display": null,
            "flex": null,
            "flex_flow": null,
            "grid_area": null,
            "grid_auto_columns": null,
            "grid_auto_flow": null,
            "grid_auto_rows": null,
            "grid_column": null,
            "grid_gap": null,
            "grid_row": null,
            "grid_template_areas": null,
            "grid_template_columns": null,
            "grid_template_rows": null,
            "height": null,
            "justify_content": null,
            "justify_items": null,
            "left": null,
            "margin": null,
            "max_height": null,
            "max_width": null,
            "min_height": null,
            "min_width": null,
            "object_fit": null,
            "object_position": null,
            "order": null,
            "overflow": null,
            "overflow_x": null,
            "overflow_y": null,
            "padding": null,
            "right": null,
            "top": null,
            "visibility": null,
            "width": null
          }
        },
        "0343fd2fa016443998028847ddb0acd0": {
          "model_module": "@jupyter-widgets/controls",
          "model_name": "ProgressStyleModel",
          "model_module_version": "1.5.0",
          "state": {
            "_model_module": "@jupyter-widgets/controls",
            "_model_module_version": "1.5.0",
            "_model_name": "ProgressStyleModel",
            "_view_count": null,
            "_view_module": "@jupyter-widgets/base",
            "_view_module_version": "1.2.0",
            "_view_name": "StyleView",
            "bar_color": null,
            "description_width": ""
          }
        },
        "0f0482e0208446b1810ac6aa55a221e6": {
          "model_module": "@jupyter-widgets/base",
          "model_name": "LayoutModel",
          "model_module_version": "1.2.0",
          "state": {
            "_model_module": "@jupyter-widgets/base",
            "_model_module_version": "1.2.0",
            "_model_name": "LayoutModel",
            "_view_count": null,
            "_view_module": "@jupyter-widgets/base",
            "_view_module_version": "1.2.0",
            "_view_name": "LayoutView",
            "align_content": null,
            "align_items": null,
            "align_self": null,
            "border": null,
            "bottom": null,
            "display": null,
            "flex": null,
            "flex_flow": null,
            "grid_area": null,
            "grid_auto_columns": null,
            "grid_auto_flow": null,
            "grid_auto_rows": null,
            "grid_column": null,
            "grid_gap": null,
            "grid_row": null,
            "grid_template_areas": null,
            "grid_template_columns": null,
            "grid_template_rows": null,
            "height": null,
            "justify_content": null,
            "justify_items": null,
            "left": null,
            "margin": null,
            "max_height": null,
            "max_width": null,
            "min_height": null,
            "min_width": null,
            "object_fit": null,
            "object_position": null,
            "order": null,
            "overflow": null,
            "overflow_x": null,
            "overflow_y": null,
            "padding": null,
            "right": null,
            "top": null,
            "visibility": null,
            "width": null
          }
        },
        "cda386bbe1d8462e803a15e9662e3f50": {
          "model_module": "@jupyter-widgets/controls",
          "model_name": "DescriptionStyleModel",
          "model_module_version": "1.5.0",
          "state": {
            "_model_module": "@jupyter-widgets/controls",
            "_model_module_version": "1.5.0",
            "_model_name": "DescriptionStyleModel",
            "_view_count": null,
            "_view_module": "@jupyter-widgets/base",
            "_view_module_version": "1.2.0",
            "_view_name": "StyleView",
            "description_width": ""
          }
        },
        "7cfb485534744e9fb4f2523fe27fe0e6": {
          "model_module": "@jupyter-widgets/controls",
          "model_name": "HBoxModel",
          "model_module_version": "1.5.0",
          "state": {
            "_dom_classes": [],
            "_model_module": "@jupyter-widgets/controls",
            "_model_module_version": "1.5.0",
            "_model_name": "HBoxModel",
            "_view_count": null,
            "_view_module": "@jupyter-widgets/controls",
            "_view_module_version": "1.5.0",
            "_view_name": "HBoxView",
            "box_style": "",
            "children": [
              "IPY_MODEL_0f8889ef3e2c446b80c2ef28a2c969f1",
              "IPY_MODEL_e41a63dd97784db4aedb04d5ce3eaa60",
              "IPY_MODEL_cddc36df719242ca8f6d4604cbe034a1"
            ],
            "layout": "IPY_MODEL_453131b7f0544908ac1bcf24041bfcac"
          }
        },
        "0f8889ef3e2c446b80c2ef28a2c969f1": {
          "model_module": "@jupyter-widgets/controls",
          "model_name": "HTMLModel",
          "model_module_version": "1.5.0",
          "state": {
            "_dom_classes": [],
            "_model_module": "@jupyter-widgets/controls",
            "_model_module_version": "1.5.0",
            "_model_name": "HTMLModel",
            "_view_count": null,
            "_view_module": "@jupyter-widgets/controls",
            "_view_module_version": "1.5.0",
            "_view_name": "HTMLView",
            "description": "",
            "description_tooltip": null,
            "layout": "IPY_MODEL_e2692461a0cd4f408debd15ac35379d6",
            "placeholder": "​",
            "style": "IPY_MODEL_bf2c0702f6024a13bb1ed83a50a108fe",
            "value": "vocab.json: 100%"
          }
        },
        "e41a63dd97784db4aedb04d5ce3eaa60": {
          "model_module": "@jupyter-widgets/controls",
          "model_name": "FloatProgressModel",
          "model_module_version": "1.5.0",
          "state": {
            "_dom_classes": [],
            "_model_module": "@jupyter-widgets/controls",
            "_model_module_version": "1.5.0",
            "_model_name": "FloatProgressModel",
            "_view_count": null,
            "_view_module": "@jupyter-widgets/controls",
            "_view_module_version": "1.5.0",
            "_view_name": "ProgressView",
            "bar_style": "success",
            "description": "",
            "description_tooltip": null,
            "layout": "IPY_MODEL_6bccfc0f3a394a1697bc29e967979afd",
            "max": 898822,
            "min": 0,
            "orientation": "horizontal",
            "style": "IPY_MODEL_47095ff7b2f740fea4e42a6395b3384e",
            "value": 898822
          }
        },
        "cddc36df719242ca8f6d4604cbe034a1": {
          "model_module": "@jupyter-widgets/controls",
          "model_name": "HTMLModel",
          "model_module_version": "1.5.0",
          "state": {
            "_dom_classes": [],
            "_model_module": "@jupyter-widgets/controls",
            "_model_module_version": "1.5.0",
            "_model_name": "HTMLModel",
            "_view_count": null,
            "_view_module": "@jupyter-widgets/controls",
            "_view_module_version": "1.5.0",
            "_view_name": "HTMLView",
            "description": "",
            "description_tooltip": null,
            "layout": "IPY_MODEL_f355b52acdd34ab183853a34327ea64d",
            "placeholder": "​",
            "style": "IPY_MODEL_c98c3a1c82bc41fa93ab3a0d5d7b6bd7",
            "value": " 899k/899k [00:00&lt;00:00, 7.64MB/s]"
          }
        },
        "453131b7f0544908ac1bcf24041bfcac": {
          "model_module": "@jupyter-widgets/base",
          "model_name": "LayoutModel",
          "model_module_version": "1.2.0",
          "state": {
            "_model_module": "@jupyter-widgets/base",
            "_model_module_version": "1.2.0",
            "_model_name": "LayoutModel",
            "_view_count": null,
            "_view_module": "@jupyter-widgets/base",
            "_view_module_version": "1.2.0",
            "_view_name": "LayoutView",
            "align_content": null,
            "align_items": null,
            "align_self": null,
            "border": null,
            "bottom": null,
            "display": null,
            "flex": null,
            "flex_flow": null,
            "grid_area": null,
            "grid_auto_columns": null,
            "grid_auto_flow": null,
            "grid_auto_rows": null,
            "grid_column": null,
            "grid_gap": null,
            "grid_row": null,
            "grid_template_areas": null,
            "grid_template_columns": null,
            "grid_template_rows": null,
            "height": null,
            "justify_content": null,
            "justify_items": null,
            "left": null,
            "margin": null,
            "max_height": null,
            "max_width": null,
            "min_height": null,
            "min_width": null,
            "object_fit": null,
            "object_position": null,
            "order": null,
            "overflow": null,
            "overflow_x": null,
            "overflow_y": null,
            "padding": null,
            "right": null,
            "top": null,
            "visibility": null,
            "width": null
          }
        },
        "e2692461a0cd4f408debd15ac35379d6": {
          "model_module": "@jupyter-widgets/base",
          "model_name": "LayoutModel",
          "model_module_version": "1.2.0",
          "state": {
            "_model_module": "@jupyter-widgets/base",
            "_model_module_version": "1.2.0",
            "_model_name": "LayoutModel",
            "_view_count": null,
            "_view_module": "@jupyter-widgets/base",
            "_view_module_version": "1.2.0",
            "_view_name": "LayoutView",
            "align_content": null,
            "align_items": null,
            "align_self": null,
            "border": null,
            "bottom": null,
            "display": null,
            "flex": null,
            "flex_flow": null,
            "grid_area": null,
            "grid_auto_columns": null,
            "grid_auto_flow": null,
            "grid_auto_rows": null,
            "grid_column": null,
            "grid_gap": null,
            "grid_row": null,
            "grid_template_areas": null,
            "grid_template_columns": null,
            "grid_template_rows": null,
            "height": null,
            "justify_content": null,
            "justify_items": null,
            "left": null,
            "margin": null,
            "max_height": null,
            "max_width": null,
            "min_height": null,
            "min_width": null,
            "object_fit": null,
            "object_position": null,
            "order": null,
            "overflow": null,
            "overflow_x": null,
            "overflow_y": null,
            "padding": null,
            "right": null,
            "top": null,
            "visibility": null,
            "width": null
          }
        },
        "bf2c0702f6024a13bb1ed83a50a108fe": {
          "model_module": "@jupyter-widgets/controls",
          "model_name": "DescriptionStyleModel",
          "model_module_version": "1.5.0",
          "state": {
            "_model_module": "@jupyter-widgets/controls",
            "_model_module_version": "1.5.0",
            "_model_name": "DescriptionStyleModel",
            "_view_count": null,
            "_view_module": "@jupyter-widgets/base",
            "_view_module_version": "1.2.0",
            "_view_name": "StyleView",
            "description_width": ""
          }
        },
        "6bccfc0f3a394a1697bc29e967979afd": {
          "model_module": "@jupyter-widgets/base",
          "model_name": "LayoutModel",
          "model_module_version": "1.2.0",
          "state": {
            "_model_module": "@jupyter-widgets/base",
            "_model_module_version": "1.2.0",
            "_model_name": "LayoutModel",
            "_view_count": null,
            "_view_module": "@jupyter-widgets/base",
            "_view_module_version": "1.2.0",
            "_view_name": "LayoutView",
            "align_content": null,
            "align_items": null,
            "align_self": null,
            "border": null,
            "bottom": null,
            "display": null,
            "flex": null,
            "flex_flow": null,
            "grid_area": null,
            "grid_auto_columns": null,
            "grid_auto_flow": null,
            "grid_auto_rows": null,
            "grid_column": null,
            "grid_gap": null,
            "grid_row": null,
            "grid_template_areas": null,
            "grid_template_columns": null,
            "grid_template_rows": null,
            "height": null,
            "justify_content": null,
            "justify_items": null,
            "left": null,
            "margin": null,
            "max_height": null,
            "max_width": null,
            "min_height": null,
            "min_width": null,
            "object_fit": null,
            "object_position": null,
            "order": null,
            "overflow": null,
            "overflow_x": null,
            "overflow_y": null,
            "padding": null,
            "right": null,
            "top": null,
            "visibility": null,
            "width": null
          }
        },
        "47095ff7b2f740fea4e42a6395b3384e": {
          "model_module": "@jupyter-widgets/controls",
          "model_name": "ProgressStyleModel",
          "model_module_version": "1.5.0",
          "state": {
            "_model_module": "@jupyter-widgets/controls",
            "_model_module_version": "1.5.0",
            "_model_name": "ProgressStyleModel",
            "_view_count": null,
            "_view_module": "@jupyter-widgets/base",
            "_view_module_version": "1.2.0",
            "_view_name": "StyleView",
            "bar_color": null,
            "description_width": ""
          }
        },
        "f355b52acdd34ab183853a34327ea64d": {
          "model_module": "@jupyter-widgets/base",
          "model_name": "LayoutModel",
          "model_module_version": "1.2.0",
          "state": {
            "_model_module": "@jupyter-widgets/base",
            "_model_module_version": "1.2.0",
            "_model_name": "LayoutModel",
            "_view_count": null,
            "_view_module": "@jupyter-widgets/base",
            "_view_module_version": "1.2.0",
            "_view_name": "LayoutView",
            "align_content": null,
            "align_items": null,
            "align_self": null,
            "border": null,
            "bottom": null,
            "display": null,
            "flex": null,
            "flex_flow": null,
            "grid_area": null,
            "grid_auto_columns": null,
            "grid_auto_flow": null,
            "grid_auto_rows": null,
            "grid_column": null,
            "grid_gap": null,
            "grid_row": null,
            "grid_template_areas": null,
            "grid_template_columns": null,
            "grid_template_rows": null,
            "height": null,
            "justify_content": null,
            "justify_items": null,
            "left": null,
            "margin": null,
            "max_height": null,
            "max_width": null,
            "min_height": null,
            "min_width": null,
            "object_fit": null,
            "object_position": null,
            "order": null,
            "overflow": null,
            "overflow_x": null,
            "overflow_y": null,
            "padding": null,
            "right": null,
            "top": null,
            "visibility": null,
            "width": null
          }
        },
        "c98c3a1c82bc41fa93ab3a0d5d7b6bd7": {
          "model_module": "@jupyter-widgets/controls",
          "model_name": "DescriptionStyleModel",
          "model_module_version": "1.5.0",
          "state": {
            "_model_module": "@jupyter-widgets/controls",
            "_model_module_version": "1.5.0",
            "_model_name": "DescriptionStyleModel",
            "_view_count": null,
            "_view_module": "@jupyter-widgets/base",
            "_view_module_version": "1.2.0",
            "_view_name": "StyleView",
            "description_width": ""
          }
        },
        "6d8a98e0b6f84af6866f97c705ee6f84": {
          "model_module": "@jupyter-widgets/controls",
          "model_name": "HBoxModel",
          "model_module_version": "1.5.0",
          "state": {
            "_dom_classes": [],
            "_model_module": "@jupyter-widgets/controls",
            "_model_module_version": "1.5.0",
            "_model_name": "HBoxModel",
            "_view_count": null,
            "_view_module": "@jupyter-widgets/controls",
            "_view_module_version": "1.5.0",
            "_view_name": "HBoxView",
            "box_style": "",
            "children": [
              "IPY_MODEL_dbea70f51d614d9ab215af01139b95ad",
              "IPY_MODEL_b9c4549526264d8896731133526c3725",
              "IPY_MODEL_8eb77eb3df0247da8e487e2e86d57aa1"
            ],
            "layout": "IPY_MODEL_679a1e6133744313821b67cdcee4eea4"
          }
        },
        "dbea70f51d614d9ab215af01139b95ad": {
          "model_module": "@jupyter-widgets/controls",
          "model_name": "HTMLModel",
          "model_module_version": "1.5.0",
          "state": {
            "_dom_classes": [],
            "_model_module": "@jupyter-widgets/controls",
            "_model_module_version": "1.5.0",
            "_model_name": "HTMLModel",
            "_view_count": null,
            "_view_module": "@jupyter-widgets/controls",
            "_view_module_version": "1.5.0",
            "_view_name": "HTMLView",
            "description": "",
            "description_tooltip": null,
            "layout": "IPY_MODEL_5ffa43afdca04e1dbb4442b61921df74",
            "placeholder": "​",
            "style": "IPY_MODEL_1932d834b77c4dc8b6560e7b2a00da39",
            "value": "merges.txt: 100%"
          }
        },
        "b9c4549526264d8896731133526c3725": {
          "model_module": "@jupyter-widgets/controls",
          "model_name": "FloatProgressModel",
          "model_module_version": "1.5.0",
          "state": {
            "_dom_classes": [],
            "_model_module": "@jupyter-widgets/controls",
            "_model_module_version": "1.5.0",
            "_model_name": "FloatProgressModel",
            "_view_count": null,
            "_view_module": "@jupyter-widgets/controls",
            "_view_module_version": "1.5.0",
            "_view_name": "ProgressView",
            "bar_style": "success",
            "description": "",
            "description_tooltip": null,
            "layout": "IPY_MODEL_f78b8620f10745dcb5a57b16be2628a9",
            "max": 456318,
            "min": 0,
            "orientation": "horizontal",
            "style": "IPY_MODEL_90ebf6210bc841049c4a123adc4394e6",
            "value": 456318
          }
        },
        "8eb77eb3df0247da8e487e2e86d57aa1": {
          "model_module": "@jupyter-widgets/controls",
          "model_name": "HTMLModel",
          "model_module_version": "1.5.0",
          "state": {
            "_dom_classes": [],
            "_model_module": "@jupyter-widgets/controls",
            "_model_module_version": "1.5.0",
            "_model_name": "HTMLModel",
            "_view_count": null,
            "_view_module": "@jupyter-widgets/controls",
            "_view_module_version": "1.5.0",
            "_view_name": "HTMLView",
            "description": "",
            "description_tooltip": null,
            "layout": "IPY_MODEL_2a88bc753e014adaaa60175dbe24994e",
            "placeholder": "​",
            "style": "IPY_MODEL_93027c522c13497c853a5e5dc666ff9d",
            "value": " 456k/456k [00:00&lt;00:00, 17.8MB/s]"
          }
        },
        "679a1e6133744313821b67cdcee4eea4": {
          "model_module": "@jupyter-widgets/base",
          "model_name": "LayoutModel",
          "model_module_version": "1.2.0",
          "state": {
            "_model_module": "@jupyter-widgets/base",
            "_model_module_version": "1.2.0",
            "_model_name": "LayoutModel",
            "_view_count": null,
            "_view_module": "@jupyter-widgets/base",
            "_view_module_version": "1.2.0",
            "_view_name": "LayoutView",
            "align_content": null,
            "align_items": null,
            "align_self": null,
            "border": null,
            "bottom": null,
            "display": null,
            "flex": null,
            "flex_flow": null,
            "grid_area": null,
            "grid_auto_columns": null,
            "grid_auto_flow": null,
            "grid_auto_rows": null,
            "grid_column": null,
            "grid_gap": null,
            "grid_row": null,
            "grid_template_areas": null,
            "grid_template_columns": null,
            "grid_template_rows": null,
            "height": null,
            "justify_content": null,
            "justify_items": null,
            "left": null,
            "margin": null,
            "max_height": null,
            "max_width": null,
            "min_height": null,
            "min_width": null,
            "object_fit": null,
            "object_position": null,
            "order": null,
            "overflow": null,
            "overflow_x": null,
            "overflow_y": null,
            "padding": null,
            "right": null,
            "top": null,
            "visibility": null,
            "width": null
          }
        },
        "5ffa43afdca04e1dbb4442b61921df74": {
          "model_module": "@jupyter-widgets/base",
          "model_name": "LayoutModel",
          "model_module_version": "1.2.0",
          "state": {
            "_model_module": "@jupyter-widgets/base",
            "_model_module_version": "1.2.0",
            "_model_name": "LayoutModel",
            "_view_count": null,
            "_view_module": "@jupyter-widgets/base",
            "_view_module_version": "1.2.0",
            "_view_name": "LayoutView",
            "align_content": null,
            "align_items": null,
            "align_self": null,
            "border": null,
            "bottom": null,
            "display": null,
            "flex": null,
            "flex_flow": null,
            "grid_area": null,
            "grid_auto_columns": null,
            "grid_auto_flow": null,
            "grid_auto_rows": null,
            "grid_column": null,
            "grid_gap": null,
            "grid_row": null,
            "grid_template_areas": null,
            "grid_template_columns": null,
            "grid_template_rows": null,
            "height": null,
            "justify_content": null,
            "justify_items": null,
            "left": null,
            "margin": null,
            "max_height": null,
            "max_width": null,
            "min_height": null,
            "min_width": null,
            "object_fit": null,
            "object_position": null,
            "order": null,
            "overflow": null,
            "overflow_x": null,
            "overflow_y": null,
            "padding": null,
            "right": null,
            "top": null,
            "visibility": null,
            "width": null
          }
        },
        "1932d834b77c4dc8b6560e7b2a00da39": {
          "model_module": "@jupyter-widgets/controls",
          "model_name": "DescriptionStyleModel",
          "model_module_version": "1.5.0",
          "state": {
            "_model_module": "@jupyter-widgets/controls",
            "_model_module_version": "1.5.0",
            "_model_name": "DescriptionStyleModel",
            "_view_count": null,
            "_view_module": "@jupyter-widgets/base",
            "_view_module_version": "1.2.0",
            "_view_name": "StyleView",
            "description_width": ""
          }
        },
        "f78b8620f10745dcb5a57b16be2628a9": {
          "model_module": "@jupyter-widgets/base",
          "model_name": "LayoutModel",
          "model_module_version": "1.2.0",
          "state": {
            "_model_module": "@jupyter-widgets/base",
            "_model_module_version": "1.2.0",
            "_model_name": "LayoutModel",
            "_view_count": null,
            "_view_module": "@jupyter-widgets/base",
            "_view_module_version": "1.2.0",
            "_view_name": "LayoutView",
            "align_content": null,
            "align_items": null,
            "align_self": null,
            "border": null,
            "bottom": null,
            "display": null,
            "flex": null,
            "flex_flow": null,
            "grid_area": null,
            "grid_auto_columns": null,
            "grid_auto_flow": null,
            "grid_auto_rows": null,
            "grid_column": null,
            "grid_gap": null,
            "grid_row": null,
            "grid_template_areas": null,
            "grid_template_columns": null,
            "grid_template_rows": null,
            "height": null,
            "justify_content": null,
            "justify_items": null,
            "left": null,
            "margin": null,
            "max_height": null,
            "max_width": null,
            "min_height": null,
            "min_width": null,
            "object_fit": null,
            "object_position": null,
            "order": null,
            "overflow": null,
            "overflow_x": null,
            "overflow_y": null,
            "padding": null,
            "right": null,
            "top": null,
            "visibility": null,
            "width": null
          }
        },
        "90ebf6210bc841049c4a123adc4394e6": {
          "model_module": "@jupyter-widgets/controls",
          "model_name": "ProgressStyleModel",
          "model_module_version": "1.5.0",
          "state": {
            "_model_module": "@jupyter-widgets/controls",
            "_model_module_version": "1.5.0",
            "_model_name": "ProgressStyleModel",
            "_view_count": null,
            "_view_module": "@jupyter-widgets/base",
            "_view_module_version": "1.2.0",
            "_view_name": "StyleView",
            "bar_color": null,
            "description_width": ""
          }
        },
        "2a88bc753e014adaaa60175dbe24994e": {
          "model_module": "@jupyter-widgets/base",
          "model_name": "LayoutModel",
          "model_module_version": "1.2.0",
          "state": {
            "_model_module": "@jupyter-widgets/base",
            "_model_module_version": "1.2.0",
            "_model_name": "LayoutModel",
            "_view_count": null,
            "_view_module": "@jupyter-widgets/base",
            "_view_module_version": "1.2.0",
            "_view_name": "LayoutView",
            "align_content": null,
            "align_items": null,
            "align_self": null,
            "border": null,
            "bottom": null,
            "display": null,
            "flex": null,
            "flex_flow": null,
            "grid_area": null,
            "grid_auto_columns": null,
            "grid_auto_flow": null,
            "grid_auto_rows": null,
            "grid_column": null,
            "grid_gap": null,
            "grid_row": null,
            "grid_template_areas": null,
            "grid_template_columns": null,
            "grid_template_rows": null,
            "height": null,
            "justify_content": null,
            "justify_items": null,
            "left": null,
            "margin": null,
            "max_height": null,
            "max_width": null,
            "min_height": null,
            "min_width": null,
            "object_fit": null,
            "object_position": null,
            "order": null,
            "overflow": null,
            "overflow_x": null,
            "overflow_y": null,
            "padding": null,
            "right": null,
            "top": null,
            "visibility": null,
            "width": null
          }
        },
        "93027c522c13497c853a5e5dc666ff9d": {
          "model_module": "@jupyter-widgets/controls",
          "model_name": "DescriptionStyleModel",
          "model_module_version": "1.5.0",
          "state": {
            "_model_module": "@jupyter-widgets/controls",
            "_model_module_version": "1.5.0",
            "_model_name": "DescriptionStyleModel",
            "_view_count": null,
            "_view_module": "@jupyter-widgets/base",
            "_view_module_version": "1.2.0",
            "_view_name": "StyleView",
            "description_width": ""
          }
        },
        "3dd403fa0cdc4a9cbee31d01ae41c20d": {
          "model_module": "@jupyter-widgets/controls",
          "model_name": "HBoxModel",
          "model_module_version": "1.5.0",
          "state": {
            "_dom_classes": [],
            "_model_module": "@jupyter-widgets/controls",
            "_model_module_version": "1.5.0",
            "_model_name": "HBoxModel",
            "_view_count": null,
            "_view_module": "@jupyter-widgets/controls",
            "_view_module_version": "1.5.0",
            "_view_name": "HBoxView",
            "box_style": "",
            "children": [
              "IPY_MODEL_8fcd998f0367477e82e26e09ade25248",
              "IPY_MODEL_55c1c2c582d9482a9531f04aaed4dc91",
              "IPY_MODEL_d4ed3a55560441d2a5dec19cbc808ad2"
            ],
            "layout": "IPY_MODEL_39e0260b768b48a3b82dc45a034fb5a0"
          }
        },
        "8fcd998f0367477e82e26e09ade25248": {
          "model_module": "@jupyter-widgets/controls",
          "model_name": "HTMLModel",
          "model_module_version": "1.5.0",
          "state": {
            "_dom_classes": [],
            "_model_module": "@jupyter-widgets/controls",
            "_model_module_version": "1.5.0",
            "_model_name": "HTMLModel",
            "_view_count": null,
            "_view_module": "@jupyter-widgets/controls",
            "_view_module_version": "1.5.0",
            "_view_name": "HTMLView",
            "description": "",
            "description_tooltip": null,
            "layout": "IPY_MODEL_918cbd8f6bba49368e0c213830371874",
            "placeholder": "​",
            "style": "IPY_MODEL_0be4a7f05ea84c418d930a975afdbc2e",
            "value": "tokenizer.json: 100%"
          }
        },
        "55c1c2c582d9482a9531f04aaed4dc91": {
          "model_module": "@jupyter-widgets/controls",
          "model_name": "FloatProgressModel",
          "model_module_version": "1.5.0",
          "state": {
            "_dom_classes": [],
            "_model_module": "@jupyter-widgets/controls",
            "_model_module_version": "1.5.0",
            "_model_name": "FloatProgressModel",
            "_view_count": null,
            "_view_module": "@jupyter-widgets/controls",
            "_view_module_version": "1.5.0",
            "_view_name": "ProgressView",
            "bar_style": "success",
            "description": "",
            "description_tooltip": null,
            "layout": "IPY_MODEL_49f8564298b044ed95727cfefde6a7bb",
            "max": 1355863,
            "min": 0,
            "orientation": "horizontal",
            "style": "IPY_MODEL_98f7db70e71b4f768f8049f57ab93d0a",
            "value": 1355863
          }
        },
        "d4ed3a55560441d2a5dec19cbc808ad2": {
          "model_module": "@jupyter-widgets/controls",
          "model_name": "HTMLModel",
          "model_module_version": "1.5.0",
          "state": {
            "_dom_classes": [],
            "_model_module": "@jupyter-widgets/controls",
            "_model_module_version": "1.5.0",
            "_model_name": "HTMLModel",
            "_view_count": null,
            "_view_module": "@jupyter-widgets/controls",
            "_view_module_version": "1.5.0",
            "_view_name": "HTMLView",
            "description": "",
            "description_tooltip": null,
            "layout": "IPY_MODEL_da0f9443123044a29b7262405360884a",
            "placeholder": "​",
            "style": "IPY_MODEL_5440c5a094a84c198ea760c3e6831f67",
            "value": " 1.36M/1.36M [00:00&lt;00:00, 24.8MB/s]"
          }
        },
        "39e0260b768b48a3b82dc45a034fb5a0": {
          "model_module": "@jupyter-widgets/base",
          "model_name": "LayoutModel",
          "model_module_version": "1.2.0",
          "state": {
            "_model_module": "@jupyter-widgets/base",
            "_model_module_version": "1.2.0",
            "_model_name": "LayoutModel",
            "_view_count": null,
            "_view_module": "@jupyter-widgets/base",
            "_view_module_version": "1.2.0",
            "_view_name": "LayoutView",
            "align_content": null,
            "align_items": null,
            "align_self": null,
            "border": null,
            "bottom": null,
            "display": null,
            "flex": null,
            "flex_flow": null,
            "grid_area": null,
            "grid_auto_columns": null,
            "grid_auto_flow": null,
            "grid_auto_rows": null,
            "grid_column": null,
            "grid_gap": null,
            "grid_row": null,
            "grid_template_areas": null,
            "grid_template_columns": null,
            "grid_template_rows": null,
            "height": null,
            "justify_content": null,
            "justify_items": null,
            "left": null,
            "margin": null,
            "max_height": null,
            "max_width": null,
            "min_height": null,
            "min_width": null,
            "object_fit": null,
            "object_position": null,
            "order": null,
            "overflow": null,
            "overflow_x": null,
            "overflow_y": null,
            "padding": null,
            "right": null,
            "top": null,
            "visibility": null,
            "width": null
          }
        },
        "918cbd8f6bba49368e0c213830371874": {
          "model_module": "@jupyter-widgets/base",
          "model_name": "LayoutModel",
          "model_module_version": "1.2.0",
          "state": {
            "_model_module": "@jupyter-widgets/base",
            "_model_module_version": "1.2.0",
            "_model_name": "LayoutModel",
            "_view_count": null,
            "_view_module": "@jupyter-widgets/base",
            "_view_module_version": "1.2.0",
            "_view_name": "LayoutView",
            "align_content": null,
            "align_items": null,
            "align_self": null,
            "border": null,
            "bottom": null,
            "display": null,
            "flex": null,
            "flex_flow": null,
            "grid_area": null,
            "grid_auto_columns": null,
            "grid_auto_flow": null,
            "grid_auto_rows": null,
            "grid_column": null,
            "grid_gap": null,
            "grid_row": null,
            "grid_template_areas": null,
            "grid_template_columns": null,
            "grid_template_rows": null,
            "height": null,
            "justify_content": null,
            "justify_items": null,
            "left": null,
            "margin": null,
            "max_height": null,
            "max_width": null,
            "min_height": null,
            "min_width": null,
            "object_fit": null,
            "object_position": null,
            "order": null,
            "overflow": null,
            "overflow_x": null,
            "overflow_y": null,
            "padding": null,
            "right": null,
            "top": null,
            "visibility": null,
            "width": null
          }
        },
        "0be4a7f05ea84c418d930a975afdbc2e": {
          "model_module": "@jupyter-widgets/controls",
          "model_name": "DescriptionStyleModel",
          "model_module_version": "1.5.0",
          "state": {
            "_model_module": "@jupyter-widgets/controls",
            "_model_module_version": "1.5.0",
            "_model_name": "DescriptionStyleModel",
            "_view_count": null,
            "_view_module": "@jupyter-widgets/base",
            "_view_module_version": "1.2.0",
            "_view_name": "StyleView",
            "description_width": ""
          }
        },
        "49f8564298b044ed95727cfefde6a7bb": {
          "model_module": "@jupyter-widgets/base",
          "model_name": "LayoutModel",
          "model_module_version": "1.2.0",
          "state": {
            "_model_module": "@jupyter-widgets/base",
            "_model_module_version": "1.2.0",
            "_model_name": "LayoutModel",
            "_view_count": null,
            "_view_module": "@jupyter-widgets/base",
            "_view_module_version": "1.2.0",
            "_view_name": "LayoutView",
            "align_content": null,
            "align_items": null,
            "align_self": null,
            "border": null,
            "bottom": null,
            "display": null,
            "flex": null,
            "flex_flow": null,
            "grid_area": null,
            "grid_auto_columns": null,
            "grid_auto_flow": null,
            "grid_auto_rows": null,
            "grid_column": null,
            "grid_gap": null,
            "grid_row": null,
            "grid_template_areas": null,
            "grid_template_columns": null,
            "grid_template_rows": null,
            "height": null,
            "justify_content": null,
            "justify_items": null,
            "left": null,
            "margin": null,
            "max_height": null,
            "max_width": null,
            "min_height": null,
            "min_width": null,
            "object_fit": null,
            "object_position": null,
            "order": null,
            "overflow": null,
            "overflow_x": null,
            "overflow_y": null,
            "padding": null,
            "right": null,
            "top": null,
            "visibility": null,
            "width": null
          }
        },
        "98f7db70e71b4f768f8049f57ab93d0a": {
          "model_module": "@jupyter-widgets/controls",
          "model_name": "ProgressStyleModel",
          "model_module_version": "1.5.0",
          "state": {
            "_model_module": "@jupyter-widgets/controls",
            "_model_module_version": "1.5.0",
            "_model_name": "ProgressStyleModel",
            "_view_count": null,
            "_view_module": "@jupyter-widgets/base",
            "_view_module_version": "1.2.0",
            "_view_name": "StyleView",
            "bar_color": null,
            "description_width": ""
          }
        },
        "da0f9443123044a29b7262405360884a": {
          "model_module": "@jupyter-widgets/base",
          "model_name": "LayoutModel",
          "model_module_version": "1.2.0",
          "state": {
            "_model_module": "@jupyter-widgets/base",
            "_model_module_version": "1.2.0",
            "_model_name": "LayoutModel",
            "_view_count": null,
            "_view_module": "@jupyter-widgets/base",
            "_view_module_version": "1.2.0",
            "_view_name": "LayoutView",
            "align_content": null,
            "align_items": null,
            "align_self": null,
            "border": null,
            "bottom": null,
            "display": null,
            "flex": null,
            "flex_flow": null,
            "grid_area": null,
            "grid_auto_columns": null,
            "grid_auto_flow": null,
            "grid_auto_rows": null,
            "grid_column": null,
            "grid_gap": null,
            "grid_row": null,
            "grid_template_areas": null,
            "grid_template_columns": null,
            "grid_template_rows": null,
            "height": null,
            "justify_content": null,
            "justify_items": null,
            "left": null,
            "margin": null,
            "max_height": null,
            "max_width": null,
            "min_height": null,
            "min_width": null,
            "object_fit": null,
            "object_position": null,
            "order": null,
            "overflow": null,
            "overflow_x": null,
            "overflow_y": null,
            "padding": null,
            "right": null,
            "top": null,
            "visibility": null,
            "width": null
          }
        },
        "5440c5a094a84c198ea760c3e6831f67": {
          "model_module": "@jupyter-widgets/controls",
          "model_name": "DescriptionStyleModel",
          "model_module_version": "1.5.0",
          "state": {
            "_model_module": "@jupyter-widgets/controls",
            "_model_module_version": "1.5.0",
            "_model_name": "DescriptionStyleModel",
            "_view_count": null,
            "_view_module": "@jupyter-widgets/base",
            "_view_module_version": "1.2.0",
            "_view_name": "StyleView",
            "description_width": ""
          }
        },
        "bb571073efe947f2a3f91a0103c0964d": {
          "model_module": "@jupyter-widgets/controls",
          "model_name": "HBoxModel",
          "model_module_version": "1.5.0",
          "state": {
            "_dom_classes": [],
            "_model_module": "@jupyter-widgets/controls",
            "_model_module_version": "1.5.0",
            "_model_name": "HBoxModel",
            "_view_count": null,
            "_view_module": "@jupyter-widgets/controls",
            "_view_module_version": "1.5.0",
            "_view_name": "HBoxView",
            "box_style": "",
            "children": [
              "IPY_MODEL_62c21ea40ddc48598e84f86c825e1b86",
              "IPY_MODEL_25c12f5eea614b618d3d85844ff73b02",
              "IPY_MODEL_be66dcc6670e4292ac8ebf41b7c37191"
            ],
            "layout": "IPY_MODEL_656fbf358e634d11917f1f485f85da7d"
          }
        },
        "62c21ea40ddc48598e84f86c825e1b86": {
          "model_module": "@jupyter-widgets/controls",
          "model_name": "HTMLModel",
          "model_module_version": "1.5.0",
          "state": {
            "_dom_classes": [],
            "_model_module": "@jupyter-widgets/controls",
            "_model_module_version": "1.5.0",
            "_model_name": "HTMLModel",
            "_view_count": null,
            "_view_module": "@jupyter-widgets/controls",
            "_view_module_version": "1.5.0",
            "_view_name": "HTMLView",
            "description": "",
            "description_tooltip": null,
            "layout": "IPY_MODEL_cb59a0bd336a47e4bf74eed9150f7e4f",
            "placeholder": "​",
            "style": "IPY_MODEL_66a1d2c971ec4a72a8c5d5c0c8a063e4",
            "value": "config.json: 100%"
          }
        },
        "25c12f5eea614b618d3d85844ff73b02": {
          "model_module": "@jupyter-widgets/controls",
          "model_name": "FloatProgressModel",
          "model_module_version": "1.5.0",
          "state": {
            "_dom_classes": [],
            "_model_module": "@jupyter-widgets/controls",
            "_model_module_version": "1.5.0",
            "_model_name": "FloatProgressModel",
            "_view_count": null,
            "_view_module": "@jupyter-widgets/controls",
            "_view_module_version": "1.5.0",
            "_view_name": "ProgressView",
            "bar_style": "success",
            "description": "",
            "description_tooltip": null,
            "layout": "IPY_MODEL_74cd0cc50fbb43c09ccd8ac4d5fb57d2",
            "max": 817,
            "min": 0,
            "orientation": "horizontal",
            "style": "IPY_MODEL_86b715f55a6648959249c8bb888b1411",
            "value": 817
          }
        },
        "be66dcc6670e4292ac8ebf41b7c37191": {
          "model_module": "@jupyter-widgets/controls",
          "model_name": "HTMLModel",
          "model_module_version": "1.5.0",
          "state": {
            "_dom_classes": [],
            "_model_module": "@jupyter-widgets/controls",
            "_model_module_version": "1.5.0",
            "_model_name": "HTMLModel",
            "_view_count": null,
            "_view_module": "@jupyter-widgets/controls",
            "_view_module_version": "1.5.0",
            "_view_name": "HTMLView",
            "description": "",
            "description_tooltip": null,
            "layout": "IPY_MODEL_b3ba372fa9164dc8a5381b10e187083e",
            "placeholder": "​",
            "style": "IPY_MODEL_95c751dadae540bd88c0202cc9863528",
            "value": " 817/817 [00:00&lt;00:00, 40.0kB/s]"
          }
        },
        "656fbf358e634d11917f1f485f85da7d": {
          "model_module": "@jupyter-widgets/base",
          "model_name": "LayoutModel",
          "model_module_version": "1.2.0",
          "state": {
            "_model_module": "@jupyter-widgets/base",
            "_model_module_version": "1.2.0",
            "_model_name": "LayoutModel",
            "_view_count": null,
            "_view_module": "@jupyter-widgets/base",
            "_view_module_version": "1.2.0",
            "_view_name": "LayoutView",
            "align_content": null,
            "align_items": null,
            "align_self": null,
            "border": null,
            "bottom": null,
            "display": null,
            "flex": null,
            "flex_flow": null,
            "grid_area": null,
            "grid_auto_columns": null,
            "grid_auto_flow": null,
            "grid_auto_rows": null,
            "grid_column": null,
            "grid_gap": null,
            "grid_row": null,
            "grid_template_areas": null,
            "grid_template_columns": null,
            "grid_template_rows": null,
            "height": null,
            "justify_content": null,
            "justify_items": null,
            "left": null,
            "margin": null,
            "max_height": null,
            "max_width": null,
            "min_height": null,
            "min_width": null,
            "object_fit": null,
            "object_position": null,
            "order": null,
            "overflow": null,
            "overflow_x": null,
            "overflow_y": null,
            "padding": null,
            "right": null,
            "top": null,
            "visibility": null,
            "width": null
          }
        },
        "cb59a0bd336a47e4bf74eed9150f7e4f": {
          "model_module": "@jupyter-widgets/base",
          "model_name": "LayoutModel",
          "model_module_version": "1.2.0",
          "state": {
            "_model_module": "@jupyter-widgets/base",
            "_model_module_version": "1.2.0",
            "_model_name": "LayoutModel",
            "_view_count": null,
            "_view_module": "@jupyter-widgets/base",
            "_view_module_version": "1.2.0",
            "_view_name": "LayoutView",
            "align_content": null,
            "align_items": null,
            "align_self": null,
            "border": null,
            "bottom": null,
            "display": null,
            "flex": null,
            "flex_flow": null,
            "grid_area": null,
            "grid_auto_columns": null,
            "grid_auto_flow": null,
            "grid_auto_rows": null,
            "grid_column": null,
            "grid_gap": null,
            "grid_row": null,
            "grid_template_areas": null,
            "grid_template_columns": null,
            "grid_template_rows": null,
            "height": null,
            "justify_content": null,
            "justify_items": null,
            "left": null,
            "margin": null,
            "max_height": null,
            "max_width": null,
            "min_height": null,
            "min_width": null,
            "object_fit": null,
            "object_position": null,
            "order": null,
            "overflow": null,
            "overflow_x": null,
            "overflow_y": null,
            "padding": null,
            "right": null,
            "top": null,
            "visibility": null,
            "width": null
          }
        },
        "66a1d2c971ec4a72a8c5d5c0c8a063e4": {
          "model_module": "@jupyter-widgets/controls",
          "model_name": "DescriptionStyleModel",
          "model_module_version": "1.5.0",
          "state": {
            "_model_module": "@jupyter-widgets/controls",
            "_model_module_version": "1.5.0",
            "_model_name": "DescriptionStyleModel",
            "_view_count": null,
            "_view_module": "@jupyter-widgets/base",
            "_view_module_version": "1.2.0",
            "_view_name": "StyleView",
            "description_width": ""
          }
        },
        "74cd0cc50fbb43c09ccd8ac4d5fb57d2": {
          "model_module": "@jupyter-widgets/base",
          "model_name": "LayoutModel",
          "model_module_version": "1.2.0",
          "state": {
            "_model_module": "@jupyter-widgets/base",
            "_model_module_version": "1.2.0",
            "_model_name": "LayoutModel",
            "_view_count": null,
            "_view_module": "@jupyter-widgets/base",
            "_view_module_version": "1.2.0",
            "_view_name": "LayoutView",
            "align_content": null,
            "align_items": null,
            "align_self": null,
            "border": null,
            "bottom": null,
            "display": null,
            "flex": null,
            "flex_flow": null,
            "grid_area": null,
            "grid_auto_columns": null,
            "grid_auto_flow": null,
            "grid_auto_rows": null,
            "grid_column": null,
            "grid_gap": null,
            "grid_row": null,
            "grid_template_areas": null,
            "grid_template_columns": null,
            "grid_template_rows": null,
            "height": null,
            "justify_content": null,
            "justify_items": null,
            "left": null,
            "margin": null,
            "max_height": null,
            "max_width": null,
            "min_height": null,
            "min_width": null,
            "object_fit": null,
            "object_position": null,
            "order": null,
            "overflow": null,
            "overflow_x": null,
            "overflow_y": null,
            "padding": null,
            "right": null,
            "top": null,
            "visibility": null,
            "width": null
          }
        },
        "86b715f55a6648959249c8bb888b1411": {
          "model_module": "@jupyter-widgets/controls",
          "model_name": "ProgressStyleModel",
          "model_module_version": "1.5.0",
          "state": {
            "_model_module": "@jupyter-widgets/controls",
            "_model_module_version": "1.5.0",
            "_model_name": "ProgressStyleModel",
            "_view_count": null,
            "_view_module": "@jupyter-widgets/base",
            "_view_module_version": "1.2.0",
            "_view_name": "StyleView",
            "bar_color": null,
            "description_width": ""
          }
        },
        "b3ba372fa9164dc8a5381b10e187083e": {
          "model_module": "@jupyter-widgets/base",
          "model_name": "LayoutModel",
          "model_module_version": "1.2.0",
          "state": {
            "_model_module": "@jupyter-widgets/base",
            "_model_module_version": "1.2.0",
            "_model_name": "LayoutModel",
            "_view_count": null,
            "_view_module": "@jupyter-widgets/base",
            "_view_module_version": "1.2.0",
            "_view_name": "LayoutView",
            "align_content": null,
            "align_items": null,
            "align_self": null,
            "border": null,
            "bottom": null,
            "display": null,
            "flex": null,
            "flex_flow": null,
            "grid_area": null,
            "grid_auto_columns": null,
            "grid_auto_flow": null,
            "grid_auto_rows": null,
            "grid_column": null,
            "grid_gap": null,
            "grid_row": null,
            "grid_template_areas": null,
            "grid_template_columns": null,
            "grid_template_rows": null,
            "height": null,
            "justify_content": null,
            "justify_items": null,
            "left": null,
            "margin": null,
            "max_height": null,
            "max_width": null,
            "min_height": null,
            "min_width": null,
            "object_fit": null,
            "object_position": null,
            "order": null,
            "overflow": null,
            "overflow_x": null,
            "overflow_y": null,
            "padding": null,
            "right": null,
            "top": null,
            "visibility": null,
            "width": null
          }
        },
        "95c751dadae540bd88c0202cc9863528": {
          "model_module": "@jupyter-widgets/controls",
          "model_name": "DescriptionStyleModel",
          "model_module_version": "1.5.0",
          "state": {
            "_model_module": "@jupyter-widgets/controls",
            "_model_module_version": "1.5.0",
            "_model_name": "DescriptionStyleModel",
            "_view_count": null,
            "_view_module": "@jupyter-widgets/base",
            "_view_module_version": "1.2.0",
            "_view_name": "StyleView",
            "description_width": ""
          }
        },
        "61ca272520144d28be3fb7ad3a19a006": {
          "model_module": "@jupyter-widgets/controls",
          "model_name": "HBoxModel",
          "model_module_version": "1.5.0",
          "state": {
            "_dom_classes": [],
            "_model_module": "@jupyter-widgets/controls",
            "_model_module_version": "1.5.0",
            "_model_name": "HBoxModel",
            "_view_count": null,
            "_view_module": "@jupyter-widgets/controls",
            "_view_module_version": "1.5.0",
            "_view_name": "HBoxView",
            "box_style": "",
            "children": [
              "IPY_MODEL_ceb6286200d4402d99c4694f91221327",
              "IPY_MODEL_67bf68755fa34fe7b112086227e341a7",
              "IPY_MODEL_22c28c0977d94d68859bf2beb11626f8"
            ],
            "layout": "IPY_MODEL_213eee16d02d4a7fbed10954be043bcc"
          }
        },
        "ceb6286200d4402d99c4694f91221327": {
          "model_module": "@jupyter-widgets/controls",
          "model_name": "HTMLModel",
          "model_module_version": "1.5.0",
          "state": {
            "_dom_classes": [],
            "_model_module": "@jupyter-widgets/controls",
            "_model_module_version": "1.5.0",
            "_model_name": "HTMLModel",
            "_view_count": null,
            "_view_module": "@jupyter-widgets/controls",
            "_view_module_version": "1.5.0",
            "_view_name": "HTMLView",
            "description": "",
            "description_tooltip": null,
            "layout": "IPY_MODEL_5bf434f3bb30465ba9ca72b76a4e2cf0",
            "placeholder": "​",
            "style": "IPY_MODEL_5c361bfc69ff4931984db690e3df95a2",
            "value": "model.safetensors: 100%"
          }
        },
        "67bf68755fa34fe7b112086227e341a7": {
          "model_module": "@jupyter-widgets/controls",
          "model_name": "FloatProgressModel",
          "model_module_version": "1.5.0",
          "state": {
            "_dom_classes": [],
            "_model_module": "@jupyter-widgets/controls",
            "_model_module_version": "1.5.0",
            "_model_name": "FloatProgressModel",
            "_view_count": null,
            "_view_module": "@jupyter-widgets/controls",
            "_view_module_version": "1.5.0",
            "_view_name": "ProgressView",
            "bar_style": "success",
            "description": "",
            "description_tooltip": null,
            "layout": "IPY_MODEL_232383c2081b4d8b9353d2097964aea3",
            "max": 265479244,
            "min": 0,
            "orientation": "horizontal",
            "style": "IPY_MODEL_0181646f834c492483dcb42750a6dbea",
            "value": 265479244
          }
        },
        "22c28c0977d94d68859bf2beb11626f8": {
          "model_module": "@jupyter-widgets/controls",
          "model_name": "HTMLModel",
          "model_module_version": "1.5.0",
          "state": {
            "_dom_classes": [],
            "_model_module": "@jupyter-widgets/controls",
            "_model_module_version": "1.5.0",
            "_model_name": "HTMLModel",
            "_view_count": null,
            "_view_module": "@jupyter-widgets/controls",
            "_view_module_version": "1.5.0",
            "_view_name": "HTMLView",
            "description": "",
            "description_tooltip": null,
            "layout": "IPY_MODEL_af7d34e9cb4e4a7b90b9094161820b49",
            "placeholder": "​",
            "style": "IPY_MODEL_0aeac5cca9c74784bb3850a18462e9d6",
            "value": " 265M/265M [00:05&lt;00:00, 53.8MB/s]"
          }
        },
        "213eee16d02d4a7fbed10954be043bcc": {
          "model_module": "@jupyter-widgets/base",
          "model_name": "LayoutModel",
          "model_module_version": "1.2.0",
          "state": {
            "_model_module": "@jupyter-widgets/base",
            "_model_module_version": "1.2.0",
            "_model_name": "LayoutModel",
            "_view_count": null,
            "_view_module": "@jupyter-widgets/base",
            "_view_module_version": "1.2.0",
            "_view_name": "LayoutView",
            "align_content": null,
            "align_items": null,
            "align_self": null,
            "border": null,
            "bottom": null,
            "display": null,
            "flex": null,
            "flex_flow": null,
            "grid_area": null,
            "grid_auto_columns": null,
            "grid_auto_flow": null,
            "grid_auto_rows": null,
            "grid_column": null,
            "grid_gap": null,
            "grid_row": null,
            "grid_template_areas": null,
            "grid_template_columns": null,
            "grid_template_rows": null,
            "height": null,
            "justify_content": null,
            "justify_items": null,
            "left": null,
            "margin": null,
            "max_height": null,
            "max_width": null,
            "min_height": null,
            "min_width": null,
            "object_fit": null,
            "object_position": null,
            "order": null,
            "overflow": null,
            "overflow_x": null,
            "overflow_y": null,
            "padding": null,
            "right": null,
            "top": null,
            "visibility": null,
            "width": null
          }
        },
        "5bf434f3bb30465ba9ca72b76a4e2cf0": {
          "model_module": "@jupyter-widgets/base",
          "model_name": "LayoutModel",
          "model_module_version": "1.2.0",
          "state": {
            "_model_module": "@jupyter-widgets/base",
            "_model_module_version": "1.2.0",
            "_model_name": "LayoutModel",
            "_view_count": null,
            "_view_module": "@jupyter-widgets/base",
            "_view_module_version": "1.2.0",
            "_view_name": "LayoutView",
            "align_content": null,
            "align_items": null,
            "align_self": null,
            "border": null,
            "bottom": null,
            "display": null,
            "flex": null,
            "flex_flow": null,
            "grid_area": null,
            "grid_auto_columns": null,
            "grid_auto_flow": null,
            "grid_auto_rows": null,
            "grid_column": null,
            "grid_gap": null,
            "grid_row": null,
            "grid_template_areas": null,
            "grid_template_columns": null,
            "grid_template_rows": null,
            "height": null,
            "justify_content": null,
            "justify_items": null,
            "left": null,
            "margin": null,
            "max_height": null,
            "max_width": null,
            "min_height": null,
            "min_width": null,
            "object_fit": null,
            "object_position": null,
            "order": null,
            "overflow": null,
            "overflow_x": null,
            "overflow_y": null,
            "padding": null,
            "right": null,
            "top": null,
            "visibility": null,
            "width": null
          }
        },
        "5c361bfc69ff4931984db690e3df95a2": {
          "model_module": "@jupyter-widgets/controls",
          "model_name": "DescriptionStyleModel",
          "model_module_version": "1.5.0",
          "state": {
            "_model_module": "@jupyter-widgets/controls",
            "_model_module_version": "1.5.0",
            "_model_name": "DescriptionStyleModel",
            "_view_count": null,
            "_view_module": "@jupyter-widgets/base",
            "_view_module_version": "1.2.0",
            "_view_name": "StyleView",
            "description_width": ""
          }
        },
        "232383c2081b4d8b9353d2097964aea3": {
          "model_module": "@jupyter-widgets/base",
          "model_name": "LayoutModel",
          "model_module_version": "1.2.0",
          "state": {
            "_model_module": "@jupyter-widgets/base",
            "_model_module_version": "1.2.0",
            "_model_name": "LayoutModel",
            "_view_count": null,
            "_view_module": "@jupyter-widgets/base",
            "_view_module_version": "1.2.0",
            "_view_name": "LayoutView",
            "align_content": null,
            "align_items": null,
            "align_self": null,
            "border": null,
            "bottom": null,
            "display": null,
            "flex": null,
            "flex_flow": null,
            "grid_area": null,
            "grid_auto_columns": null,
            "grid_auto_flow": null,
            "grid_auto_rows": null,
            "grid_column": null,
            "grid_gap": null,
            "grid_row": null,
            "grid_template_areas": null,
            "grid_template_columns": null,
            "grid_template_rows": null,
            "height": null,
            "justify_content": null,
            "justify_items": null,
            "left": null,
            "margin": null,
            "max_height": null,
            "max_width": null,
            "min_height": null,
            "min_width": null,
            "object_fit": null,
            "object_position": null,
            "order": null,
            "overflow": null,
            "overflow_x": null,
            "overflow_y": null,
            "padding": null,
            "right": null,
            "top": null,
            "visibility": null,
            "width": null
          }
        },
        "0181646f834c492483dcb42750a6dbea": {
          "model_module": "@jupyter-widgets/controls",
          "model_name": "ProgressStyleModel",
          "model_module_version": "1.5.0",
          "state": {
            "_model_module": "@jupyter-widgets/controls",
            "_model_module_version": "1.5.0",
            "_model_name": "ProgressStyleModel",
            "_view_count": null,
            "_view_module": "@jupyter-widgets/base",
            "_view_module_version": "1.2.0",
            "_view_name": "StyleView",
            "bar_color": null,
            "description_width": ""
          }
        },
        "af7d34e9cb4e4a7b90b9094161820b49": {
          "model_module": "@jupyter-widgets/base",
          "model_name": "LayoutModel",
          "model_module_version": "1.2.0",
          "state": {
            "_model_module": "@jupyter-widgets/base",
            "_model_module_version": "1.2.0",
            "_model_name": "LayoutModel",
            "_view_count": null,
            "_view_module": "@jupyter-widgets/base",
            "_view_module_version": "1.2.0",
            "_view_name": "LayoutView",
            "align_content": null,
            "align_items": null,
            "align_self": null,
            "border": null,
            "bottom": null,
            "display": null,
            "flex": null,
            "flex_flow": null,
            "grid_area": null,
            "grid_auto_columns": null,
            "grid_auto_flow": null,
            "grid_auto_rows": null,
            "grid_column": null,
            "grid_gap": null,
            "grid_row": null,
            "grid_template_areas": null,
            "grid_template_columns": null,
            "grid_template_rows": null,
            "height": null,
            "justify_content": null,
            "justify_items": null,
            "left": null,
            "margin": null,
            "max_height": null,
            "max_width": null,
            "min_height": null,
            "min_width": null,
            "object_fit": null,
            "object_position": null,
            "order": null,
            "overflow": null,
            "overflow_x": null,
            "overflow_y": null,
            "padding": null,
            "right": null,
            "top": null,
            "visibility": null,
            "width": null
          }
        },
        "0aeac5cca9c74784bb3850a18462e9d6": {
          "model_module": "@jupyter-widgets/controls",
          "model_name": "DescriptionStyleModel",
          "model_module_version": "1.5.0",
          "state": {
            "_model_module": "@jupyter-widgets/controls",
            "_model_module_version": "1.5.0",
            "_model_name": "DescriptionStyleModel",
            "_view_count": null,
            "_view_module": "@jupyter-widgets/base",
            "_view_module_version": "1.2.0",
            "_view_name": "StyleView",
            "description_width": ""
          }
        },
        "b6478fbef2c54d38a47a15cbb2c0a93e": {
          "model_module": "@jupyter-widgets/controls",
          "model_name": "HBoxModel",
          "model_module_version": "1.5.0",
          "state": {
            "_dom_classes": [],
            "_model_module": "@jupyter-widgets/controls",
            "_model_module_version": "1.5.0",
            "_model_name": "HBoxModel",
            "_view_count": null,
            "_view_module": "@jupyter-widgets/controls",
            "_view_module_version": "1.5.0",
            "_view_name": "HBoxView",
            "box_style": "",
            "children": [
              "IPY_MODEL_36e13ac9a50f4937b58d8bc9d195de2c",
              "IPY_MODEL_f5e434353fc94c5b9c156e28fc0d0ece",
              "IPY_MODEL_8b07f92e5d1646c0922ebc8481447fa2"
            ],
            "layout": "IPY_MODEL_23831e07b5a24ecf8975e9efd624a1e4"
          }
        },
        "36e13ac9a50f4937b58d8bc9d195de2c": {
          "model_module": "@jupyter-widgets/controls",
          "model_name": "HTMLModel",
          "model_module_version": "1.5.0",
          "state": {
            "_dom_classes": [],
            "_model_module": "@jupyter-widgets/controls",
            "_model_module_version": "1.5.0",
            "_model_name": "HTMLModel",
            "_view_count": null,
            "_view_module": "@jupyter-widgets/controls",
            "_view_module_version": "1.5.0",
            "_view_name": "HTMLView",
            "description": "",
            "description_tooltip": null,
            "layout": "IPY_MODEL_36d8063533014209a7b5833e47d8a463",
            "placeholder": "​",
            "style": "IPY_MODEL_08304f07e9f54aae98a8140f70d1089f",
            "value": "tokenizer_config.json: 100%"
          }
        },
        "f5e434353fc94c5b9c156e28fc0d0ece": {
          "model_module": "@jupyter-widgets/controls",
          "model_name": "FloatProgressModel",
          "model_module_version": "1.5.0",
          "state": {
            "_dom_classes": [],
            "_model_module": "@jupyter-widgets/controls",
            "_model_module_version": "1.5.0",
            "_model_name": "FloatProgressModel",
            "_view_count": null,
            "_view_module": "@jupyter-widgets/controls",
            "_view_module_version": "1.5.0",
            "_view_name": "ProgressView",
            "bar_style": "success",
            "description": "",
            "description_tooltip": null,
            "layout": "IPY_MODEL_df42567b6f9846469ec5c6862996a816",
            "max": 1196,
            "min": 0,
            "orientation": "horizontal",
            "style": "IPY_MODEL_1d6b92c4d61d418d9b24308ace17e5a2",
            "value": 1196
          }
        },
        "8b07f92e5d1646c0922ebc8481447fa2": {
          "model_module": "@jupyter-widgets/controls",
          "model_name": "HTMLModel",
          "model_module_version": "1.5.0",
          "state": {
            "_dom_classes": [],
            "_model_module": "@jupyter-widgets/controls",
            "_model_module_version": "1.5.0",
            "_model_name": "HTMLModel",
            "_view_count": null,
            "_view_module": "@jupyter-widgets/controls",
            "_view_module_version": "1.5.0",
            "_view_name": "HTMLView",
            "description": "",
            "description_tooltip": null,
            "layout": "IPY_MODEL_02aaa09b23364f32afe13254d80dad2f",
            "placeholder": "​",
            "style": "IPY_MODEL_9d248d2b2a5941f1b12161070a760f1d",
            "value": " 1.20k/1.20k [00:00&lt;00:00, 70.7kB/s]"
          }
        },
        "23831e07b5a24ecf8975e9efd624a1e4": {
          "model_module": "@jupyter-widgets/base",
          "model_name": "LayoutModel",
          "model_module_version": "1.2.0",
          "state": {
            "_model_module": "@jupyter-widgets/base",
            "_model_module_version": "1.2.0",
            "_model_name": "LayoutModel",
            "_view_count": null,
            "_view_module": "@jupyter-widgets/base",
            "_view_module_version": "1.2.0",
            "_view_name": "LayoutView",
            "align_content": null,
            "align_items": null,
            "align_self": null,
            "border": null,
            "bottom": null,
            "display": null,
            "flex": null,
            "flex_flow": null,
            "grid_area": null,
            "grid_auto_columns": null,
            "grid_auto_flow": null,
            "grid_auto_rows": null,
            "grid_column": null,
            "grid_gap": null,
            "grid_row": null,
            "grid_template_areas": null,
            "grid_template_columns": null,
            "grid_template_rows": null,
            "height": null,
            "justify_content": null,
            "justify_items": null,
            "left": null,
            "margin": null,
            "max_height": null,
            "max_width": null,
            "min_height": null,
            "min_width": null,
            "object_fit": null,
            "object_position": null,
            "order": null,
            "overflow": null,
            "overflow_x": null,
            "overflow_y": null,
            "padding": null,
            "right": null,
            "top": null,
            "visibility": null,
            "width": null
          }
        },
        "36d8063533014209a7b5833e47d8a463": {
          "model_module": "@jupyter-widgets/base",
          "model_name": "LayoutModel",
          "model_module_version": "1.2.0",
          "state": {
            "_model_module": "@jupyter-widgets/base",
            "_model_module_version": "1.2.0",
            "_model_name": "LayoutModel",
            "_view_count": null,
            "_view_module": "@jupyter-widgets/base",
            "_view_module_version": "1.2.0",
            "_view_name": "LayoutView",
            "align_content": null,
            "align_items": null,
            "align_self": null,
            "border": null,
            "bottom": null,
            "display": null,
            "flex": null,
            "flex_flow": null,
            "grid_area": null,
            "grid_auto_columns": null,
            "grid_auto_flow": null,
            "grid_auto_rows": null,
            "grid_column": null,
            "grid_gap": null,
            "grid_row": null,
            "grid_template_areas": null,
            "grid_template_columns": null,
            "grid_template_rows": null,
            "height": null,
            "justify_content": null,
            "justify_items": null,
            "left": null,
            "margin": null,
            "max_height": null,
            "max_width": null,
            "min_height": null,
            "min_width": null,
            "object_fit": null,
            "object_position": null,
            "order": null,
            "overflow": null,
            "overflow_x": null,
            "overflow_y": null,
            "padding": null,
            "right": null,
            "top": null,
            "visibility": null,
            "width": null
          }
        },
        "08304f07e9f54aae98a8140f70d1089f": {
          "model_module": "@jupyter-widgets/controls",
          "model_name": "DescriptionStyleModel",
          "model_module_version": "1.5.0",
          "state": {
            "_model_module": "@jupyter-widgets/controls",
            "_model_module_version": "1.5.0",
            "_model_name": "DescriptionStyleModel",
            "_view_count": null,
            "_view_module": "@jupyter-widgets/base",
            "_view_module_version": "1.2.0",
            "_view_name": "StyleView",
            "description_width": ""
          }
        },
        "df42567b6f9846469ec5c6862996a816": {
          "model_module": "@jupyter-widgets/base",
          "model_name": "LayoutModel",
          "model_module_version": "1.2.0",
          "state": {
            "_model_module": "@jupyter-widgets/base",
            "_model_module_version": "1.2.0",
            "_model_name": "LayoutModel",
            "_view_count": null,
            "_view_module": "@jupyter-widgets/base",
            "_view_module_version": "1.2.0",
            "_view_name": "LayoutView",
            "align_content": null,
            "align_items": null,
            "align_self": null,
            "border": null,
            "bottom": null,
            "display": null,
            "flex": null,
            "flex_flow": null,
            "grid_area": null,
            "grid_auto_columns": null,
            "grid_auto_flow": null,
            "grid_auto_rows": null,
            "grid_column": null,
            "grid_gap": null,
            "grid_row": null,
            "grid_template_areas": null,
            "grid_template_columns": null,
            "grid_template_rows": null,
            "height": null,
            "justify_content": null,
            "justify_items": null,
            "left": null,
            "margin": null,
            "max_height": null,
            "max_width": null,
            "min_height": null,
            "min_width": null,
            "object_fit": null,
            "object_position": null,
            "order": null,
            "overflow": null,
            "overflow_x": null,
            "overflow_y": null,
            "padding": null,
            "right": null,
            "top": null,
            "visibility": null,
            "width": null
          }
        },
        "1d6b92c4d61d418d9b24308ace17e5a2": {
          "model_module": "@jupyter-widgets/controls",
          "model_name": "ProgressStyleModel",
          "model_module_version": "1.5.0",
          "state": {
            "_model_module": "@jupyter-widgets/controls",
            "_model_module_version": "1.5.0",
            "_model_name": "ProgressStyleModel",
            "_view_count": null,
            "_view_module": "@jupyter-widgets/base",
            "_view_module_version": "1.2.0",
            "_view_name": "StyleView",
            "bar_color": null,
            "description_width": ""
          }
        },
        "02aaa09b23364f32afe13254d80dad2f": {
          "model_module": "@jupyter-widgets/base",
          "model_name": "LayoutModel",
          "model_module_version": "1.2.0",
          "state": {
            "_model_module": "@jupyter-widgets/base",
            "_model_module_version": "1.2.0",
            "_model_name": "LayoutModel",
            "_view_count": null,
            "_view_module": "@jupyter-widgets/base",
            "_view_module_version": "1.2.0",
            "_view_name": "LayoutView",
            "align_content": null,
            "align_items": null,
            "align_self": null,
            "border": null,
            "bottom": null,
            "display": null,
            "flex": null,
            "flex_flow": null,
            "grid_area": null,
            "grid_auto_columns": null,
            "grid_auto_flow": null,
            "grid_auto_rows": null,
            "grid_column": null,
            "grid_gap": null,
            "grid_row": null,
            "grid_template_areas": null,
            "grid_template_columns": null,
            "grid_template_rows": null,
            "height": null,
            "justify_content": null,
            "justify_items": null,
            "left": null,
            "margin": null,
            "max_height": null,
            "max_width": null,
            "min_height": null,
            "min_width": null,
            "object_fit": null,
            "object_position": null,
            "order": null,
            "overflow": null,
            "overflow_x": null,
            "overflow_y": null,
            "padding": null,
            "right": null,
            "top": null,
            "visibility": null,
            "width": null
          }
        },
        "9d248d2b2a5941f1b12161070a760f1d": {
          "model_module": "@jupyter-widgets/controls",
          "model_name": "DescriptionStyleModel",
          "model_module_version": "1.5.0",
          "state": {
            "_model_module": "@jupyter-widgets/controls",
            "_model_module_version": "1.5.0",
            "_model_name": "DescriptionStyleModel",
            "_view_count": null,
            "_view_module": "@jupyter-widgets/base",
            "_view_module_version": "1.2.0",
            "_view_name": "StyleView",
            "description_width": ""
          }
        },
        "43ac421eed6a4f0e8940508560f79944": {
          "model_module": "@jupyter-widgets/controls",
          "model_name": "HBoxModel",
          "model_module_version": "1.5.0",
          "state": {
            "_dom_classes": [],
            "_model_module": "@jupyter-widgets/controls",
            "_model_module_version": "1.5.0",
            "_model_name": "HBoxModel",
            "_view_count": null,
            "_view_module": "@jupyter-widgets/controls",
            "_view_module_version": "1.5.0",
            "_view_name": "HBoxView",
            "box_style": "",
            "children": [
              "IPY_MODEL_c3d6947a99f9428fa5687e6f1f7e4b5e",
              "IPY_MODEL_228cf9ecaa65488e9f1ce3bf0b157862",
              "IPY_MODEL_4f73ffff361e41b0947db3bf3a242ed9"
            ],
            "layout": "IPY_MODEL_bcecd214ad6c4516beea39e5854dd647"
          }
        },
        "c3d6947a99f9428fa5687e6f1f7e4b5e": {
          "model_module": "@jupyter-widgets/controls",
          "model_name": "HTMLModel",
          "model_module_version": "1.5.0",
          "state": {
            "_dom_classes": [],
            "_model_module": "@jupyter-widgets/controls",
            "_model_module_version": "1.5.0",
            "_model_name": "HTMLModel",
            "_view_count": null,
            "_view_module": "@jupyter-widgets/controls",
            "_view_module_version": "1.5.0",
            "_view_name": "HTMLView",
            "description": "",
            "description_tooltip": null,
            "layout": "IPY_MODEL_14b2a63ce3b843c8a3b5376560ed7bd7",
            "placeholder": "​",
            "style": "IPY_MODEL_a0e7329d4eed41e0b3006ff0994db909",
            "value": "vocab.txt: 100%"
          }
        },
        "228cf9ecaa65488e9f1ce3bf0b157862": {
          "model_module": "@jupyter-widgets/controls",
          "model_name": "FloatProgressModel",
          "model_module_version": "1.5.0",
          "state": {
            "_dom_classes": [],
            "_model_module": "@jupyter-widgets/controls",
            "_model_module_version": "1.5.0",
            "_model_name": "FloatProgressModel",
            "_view_count": null,
            "_view_module": "@jupyter-widgets/controls",
            "_view_module_version": "1.5.0",
            "_view_name": "ProgressView",
            "bar_style": "success",
            "description": "",
            "description_tooltip": null,
            "layout": "IPY_MODEL_b5603e2c9b20497ebc722badc8719feb",
            "max": 231508,
            "min": 0,
            "orientation": "horizontal",
            "style": "IPY_MODEL_13983682a00b4dad892cc3edcc5993a2",
            "value": 231508
          }
        },
        "4f73ffff361e41b0947db3bf3a242ed9": {
          "model_module": "@jupyter-widgets/controls",
          "model_name": "HTMLModel",
          "model_module_version": "1.5.0",
          "state": {
            "_dom_classes": [],
            "_model_module": "@jupyter-widgets/controls",
            "_model_module_version": "1.5.0",
            "_model_name": "HTMLModel",
            "_view_count": null,
            "_view_module": "@jupyter-widgets/controls",
            "_view_module_version": "1.5.0",
            "_view_name": "HTMLView",
            "description": "",
            "description_tooltip": null,
            "layout": "IPY_MODEL_c1e312307da84ce89e50f186456dd31a",
            "placeholder": "​",
            "style": "IPY_MODEL_2a552aff604c447c9f4d2de747d7ed30",
            "value": " 232k/232k [00:00&lt;00:00, 3.00MB/s]"
          }
        },
        "bcecd214ad6c4516beea39e5854dd647": {
          "model_module": "@jupyter-widgets/base",
          "model_name": "LayoutModel",
          "model_module_version": "1.2.0",
          "state": {
            "_model_module": "@jupyter-widgets/base",
            "_model_module_version": "1.2.0",
            "_model_name": "LayoutModel",
            "_view_count": null,
            "_view_module": "@jupyter-widgets/base",
            "_view_module_version": "1.2.0",
            "_view_name": "LayoutView",
            "align_content": null,
            "align_items": null,
            "align_self": null,
            "border": null,
            "bottom": null,
            "display": null,
            "flex": null,
            "flex_flow": null,
            "grid_area": null,
            "grid_auto_columns": null,
            "grid_auto_flow": null,
            "grid_auto_rows": null,
            "grid_column": null,
            "grid_gap": null,
            "grid_row": null,
            "grid_template_areas": null,
            "grid_template_columns": null,
            "grid_template_rows": null,
            "height": null,
            "justify_content": null,
            "justify_items": null,
            "left": null,
            "margin": null,
            "max_height": null,
            "max_width": null,
            "min_height": null,
            "min_width": null,
            "object_fit": null,
            "object_position": null,
            "order": null,
            "overflow": null,
            "overflow_x": null,
            "overflow_y": null,
            "padding": null,
            "right": null,
            "top": null,
            "visibility": null,
            "width": null
          }
        },
        "14b2a63ce3b843c8a3b5376560ed7bd7": {
          "model_module": "@jupyter-widgets/base",
          "model_name": "LayoutModel",
          "model_module_version": "1.2.0",
          "state": {
            "_model_module": "@jupyter-widgets/base",
            "_model_module_version": "1.2.0",
            "_model_name": "LayoutModel",
            "_view_count": null,
            "_view_module": "@jupyter-widgets/base",
            "_view_module_version": "1.2.0",
            "_view_name": "LayoutView",
            "align_content": null,
            "align_items": null,
            "align_self": null,
            "border": null,
            "bottom": null,
            "display": null,
            "flex": null,
            "flex_flow": null,
            "grid_area": null,
            "grid_auto_columns": null,
            "grid_auto_flow": null,
            "grid_auto_rows": null,
            "grid_column": null,
            "grid_gap": null,
            "grid_row": null,
            "grid_template_areas": null,
            "grid_template_columns": null,
            "grid_template_rows": null,
            "height": null,
            "justify_content": null,
            "justify_items": null,
            "left": null,
            "margin": null,
            "max_height": null,
            "max_width": null,
            "min_height": null,
            "min_width": null,
            "object_fit": null,
            "object_position": null,
            "order": null,
            "overflow": null,
            "overflow_x": null,
            "overflow_y": null,
            "padding": null,
            "right": null,
            "top": null,
            "visibility": null,
            "width": null
          }
        },
        "a0e7329d4eed41e0b3006ff0994db909": {
          "model_module": "@jupyter-widgets/controls",
          "model_name": "DescriptionStyleModel",
          "model_module_version": "1.5.0",
          "state": {
            "_model_module": "@jupyter-widgets/controls",
            "_model_module_version": "1.5.0",
            "_model_name": "DescriptionStyleModel",
            "_view_count": null,
            "_view_module": "@jupyter-widgets/base",
            "_view_module_version": "1.2.0",
            "_view_name": "StyleView",
            "description_width": ""
          }
        },
        "b5603e2c9b20497ebc722badc8719feb": {
          "model_module": "@jupyter-widgets/base",
          "model_name": "LayoutModel",
          "model_module_version": "1.2.0",
          "state": {
            "_model_module": "@jupyter-widgets/base",
            "_model_module_version": "1.2.0",
            "_model_name": "LayoutModel",
            "_view_count": null,
            "_view_module": "@jupyter-widgets/base",
            "_view_module_version": "1.2.0",
            "_view_name": "LayoutView",
            "align_content": null,
            "align_items": null,
            "align_self": null,
            "border": null,
            "bottom": null,
            "display": null,
            "flex": null,
            "flex_flow": null,
            "grid_area": null,
            "grid_auto_columns": null,
            "grid_auto_flow": null,
            "grid_auto_rows": null,
            "grid_column": null,
            "grid_gap": null,
            "grid_row": null,
            "grid_template_areas": null,
            "grid_template_columns": null,
            "grid_template_rows": null,
            "height": null,
            "justify_content": null,
            "justify_items": null,
            "left": null,
            "margin": null,
            "max_height": null,
            "max_width": null,
            "min_height": null,
            "min_width": null,
            "object_fit": null,
            "object_position": null,
            "order": null,
            "overflow": null,
            "overflow_x": null,
            "overflow_y": null,
            "padding": null,
            "right": null,
            "top": null,
            "visibility": null,
            "width": null
          }
        },
        "13983682a00b4dad892cc3edcc5993a2": {
          "model_module": "@jupyter-widgets/controls",
          "model_name": "ProgressStyleModel",
          "model_module_version": "1.5.0",
          "state": {
            "_model_module": "@jupyter-widgets/controls",
            "_model_module_version": "1.5.0",
            "_model_name": "ProgressStyleModel",
            "_view_count": null,
            "_view_module": "@jupyter-widgets/base",
            "_view_module_version": "1.2.0",
            "_view_name": "StyleView",
            "bar_color": null,
            "description_width": ""
          }
        },
        "c1e312307da84ce89e50f186456dd31a": {
          "model_module": "@jupyter-widgets/base",
          "model_name": "LayoutModel",
          "model_module_version": "1.2.0",
          "state": {
            "_model_module": "@jupyter-widgets/base",
            "_model_module_version": "1.2.0",
            "_model_name": "LayoutModel",
            "_view_count": null,
            "_view_module": "@jupyter-widgets/base",
            "_view_module_version": "1.2.0",
            "_view_name": "LayoutView",
            "align_content": null,
            "align_items": null,
            "align_self": null,
            "border": null,
            "bottom": null,
            "display": null,
            "flex": null,
            "flex_flow": null,
            "grid_area": null,
            "grid_auto_columns": null,
            "grid_auto_flow": null,
            "grid_auto_rows": null,
            "grid_column": null,
            "grid_gap": null,
            "grid_row": null,
            "grid_template_areas": null,
            "grid_template_columns": null,
            "grid_template_rows": null,
            "height": null,
            "justify_content": null,
            "justify_items": null,
            "left": null,
            "margin": null,
            "max_height": null,
            "max_width": null,
            "min_height": null,
            "min_width": null,
            "object_fit": null,
            "object_position": null,
            "order": null,
            "overflow": null,
            "overflow_x": null,
            "overflow_y": null,
            "padding": null,
            "right": null,
            "top": null,
            "visibility": null,
            "width": null
          }
        },
        "2a552aff604c447c9f4d2de747d7ed30": {
          "model_module": "@jupyter-widgets/controls",
          "model_name": "DescriptionStyleModel",
          "model_module_version": "1.5.0",
          "state": {
            "_model_module": "@jupyter-widgets/controls",
            "_model_module_version": "1.5.0",
            "_model_name": "DescriptionStyleModel",
            "_view_count": null,
            "_view_module": "@jupyter-widgets/base",
            "_view_module_version": "1.2.0",
            "_view_name": "StyleView",
            "description_width": ""
          }
        },
        "91c4d8a1b4fd4e6d8b963e2a2f1e8474": {
          "model_module": "@jupyter-widgets/controls",
          "model_name": "HBoxModel",
          "model_module_version": "1.5.0",
          "state": {
            "_dom_classes": [],
            "_model_module": "@jupyter-widgets/controls",
            "_model_module_version": "1.5.0",
            "_model_name": "HBoxModel",
            "_view_count": null,
            "_view_module": "@jupyter-widgets/controls",
            "_view_module_version": "1.5.0",
            "_view_name": "HBoxView",
            "box_style": "",
            "children": [
              "IPY_MODEL_82a025ca24c44218b3a34f57fa74208f",
              "IPY_MODEL_263043cd900844e79eae31e795b967f2",
              "IPY_MODEL_79b42d41f3134bbe8432b307ee122731"
            ],
            "layout": "IPY_MODEL_e215163a5ce94ab48e50f104faf310bc"
          }
        },
        "82a025ca24c44218b3a34f57fa74208f": {
          "model_module": "@jupyter-widgets/controls",
          "model_name": "HTMLModel",
          "model_module_version": "1.5.0",
          "state": {
            "_dom_classes": [],
            "_model_module": "@jupyter-widgets/controls",
            "_model_module_version": "1.5.0",
            "_model_name": "HTMLModel",
            "_view_count": null,
            "_view_module": "@jupyter-widgets/controls",
            "_view_module_version": "1.5.0",
            "_view_name": "HTMLView",
            "description": "",
            "description_tooltip": null,
            "layout": "IPY_MODEL_8ba18e3ca867458982178801cec33c62",
            "placeholder": "​",
            "style": "IPY_MODEL_c83ca4c7015240c0b7694e0f1fdf11fd",
            "value": "tokenizer.json: 100%"
          }
        },
        "263043cd900844e79eae31e795b967f2": {
          "model_module": "@jupyter-widgets/controls",
          "model_name": "FloatProgressModel",
          "model_module_version": "1.5.0",
          "state": {
            "_dom_classes": [],
            "_model_module": "@jupyter-widgets/controls",
            "_model_module_version": "1.5.0",
            "_model_name": "FloatProgressModel",
            "_view_count": null,
            "_view_module": "@jupyter-widgets/controls",
            "_view_module_version": "1.5.0",
            "_view_name": "ProgressView",
            "bar_style": "success",
            "description": "",
            "description_tooltip": null,
            "layout": "IPY_MODEL_f894aa7271e345c28b0679e3b39a81ab",
            "max": 711494,
            "min": 0,
            "orientation": "horizontal",
            "style": "IPY_MODEL_c88f1de425c94710ba43b2aa7d8d4407",
            "value": 711494
          }
        },
        "79b42d41f3134bbe8432b307ee122731": {
          "model_module": "@jupyter-widgets/controls",
          "model_name": "HTMLModel",
          "model_module_version": "1.5.0",
          "state": {
            "_dom_classes": [],
            "_model_module": "@jupyter-widgets/controls",
            "_model_module_version": "1.5.0",
            "_model_name": "HTMLModel",
            "_view_count": null,
            "_view_module": "@jupyter-widgets/controls",
            "_view_module_version": "1.5.0",
            "_view_name": "HTMLView",
            "description": "",
            "description_tooltip": null,
            "layout": "IPY_MODEL_1342388bc00f4e7eb3b26b9d0b36ec4a",
            "placeholder": "​",
            "style": "IPY_MODEL_0a68becce3254d66a835cacc64639bc2",
            "value": " 711k/711k [00:00&lt;00:00, 2.29MB/s]"
          }
        },
        "e215163a5ce94ab48e50f104faf310bc": {
          "model_module": "@jupyter-widgets/base",
          "model_name": "LayoutModel",
          "model_module_version": "1.2.0",
          "state": {
            "_model_module": "@jupyter-widgets/base",
            "_model_module_version": "1.2.0",
            "_model_name": "LayoutModel",
            "_view_count": null,
            "_view_module": "@jupyter-widgets/base",
            "_view_module_version": "1.2.0",
            "_view_name": "LayoutView",
            "align_content": null,
            "align_items": null,
            "align_self": null,
            "border": null,
            "bottom": null,
            "display": null,
            "flex": null,
            "flex_flow": null,
            "grid_area": null,
            "grid_auto_columns": null,
            "grid_auto_flow": null,
            "grid_auto_rows": null,
            "grid_column": null,
            "grid_gap": null,
            "grid_row": null,
            "grid_template_areas": null,
            "grid_template_columns": null,
            "grid_template_rows": null,
            "height": null,
            "justify_content": null,
            "justify_items": null,
            "left": null,
            "margin": null,
            "max_height": null,
            "max_width": null,
            "min_height": null,
            "min_width": null,
            "object_fit": null,
            "object_position": null,
            "order": null,
            "overflow": null,
            "overflow_x": null,
            "overflow_y": null,
            "padding": null,
            "right": null,
            "top": null,
            "visibility": null,
            "width": null
          }
        },
        "8ba18e3ca867458982178801cec33c62": {
          "model_module": "@jupyter-widgets/base",
          "model_name": "LayoutModel",
          "model_module_version": "1.2.0",
          "state": {
            "_model_module": "@jupyter-widgets/base",
            "_model_module_version": "1.2.0",
            "_model_name": "LayoutModel",
            "_view_count": null,
            "_view_module": "@jupyter-widgets/base",
            "_view_module_version": "1.2.0",
            "_view_name": "LayoutView",
            "align_content": null,
            "align_items": null,
            "align_self": null,
            "border": null,
            "bottom": null,
            "display": null,
            "flex": null,
            "flex_flow": null,
            "grid_area": null,
            "grid_auto_columns": null,
            "grid_auto_flow": null,
            "grid_auto_rows": null,
            "grid_column": null,
            "grid_gap": null,
            "grid_row": null,
            "grid_template_areas": null,
            "grid_template_columns": null,
            "grid_template_rows": null,
            "height": null,
            "justify_content": null,
            "justify_items": null,
            "left": null,
            "margin": null,
            "max_height": null,
            "max_width": null,
            "min_height": null,
            "min_width": null,
            "object_fit": null,
            "object_position": null,
            "order": null,
            "overflow": null,
            "overflow_x": null,
            "overflow_y": null,
            "padding": null,
            "right": null,
            "top": null,
            "visibility": null,
            "width": null
          }
        },
        "c83ca4c7015240c0b7694e0f1fdf11fd": {
          "model_module": "@jupyter-widgets/controls",
          "model_name": "DescriptionStyleModel",
          "model_module_version": "1.5.0",
          "state": {
            "_model_module": "@jupyter-widgets/controls",
            "_model_module_version": "1.5.0",
            "_model_name": "DescriptionStyleModel",
            "_view_count": null,
            "_view_module": "@jupyter-widgets/base",
            "_view_module_version": "1.2.0",
            "_view_name": "StyleView",
            "description_width": ""
          }
        },
        "f894aa7271e345c28b0679e3b39a81ab": {
          "model_module": "@jupyter-widgets/base",
          "model_name": "LayoutModel",
          "model_module_version": "1.2.0",
          "state": {
            "_model_module": "@jupyter-widgets/base",
            "_model_module_version": "1.2.0",
            "_model_name": "LayoutModel",
            "_view_count": null,
            "_view_module": "@jupyter-widgets/base",
            "_view_module_version": "1.2.0",
            "_view_name": "LayoutView",
            "align_content": null,
            "align_items": null,
            "align_self": null,
            "border": null,
            "bottom": null,
            "display": null,
            "flex": null,
            "flex_flow": null,
            "grid_area": null,
            "grid_auto_columns": null,
            "grid_auto_flow": null,
            "grid_auto_rows": null,
            "grid_column": null,
            "grid_gap": null,
            "grid_row": null,
            "grid_template_areas": null,
            "grid_template_columns": null,
            "grid_template_rows": null,
            "height": null,
            "justify_content": null,
            "justify_items": null,
            "left": null,
            "margin": null,
            "max_height": null,
            "max_width": null,
            "min_height": null,
            "min_width": null,
            "object_fit": null,
            "object_position": null,
            "order": null,
            "overflow": null,
            "overflow_x": null,
            "overflow_y": null,
            "padding": null,
            "right": null,
            "top": null,
            "visibility": null,
            "width": null
          }
        },
        "c88f1de425c94710ba43b2aa7d8d4407": {
          "model_module": "@jupyter-widgets/controls",
          "model_name": "ProgressStyleModel",
          "model_module_version": "1.5.0",
          "state": {
            "_model_module": "@jupyter-widgets/controls",
            "_model_module_version": "1.5.0",
            "_model_name": "ProgressStyleModel",
            "_view_count": null,
            "_view_module": "@jupyter-widgets/base",
            "_view_module_version": "1.2.0",
            "_view_name": "StyleView",
            "bar_color": null,
            "description_width": ""
          }
        },
        "1342388bc00f4e7eb3b26b9d0b36ec4a": {
          "model_module": "@jupyter-widgets/base",
          "model_name": "LayoutModel",
          "model_module_version": "1.2.0",
          "state": {
            "_model_module": "@jupyter-widgets/base",
            "_model_module_version": "1.2.0",
            "_model_name": "LayoutModel",
            "_view_count": null,
            "_view_module": "@jupyter-widgets/base",
            "_view_module_version": "1.2.0",
            "_view_name": "LayoutView",
            "align_content": null,
            "align_items": null,
            "align_self": null,
            "border": null,
            "bottom": null,
            "display": null,
            "flex": null,
            "flex_flow": null,
            "grid_area": null,
            "grid_auto_columns": null,
            "grid_auto_flow": null,
            "grid_auto_rows": null,
            "grid_column": null,
            "grid_gap": null,
            "grid_row": null,
            "grid_template_areas": null,
            "grid_template_columns": null,
            "grid_template_rows": null,
            "height": null,
            "justify_content": null,
            "justify_items": null,
            "left": null,
            "margin": null,
            "max_height": null,
            "max_width": null,
            "min_height": null,
            "min_width": null,
            "object_fit": null,
            "object_position": null,
            "order": null,
            "overflow": null,
            "overflow_x": null,
            "overflow_y": null,
            "padding": null,
            "right": null,
            "top": null,
            "visibility": null,
            "width": null
          }
        },
        "0a68becce3254d66a835cacc64639bc2": {
          "model_module": "@jupyter-widgets/controls",
          "model_name": "DescriptionStyleModel",
          "model_module_version": "1.5.0",
          "state": {
            "_model_module": "@jupyter-widgets/controls",
            "_model_module_version": "1.5.0",
            "_model_name": "DescriptionStyleModel",
            "_view_count": null,
            "_view_module": "@jupyter-widgets/base",
            "_view_module_version": "1.2.0",
            "_view_name": "StyleView",
            "description_width": ""
          }
        },
        "7e7047c4bd084101bb6786598122f9a6": {
          "model_module": "@jupyter-widgets/controls",
          "model_name": "HBoxModel",
          "model_module_version": "1.5.0",
          "state": {
            "_dom_classes": [],
            "_model_module": "@jupyter-widgets/controls",
            "_model_module_version": "1.5.0",
            "_model_name": "HBoxModel",
            "_view_count": null,
            "_view_module": "@jupyter-widgets/controls",
            "_view_module_version": "1.5.0",
            "_view_name": "HBoxView",
            "box_style": "",
            "children": [
              "IPY_MODEL_32313e21fa2a4ed3994128e4663ee38f",
              "IPY_MODEL_f68d34692139479184617ccee36bf405",
              "IPY_MODEL_4f3ffcc3cdbc44beb04ef0755f847d83"
            ],
            "layout": "IPY_MODEL_97f086a387a844c09e014ef89d6cb833"
          }
        },
        "32313e21fa2a4ed3994128e4663ee38f": {
          "model_module": "@jupyter-widgets/controls",
          "model_name": "HTMLModel",
          "model_module_version": "1.5.0",
          "state": {
            "_dom_classes": [],
            "_model_module": "@jupyter-widgets/controls",
            "_model_module_version": "1.5.0",
            "_model_name": "HTMLModel",
            "_view_count": null,
            "_view_module": "@jupyter-widgets/controls",
            "_view_module_version": "1.5.0",
            "_view_name": "HTMLView",
            "description": "",
            "description_tooltip": null,
            "layout": "IPY_MODEL_d497d656f15041a98ce618f67fed7a58",
            "placeholder": "​",
            "style": "IPY_MODEL_9b4bea03adba485f805a95092aea9b47",
            "value": "special_tokens_map.json: 100%"
          }
        },
        "f68d34692139479184617ccee36bf405": {
          "model_module": "@jupyter-widgets/controls",
          "model_name": "FloatProgressModel",
          "model_module_version": "1.5.0",
          "state": {
            "_dom_classes": [],
            "_model_module": "@jupyter-widgets/controls",
            "_model_module_version": "1.5.0",
            "_model_name": "FloatProgressModel",
            "_view_count": null,
            "_view_module": "@jupyter-widgets/controls",
            "_view_module_version": "1.5.0",
            "_view_name": "ProgressView",
            "bar_style": "success",
            "description": "",
            "description_tooltip": null,
            "layout": "IPY_MODEL_1adfe9b067714573913dfed61ddafb0f",
            "max": 125,
            "min": 0,
            "orientation": "horizontal",
            "style": "IPY_MODEL_dab3a4b7a0e64b848bc8cedcc699e954",
            "value": 125
          }
        },
        "4f3ffcc3cdbc44beb04ef0755f847d83": {
          "model_module": "@jupyter-widgets/controls",
          "model_name": "HTMLModel",
          "model_module_version": "1.5.0",
          "state": {
            "_dom_classes": [],
            "_model_module": "@jupyter-widgets/controls",
            "_model_module_version": "1.5.0",
            "_model_name": "HTMLModel",
            "_view_count": null,
            "_view_module": "@jupyter-widgets/controls",
            "_view_module_version": "1.5.0",
            "_view_name": "HTMLView",
            "description": "",
            "description_tooltip": null,
            "layout": "IPY_MODEL_8dccf507b0094cb9b20c6ad56236ba1b",
            "placeholder": "​",
            "style": "IPY_MODEL_562a1323a46f444bb3b50f4544b69e0a",
            "value": " 125/125 [00:00&lt;00:00, 7.64kB/s]"
          }
        },
        "97f086a387a844c09e014ef89d6cb833": {
          "model_module": "@jupyter-widgets/base",
          "model_name": "LayoutModel",
          "model_module_version": "1.2.0",
          "state": {
            "_model_module": "@jupyter-widgets/base",
            "_model_module_version": "1.2.0",
            "_model_name": "LayoutModel",
            "_view_count": null,
            "_view_module": "@jupyter-widgets/base",
            "_view_module_version": "1.2.0",
            "_view_name": "LayoutView",
            "align_content": null,
            "align_items": null,
            "align_self": null,
            "border": null,
            "bottom": null,
            "display": null,
            "flex": null,
            "flex_flow": null,
            "grid_area": null,
            "grid_auto_columns": null,
            "grid_auto_flow": null,
            "grid_auto_rows": null,
            "grid_column": null,
            "grid_gap": null,
            "grid_row": null,
            "grid_template_areas": null,
            "grid_template_columns": null,
            "grid_template_rows": null,
            "height": null,
            "justify_content": null,
            "justify_items": null,
            "left": null,
            "margin": null,
            "max_height": null,
            "max_width": null,
            "min_height": null,
            "min_width": null,
            "object_fit": null,
            "object_position": null,
            "order": null,
            "overflow": null,
            "overflow_x": null,
            "overflow_y": null,
            "padding": null,
            "right": null,
            "top": null,
            "visibility": null,
            "width": null
          }
        },
        "d497d656f15041a98ce618f67fed7a58": {
          "model_module": "@jupyter-widgets/base",
          "model_name": "LayoutModel",
          "model_module_version": "1.2.0",
          "state": {
            "_model_module": "@jupyter-widgets/base",
            "_model_module_version": "1.2.0",
            "_model_name": "LayoutModel",
            "_view_count": null,
            "_view_module": "@jupyter-widgets/base",
            "_view_module_version": "1.2.0",
            "_view_name": "LayoutView",
            "align_content": null,
            "align_items": null,
            "align_self": null,
            "border": null,
            "bottom": null,
            "display": null,
            "flex": null,
            "flex_flow": null,
            "grid_area": null,
            "grid_auto_columns": null,
            "grid_auto_flow": null,
            "grid_auto_rows": null,
            "grid_column": null,
            "grid_gap": null,
            "grid_row": null,
            "grid_template_areas": null,
            "grid_template_columns": null,
            "grid_template_rows": null,
            "height": null,
            "justify_content": null,
            "justify_items": null,
            "left": null,
            "margin": null,
            "max_height": null,
            "max_width": null,
            "min_height": null,
            "min_width": null,
            "object_fit": null,
            "object_position": null,
            "order": null,
            "overflow": null,
            "overflow_x": null,
            "overflow_y": null,
            "padding": null,
            "right": null,
            "top": null,
            "visibility": null,
            "width": null
          }
        },
        "9b4bea03adba485f805a95092aea9b47": {
          "model_module": "@jupyter-widgets/controls",
          "model_name": "DescriptionStyleModel",
          "model_module_version": "1.5.0",
          "state": {
            "_model_module": "@jupyter-widgets/controls",
            "_model_module_version": "1.5.0",
            "_model_name": "DescriptionStyleModel",
            "_view_count": null,
            "_view_module": "@jupyter-widgets/base",
            "_view_module_version": "1.2.0",
            "_view_name": "StyleView",
            "description_width": ""
          }
        },
        "1adfe9b067714573913dfed61ddafb0f": {
          "model_module": "@jupyter-widgets/base",
          "model_name": "LayoutModel",
          "model_module_version": "1.2.0",
          "state": {
            "_model_module": "@jupyter-widgets/base",
            "_model_module_version": "1.2.0",
            "_model_name": "LayoutModel",
            "_view_count": null,
            "_view_module": "@jupyter-widgets/base",
            "_view_module_version": "1.2.0",
            "_view_name": "LayoutView",
            "align_content": null,
            "align_items": null,
            "align_self": null,
            "border": null,
            "bottom": null,
            "display": null,
            "flex": null,
            "flex_flow": null,
            "grid_area": null,
            "grid_auto_columns": null,
            "grid_auto_flow": null,
            "grid_auto_rows": null,
            "grid_column": null,
            "grid_gap": null,
            "grid_row": null,
            "grid_template_areas": null,
            "grid_template_columns": null,
            "grid_template_rows": null,
            "height": null,
            "justify_content": null,
            "justify_items": null,
            "left": null,
            "margin": null,
            "max_height": null,
            "max_width": null,
            "min_height": null,
            "min_width": null,
            "object_fit": null,
            "object_position": null,
            "order": null,
            "overflow": null,
            "overflow_x": null,
            "overflow_y": null,
            "padding": null,
            "right": null,
            "top": null,
            "visibility": null,
            "width": null
          }
        },
        "dab3a4b7a0e64b848bc8cedcc699e954": {
          "model_module": "@jupyter-widgets/controls",
          "model_name": "ProgressStyleModel",
          "model_module_version": "1.5.0",
          "state": {
            "_model_module": "@jupyter-widgets/controls",
            "_model_module_version": "1.5.0",
            "_model_name": "ProgressStyleModel",
            "_view_count": null,
            "_view_module": "@jupyter-widgets/base",
            "_view_module_version": "1.2.0",
            "_view_name": "StyleView",
            "bar_color": null,
            "description_width": ""
          }
        },
        "8dccf507b0094cb9b20c6ad56236ba1b": {
          "model_module": "@jupyter-widgets/base",
          "model_name": "LayoutModel",
          "model_module_version": "1.2.0",
          "state": {
            "_model_module": "@jupyter-widgets/base",
            "_model_module_version": "1.2.0",
            "_model_name": "LayoutModel",
            "_view_count": null,
            "_view_module": "@jupyter-widgets/base",
            "_view_module_version": "1.2.0",
            "_view_name": "LayoutView",
            "align_content": null,
            "align_items": null,
            "align_self": null,
            "border": null,
            "bottom": null,
            "display": null,
            "flex": null,
            "flex_flow": null,
            "grid_area": null,
            "grid_auto_columns": null,
            "grid_auto_flow": null,
            "grid_auto_rows": null,
            "grid_column": null,
            "grid_gap": null,
            "grid_row": null,
            "grid_template_areas": null,
            "grid_template_columns": null,
            "grid_template_rows": null,
            "height": null,
            "justify_content": null,
            "justify_items": null,
            "left": null,
            "margin": null,
            "max_height": null,
            "max_width": null,
            "min_height": null,
            "min_width": null,
            "object_fit": null,
            "object_position": null,
            "order": null,
            "overflow": null,
            "overflow_x": null,
            "overflow_y": null,
            "padding": null,
            "right": null,
            "top": null,
            "visibility": null,
            "width": null
          }
        },
        "562a1323a46f444bb3b50f4544b69e0a": {
          "model_module": "@jupyter-widgets/controls",
          "model_name": "DescriptionStyleModel",
          "model_module_version": "1.5.0",
          "state": {
            "_model_module": "@jupyter-widgets/controls",
            "_model_module_version": "1.5.0",
            "_model_name": "DescriptionStyleModel",
            "_view_count": null,
            "_view_module": "@jupyter-widgets/base",
            "_view_module_version": "1.2.0",
            "_view_name": "StyleView",
            "description_width": ""
          }
        }
      }
    }
  },
  "cells": [
    {
      "cell_type": "code",
      "source": [
        "import assemblyai as aai"
      ],
      "metadata": {
        "id": "32TD7fPe1OAd"
      },
      "execution_count": null,
      "outputs": []
    },
    {
      "cell_type": "markdown",
      "source": [
        "# Transcription using AAI"
      ],
      "metadata": {
        "id": "wEBSjdnC5OLI"
      }
    },
    {
      "cell_type": "code",
      "execution_count": null,
      "metadata": {
        "colab": {
          "base_uri": "https://localhost:8080/"
        },
        "id": "78xEpLkx0juo",
        "outputId": "ccc0dc6f-815d-483a-b19f-4675496f98dd"
      },
      "outputs": [
        {
          "output_type": "stream",
          "name": "stdout",
          "text": [
            "Collecting assemblyai\n",
            "  Downloading assemblyai-0.24.0-py3-none-any.whl (67 kB)\n",
            "\u001b[2K     \u001b[90m━━━━━━━━━━━━━━━━━━━━━━━━━━━━━━━━━━━━━━━━\u001b[0m \u001b[32m67.1/67.1 kB\u001b[0m \u001b[31m1.9 MB/s\u001b[0m eta \u001b[36m0:00:00\u001b[0m\n",
            "\u001b[?25hCollecting httpx>=0.19.0 (from assemblyai)\n",
            "  Downloading httpx-0.27.0-py3-none-any.whl (75 kB)\n",
            "\u001b[2K     \u001b[90m━━━━━━━━━━━━━━━━━━━━━━━━━━━━━━━━━━━━━━━━\u001b[0m \u001b[32m75.6/75.6 kB\u001b[0m \u001b[31m5.9 MB/s\u001b[0m eta \u001b[36m0:00:00\u001b[0m\n",
            "\u001b[?25hRequirement already satisfied: pydantic!=1.10.7,>=1.7.0 in /usr/local/lib/python3.10/dist-packages (from assemblyai) (2.6.4)\n",
            "Requirement already satisfied: typing-extensions>=3.7 in /usr/local/lib/python3.10/dist-packages (from assemblyai) (4.10.0)\n",
            "Collecting websockets>=11.0 (from assemblyai)\n",
            "  Downloading websockets-12.0-cp310-cp310-manylinux_2_5_x86_64.manylinux1_x86_64.manylinux_2_17_x86_64.manylinux2014_x86_64.whl (130 kB)\n",
            "\u001b[2K     \u001b[90m━━━━━━━━━━━━━━━━━━━━━━━━━━━━━━━━━━━━━━━━\u001b[0m \u001b[32m130.2/130.2 kB\u001b[0m \u001b[31m11.3 MB/s\u001b[0m eta \u001b[36m0:00:00\u001b[0m\n",
            "\u001b[?25hRequirement already satisfied: anyio in /usr/local/lib/python3.10/dist-packages (from httpx>=0.19.0->assemblyai) (3.7.1)\n",
            "Requirement already satisfied: certifi in /usr/local/lib/python3.10/dist-packages (from httpx>=0.19.0->assemblyai) (2024.2.2)\n",
            "Collecting httpcore==1.* (from httpx>=0.19.0->assemblyai)\n",
            "  Downloading httpcore-1.0.5-py3-none-any.whl (77 kB)\n",
            "\u001b[2K     \u001b[90m━━━━━━━━━━━━━━━━━━━━━━━━━━━━━━━━━━━━━━━━\u001b[0m \u001b[32m77.9/77.9 kB\u001b[0m \u001b[31m6.5 MB/s\u001b[0m eta \u001b[36m0:00:00\u001b[0m\n",
            "\u001b[?25hRequirement already satisfied: idna in /usr/local/lib/python3.10/dist-packages (from httpx>=0.19.0->assemblyai) (3.6)\n",
            "Requirement already satisfied: sniffio in /usr/local/lib/python3.10/dist-packages (from httpx>=0.19.0->assemblyai) (1.3.1)\n",
            "Collecting h11<0.15,>=0.13 (from httpcore==1.*->httpx>=0.19.0->assemblyai)\n",
            "  Downloading h11-0.14.0-py3-none-any.whl (58 kB)\n",
            "\u001b[2K     \u001b[90m━━━━━━━━━━━━━━━━━━━━━━━━━━━━━━━━━━━━━━━━\u001b[0m \u001b[32m58.3/58.3 kB\u001b[0m \u001b[31m5.1 MB/s\u001b[0m eta \u001b[36m0:00:00\u001b[0m\n",
            "\u001b[?25hRequirement already satisfied: annotated-types>=0.4.0 in /usr/local/lib/python3.10/dist-packages (from pydantic!=1.10.7,>=1.7.0->assemblyai) (0.6.0)\n",
            "Requirement already satisfied: pydantic-core==2.16.3 in /usr/local/lib/python3.10/dist-packages (from pydantic!=1.10.7,>=1.7.0->assemblyai) (2.16.3)\n",
            "Requirement already satisfied: exceptiongroup in /usr/local/lib/python3.10/dist-packages (from anyio->httpx>=0.19.0->assemblyai) (1.2.0)\n",
            "Installing collected packages: websockets, h11, httpcore, httpx, assemblyai\n",
            "Successfully installed assemblyai-0.24.0 h11-0.14.0 httpcore-1.0.5 httpx-0.27.0 websockets-12.0\n"
          ]
        }
      ],
      "source": [
        "pip install assemblyai"
      ]
    },
    {
      "cell_type": "code",
      "source": [
        "aai.settings.api_key = \"768d2e813e7f4787958bbd2c653ef839\"\n",
        "transcriber = aai.Transcriber()\n",
        "transcript = transcriber.transcribe(\"https://storage.googleapis.com/aai-web-samples/news.mp4\")\n",
        "print(transcript.text)"
      ],
      "metadata": {
        "colab": {
          "base_uri": "https://localhost:8080/"
        },
        "id": "Syycn7CM1J3u",
        "outputId": "2ea39ced-0778-4ca7-f759-2dd7444abe20"
      },
      "execution_count": null,
      "outputs": [
        {
          "output_type": "stream",
          "name": "stdout",
          "text": [
            "I'm David Curley at the Smithsonian Air and Space Museum, where we are marking 50 years since man landed and walked on the moon in a lander just like this one. We are going to show you some of the actual ABC News coverage from 50 years ago. During that eight day mission of this remarkable achievement, Apollo Eleven's lander, the Eagle, would be the first man craft to land on the moon. For training, NASA came up with an unusual contraption. Neil Armstrong actually had to eject from it once, and then he had a couple of successful flights. ABC News anchor at the time, 50 years ago, Frank Reynolds with a look at that unusual trainer. Apollo Eleven Commander Neil Armstrong is at the controls of a lunar landing training vehicle, testing the reaction control jets. These thrusters stabilize the LEM during landing and takeoff. The LLTV is designed to simulate the behavior of the LEM as it lands in the moon's gravity. Lunar gravity is one 6th that of the Earth's. Neil ArmstroNG flew one of these vehicles on May 6, 1968, and that flight was nearly his last. Later reports by a NASA investigating team said the crash, which we'll see soon, was caused by a loss of fuel pressure compounded by a warning light that failed to work. Armstrong's coolness under pressure saved himself and possibly months of delay for the Apollo program. Later that same year, 1968, another test pilot, Joseph Allegranti, also escaped from an LLTV just before it crashed. The training vehicle then underwent several design modifications and improvements. Engineers had to increase the vehicle's rocket power to help stabilize the craft. That made the LLTV less of a moon gravity simulator, but it improved pilot safety. On June 16, 1969, Neil Armstrong flew the vehicle, sometimes called the flying bedstead, to several perfect landings. The question was, how does the machine fly? And the answer is that we're very pleased with the way it flies. It's a significant improvement over the LLRV, which we were flying here a year ago, and I think it does an, an excellent job of actually capturing the handling characteristics of the lunar module in landing maneuver. It's really a great deal different than any other kind of aircraft that I've ever flown. The simulation of lunar gravity has some aspects that make this type of flight sufficiently different from anything else we've ever done to make this vehicle very worthwhile. And I'm very pleased that I had the opportunity to get some flights in it here just before the Apollo eleven flight.\n"
          ]
        }
      ]
    },
    {
      "cell_type": "markdown",
      "source": [
        "## Examples with importing audio files from youtube"
      ],
      "metadata": {
        "id": "H9pLl54K11Wj"
      }
    },
    {
      "cell_type": "code",
      "source": [
        "pip install pytube"
      ],
      "metadata": {
        "colab": {
          "base_uri": "https://localhost:8080/"
        },
        "id": "tuh-yPBe1-RJ",
        "outputId": "ed719da0-3cf7-4e4a-e155-cbf70b8ebb7d"
      },
      "execution_count": null,
      "outputs": [
        {
          "output_type": "stream",
          "name": "stdout",
          "text": [
            "Collecting pytube\n",
            "  Downloading pytube-15.0.0-py3-none-any.whl (57 kB)\n",
            "\u001b[?25l     \u001b[90m━━━━━━━━━━━━━━━━━━━━━━━━━━━━━━━━━━━━━━━━\u001b[0m \u001b[32m0.0/57.6 kB\u001b[0m \u001b[31m?\u001b[0m eta \u001b[36m-:--:--\u001b[0m\r\u001b[2K     \u001b[91m━━━━━━━━━━━━━━━━━━━━━━━━━━━━━━━━━━━\u001b[0m\u001b[91m╸\u001b[0m\u001b[90m━━━━\u001b[0m \u001b[32m51.2/57.6 kB\u001b[0m \u001b[31m1.3 MB/s\u001b[0m eta \u001b[36m0:00:01\u001b[0m\r\u001b[2K     \u001b[90m━━━━━━━━━━━━━━━━━━━━━━━━━━━━━━━━━━━━━━━━\u001b[0m \u001b[32m57.6/57.6 kB\u001b[0m \u001b[31m1.1 MB/s\u001b[0m eta \u001b[36m0:00:00\u001b[0m\n",
            "\u001b[?25hInstalling collected packages: pytube\n",
            "Successfully installed pytube-15.0.0\n"
          ]
        }
      ]
    },
    {
      "cell_type": "code",
      "source": [
        "from pytube import YouTube\n",
        "import os"
      ],
      "metadata": {
        "id": "T7tiVBdu17mA"
      },
      "execution_count": null,
      "outputs": []
    },
    {
      "cell_type": "code",
      "source": [
        "# YouTube video URL\n",
        "url = 'https://www.youtube.com/shorts/MDDakzhv3_8'\n",
        "\n",
        "# Download the video\n",
        "yt = YouTube(url)\n",
        "video = yt.streams.filter(only_audio=True).first()\n",
        "video.download(output_path='path_to_save')\n"
      ],
      "metadata": {
        "colab": {
          "base_uri": "https://localhost:8080/",
          "height": 35
        },
        "id": "-ER8VU8a15DG",
        "outputId": "649afbb6-981d-4d4d-fb83-99a7ed573385"
      },
      "execution_count": null,
      "outputs": [
        {
          "output_type": "execute_result",
          "data": {
            "text/plain": [
              "'/content/path_to_save/5 Area To Focus For Data Science Interviews🔥🔥 datascience.mp4'"
            ],
            "application/vnd.google.colaboratory.intrinsic+json": {
              "type": "string"
            }
          },
          "metadata": {},
          "execution_count": 7
        }
      ]
    },
    {
      "cell_type": "code",
      "source": [
        "# Transcribing the youtube video\n",
        "file = '5_areas_to_focus_for_data_science_interviews.mp4'\n",
        "transcript = transcriber.transcribe(f\"./path_to_save/{file}\")"
      ],
      "metadata": {
        "id": "gv8dfSus3BDF"
      },
      "execution_count": null,
      "outputs": []
    },
    {
      "cell_type": "code",
      "source": [
        "transcript.text"
      ],
      "metadata": {
        "id": "wpSggRtQ3lQT"
      },
      "execution_count": null,
      "outputs": []
    },
    {
      "cell_type": "code",
      "source": [
        "# video download and transcription function\n",
        "def transcribe_video(url):\n",
        "  # Download the video\n",
        "  yt = YouTube(url)\n",
        "  video = yt.streams.filter(only_audio=True).first()\n",
        "  video.download(output_path='path_to_save')\n",
        "  transcript = transcriber.transcribe(f\"./path_to_save/{video.default_filename}\")\n",
        "  return transcript.text"
      ],
      "metadata": {
        "id": "tlSvM3sR6xpH"
      },
      "execution_count": null,
      "outputs": []
    },
    {
      "cell_type": "code",
      "source": [
        "# Example\n",
        "mock_interview = transcribe_video('https://www.youtube.com/watch?v=4bZIXDkbDBM')"
      ],
      "metadata": {
        "id": "Rxf6xWsm-V9Q"
      },
      "execution_count": null,
      "outputs": []
    },
    {
      "cell_type": "code",
      "source": [
        "mock_interview"
      ],
      "metadata": {
        "id": "oUDdtDap-lbT",
        "colab": {
          "base_uri": "https://localhost:8080/",
          "height": 70
        },
        "outputId": "e9f07e9e-7f92-4a31-c472-46cfb46d1d9f"
      },
      "execution_count": null,
      "outputs": [
        {
          "output_type": "execute_result",
          "data": {
            "text/plain": [
              "\"So what do you know about lbos? What is an lBo? When I say lBo, what does that mean to you? Sure. So, leverage buyout. And it's the acquisition of a company by a financial sponsor financed with a large portion of debt, typically about 60% to 70% of the capital structure. But it can be, say, even up to 80 in a frothy debt market. The remaining 30% to 40% is provided by a financial sponsor, and the goal is to, over time, deliver a 20% IR, typically over a five to seven year holding period. And that's captured through a sale either to a strategic or a financial sponsor or an IPO.\""
            ],
            "application/vnd.google.colaboratory.intrinsic+json": {
              "type": "string"
            }
          },
          "metadata": {},
          "execution_count": 107
        }
      ]
    },
    {
      "cell_type": "markdown",
      "source": [
        "# Summarise text"
      ],
      "metadata": {
        "id": "HP406LXA6Ap1"
      }
    },
    {
      "cell_type": "code",
      "source": [
        "from transformers import BartTokenizer, BartForConditionalGeneration, BartConfig\n",
        "from transformers import pipeline"
      ],
      "metadata": {
        "id": "Nccj0yftYrcY"
      },
      "execution_count": null,
      "outputs": []
    },
    {
      "cell_type": "code",
      "source": [
        "# Load pre-trained BART model and tokenizer\n",
        "model_name = \"facebook/bart-large-cnn\"\n",
        "tokenizer = BartTokenizer.from_pretrained(model_name)\n",
        "model = BartForConditionalGeneration.from_pretrained(model_name)"
      ],
      "metadata": {
        "id": "HfuHuKGJYqRC"
      },
      "execution_count": null,
      "outputs": []
    },
    {
      "cell_type": "code",
      "source": [
        "config = BartConfig.from_pretrained(model_name)\n",
        "\n",
        "# Get the maximum token length\n",
        "max_token_length = config.max_position_embeddings\n",
        "\n",
        "# Print the maximum token length\n",
        "print(\"Maximum token length for {}: {}\".format(model_name, max_token_length))"
      ],
      "metadata": {
        "colab": {
          "base_uri": "https://localhost:8080/"
        },
        "id": "uvLLwB2hi7km",
        "outputId": "be6b5c45-a756-4d10-8144-09c695e3eb20"
      },
      "execution_count": null,
      "outputs": [
        {
          "output_type": "stream",
          "name": "stdout",
          "text": [
            "Maximum token length for facebook/bart-large-cnn: 1024\n"
          ]
        }
      ]
    },
    {
      "cell_type": "markdown",
      "source": [
        "###Create pipeline"
      ],
      "metadata": {
        "id": "3FdtAngtqAw2"
      }
    },
    {
      "cell_type": "code",
      "source": [
        "# Initialize text summarization pipeline\n",
        "summarization_pipeline = pipeline(\"summarization\", model=model, tokenizer=tokenizer)"
      ],
      "metadata": {
        "id": "7XqSO7C7YuDh"
      },
      "execution_count": null,
      "outputs": []
    },
    {
      "cell_type": "code",
      "source": [
        "max_input_length = 300"
      ],
      "metadata": {
        "id": "S21QQhfbc2tD"
      },
      "execution_count": null,
      "outputs": []
    },
    {
      "cell_type": "markdown",
      "source": [
        "### First summary from Mock interview"
      ],
      "metadata": {
        "id": "_TO5eZTrqGi8"
      }
    },
    {
      "cell_type": "code",
      "source": [
        "# Generate summary\n",
        "summary = summarization_pipeline(mock_interview, max_length = max_input_length)\n",
        "summary[0]['summary_text']"
      ],
      "metadata": {
        "colab": {
          "base_uri": "https://localhost:8080/",
          "height": 90
        },
        "id": "m8Swzh4TY3aj",
        "outputId": "c6dbbc03-4a50-4dba-cbc8-e4ec4961c4a6"
      },
      "execution_count": null,
      "outputs": [
        {
          "output_type": "stream",
          "name": "stderr",
          "text": [
            "Your max_length is set to 300, but your input_length is only 146. Since this is a summarization task, where outputs shorter than the input are typically wanted, you might consider decreasing max_length manually, e.g. summarizer('...', max_length=73)\n"
          ]
        },
        {
          "output_type": "execute_result",
          "data": {
            "text/plain": [
              "\"An lBo is an acquisition of a company by a financial sponsor financed with a large portion of debt. The goal is to, over time, deliver a 20% IR, typically over a five to seven year holding period. And that's captured through a sale either to a strategic or financial sponsor or an IPO.\""
            ],
            "application/vnd.google.colaboratory.intrinsic+json": {
              "type": "string"
            }
          },
          "metadata": {},
          "execution_count": 118
        }
      ]
    },
    {
      "cell_type": "markdown",
      "source": [
        "## Automatic model from pipeline"
      ],
      "metadata": {
        "id": "yJJiC2qBmWQu"
      }
    },
    {
      "cell_type": "code",
      "source": [
        "from transformers import pipeline"
      ],
      "metadata": {
        "id": "5wucVnZimbCa"
      },
      "execution_count": null,
      "outputs": []
    },
    {
      "cell_type": "code",
      "source": [
        "# Open and read the article\n",
        "f = open(\"article.txt\", \"r\", encoding=\"utf8\")\n",
        "to_tokenize = f.read()"
      ],
      "metadata": {
        "id": "gBGV8VGHmhou"
      },
      "execution_count": null,
      "outputs": []
    },
    {
      "cell_type": "code",
      "source": [
        "# Initialize the HuggingFace summarization pipeline\n",
        "summarizer = pipeline(\"summarization\")\n",
        "summarized = summarizer(mock_interview, min_length=75, max_length=300)\n",
        "\n",
        "# Print summarized text\n",
        "print(summarized)"
      ],
      "metadata": {
        "colab": {
          "base_uri": "https://localhost:8080/"
        },
        "id": "mVRe5hDbmVv2",
        "outputId": "57d22d2d-fcf5-45db-9786-5c58544600b2"
      },
      "execution_count": null,
      "outputs": [
        {
          "output_type": "stream",
          "name": "stderr",
          "text": [
            "No model was supplied, defaulted to sshleifer/distilbart-cnn-12-6 and revision a4f8f3e (https://huggingface.co/sshleifer/distilbart-cnn-12-6).\n",
            "Using a pipeline without specifying a model name and revision in production is not recommended.\n",
            "Your max_length is set to 15000, but your input_length is only 290. Since this is a summarization task, where outputs shorter than the input are typically wanted, you might consider decreasing max_length manually, e.g. summarizer('...', max_length=145)\n"
          ]
        },
        {
          "output_type": "stream",
          "name": "stdout",
          "text": [
            "[{'summary_text': ' Last summer internship was on the fixed income trading desk at UBS . \"This was kind of the next best thing, but I had a lot of exposure to deal flow,\" he says . \"I want to be the guy kind of advising the companies, structuring these transactions, I want to have exposure to m and a as well, once the deal prices\"'}]\n"
          ]
        }
      ]
    },
    {
      "cell_type": "code",
      "source": [
        "summarized"
      ],
      "metadata": {
        "colab": {
          "base_uri": "https://localhost:8080/"
        },
        "id": "sao7pMDolvZD",
        "outputId": "7ce7aa2c-d142-4dce-b9b6-bc673c602e6c"
      },
      "execution_count": null,
      "outputs": [
        {
          "output_type": "execute_result",
          "data": {
            "text/plain": [
              "[{'summary_text': ' Last summer internship was on the fixed income trading desk at UBS . \"This was kind of the next best thing, but I had a lot of exposure to deal flow,\" he says . \"I want to be the guy kind of advising the companies, structuring these transactions, I want to have exposure to m and a as well, once the deal prices\"'}]"
            ]
          },
          "metadata": {},
          "execution_count": 82
        }
      ]
    },
    {
      "cell_type": "code",
      "source": [
        "mock_interview"
      ],
      "metadata": {
        "colab": {
          "base_uri": "https://localhost:8080/"
        },
        "id": "hGxnQ05Nnf6l",
        "outputId": "23575c5f-ac5e-401d-f78d-d278c88e16b0"
      },
      "execution_count": null,
      "outputs": [
        {
          "output_type": "execute_result",
          "data": {
            "text/plain": [
              "\"So I've had some time to review resume. You've got some interesting experience here. But I guess just to kick this off, first question is, why investment banking? Why not consulting? Why not going into a corporate job? Why IB? Excellent. Well, my last summer internship was on the fixed income trading desk at UBS. I tried to get a corporate finance job, an investment banking job. This was kind of the next best thing, but I had a lot of exposure to deal flow, had a lot of exposure to the aftermarket as well, once the deal prices. So being that I want to be the guy kind of advising the companies, structuring these transactions, I want to have exposure to m and a as well. I read a lot about the m and a transactions that your firm is doing. They seem incredibly interesting. I have a lot of friends who work in investment banking, so I kind of know what I'm getting into in terms of the, the fast pace of a deal once the deal goes live, the multiple projects, the different parts of the deal process, the collegial environment and the camaraderie. I have a few friends in consulting. They work on one project in a lot of detail over a very long period of time. They don't get a lot of exposure to different types of businesses or products. So that's kind of what I'm interested in.\""
            ],
            "application/vnd.google.colaboratory.intrinsic+json": {
              "type": "string"
            }
          },
          "metadata": {},
          "execution_count": 83
        }
      ]
    },
    {
      "cell_type": "markdown",
      "source": [
        "# Sample interview questions/answers"
      ],
      "metadata": {
        "id": "gn7P8sVpqlvu"
      }
    },
    {
      "cell_type": "code",
      "source": [
        "NLP_fundamentals = '''\n",
        "So, when we talk about Natural Language Processing, or NLP, we’re diving into how computers can understand and interact with human languages. It’s like teaching a computer to listen, understand, and even talk back in a way that feels natural to us. This is super important today because it helps make technology more user-friendly and accessible. Imagine an educational app that can talk to students in their language, understand their questions, and offer help just like a human teacher would. That’s where NLP shines in edutech. It’s transforming how educational content is delivered, making learning personalized and interactive. From auto-grading essays to powering chatbots for instant homework help, NLP is truly changing the game in education technology.\n",
        "'''"
      ],
      "metadata": {
        "id": "AwdR3x2_qp3z"
      },
      "execution_count": null,
      "outputs": []
    },
    {
      "cell_type": "code",
      "source": [
        "microservices = '''\n",
        "Alright, let’s talk about microservices and why they’re a big deal for NLP solutions, especially in a startup environment. Think of microservices as building a big Lego set, where each small block is a microservice. Each piece has a specific role and they all fit together to create something amazing. This approach lets us update, fix, or scale just one part of the system without touching the rest. For an edutech startup, this is gold. It means we can roll out new features fast, scale our services exactly where and when needed, and ensure that if one part has a hiccup, it doesn’t take down everything else. It’s about being agile, efficient, and resilient, which is exactly what you need when you’re using NLP to create innovative educational tools.\n",
        "'''"
      ],
      "metadata": {
        "id": "cR_cazGtq1mi"
      },
      "execution_count": null,
      "outputs": []
    },
    {
      "cell_type": "code",
      "source": [
        "models = '''\n",
        "In the world of NLP, we’ve got a whole toolbox of machine learning models. From the classics like decision trees and Naive Bayes to the heavy hitters like Support Vector Machines and neural networks. But recently, it’s the neural network models, particularly Recurrent Neural Networks (RNNs) and Transformers like BERT, that have really stolen the spotlight. In my own projects, I’ve seen firsthand how something like BERT can grasp the nuances of language in a way others can’t. It’s about understanding not just the words, but the context and subtleties of human language. For example, in a project aimed at analyzing student feedback, BERT helped us pick up on the sentiment and nuances far better than traditional models. What’s cool is that these models have been trained on vast amounts of data before we even start with them, which means we can achieve impressive results with relatively little fine-tuning on our end.\n",
        "'''"
      ],
      "metadata": {
        "id": "j_jebk2fq8j0"
      },
      "execution_count": null,
      "outputs": []
    },
    {
      "cell_type": "code",
      "source": [
        "# Generate summary\n",
        "summary_fundamentals = summarization_pipeline(NLP_fundamentals, max_length = max_input_length)\n",
        "summary_fundamentals[0]['summary_text']"
      ],
      "metadata": {
        "colab": {
          "base_uri": "https://localhost:8080/",
          "height": 90
        },
        "id": "zhGGFt-0rDPh",
        "outputId": "f39922e8-c020-46c5-8854-dc0fc7b90e69"
      },
      "execution_count": null,
      "outputs": [
        {
          "output_type": "stream",
          "name": "stderr",
          "text": [
            "Your max_length is set to 300, but your input_length is only 160. Since this is a summarization task, where outputs shorter than the input are typically wanted, you might consider decreasing max_length manually, e.g. summarizer('...', max_length=80)\n"
          ]
        },
        {
          "output_type": "execute_result",
          "data": {
            "text/plain": [
              "'Natural Language Processing is transforming how educational content is delivered. It’s like teaching a computer to listen, understand, and even talk back in a way that feels natural to us. Imagine an educational app that can talk to students in their language, understand their questions, and offer help just like a human teacher.'"
            ],
            "application/vnd.google.colaboratory.intrinsic+json": {
              "type": "string"
            }
          },
          "metadata": {},
          "execution_count": 128
        }
      ]
    },
    {
      "cell_type": "code",
      "source": [
        "# Generate summary\n",
        "summary_microservices = summarization_pipeline(microservices, max_length = max_input_length)\n",
        "summary_microservices[0]['summary_text']"
      ],
      "metadata": {
        "colab": {
          "base_uri": "https://localhost:8080/",
          "height": 90
        },
        "id": "CoEQKSiKrZWk",
        "outputId": "795e5ff5-9078-4eb3-8e09-bee95ce28fd7"
      },
      "execution_count": null,
      "outputs": [
        {
          "output_type": "stream",
          "name": "stderr",
          "text": [
            "Your max_length is set to 300, but your input_length is only 177. Since this is a summarization task, where outputs shorter than the input are typically wanted, you might consider decreasing max_length manually, e.g. summarizer('...', max_length=88)\n"
          ]
        },
        {
          "output_type": "execute_result",
          "data": {
            "text/plain": [
              "'Think of microservices as building a big Lego set, where each small block is a microservice. This approach lets us update, fix, or scale just one part of the system without touching the rest. For an edutech startup, this is gold. It means we can roll out new features fast, scale our services exactly where and when needed.'"
            ],
            "application/vnd.google.colaboratory.intrinsic+json": {
              "type": "string"
            }
          },
          "metadata": {},
          "execution_count": 129
        }
      ]
    },
    {
      "cell_type": "code",
      "source": [
        "# Generate summary\n",
        "summary_models = summarization_pipeline(models, max_length = max_input_length)\n",
        "summary_models[0]['summary_text']"
      ],
      "metadata": {
        "colab": {
          "base_uri": "https://localhost:8080/",
          "height": 90
        },
        "id": "Eq8EVG0VsERs",
        "outputId": "018898a0-133c-4a75-f801-5aa3fca77832"
      },
      "execution_count": null,
      "outputs": [
        {
          "output_type": "stream",
          "name": "stderr",
          "text": [
            "Your max_length is set to 300, but your input_length is only 208. Since this is a summarization task, where outputs shorter than the input are typically wanted, you might consider decreasing max_length manually, e.g. summarizer('...', max_length=104)\n"
          ]
        },
        {
          "output_type": "execute_result",
          "data": {
            "text/plain": [
              "'BERT can grasp the nuances of language in a way others can’t. For example, in a project aimed at analyzing student feedback, BERT helped us pick up on the sentiment and nuances far better than traditional models. These models have been trained on vast amounts of data before we even start with them.'"
            ],
            "application/vnd.google.colaboratory.intrinsic+json": {
              "type": "string"
            }
          },
          "metadata": {},
          "execution_count": 130
        }
      ]
    },
    {
      "cell_type": "markdown",
      "source": [
        "# zero-shot-classification"
      ],
      "metadata": {
        "id": "_CfbMD4ov_lh"
      }
    },
    {
      "cell_type": "code",
      "source": [
        "from transformers import AutoModelForSequenceClassification"
      ],
      "metadata": {
        "id": "KTuhCmGYxCi2"
      },
      "execution_count": null,
      "outputs": []
    },
    {
      "cell_type": "code",
      "source": [
        "model_name = \"facebook/bart-large-mnli\"\n",
        "tokenizer = BartTokenizer.from_pretrained(model_name)\n",
        "\n",
        "cat_model = AutoModelForSequenceClassification.from_pretrained(model_name)"
      ],
      "metadata": {
        "colab": {
          "base_uri": "https://localhost:8080/"
        },
        "id": "YFai51_5ws5M",
        "outputId": "53ea0d4f-abe9-4471-8823-6474c5bb7987"
      },
      "execution_count": null,
      "outputs": [
        {
          "output_type": "stream",
          "name": "stderr",
          "text": [
            "Some weights of BartForSequenceClassification were not initialized from the model checkpoint at facebook/bart-large-cnn and are newly initialized: ['classification_head.dense.bias', 'classification_head.dense.weight', 'classification_head.out_proj.bias', 'classification_head.out_proj.weight']\n",
            "You should probably TRAIN this model on a down-stream task to be able to use it for predictions and inference.\n"
          ]
        }
      ]
    },
    {
      "cell_type": "code",
      "source": [
        "# Initialize text summarization pipeline\n",
        "categorization_pipeline = pipeline(\"zero-shot-classification\",\n",
        "                                   #model=cat_model,\n",
        "                                   #tokenizer=tokenizer\n",
        "                                   )"
      ],
      "metadata": {
        "colab": {
          "base_uri": "https://localhost:8080/",
          "height": 244,
          "referenced_widgets": [
            "8a9ae546c8c047a2812f04314bd6e749",
            "76db24fcefd6434880c6f7d46c0ed9e6",
            "3c8a991d356e4a84a7e092893501d6e6",
            "ef56c02334e5479ea16db82516b7d15d",
            "83e41fe97a2843f89f351d3f726cfc8d",
            "7bddd3aa4b6746b3b2ef7a5128ce294c",
            "f6ca0ef2a66741828b0e742e3c58b1f3",
            "2c7fedac47db49bda1be8715617f2573",
            "a98824c3859244ac9a649b6f6db88612",
            "45bdefa30ca64c1a830a2fed7b5d18d1",
            "50fe3ac27d0b4969a5b361c93d1b1835",
            "72593410958747d982cfadf62474543c",
            "62af00786761461a8177d051692b7713",
            "310aded280b6424086a1e4b892646c9d",
            "a34ddfa1a77a4afcaba3518e77cea7ba",
            "592d73b557c544be9b2cd7cc123e3575",
            "d6960ddfa4e54935b8730be88de70fe1",
            "0590af39484840c59d2f947c23a51a2e",
            "6083341d59294c159511cfabed9b4139",
            "e0a2b17ab84e492c854ea2e984819a7e",
            "b3e466e3037f4193a73d2d2d61acd2d7",
            "139f70ae24f24556906a597a1ccfacb5",
            "a4e4c81cc7e145d48ace6c9b3e4f98dd",
            "486929233e364625b3265b28c3be529b",
            "bad973191ac2466d8973990949541e29",
            "c2da5d68a9cf48bdb9396371f2ef573a",
            "9d2a51c961024c4a8246467acf378443",
            "c6ce663751d04d49b61183b3f18efa7b",
            "3c808b99d4464ceb967cc16b8ce5944a",
            "4d3e066abd0b45609f00c8a8b80a277c",
            "0343fd2fa016443998028847ddb0acd0",
            "0f0482e0208446b1810ac6aa55a221e6",
            "cda386bbe1d8462e803a15e9662e3f50",
            "7cfb485534744e9fb4f2523fe27fe0e6",
            "0f8889ef3e2c446b80c2ef28a2c969f1",
            "e41a63dd97784db4aedb04d5ce3eaa60",
            "cddc36df719242ca8f6d4604cbe034a1",
            "453131b7f0544908ac1bcf24041bfcac",
            "e2692461a0cd4f408debd15ac35379d6",
            "bf2c0702f6024a13bb1ed83a50a108fe",
            "6bccfc0f3a394a1697bc29e967979afd",
            "47095ff7b2f740fea4e42a6395b3384e",
            "f355b52acdd34ab183853a34327ea64d",
            "c98c3a1c82bc41fa93ab3a0d5d7b6bd7",
            "6d8a98e0b6f84af6866f97c705ee6f84",
            "dbea70f51d614d9ab215af01139b95ad",
            "b9c4549526264d8896731133526c3725",
            "8eb77eb3df0247da8e487e2e86d57aa1",
            "679a1e6133744313821b67cdcee4eea4",
            "5ffa43afdca04e1dbb4442b61921df74",
            "1932d834b77c4dc8b6560e7b2a00da39",
            "f78b8620f10745dcb5a57b16be2628a9",
            "90ebf6210bc841049c4a123adc4394e6",
            "2a88bc753e014adaaa60175dbe24994e",
            "93027c522c13497c853a5e5dc666ff9d",
            "3dd403fa0cdc4a9cbee31d01ae41c20d",
            "8fcd998f0367477e82e26e09ade25248",
            "55c1c2c582d9482a9531f04aaed4dc91",
            "d4ed3a55560441d2a5dec19cbc808ad2",
            "39e0260b768b48a3b82dc45a034fb5a0",
            "918cbd8f6bba49368e0c213830371874",
            "0be4a7f05ea84c418d930a975afdbc2e",
            "49f8564298b044ed95727cfefde6a7bb",
            "98f7db70e71b4f768f8049f57ab93d0a",
            "da0f9443123044a29b7262405360884a",
            "5440c5a094a84c198ea760c3e6831f67"
          ]
        },
        "id": "atJ1OHr6wD0B",
        "outputId": "aecdc38a-3652-4eb3-fc42-413ebaa617fe"
      },
      "execution_count": null,
      "outputs": [
        {
          "output_type": "stream",
          "name": "stderr",
          "text": [
            "No model was supplied, defaulted to facebook/bart-large-mnli and revision c626438 (https://huggingface.co/facebook/bart-large-mnli).\n",
            "Using a pipeline without specifying a model name and revision in production is not recommended.\n"
          ]
        },
        {
          "output_type": "display_data",
          "data": {
            "text/plain": [
              "config.json:   0%|          | 0.00/1.15k [00:00<?, ?B/s]"
            ],
            "application/vnd.jupyter.widget-view+json": {
              "version_major": 2,
              "version_minor": 0,
              "model_id": "8a9ae546c8c047a2812f04314bd6e749"
            }
          },
          "metadata": {}
        },
        {
          "output_type": "display_data",
          "data": {
            "text/plain": [
              "model.safetensors:   0%|          | 0.00/1.63G [00:00<?, ?B/s]"
            ],
            "application/vnd.jupyter.widget-view+json": {
              "version_major": 2,
              "version_minor": 0,
              "model_id": "72593410958747d982cfadf62474543c"
            }
          },
          "metadata": {}
        },
        {
          "output_type": "display_data",
          "data": {
            "text/plain": [
              "tokenizer_config.json:   0%|          | 0.00/26.0 [00:00<?, ?B/s]"
            ],
            "application/vnd.jupyter.widget-view+json": {
              "version_major": 2,
              "version_minor": 0,
              "model_id": "a4e4c81cc7e145d48ace6c9b3e4f98dd"
            }
          },
          "metadata": {}
        },
        {
          "output_type": "display_data",
          "data": {
            "text/plain": [
              "vocab.json:   0%|          | 0.00/899k [00:00<?, ?B/s]"
            ],
            "application/vnd.jupyter.widget-view+json": {
              "version_major": 2,
              "version_minor": 0,
              "model_id": "7cfb485534744e9fb4f2523fe27fe0e6"
            }
          },
          "metadata": {}
        },
        {
          "output_type": "display_data",
          "data": {
            "text/plain": [
              "merges.txt:   0%|          | 0.00/456k [00:00<?, ?B/s]"
            ],
            "application/vnd.jupyter.widget-view+json": {
              "version_major": 2,
              "version_minor": 0,
              "model_id": "6d8a98e0b6f84af6866f97c705ee6f84"
            }
          },
          "metadata": {}
        },
        {
          "output_type": "display_data",
          "data": {
            "text/plain": [
              "tokenizer.json:   0%|          | 0.00/1.36M [00:00<?, ?B/s]"
            ],
            "application/vnd.jupyter.widget-view+json": {
              "version_major": 2,
              "version_minor": 0,
              "model_id": "3dd403fa0cdc4a9cbee31d01ae41c20d"
            }
          },
          "metadata": {}
        }
      ]
    },
    {
      "cell_type": "code",
      "source": [
        "categories = ['sports', 'business', 'technology', 'entertainment', 'nlp', 'microservices', 'models', 'deep learning', 'machine learning']"
      ],
      "metadata": {
        "id": "5r3I4Zjvx7dm"
      },
      "execution_count": null,
      "outputs": []
    },
    {
      "cell_type": "code",
      "source": [
        "categorization_pipeline(NLP_fundamentals, categories)"
      ],
      "metadata": {
        "colab": {
          "base_uri": "https://localhost:8080/"
        },
        "id": "aYJJCrAvwNCN",
        "outputId": "15234d01-6138-4d35-9880-b1db439be9e6"
      },
      "execution_count": null,
      "outputs": [
        {
          "output_type": "execute_result",
          "data": {
            "text/plain": [
              "{'sequence': '\\nSo, when we talk about Natural Language Processing, or NLP, we’re diving into how computers can understand and interact with human languages. It’s like teaching a computer to listen, understand, and even talk back in a way that feels natural to us. This is super important today because it helps make technology more user-friendly and accessible. Imagine an educational app that can talk to students in their language, understand their questions, and offer help just like a human teacher would. That’s where NLP shines in edutech. It’s transforming how educational content is delivered, making learning personalized and interactive. From auto-grading essays to powering chatbots for instant homework help, NLP is truly changing the game in education technology.\\n',\n",
              " 'labels': ['technology',\n",
              "  'nlp',\n",
              "  'models',\n",
              "  'entertainment',\n",
              "  'machine learning',\n",
              "  'business',\n",
              "  'microservices',\n",
              "  'deep learning',\n",
              "  'sports'],\n",
              " 'scores': [0.5126819014549255,\n",
              "  0.39603736996650696,\n",
              "  0.03614719957113266,\n",
              "  0.01427378412336111,\n",
              "  0.014112615026533604,\n",
              "  0.008257281966507435,\n",
              "  0.007274790201336145,\n",
              "  0.006105438806116581,\n",
              "  0.005109636578708887]}"
            ]
          },
          "metadata": {},
          "execution_count": 145
        }
      ]
    },
    {
      "cell_type": "code",
      "source": [
        "categorization_pipeline(microservices, categories)"
      ],
      "metadata": {
        "colab": {
          "base_uri": "https://localhost:8080/"
        },
        "id": "r1mXuVFtyF2t",
        "outputId": "1fe4a68f-0b65-4dab-f567-cd4f0f6af120"
      },
      "execution_count": null,
      "outputs": [
        {
          "output_type": "execute_result",
          "data": {
            "text/plain": [
              "{'sequence': '\\nAlright, let’s talk about microservices and why they’re a big deal for NLP solutions, especially in a startup environment. Think of microservices as building a big Lego set, where each small block is a microservice. Each piece has a specific role and they all fit together to create something amazing. This approach lets us update, fix, or scale just one part of the system without touching the rest. For an edutech startup, this is gold. It means we can roll out new features fast, scale our services exactly where and when needed, and ensure that if one part has a hiccup, it doesn’t take down everything else. It’s about being agile, efficient, and resilient, which is exactly what you need when you’re using NLP to create innovative educational tools.\\n',\n",
              " 'labels': ['microservices',\n",
              "  'technology',\n",
              "  'entertainment',\n",
              "  'nlp',\n",
              "  'business',\n",
              "  'models',\n",
              "  'machine learning',\n",
              "  'deep learning',\n",
              "  'sports'],\n",
              " 'scores': [0.8233126997947693,\n",
              "  0.10473563522100449,\n",
              "  0.025452744215726852,\n",
              "  0.020932812243700027,\n",
              "  0.011759385466575623,\n",
              "  0.005385676398873329,\n",
              "  0.0033082885202020407,\n",
              "  0.0028858028817921877,\n",
              "  0.0022269263863563538]}"
            ]
          },
          "metadata": {},
          "execution_count": 146
        }
      ]
    },
    {
      "cell_type": "code",
      "source": [
        "categorization_pipeline(models, categories)"
      ],
      "metadata": {
        "colab": {
          "base_uri": "https://localhost:8080/"
        },
        "id": "k-I8K2Noy7iS",
        "outputId": "390cfacd-87ce-498c-eb6f-5bc5cd390fc2"
      },
      "execution_count": null,
      "outputs": [
        {
          "output_type": "execute_result",
          "data": {
            "text/plain": [
              "{'sequence': '\\nIn the world of NLP, we’ve got a whole toolbox of machine learning models. From the classics like decision trees and Naive Bayes to the heavy hitters like Support Vector Machines and neural networks. But recently, it’s the neural network models, particularly Recurrent Neural Networks (RNNs) and Transformers like BERT, that have really stolen the spotlight. In my own projects, I’ve seen firsthand how something like BERT can grasp the nuances of language in a way others can’t. It’s about understanding not just the words, but the context and subtleties of human language. For example, in a project aimed at analyzing student feedback, BERT helped us pick up on the sentiment and nuances far better than traditional models. What’s cool is that these models have been trained on vast amounts of data before we even start with them, which means we can achieve impressive results with relatively little fine-tuning on our end.\\n',\n",
              " 'labels': ['machine learning',\n",
              "  'models',\n",
              "  'technology',\n",
              "  'nlp',\n",
              "  'deep learning',\n",
              "  'business',\n",
              "  'microservices',\n",
              "  'entertainment',\n",
              "  'sports'],\n",
              " 'scores': [0.47945189476013184,\n",
              "  0.2125324010848999,\n",
              "  0.18122516572475433,\n",
              "  0.08097362518310547,\n",
              "  0.013782910071313381,\n",
              "  0.010105470195412636,\n",
              "  0.009771011769771576,\n",
              "  0.008980337530374527,\n",
              "  0.0031772188376635313]}"
            ]
          },
          "metadata": {},
          "execution_count": 147
        }
      ]
    },
    {
      "cell_type": "markdown",
      "source": [
        "# Skills and knowledge extraction"
      ],
      "metadata": {
        "id": "uSPjtf7u6ICI"
      }
    },
    {
      "cell_type": "code",
      "source": [
        "text = '''\n",
        "The use of microservices architecture in technology companies is becoming increasingly popular.\n",
        "Natural Language Processing (NLP) techniques are commonly used in text analysis.\n",
        "Models trained on large datasets are often used in machine learning. I'm not familiar with Python.\n",
        "'''"
      ],
      "metadata": {
        "id": "65954BcRFwt4"
      },
      "execution_count": null,
      "outputs": []
    },
    {
      "cell_type": "markdown",
      "source": [
        "## Non automodel"
      ],
      "metadata": {
        "id": "c26vzEkXEkzV"
      }
    },
    {
      "cell_type": "code",
      "source": [
        "from transformers import AutoTokenizer, AutoModelForMaskedLM"
      ],
      "metadata": {
        "id": "ibdE5mhkChiS"
      },
      "execution_count": null,
      "outputs": []
    },
    {
      "cell_type": "code",
      "source": [
        "# Load model directly\n",
        "tokenizer = AutoTokenizer.from_pretrained(model_name)\n",
        "model = AutoModelForMaskedLM.from_pretrained(model_name)"
      ],
      "metadata": {
        "id": "qJGKbgv-CDjK"
      },
      "execution_count": null,
      "outputs": []
    },
    {
      "cell_type": "markdown",
      "source": [
        "## Auto model attempt"
      ],
      "metadata": {
        "id": "B_tDd8svEgxJ"
      }
    },
    {
      "cell_type": "code",
      "source": [
        "from transformers import AutoModel"
      ],
      "metadata": {
        "id": "FSN0aR6IEbsN"
      },
      "execution_count": null,
      "outputs": []
    },
    {
      "cell_type": "code",
      "source": [
        "auto_model = AutoModel.from_pretrained(model_name)"
      ],
      "metadata": {
        "id": "bVtZaupIEMR7"
      },
      "execution_count": null,
      "outputs": []
    },
    {
      "cell_type": "code",
      "source": [
        "tokenized_input = tokenizer(text, return_tensors='pt')"
      ],
      "metadata": {
        "id": "85Be3ag7GVSQ"
      },
      "execution_count": null,
      "outputs": []
    },
    {
      "cell_type": "code",
      "source": [
        "tokenized_input.input_ids"
      ],
      "metadata": {
        "colab": {
          "base_uri": "https://localhost:8080/"
        },
        "id": "SHIL1UN3GdsR",
        "outputId": "d3bc21e3-72f3-4c2e-aea6-663474cf00d8"
      },
      "execution_count": null,
      "outputs": [
        {
          "output_type": "execute_result",
          "data": {
            "text/plain": [
              "tensor([[  101,  1109,  1329,  1104, 17599,  6906, 14301,  1116,  4220,  1107,\n",
              "          2815,  2557,  1110,  2479,  5672,  1927,   119,  6240,  6828, 18821,\n",
              "          1158,   113, 21239,  2101,   114,  4884,  1132,  3337,  1215,  1107,\n",
              "          3087,  3622,   119, 24025,  3972,  1113,  1415,  2233, 27948,  1132,\n",
              "          1510,  1215,  1107,  3395,  3776,   119,   146,   112,   182,  1136,\n",
              "          4509,  1114, 23334,   119,   102]])"
            ]
          },
          "metadata": {},
          "execution_count": 28
        }
      ]
    },
    {
      "cell_type": "code",
      "source": [
        "# Retrieve tokenized text\n",
        "tokenized_text = tokenizer.decode(tokenized_input.input_ids[0],\n",
        "                                  #  skip_special_tokens=True\n",
        "                                  )\n",
        "# Print tokenized text\n",
        "print(tokenized_text)\n",
        "words = tokenized_text.split()\n",
        "len(words)"
      ],
      "metadata": {
        "colab": {
          "base_uri": "https://localhost:8080/"
        },
        "id": "V8K45jGMG3Ob",
        "outputId": "ef242bd3-8db2-4990-fc22-44204e924a55"
      },
      "execution_count": null,
      "outputs": [
        {
          "output_type": "stream",
          "name": "stdout",
          "text": [
            "[CLS] The use of microservices architecture in technology companies is becoming increasingly popular. Natural Language Processing ( NLP ) techniques are commonly used in text analysis. Models trained on large datasets are often used in machine learning. I'm not familiar with Python. [SEP]\n"
          ]
        },
        {
          "output_type": "execute_result",
          "data": {
            "text/plain": [
              "43"
            ]
          },
          "metadata": {},
          "execution_count": 34
        }
      ]
    },
    {
      "cell_type": "code",
      "source": [
        "skill_extraction = auto_model.\n",
        "\n",
        "generate(tokenized_input.input_ids)"
      ],
      "metadata": {
        "colab": {
          "base_uri": "https://localhost:8080/",
          "height": 356
        },
        "id": "zCpVi4w8EqIj",
        "outputId": "c946c5fc-a1c2-4a7e-94c4-998deba6aea1"
      },
      "execution_count": null,
      "outputs": [
        {
          "output_type": "error",
          "ename": "TypeError",
          "evalue": "The current model class (BertModel) is not compatible with `.generate()`, as it doesn't have a language model head. Please use one of the following classes instead: {'BertLMHeadModel'}",
          "traceback": [
            "\u001b[0;31m---------------------------------------------------------------------------\u001b[0m",
            "\u001b[0;31mTypeError\u001b[0m                                 Traceback (most recent call last)",
            "\u001b[0;32m<ipython-input-37-fe3232d894ab>\u001b[0m in \u001b[0;36m<cell line: 1>\u001b[0;34m()\u001b[0m\n\u001b[0;32m----> 1\u001b[0;31m \u001b[0mskill_extraction\u001b[0m \u001b[0;34m=\u001b[0m \u001b[0mauto_model\u001b[0m\u001b[0;34m.\u001b[0m\u001b[0mgenerate\u001b[0m\u001b[0;34m(\u001b[0m\u001b[0mtokenized_input\u001b[0m\u001b[0;34m.\u001b[0m\u001b[0minput_ids\u001b[0m\u001b[0;34m)\u001b[0m\u001b[0;34m\u001b[0m\u001b[0;34m\u001b[0m\u001b[0m\n\u001b[0m",
            "\u001b[0;32m/usr/local/lib/python3.10/dist-packages/torch/utils/_contextlib.py\u001b[0m in \u001b[0;36mdecorate_context\u001b[0;34m(*args, **kwargs)\u001b[0m\n\u001b[1;32m    113\u001b[0m     \u001b[0;32mdef\u001b[0m \u001b[0mdecorate_context\u001b[0m\u001b[0;34m(\u001b[0m\u001b[0;34m*\u001b[0m\u001b[0margs\u001b[0m\u001b[0;34m,\u001b[0m \u001b[0;34m**\u001b[0m\u001b[0mkwargs\u001b[0m\u001b[0;34m)\u001b[0m\u001b[0;34m:\u001b[0m\u001b[0;34m\u001b[0m\u001b[0;34m\u001b[0m\u001b[0m\n\u001b[1;32m    114\u001b[0m         \u001b[0;32mwith\u001b[0m \u001b[0mctx_factory\u001b[0m\u001b[0;34m(\u001b[0m\u001b[0;34m)\u001b[0m\u001b[0;34m:\u001b[0m\u001b[0;34m\u001b[0m\u001b[0;34m\u001b[0m\u001b[0m\n\u001b[0;32m--> 115\u001b[0;31m             \u001b[0;32mreturn\u001b[0m \u001b[0mfunc\u001b[0m\u001b[0;34m(\u001b[0m\u001b[0;34m*\u001b[0m\u001b[0margs\u001b[0m\u001b[0;34m,\u001b[0m \u001b[0;34m**\u001b[0m\u001b[0mkwargs\u001b[0m\u001b[0;34m)\u001b[0m\u001b[0;34m\u001b[0m\u001b[0;34m\u001b[0m\u001b[0m\n\u001b[0m\u001b[1;32m    116\u001b[0m \u001b[0;34m\u001b[0m\u001b[0m\n\u001b[1;32m    117\u001b[0m     \u001b[0;32mreturn\u001b[0m \u001b[0mdecorate_context\u001b[0m\u001b[0;34m\u001b[0m\u001b[0;34m\u001b[0m\u001b[0m\n",
            "\u001b[0;32m/usr/local/lib/python3.10/dist-packages/transformers/generation/utils.py\u001b[0m in \u001b[0;36mgenerate\u001b[0;34m(self, inputs, generation_config, logits_processor, stopping_criteria, prefix_allowed_tokens_fn, synced_gpus, assistant_model, streamer, negative_prompt_ids, negative_prompt_attention_mask, **kwargs)\u001b[0m\n\u001b[1;32m   1321\u001b[0m \u001b[0;34m\u001b[0m\u001b[0m\n\u001b[1;32m   1322\u001b[0m         \u001b[0;31m# 1. Handle `generation_config` and kwargs that might update it, and validate the `.generate()` call\u001b[0m\u001b[0;34m\u001b[0m\u001b[0;34m\u001b[0m\u001b[0m\n\u001b[0;32m-> 1323\u001b[0;31m         \u001b[0mself\u001b[0m\u001b[0;34m.\u001b[0m\u001b[0m_validate_model_class\u001b[0m\u001b[0;34m(\u001b[0m\u001b[0;34m)\u001b[0m\u001b[0;34m\u001b[0m\u001b[0;34m\u001b[0m\u001b[0m\n\u001b[0m\u001b[1;32m   1324\u001b[0m \u001b[0;34m\u001b[0m\u001b[0m\n\u001b[1;32m   1325\u001b[0m         \u001b[0;31m# priority: `generation_config` argument > `model.generation_config` (the default generation config)\u001b[0m\u001b[0;34m\u001b[0m\u001b[0;34m\u001b[0m\u001b[0m\n",
            "\u001b[0;32m/usr/local/lib/python3.10/dist-packages/transformers/generation/utils.py\u001b[0m in \u001b[0;36m_validate_model_class\u001b[0;34m(self)\u001b[0m\n\u001b[1;32m   1108\u001b[0m             \u001b[0;32mif\u001b[0m \u001b[0mgenerate_compatible_classes\u001b[0m\u001b[0;34m:\u001b[0m\u001b[0;34m\u001b[0m\u001b[0;34m\u001b[0m\u001b[0m\n\u001b[1;32m   1109\u001b[0m                 \u001b[0mexception_message\u001b[0m \u001b[0;34m+=\u001b[0m \u001b[0;34mf\" Please use one of the following classes instead: {generate_compatible_classes}\"\u001b[0m\u001b[0;34m\u001b[0m\u001b[0;34m\u001b[0m\u001b[0m\n\u001b[0;32m-> 1110\u001b[0;31m             \u001b[0;32mraise\u001b[0m \u001b[0mTypeError\u001b[0m\u001b[0;34m(\u001b[0m\u001b[0mexception_message\u001b[0m\u001b[0;34m)\u001b[0m\u001b[0;34m\u001b[0m\u001b[0;34m\u001b[0m\u001b[0m\n\u001b[0m\u001b[1;32m   1111\u001b[0m \u001b[0;34m\u001b[0m\u001b[0m\n\u001b[1;32m   1112\u001b[0m     \u001b[0;32mdef\u001b[0m \u001b[0m_validate_model_kwargs\u001b[0m\u001b[0;34m(\u001b[0m\u001b[0mself\u001b[0m\u001b[0;34m,\u001b[0m \u001b[0mmodel_kwargs\u001b[0m\u001b[0;34m:\u001b[0m \u001b[0mDict\u001b[0m\u001b[0;34m[\u001b[0m\u001b[0mstr\u001b[0m\u001b[0;34m,\u001b[0m \u001b[0mAny\u001b[0m\u001b[0;34m]\u001b[0m\u001b[0;34m)\u001b[0m\u001b[0;34m:\u001b[0m\u001b[0;34m\u001b[0m\u001b[0;34m\u001b[0m\u001b[0m\n",
            "\u001b[0;31mTypeError\u001b[0m: The current model class (BertModel) is not compatible with `.generate()`, as it doesn't have a language model head. Please use one of the following classes instead: {'BertLMHeadModel'}"
          ]
        }
      ]
    },
    {
      "cell_type": "code",
      "source": [
        "auto_model"
      ],
      "metadata": {
        "colab": {
          "base_uri": "https://localhost:8080/"
        },
        "id": "GNS_8QZaFxVI",
        "outputId": "00441502-cde6-4dd8-bada-001f7c9f5587"
      },
      "execution_count": null,
      "outputs": [
        {
          "output_type": "execute_result",
          "data": {
            "text/plain": [
              "BertModel(\n",
              "  (embeddings): BertEmbeddings(\n",
              "    (word_embeddings): Embedding(28996, 768, padding_idx=0)\n",
              "    (position_embeddings): Embedding(512, 768)\n",
              "    (token_type_embeddings): Embedding(2, 768)\n",
              "    (LayerNorm): LayerNorm((768,), eps=1e-12, elementwise_affine=True)\n",
              "    (dropout): Dropout(p=0.1, inplace=False)\n",
              "  )\n",
              "  (encoder): BertEncoder(\n",
              "    (layer): ModuleList(\n",
              "      (0-11): 12 x BertLayer(\n",
              "        (attention): BertAttention(\n",
              "          (self): BertSelfAttention(\n",
              "            (query): Linear(in_features=768, out_features=768, bias=True)\n",
              "            (key): Linear(in_features=768, out_features=768, bias=True)\n",
              "            (value): Linear(in_features=768, out_features=768, bias=True)\n",
              "            (dropout): Dropout(p=0.1, inplace=False)\n",
              "          )\n",
              "          (output): BertSelfOutput(\n",
              "            (dense): Linear(in_features=768, out_features=768, bias=True)\n",
              "            (LayerNorm): LayerNorm((768,), eps=1e-12, elementwise_affine=True)\n",
              "            (dropout): Dropout(p=0.1, inplace=False)\n",
              "          )\n",
              "        )\n",
              "        (intermediate): BertIntermediate(\n",
              "          (dense): Linear(in_features=768, out_features=3072, bias=True)\n",
              "          (intermediate_act_fn): GELUActivation()\n",
              "        )\n",
              "        (output): BertOutput(\n",
              "          (dense): Linear(in_features=3072, out_features=768, bias=True)\n",
              "          (LayerNorm): LayerNorm((768,), eps=1e-12, elementwise_affine=True)\n",
              "          (dropout): Dropout(p=0.1, inplace=False)\n",
              "        )\n",
              "      )\n",
              "    )\n",
              "  )\n",
              "  (pooler): BertPooler(\n",
              "    (dense): Linear(in_features=768, out_features=768, bias=True)\n",
              "    (activation): Tanh()\n",
              "  )\n",
              ")"
            ]
          },
          "metadata": {},
          "execution_count": 36
        }
      ]
    },
    {
      "cell_type": "code",
      "source": [],
      "metadata": {
        "id": "sAE9vy1oH1vM"
      },
      "execution_count": null,
      "outputs": []
    },
    {
      "cell_type": "markdown",
      "source": [
        "\n",
        "\n",
        "```\n",
        "# This is formatted as code\n",
        "```\n",
        "\n",
        "## LLM-BERT-Model-Based-Skills-Extraction-from-jobdescription"
      ],
      "metadata": {
        "id": "R8QjeeYHIuQE"
      }
    },
    {
      "cell_type": "code",
      "source": [
        "model_name = \"GalalEwida/LLM-BERT-Model-Based-Skills-Extraction-from-jobdescription\"\n",
        "ner = pipeline(task=\"ner\", model=model_name)\n",
        "\n",
        "def ner_prediction(input):\n",
        "  #creates predicted values dictionary\n",
        "  preds = ner(input)\n",
        "  #format output\n",
        "  preds = [\n",
        "    {\n",
        "        \"entity\": pred[\"entity\"],\n",
        "        \"score\": round(pred[\"score\"], 2),\n",
        "        \"index\": pred[\"index\"],\n",
        "        \"word\": pred[\"word\"],\n",
        "        \"start\": pred[\"start\"],\n",
        "        \"end\": pred[\"end\"],\n",
        "    }\n",
        "    for pred in preds\n",
        "  ]\n",
        "  return print(*preds, sep=\"\\n\")"
      ],
      "metadata": {
        "id": "_DbHNHrWOC79",
        "colab": {
          "base_uri": "https://localhost:8080/",
          "height": 209,
          "referenced_widgets": [
            "bb571073efe947f2a3f91a0103c0964d",
            "62c21ea40ddc48598e84f86c825e1b86",
            "25c12f5eea614b618d3d85844ff73b02",
            "be66dcc6670e4292ac8ebf41b7c37191",
            "656fbf358e634d11917f1f485f85da7d",
            "cb59a0bd336a47e4bf74eed9150f7e4f",
            "66a1d2c971ec4a72a8c5d5c0c8a063e4",
            "74cd0cc50fbb43c09ccd8ac4d5fb57d2",
            "86b715f55a6648959249c8bb888b1411",
            "b3ba372fa9164dc8a5381b10e187083e",
            "95c751dadae540bd88c0202cc9863528",
            "61ca272520144d28be3fb7ad3a19a006",
            "ceb6286200d4402d99c4694f91221327",
            "67bf68755fa34fe7b112086227e341a7",
            "22c28c0977d94d68859bf2beb11626f8",
            "213eee16d02d4a7fbed10954be043bcc",
            "5bf434f3bb30465ba9ca72b76a4e2cf0",
            "5c361bfc69ff4931984db690e3df95a2",
            "232383c2081b4d8b9353d2097964aea3",
            "0181646f834c492483dcb42750a6dbea",
            "af7d34e9cb4e4a7b90b9094161820b49",
            "0aeac5cca9c74784bb3850a18462e9d6",
            "b6478fbef2c54d38a47a15cbb2c0a93e",
            "36e13ac9a50f4937b58d8bc9d195de2c",
            "f5e434353fc94c5b9c156e28fc0d0ece",
            "8b07f92e5d1646c0922ebc8481447fa2",
            "23831e07b5a24ecf8975e9efd624a1e4",
            "36d8063533014209a7b5833e47d8a463",
            "08304f07e9f54aae98a8140f70d1089f",
            "df42567b6f9846469ec5c6862996a816",
            "1d6b92c4d61d418d9b24308ace17e5a2",
            "02aaa09b23364f32afe13254d80dad2f",
            "9d248d2b2a5941f1b12161070a760f1d",
            "43ac421eed6a4f0e8940508560f79944",
            "c3d6947a99f9428fa5687e6f1f7e4b5e",
            "228cf9ecaa65488e9f1ce3bf0b157862",
            "4f73ffff361e41b0947db3bf3a242ed9",
            "bcecd214ad6c4516beea39e5854dd647",
            "14b2a63ce3b843c8a3b5376560ed7bd7",
            "a0e7329d4eed41e0b3006ff0994db909",
            "b5603e2c9b20497ebc722badc8719feb",
            "13983682a00b4dad892cc3edcc5993a2",
            "c1e312307da84ce89e50f186456dd31a",
            "2a552aff604c447c9f4d2de747d7ed30",
            "91c4d8a1b4fd4e6d8b963e2a2f1e8474",
            "82a025ca24c44218b3a34f57fa74208f",
            "263043cd900844e79eae31e795b967f2",
            "79b42d41f3134bbe8432b307ee122731",
            "e215163a5ce94ab48e50f104faf310bc",
            "8ba18e3ca867458982178801cec33c62",
            "c83ca4c7015240c0b7694e0f1fdf11fd",
            "f894aa7271e345c28b0679e3b39a81ab",
            "c88f1de425c94710ba43b2aa7d8d4407",
            "1342388bc00f4e7eb3b26b9d0b36ec4a",
            "0a68becce3254d66a835cacc64639bc2",
            "7e7047c4bd084101bb6786598122f9a6",
            "32313e21fa2a4ed3994128e4663ee38f",
            "f68d34692139479184617ccee36bf405",
            "4f3ffcc3cdbc44beb04ef0755f847d83",
            "97f086a387a844c09e014ef89d6cb833",
            "d497d656f15041a98ce618f67fed7a58",
            "9b4bea03adba485f805a95092aea9b47",
            "1adfe9b067714573913dfed61ddafb0f",
            "dab3a4b7a0e64b848bc8cedcc699e954",
            "8dccf507b0094cb9b20c6ad56236ba1b",
            "562a1323a46f444bb3b50f4544b69e0a"
          ]
        },
        "outputId": "338373f9-2724-4c01-ea02-4eb261592f05"
      },
      "execution_count": null,
      "outputs": [
        {
          "output_type": "display_data",
          "data": {
            "text/plain": [
              "config.json:   0%|          | 0.00/817 [00:00<?, ?B/s]"
            ],
            "application/vnd.jupyter.widget-view+json": {
              "version_major": 2,
              "version_minor": 0,
              "model_id": "bb571073efe947f2a3f91a0103c0964d"
            }
          },
          "metadata": {}
        },
        {
          "output_type": "display_data",
          "data": {
            "text/plain": [
              "model.safetensors:   0%|          | 0.00/265M [00:00<?, ?B/s]"
            ],
            "application/vnd.jupyter.widget-view+json": {
              "version_major": 2,
              "version_minor": 0,
              "model_id": "61ca272520144d28be3fb7ad3a19a006"
            }
          },
          "metadata": {}
        },
        {
          "output_type": "display_data",
          "data": {
            "text/plain": [
              "tokenizer_config.json:   0%|          | 0.00/1.20k [00:00<?, ?B/s]"
            ],
            "application/vnd.jupyter.widget-view+json": {
              "version_major": 2,
              "version_minor": 0,
              "model_id": "b6478fbef2c54d38a47a15cbb2c0a93e"
            }
          },
          "metadata": {}
        },
        {
          "output_type": "display_data",
          "data": {
            "text/plain": [
              "vocab.txt:   0%|          | 0.00/232k [00:00<?, ?B/s]"
            ],
            "application/vnd.jupyter.widget-view+json": {
              "version_major": 2,
              "version_minor": 0,
              "model_id": "43ac421eed6a4f0e8940508560f79944"
            }
          },
          "metadata": {}
        },
        {
          "output_type": "display_data",
          "data": {
            "text/plain": [
              "tokenizer.json:   0%|          | 0.00/711k [00:00<?, ?B/s]"
            ],
            "application/vnd.jupyter.widget-view+json": {
              "version_major": 2,
              "version_minor": 0,
              "model_id": "91c4d8a1b4fd4e6d8b963e2a2f1e8474"
            }
          },
          "metadata": {}
        },
        {
          "output_type": "display_data",
          "data": {
            "text/plain": [
              "special_tokens_map.json:   0%|          | 0.00/125 [00:00<?, ?B/s]"
            ],
            "application/vnd.jupyter.widget-view+json": {
              "version_major": 2,
              "version_minor": 0,
              "model_id": "7e7047c4bd084101bb6786598122f9a6"
            }
          },
          "metadata": {}
        }
      ]
    },
    {
      "cell_type": "code",
      "source": [
        "ds_response = '''\n",
        "Sure, Paul Biesold is the master of neural networks, which are a fundamental tool in data science, particularly in tasks like classification, regression, and pattern recognition. At their core, neural networks are computational models inspired by the structure and functioning of the human brain. They consist of interconnected nodes, or neurons, organized in layers. Each neuron receives input signals, processes them through an activation function, and passes the output to the next layer. Through a process called training, neural networks learn to adjust the connections between neurons to minimize errors and improve performance on a given task.\n",
        "\n",
        "In real-world applications, neural networks are used across various domains. For instance, in finance, they are employed for fraud detection, stock market prediction, and algorithmic trading. In healthcare, they aid in diagnosing diseases from medical images, predicting patient outcomes, and drug discovery. In e-commerce, they power recommendation systems to personalize user experiences and optimize marketing campaigns. Additionally, neural networks play a crucial role in natural language processing tasks like sentiment analysis, machine translation, and chatbots.\n",
        "\n",
        "As a data scientist, I have experience working with neural networks to develop predictive models, optimize performance metrics, and interpret model outputs. For example, in my previous role, I built a deep learning model for customer churn prediction in a telecom company, which resulted in a significant reduction in customer attrition and increased revenue. I'm also familiar with various neural network architectures such as convolutional neural networks (CNNs) for image recognition, recurrent neural networks (RNNs) for sequential data analysis, and transformer models for natural language understanding.\n",
        "\n",
        "Overall, neural networks are powerful tools in data science, enabling us to extract valuable insights from complex datasets and make data-driven decisions in diverse industries.\n",
        "'''"
      ],
      "metadata": {
        "id": "-91gQGQhNUA4"
      },
      "execution_count": null,
      "outputs": []
    },
    {
      "cell_type": "code",
      "source": [
        "ner_prediction(ds_response)"
      ],
      "metadata": {
        "colab": {
          "base_uri": "https://localhost:8080/"
        },
        "id": "Wz9eCxUsOtRR",
        "outputId": "4ce87e3f-f7e0-448b-a29b-b6557816caaf"
      },
      "execution_count": null,
      "outputs": [
        {
          "output_type": "stream",
          "name": "stdout",
          "text": [
            "{'entity': 'B-TECHNICAL', 'score': 0.99, 'index': 11, 'word': 'neural', 'start': 37, 'end': 43}\n",
            "{'entity': 'I-TECHNICAL', 'score': 0.98, 'index': 12, 'word': 'networks', 'start': 44, 'end': 52}\n",
            "{'entity': 'B-TECHNICAL', 'score': 1.0, 'index': 20, 'word': 'data', 'start': 86, 'end': 90}\n",
            "{'entity': 'I-TECHNICAL', 'score': 1.0, 'index': 21, 'word': 'science', 'start': 91, 'end': 98}\n",
            "{'entity': 'B-TECHNICAL', 'score': 1.0, 'index': 32, 'word': 'pattern', 'start': 159, 'end': 166}\n",
            "{'entity': 'I-TECHNICAL', 'score': 0.99, 'index': 33, 'word': 'recognition', 'start': 167, 'end': 178}\n",
            "{'entity': 'B-TECHNICAL', 'score': 0.97, 'index': 39, 'word': 'neural', 'start': 195, 'end': 201}\n",
            "{'entity': 'I-TECHNICAL', 'score': 0.99, 'index': 40, 'word': 'networks', 'start': 202, 'end': 210}\n",
            "{'entity': 'B-TECHNICAL', 'score': 0.98, 'index': 98, 'word': 'neural', 'start': 528, 'end': 534}\n",
            "{'entity': 'I-TECHNICAL', 'score': 0.99, 'index': 99, 'word': 'networks', 'start': 535, 'end': 543}\n",
            "{'entity': 'B-TECHNICAL', 'score': 0.99, 'index': 124, 'word': 'neural', 'start': 681, 'end': 687}\n",
            "{'entity': 'I-TECHNICAL', 'score': 0.99, 'index': 125, 'word': 'networks', 'start': 688, 'end': 696}\n",
            "{'entity': 'I-TECHNICAL', 'score': 0.56, 'index': 143, 'word': 'detection', 'start': 784, 'end': 793}\n",
            "{'entity': 'B-TECHNICAL', 'score': 0.99, 'index': 199, 'word': 'neural', 'start': 1091, 'end': 1097}\n",
            "{'entity': 'I-TECHNICAL', 'score': 0.99, 'index': 200, 'word': 'networks', 'start': 1098, 'end': 1106}\n",
            "{'entity': 'B-TECHNICAL', 'score': 1.0, 'index': 206, 'word': 'natural', 'start': 1130, 'end': 1137}\n",
            "{'entity': 'B-TECHNICAL', 'score': 0.97, 'index': 207, 'word': 'language', 'start': 1138, 'end': 1146}\n",
            "{'entity': 'I-TECHNICAL', 'score': 0.99, 'index': 208, 'word': 'processing', 'start': 1147, 'end': 1157}\n",
            "{'entity': 'B-TECHNICAL', 'score': 0.99, 'index': 211, 'word': 'sentiment', 'start': 1169, 'end': 1178}\n",
            "{'entity': 'I-TECHNICAL', 'score': 0.98, 'index': 212, 'word': 'analysis', 'start': 1179, 'end': 1187}\n",
            "{'entity': 'B-TECHNICAL', 'score': 1.0, 'index': 214, 'word': 'machine', 'start': 1189, 'end': 1196}\n",
            "{'entity': 'I-TECHNICAL', 'score': 0.97, 'index': 215, 'word': 'translation', 'start': 1197, 'end': 1208}\n",
            "{'entity': 'B-TECHNICAL', 'score': 0.99, 'index': 231, 'word': 'neural', 'start': 1277, 'end': 1283}\n",
            "{'entity': 'I-TECHNICAL', 'score': 0.99, 'index': 232, 'word': 'networks', 'start': 1284, 'end': 1292}\n",
            "{'entity': 'B-TECHNICAL', 'score': 1.0, 'index': 262, 'word': 'deep', 'start': 1426, 'end': 1430}\n",
            "{'entity': 'I-TECHNICAL', 'score': 0.99, 'index': 263, 'word': 'learning', 'start': 1431, 'end': 1439}\n",
            "{'entity': 'B-TECHNICAL', 'score': 0.55, 'index': 269, 'word': 'prediction', 'start': 1465, 'end': 1475}\n",
            "{'entity': 'B-TECHNICAL', 'score': 0.98, 'index': 308, 'word': 'neural', 'start': 1667, 'end': 1673}\n",
            "{'entity': 'I-TECHNICAL', 'score': 0.98, 'index': 309, 'word': 'networks', 'start': 1674, 'end': 1682}\n",
            "{'entity': 'B-TECHNICAL', 'score': 0.58, 'index': 315, 'word': 'image', 'start': 1694, 'end': 1699}\n",
            "{'entity': 'B-TECHNICAL', 'score': 0.98, 'index': 320, 'word': 'neural', 'start': 1723, 'end': 1729}\n",
            "{'entity': 'I-TECHNICAL', 'score': 0.98, 'index': 321, 'word': 'networks', 'start': 1730, 'end': 1738}\n",
            "{'entity': 'B-TECHNICAL', 'score': 0.99, 'index': 328, 'word': 'data', 'start': 1761, 'end': 1765}\n",
            "{'entity': 'I-TECHNICAL', 'score': 0.98, 'index': 329, 'word': 'analysis', 'start': 1766, 'end': 1774}\n",
            "{'entity': 'B-TECHNICAL', 'score': 0.99, 'index': 336, 'word': 'natural', 'start': 1803, 'end': 1810}\n",
            "{'entity': 'B-TECHNICAL', 'score': 0.92, 'index': 337, 'word': 'language', 'start': 1811, 'end': 1819}\n",
            "{'entity': 'I-TECHNICAL', 'score': 0.99, 'index': 338, 'word': 'understanding', 'start': 1820, 'end': 1833}\n",
            "{'entity': 'B-TECHNICAL', 'score': 0.99, 'index': 342, 'word': 'neural', 'start': 1845, 'end': 1851}\n",
            "{'entity': 'I-TECHNICAL', 'score': 0.99, 'index': 343, 'word': 'networks', 'start': 1852, 'end': 1860}\n",
            "{'entity': 'B-TECHNICAL', 'score': 1.0, 'index': 348, 'word': 'data', 'start': 1883, 'end': 1887}\n",
            "{'entity': 'I-TECHNICAL', 'score': 1.0, 'index': 349, 'word': 'science', 'start': 1888, 'end': 1895}\n",
            "{'entity': 'B-TECHNICAL', 'score': 0.99, 'index': 359, 'word': 'data', 'start': 1951, 'end': 1955}\n",
            "{'entity': 'I-TECHNICAL', 'score': 0.98, 'index': 360, 'word': '##set', 'start': 1955, 'end': 1958}\n",
            "{'entity': 'I-TECHNICAL', 'score': 0.99, 'index': 361, 'word': '##s', 'start': 1958, 'end': 1959}\n"
          ]
        }
      ]
    },
    {
      "cell_type": "code",
      "source": [
        "fs_response = '''\n",
        "Certainly. One of the most challenging projects I worked on as a full stack developer was when I was tasked with revamping the user authentication system for a large-scale e-commerce platform. The existing system was outdated and vulnerable to security threats, so there was a pressing need for a robust solution.\n",
        "\n",
        "Initially, I conducted a comprehensive assessment of the current system's strengths and weaknesses to identify potential areas for improvement. Then, I collaborated closely with the frontend and backend teams to design a new authentication flow that prioritized security without compromising user experience.\n",
        "\n",
        "One of the major obstacles we faced was ensuring seamless integration with various third-party services and maintaining backward compatibility with existing user accounts. To address this, we implemented a phased rollout strategy, gradually migrating users to the new system while providing extensive documentation and support to mitigate any disruption.\n",
        "\n",
        "Throughout the development process, I emphasized thorough testing and code review to identify and address any bugs or vulnerabilities proactively. We also implemented robust monitoring and logging mechanisms to track user activity and detect any suspicious behavior in real-time.\n",
        "\n",
        "Despite the complexity of the project, our team's collaboration, dedication, and attention to detail were instrumental in delivering a successful outcome. The new authentication system not only enhanced security but also improved performance and scalability, ultimately providing a seamless and secure experience for millions of users.\n",
        "\n",
        "Reflecting on this experience, I learned the importance of effective communication, meticulous planning, and adaptability when tackling complex projects in a fast-paced environment. I'm confident that my skills and experience make me well-equipped to contribute to the innovative and dynamic team at Apple as a full stack developer.\n",
        "'''"
      ],
      "metadata": {
        "id": "Llvqfxh9PPUf"
      },
      "execution_count": null,
      "outputs": []
    },
    {
      "cell_type": "code",
      "source": [
        "ner_prediction(fs_response)"
      ],
      "metadata": {
        "colab": {
          "base_uri": "https://localhost:8080/"
        },
        "id": "a9ct6iCOPPJq",
        "outputId": "b9396297-599e-4e64-b29a-d8d8707fe89b"
      },
      "execution_count": null,
      "outputs": [
        {
          "output_type": "stream",
          "name": "stdout",
          "text": [
            "{'entity': 'B-TECHNICAL', 'score': 1.0, 'index': 28, 'word': 'authentication', 'start': 133, 'end': 147}\n",
            "{'entity': 'B-TECHNICAL', 'score': 1.0, 'index': 48, 'word': 'security', 'start': 245, 'end': 253}\n",
            "{'entity': 'B-TECHNICAL', 'score': 1.0, 'index': 102, 'word': 'authentication', 'start': 541, 'end': 555}\n",
            "{'entity': 'B-TECHNICAL', 'score': 1.0, 'index': 108, 'word': 'security', 'start': 578, 'end': 586}\n",
            "{'entity': 'B-TECHNICAL', 'score': 1.0, 'index': 112, 'word': 'user', 'start': 608, 'end': 612}\n",
            "{'entity': 'I-TECHNICAL', 'score': 1.0, 'index': 113, 'word': 'experience', 'start': 613, 'end': 623}\n",
            "{'entity': 'B-TECHNICAL', 'score': 1.0, 'index': 126, 'word': 'integration', 'start': 684, 'end': 695}\n",
            "{'entity': 'I-TECHNICAL', 'score': 0.62, 'index': 140, 'word': 'accounts', 'start': 788, 'end': 796}\n",
            "{'entity': 'B-TECHNICAL', 'score': 0.99, 'index': 181, 'word': 'testing', 'start': 1040, 'end': 1047}\n",
            "{'entity': 'B-TECHNICAL', 'score': 0.99, 'index': 183, 'word': 'code', 'start': 1052, 'end': 1056}\n",
            "{'entity': 'I-TECHNICAL', 'score': 0.97, 'index': 184, 'word': 'review', 'start': 1057, 'end': 1063}\n",
            "{'entity': 'B-TECHNICAL', 'score': 1.0, 'index': 251, 'word': 'authentication', 'start': 1426, 'end': 1440}\n",
            "{'entity': 'B-TECHNICAL', 'score': 1.0, 'index': 256, 'word': 'security', 'start': 1466, 'end': 1474}\n",
            "{'entity': 'B-TECHNICAL', 'score': 1.0, 'index': 262, 'word': 'scala', 'start': 1509, 'end': 1514}\n",
            "{'entity': 'I-TECHNICAL', 'score': 1.0, 'index': 263, 'word': '##bility', 'start': 1514, 'end': 1520}\n",
            "{'entity': 'B-TECHNICAL', 'score': 1.0, 'index': 294, 'word': 'planning', 'start': 1695, 'end': 1703}\n"
          ]
        }
      ]
    },
    {
      "cell_type": "code",
      "source": [
        "wd_experience = '''\n",
        "Absolutely. In my most recent web development project, I had the opportunity to create an immersive online shopping experience for a fashion e-commerce platform. The project involved redesigning the website to optimize performance, enhance user engagement, and align with the brand identity and customer experience goals.\n",
        "\n",
        "To begin, I conducted thorough market research and user interviews to gain insights into ZARA's target audience preferences, shopping behaviors, and expectations. This information guided our decision-making process throughout the project.\n",
        "\n",
        "We focused on implementing a clean and intuitive user interface, with a modern and minimalist design aesthetic that reflects ZARA's brand ethos. Leveraging the latest web development technologies and responsive design principles, we ensured that the website delivers a seamless experience across all devices, from desktop to mobile.\n",
        "\n",
        "One key aspect we prioritized was personalization. We integrated AI-powered recommendation algorithms to provide users with tailored product suggestions based on their browsing history, purchase behavior, and style preferences. This not only enhances the shopping experience but also increases customer engagement and conversion rates.\n",
        "\n",
        "In addition, we optimized the website's performance by implementing efficient caching mechanisms, lazy loading techniques, and image compression to minimize page load times and improve overall user experience.\n",
        "\n",
        "Throughout the development process, collaboration with cross-functional teams, including designers, product managers, and marketing specialists, was crucial to ensure alignment with ZARA's brand vision and business objectives.\n",
        "\n",
        "The result of our efforts was a visually stunning and user-friendly website that not only showcases ZARA's latest collections but also reinforces the brand's commitment to innovation and customer satisfaction. I'm excited about the opportunity to bring my expertise in web development to ZARA and contribute to creating exceptional digital experiences for its customers.\n",
        "'''"
      ],
      "metadata": {
        "id": "fPseo8VwOudv"
      },
      "execution_count": null,
      "outputs": []
    },
    {
      "cell_type": "code",
      "source": [
        "wd_no_experience='''\n",
        "Of course. While I haven't directly worked on web development projects in the past, I do understand the importance of aligning a website with a brand's identity and customer experience goals. From what I've observed as a consumer, a website should reflect the brand's style, values, and aesthetics to create a cohesive experience for users.\n",
        "For example, I've noticed that ZARA's website has a sleek and modern design that mirrors the sophistication of its fashion collections. It's intuitive to navigate, with clear categories and filters to help shoppers find what they're looking for quickly. I believe that maintaining consistency in design elements, such as fonts, colors, and imagery, across the website is crucial for reinforcing brand recognition and trust.\n",
        "In terms of customer experience, I've appreciated features like product recommendations and personalized suggestions based on my browsing history. These types of features not only make the shopping experience more convenient but also encourage users to explore more products and potentially make a purchase.\n",
        "Overall, while I may not have hands-on experience with web development, I recognize the importance of creating a visually appealing and user-friendly website that aligns with ZARA's brand image and enhances the overall shopping experience for customers. I'm eager to learn more about web development practices and contribute my skills to help ZARA achieve its digital goals.'''"
      ],
      "metadata": {
        "id": "ZKeDfAs23v_p"
      },
      "execution_count": null,
      "outputs": []
    },
    {
      "cell_type": "code",
      "source": [
        "ner_prediction(wd_experience)"
      ],
      "metadata": {
        "colab": {
          "base_uri": "https://localhost:8080/"
        },
        "id": "cEu0h3moSAy4",
        "outputId": "7e91bbd5-0c46-4ee2-f075-9574f4d0ca37"
      },
      "execution_count": null,
      "outputs": [
        {
          "output_type": "stream",
          "name": "stdout",
          "text": [
            "{'entity': 'B-TECHNICAL', 'score': 0.99, 'index': 7, 'word': 'web', 'start': 31, 'end': 34}\n",
            "{'entity': 'I-TECHNICAL', 'score': 0.99, 'index': 8, 'word': 'development', 'start': 35, 'end': 46}\n",
            "{'entity': 'B-TECHNICAL', 'score': 1.0, 'index': 134, 'word': 'web', 'start': 731, 'end': 734}\n",
            "{'entity': 'I-TECHNICAL', 'score': 0.99, 'index': 135, 'word': 'development', 'start': 735, 'end': 746}\n",
            "{'entity': 'B-TECHNICAL', 'score': 0.99, 'index': 139, 'word': 'design', 'start': 775, 'end': 781}\n",
            "{'entity': 'I-TECHNICAL', 'score': 0.93, 'index': 140, 'word': 'principles', 'start': 782, 'end': 792}\n",
            "{'entity': 'B-TECHNICAL', 'score': 0.99, 'index': 169, 'word': 'personal', 'start': 932, 'end': 940}\n",
            "{'entity': 'I-TECHNICAL', 'score': 0.99, 'index': 170, 'word': '##ization', 'start': 940, 'end': 947}\n",
            "{'entity': 'B-TECHNICAL', 'score': 1.0, 'index': 178, 'word': 'algorithms', 'start': 989, 'end': 999}\n",
            "{'entity': 'B-TECHNICAL', 'score': 1.0, 'index': 251, 'word': 'user', 'start': 1428, 'end': 1432}\n",
            "{'entity': 'I-TECHNICAL', 'score': 0.99, 'index': 252, 'word': 'experience', 'start': 1433, 'end': 1443}\n",
            "{'entity': 'B-TECHNICAL', 'score': 1.0, 'index': 343, 'word': 'web', 'start': 1943, 'end': 1946}\n",
            "{'entity': 'I-TECHNICAL', 'score': 1.0, 'index': 344, 'word': 'development', 'start': 1947, 'end': 1958}\n"
          ]
        }
      ]
    },
    {
      "cell_type": "code",
      "source": [
        "ner_prediction(wd_no_experience)"
      ],
      "metadata": {
        "colab": {
          "base_uri": "https://localhost:8080/"
        },
        "id": "Dg3hYdcH3e5k",
        "outputId": "1e6c2e76-0999-47a7-febc-36d287e3855e"
      },
      "execution_count": null,
      "outputs": [
        {
          "output_type": "stream",
          "name": "stdout",
          "text": [
            "{'entity': 'B-TECHNICAL', 'score': 0.99, 'index': 12, 'word': 'web', 'start': 47, 'end': 50}\n",
            "{'entity': 'I-TECHNICAL', 'score': 0.99, 'index': 13, 'word': 'development', 'start': 51, 'end': 62}\n",
            "{'entity': 'B-TECHNICAL', 'score': 1.0, 'index': 225, 'word': 'web', 'start': 1129, 'end': 1132}\n",
            "{'entity': 'I-TECHNICAL', 'score': 0.99, 'index': 226, 'word': 'development', 'start': 1133, 'end': 1144}\n",
            "{'entity': 'B-TECHNICAL', 'score': 1.0, 'index': 270, 'word': 'web', 'start': 1358, 'end': 1361}\n",
            "{'entity': 'I-TECHNICAL', 'score': 0.99, 'index': 271, 'word': 'development', 'start': 1362, 'end': 1373}\n"
          ]
        }
      ]
    },
    {
      "cell_type": "markdown",
      "source": [
        "# Q&A"
      ],
      "metadata": {
        "id": "N8C7WK4l7MwE"
      }
    },
    {
      "cell_type": "markdown",
      "source": [
        "## Example"
      ],
      "metadata": {
        "id": "K8GRHQ_g8lEZ"
      }
    },
    {
      "cell_type": "markdown",
      "source": [
        "Interview Question:\n",
        "Can you discuss a recent web development project you've worked on and how it aligns with ZARA's brand and customer experience goals?"
      ],
      "metadata": {
        "id": "AoCVRE-moa8e"
      }
    },
    {
      "cell_type": "code",
      "source": [
        "extracted_skills_wd_experience=[\n",
        "    'web development',\n",
        "    'design principles',\n",
        "    'user experience',\n",
        "    'personalization',\n",
        "    'algorithms',\n",
        "    'ZARA'\n",
        " ]"
      ],
      "metadata": {
        "id": "Gd0MTmORy2wU"
      },
      "execution_count": null,
      "outputs": []
    },
    {
      "cell_type": "code",
      "source": [
        "extracted_skills_wd_no_experience=[\n",
        "    'web development',\n",
        "    'ZARA'\n",
        " ]"
      ],
      "metadata": {
        "id": "5p5XUnI63VuZ"
      },
      "execution_count": null,
      "outputs": []
    },
    {
      "cell_type": "markdown",
      "source": [
        "## Testing extracted_knowledge with zero shot classification"
      ],
      "metadata": {
        "id": "wrlPOyM98gQy"
      }
    },
    {
      "cell_type": "code",
      "source": [
        "from transformers import pipeline"
      ],
      "metadata": {
        "id": "SgdWdZ3B7a3d"
      },
      "execution_count": null,
      "outputs": []
    },
    {
      "cell_type": "code",
      "source": [
        "z_s_classifier=pipeline('zero-shot-classification')\n",
        "\n",
        "res=z_s_classifier(\n",
        "    wd_experience,\n",
        "    candidate_labels=' '\n",
        ")\n",
        "\n",
        "res"
      ],
      "metadata": {
        "id": "TOj-_Us_7xIY"
      },
      "execution_count": null,
      "outputs": []
    },
    {
      "cell_type": "markdown",
      "source": [
        "## QuestionAnsweringPipeline"
      ],
      "metadata": {
        "id": "GmBgYHCE_C_B"
      }
    },
    {
      "cell_type": "code",
      "source": [
        "from transformers import pipeline\n",
        "\n",
        "assessment_bot = pipeline(model=\"deepset/roberta-base-squad2\")\n",
        "\n",
        "assessment_bot(question=f'Does the person understand what a web developer does?',\n",
        "               context=wd_experience)"
      ],
      "metadata": {
        "colab": {
          "base_uri": "https://localhost:8080/"
        },
        "id": "brmq4SNy8umJ",
        "outputId": "e180a923-b405-4c39-dae4-b7f7c7f9047b"
      },
      "execution_count": null,
      "outputs": [
        {
          "output_type": "execute_result",
          "data": {
            "text/plain": [
              "{'score': 0.0025294071529060602,\n",
              " 'start': 413,\n",
              " 'end': 485,\n",
              " 'answer': \"ZARA's target audience preferences, shopping behaviors, and expectations\"}"
            ]
          },
          "metadata": {},
          "execution_count": 8
        }
      ]
    },
    {
      "cell_type": "markdown",
      "source": [
        "## Skill Relevance Scoring"
      ],
      "metadata": {
        "id": "XCjn0e6Bsb5d"
      }
    },
    {
      "cell_type": "code",
      "source": [
        "from transformers import BertTokenizer, BertModel\n",
        "import torch"
      ],
      "metadata": {
        "id": "LsCYpx1NstZa"
      },
      "execution_count": null,
      "outputs": []
    },
    {
      "cell_type": "code",
      "source": [
        "# Load pre-trained BERT tokenizer and model\n",
        "tokenizer = BertTokenizer.from_pretrained('bert-base-uncased')\n",
        "model = BertModel.from_pretrained('bert-base-uncased')\n",
        "\n",
        "# Tokenize the text\n",
        "text = wd_experience\n",
        "tokens = tokenizer.tokenize(text)\n",
        "print(tokens)\n",
        "\n",
        "# Convert tokens to IDs\n",
        "input_ids = tokenizer.encode(text, add_special_tokens=True, return_tensors='pt')\n",
        "\n",
        "# Perform inference to obtain contextual embeddings\n",
        "with torch.no_grad():\n",
        "    outputs = model(input_ids)\n",
        "\n",
        "# Extract the contextual embeddings\n",
        "contextual_embeddings = outputs.last_hidden_state\n",
        "\n",
        "# Compute relevance scores for each skill\n",
        "skill_relevance_scores = {}\n",
        "for skill in extracted_skills_wd_experience:\n",
        "\n",
        "    skill_tokens = tokenizer.tokenize(skill)\n",
        "    print(skill_tokens)\n",
        "\n",
        "    skill_ids = tokenizer.convert_tokens_to_ids(skill_tokens)\n",
        "    print(skill_ids)\n",
        "\n",
        "    skill_embedding = torch.mean(contextual_embeddings[:, (tokens.index(skill_tokens[0])):(tokens.index(skill_tokens[-1]))+1, :], dim=1)\n",
        "    skill_relevance_scores[skill] = torch.cosine_similarity(skill_embedding, contextual_embeddings.mean(dim=1), dim=1).item()\n",
        "\n",
        "# Print relevance scores\n",
        "print(\"Relevance Scores:\")\n",
        "for skill, score in skill_relevance_scores.items():\n",
        "    print(f\"{skill}: {score}\")"
      ],
      "metadata": {
        "colab": {
          "base_uri": "https://localhost:8080/"
        },
        "id": "8EQ3716UsbEn",
        "outputId": "e08c5f41-0c51-4145-f713-13e90fe97c81"
      },
      "execution_count": null,
      "outputs": [
        {
          "output_type": "stream",
          "name": "stdout",
          "text": [
            "['absolutely', '.', 'in', 'my', 'most', 'recent', 'web', 'development', 'project', ',', 'i', 'had', 'the', 'opportunity', 'to', 'create', 'an', 'im', '##mers', '##ive', 'online', 'shopping', 'experience', 'for', 'a', 'fashion', 'e', '-', 'commerce', 'platform', '.', 'the', 'project', 'involved', 'redesign', '##ing', 'the', 'website', 'to', 'opt', '##imi', '##ze', 'performance', ',', 'enhance', 'user', 'engagement', ',', 'and', 'align', 'with', 'the', 'brand', 'identity', 'and', 'customer', 'experience', 'goals', '.', 'to', 'begin', ',', 'i', 'conducted', 'thorough', 'market', 'research', 'and', 'user', 'interviews', 'to', 'gain', 'insights', 'into', 'za', '##ra', \"'\", 's', 'target', 'audience', 'preferences', ',', 'shopping', 'behaviors', ',', 'and', 'expectations', '.', 'this', 'information', 'guided', 'our', 'decision', '-', 'making', 'process', 'throughout', 'the', 'project', '.', 'we', 'focused', 'on', 'implementing', 'a', 'clean', 'and', 'intuitive', 'user', 'interface', ',', 'with', 'a', 'modern', 'and', 'minimal', '##ist', 'design', 'aesthetic', 'that', 'reflects', 'za', '##ra', \"'\", 's', 'brand', 'et', '##hos', '.', 'lever', '##aging', 'the', 'latest', 'web', 'development', 'technologies', 'and', 'responsive', 'design', 'principles', ',', 'we', 'ensured', 'that', 'the', 'website', 'delivers', 'a', 'seam', '##less', 'experience', 'across', 'all', 'devices', ',', 'from', 'desktop', 'to', 'mobile', '.', 'one', 'key', 'aspect', 'we', 'prior', '##iti', '##zed', 'was', 'personal', '##ization', '.', 'we', 'integrated', 'ai', '-', 'powered', 'recommendation', 'algorithms', 'to', 'provide', 'users', 'with', 'tailored', 'product', 'suggestions', 'based', 'on', 'their', 'brows', '##ing', 'history', ',', 'purchase', 'behavior', ',', 'and', 'style', 'preferences', '.', 'this', 'not', 'only', 'enhance', '##s', 'the', 'shopping', 'experience', 'but', 'also', 'increases', 'customer', 'engagement', 'and', 'conversion', 'rates', '.', 'in', 'addition', ',', 'we', 'opt', '##imi', '##zed', 'the', 'website', \"'\", 's', 'performance', 'by', 'implementing', 'efficient', 'ca', '##ching', 'mechanisms', ',', 'lazy', 'loading', 'techniques', ',', 'and', 'image', 'compression', 'to', 'minimize', 'page', 'load', 'times', 'and', 'improve', 'overall', 'user', 'experience', '.', 'throughout', 'the', 'development', 'process', ',', 'collaboration', 'with', 'cross', '-', 'functional', 'teams', ',', 'including', 'designers', ',', 'product', 'managers', ',', 'and', 'marketing', 'specialists', ',', 'was', 'crucial', 'to', 'ensure', 'alignment', 'with', 'za', '##ra', \"'\", 's', 'brand', 'vision', 'and', 'business', 'objectives', '.', 'the', 'result', 'of', 'our', 'efforts', 'was', 'a', 'visually', 'stunning', 'and', 'user', '-', 'friendly', 'website', 'that', 'not', 'only', 'showcases', 'za', '##ra', \"'\", 's', 'latest', 'collections', 'but', 'also', 'reinforce', '##s', 'the', 'brand', \"'\", 's', 'commitment', 'to', 'innovation', 'and', 'customer', 'satisfaction', '.', 'i', \"'\", 'm', 'excited', 'about', 'the', 'opportunity', 'to', 'bring', 'my', 'expertise', 'in', 'web', 'development', 'to', 'za', '##ra', 'and', 'contribute', 'to', 'creating', 'exceptional', 'digital', 'experiences', 'for', 'its', 'customers', '.']\n",
            "['web', 'development']\n",
            "[4773, 2458]\n",
            "['design', 'principles']\n",
            "[2640, 6481]\n",
            "['user', 'experience']\n",
            "[5310, 3325]\n",
            "['personal', '##ization']\n",
            "[3167, 3989]\n",
            "['algorithms']\n",
            "[13792]\n",
            "['za', '##ra']\n",
            "[23564, 2527]\n",
            "Relevance Scores:\n",
            "web development: 0.6601580381393433\n",
            "design principles: 0.9027681350708008\n",
            "user experience: nan\n",
            "personalization: 0.7054751515388489\n",
            "algorithms: 0.4782774746417999\n",
            "ZARA: 0.5911926031112671\n"
          ]
        }
      ]
    },
    {
      "cell_type": "code",
      "source": [
        "# Load pre-trained BERT tokenizer and model\n",
        "tokenizer = BertTokenizer.from_pretrained('bert-base-uncased')\n",
        "model = BertModel.from_pretrained('bert-base-uncased')\n",
        "\n",
        "# Tokenize the text\n",
        "text = wd_no_experience\n",
        "tokens = tokenizer.tokenize(text)\n",
        "print(tokens)\n",
        "\n",
        "# Convert tokens to IDs\n",
        "input_ids = tokenizer.encode(text,\n",
        "                             add_special_tokens=True,\n",
        "                             return_tensors='pt')\n",
        "\n",
        "# Perform inference to obtain contextual embeddings\n",
        "with torch.no_grad():\n",
        "    outputs = model(input_ids)\n",
        "\n",
        "# Extract the contextual embeddings\n",
        "contextual_embeddings = outputs.last_hidden_state\n",
        "\n",
        "# Compute relevance scores for each skill\n",
        "skill_relevance_scores = {}\n",
        "for skill in extracted_skills_wd_no_experience:\n",
        "\n",
        "    skill_tokens = tokenizer.tokenize(skill)\n",
        "    print(skill_tokens)\n",
        "\n",
        "    skill_ids = tokenizer.convert_tokens_to_ids(skill_tokens)\n",
        "    print(skill_ids)\n",
        "\n",
        "    skill_embedding = torch.mean(contextual_embeddings[:, (tokens.index(skill_tokens[0])):(tokens.index(skill_tokens[-1]))+1, :], dim=1)\n",
        "    skill_relevance_scores[skill] = torch.cosine_similarity(skill_embedding, contextual_embeddings.mean(dim=1), dim=1).item()\n",
        "\n",
        "# Print relevance scores\n",
        "print(\"Relevance Scores:\")\n",
        "for skill, score in skill_relevance_scores.items():\n",
        "    print(f\"{skill}: {score}\")"
      ],
      "metadata": {
        "colab": {
          "base_uri": "https://localhost:8080/"
        },
        "id": "u2qweon7t5HK",
        "outputId": "e0aa3cd5-aa64-4c1b-c29c-67e85c81dcda"
      },
      "execution_count": null,
      "outputs": [
        {
          "output_type": "stream",
          "name": "stdout",
          "text": [
            "['of', 'course', '.', 'while', 'i', 'haven', \"'\", 't', 'directly', 'worked', 'on', 'web', 'development', 'projects', 'in', 'the', 'past', ',', 'i', 'do', 'understand', 'the', 'importance', 'of', 'align', '##ing', 'a', 'website', 'with', 'a', 'brand', \"'\", 's', 'identity', 'and', 'customer', 'experience', 'goals', '.', 'from', 'what', 'i', \"'\", 've', 'observed', 'as', 'a', 'consumer', ',', 'a', 'website', 'should', 'reflect', 'the', 'brand', \"'\", 's', 'style', ',', 'values', ',', 'and', 'aesthetics', 'to', 'create', 'a', 'co', '##hesive', 'experience', 'for', 'users', '.', 'for', 'example', ',', 'i', \"'\", 've', 'noticed', 'that', 'za', '##ra', \"'\", 's', 'website', 'has', 'a', 'sleek', 'and', 'modern', 'design', 'that', 'mirrors', 'the', 'so', '##phi', '##stic', '##ation', 'of', 'its', 'fashion', 'collections', '.', 'it', \"'\", 's', 'intuitive', 'to', 'navigate', ',', 'with', 'clear', 'categories', 'and', 'filters', 'to', 'help', 'shop', '##pers', 'find', 'what', 'they', \"'\", 're', 'looking', 'for', 'quickly', '.', 'i', 'believe', 'that', 'maintaining', 'consistency', 'in', 'design', 'elements', ',', 'such', 'as', 'font', '##s', ',', 'colors', ',', 'and', 'imagery', ',', 'across', 'the', 'website', 'is', 'crucial', 'for', 'rein', '##for', '##cing', 'brand', 'recognition', 'and', 'trust', '.', 'in', 'terms', 'of', 'customer', 'experience', ',', 'i', \"'\", 've', 'appreciated', 'features', 'like', 'product', 'recommendations', 'and', 'personal', '##ized', 'suggestions', 'based', 'on', 'my', 'brows', '##ing', 'history', '.', 'these', 'types', 'of', 'features', 'not', 'only', 'make', 'the', 'shopping', 'experience', 'more', 'convenient', 'but', 'also', 'encourage', 'users', 'to', 'explore', 'more', 'products', 'and', 'potentially', 'make', 'a', 'purchase', '.', 'overall', ',', 'while', 'i', 'may', 'not', 'have', 'hands', '-', 'on', 'experience', 'with', 'web', 'development', ',', 'i', 'recognize', 'the', 'importance', 'of', 'creating', 'a', 'visually', 'appealing', 'and', 'user', '-', 'friendly', 'website', 'that', 'align', '##s', 'with', 'za', '##ra', \"'\", 's', 'brand', 'image', 'and', 'enhance', '##s', 'the', 'overall', 'shopping', 'experience', 'for', 'customers', '.', 'i', \"'\", 'm', 'eager', 'to', 'learn', 'more', 'about', 'web', 'development', 'practices', 'and', 'contribute', 'my', 'skills', 'to', 'help', 'za', '##ra', 'achieve', 'its', 'digital', 'goals', '.']\n",
            "['web', 'development']\n",
            "[4773, 2458]\n",
            "['za', '##ra']\n",
            "[23564, 2527]\n",
            "Relevance Scores:\n",
            "web development: 0.6370407938957214\n",
            "ZARA: 0.6675817370414734\n"
          ]
        }
      ]
    },
    {
      "cell_type": "markdown",
      "source": [
        "# Sentiment Analysis"
      ],
      "metadata": {
        "id": "pEBODTJl7oBD"
      }
    },
    {
      "cell_type": "code",
      "source": [
        "from textblob import TextBlob"
      ],
      "metadata": {
        "id": "heGO2nz47r2q"
      },
      "execution_count": null,
      "outputs": []
    },
    {
      "cell_type": "code",
      "source": [
        "def sa_with_blob(skills_list, transcription):\n",
        "\n",
        "    # Initialize dictionary to store knowledge levels\n",
        "    knowledge_levels = {skill: 0 for skill in skills_list}\n",
        "\n",
        "    # Analyze sentiment around each keyword to determine knowledge level\n",
        "    for skill in skills_list:\n",
        "        if skill.lower() in transcription.lower():\n",
        "            # Analyze sentiment of the transcription containing the keyword\n",
        "            blob = TextBlob(transcription)\n",
        "            sentiment = blob.sentiment\n",
        "            print(sentiment)\n",
        "\n",
        "            # Use sentiment polarity as a proxy for knowledge level\n",
        "            if sentiment > 0:\n",
        "                knowledge_levels[skill] = 1   # Good understanding\n",
        "            elif sentiment < 0:\n",
        "                knowledge_levels[skill] = -1  # No knowledge or poor understanding\n",
        "\n",
        "    # Print knowledge levels\n",
        "    for skill, level in knowledge_levels.items():\n",
        "        print(f\"Knowledge level of {skill}: {level}\")"
      ],
      "metadata": {
        "id": "sk6gIMYm5ciE"
      },
      "execution_count": null,
      "outputs": []
    },
    {
      "cell_type": "code",
      "source": [
        "nltk.download('vader_lexicon')"
      ],
      "metadata": {
        "colab": {
          "base_uri": "https://localhost:8080/"
        },
        "id": "vFvtAxU3EBYA",
        "outputId": "e85f450b-4843-4c6c-af91-bf0dc7cc2452"
      },
      "execution_count": null,
      "outputs": [
        {
          "output_type": "stream",
          "name": "stderr",
          "text": [
            "[nltk_data] Downloading package vader_lexicon to /root/nltk_data...\n"
          ]
        },
        {
          "output_type": "execute_result",
          "data": {
            "text/plain": [
              "True"
            ]
          },
          "metadata": {},
          "execution_count": 2
        }
      ]
    },
    {
      "cell_type": "code",
      "source": [
        "import nltk\n",
        "from nltk.sentiment import SentimentIntensityAnalyzer\n",
        "import spacy\n",
        "\n",
        "def sa_with_nltk(skill, text):\n",
        "    # Load SpaCy's English model\n",
        "    nlp = spacy.load(\"en_core_web_sm\")\n",
        "\n",
        "    # Load NLTK's sentiment intensity analyzer\n",
        "    sid = SentimentIntensityAnalyzer()\n",
        "\n",
        "    # Extract entities related to the topic\n",
        "    topic = skill\n",
        "    doc = nlp(text)\n",
        "    topic_sentences = [sent.text for sent in doc.sents if topic in sent.text.lower()]\n",
        "    print(topic_sentences)\n",
        "\n",
        "    # Perform sentiment analysis on sentences related to the topic\n",
        "    for sentence in topic_sentences:\n",
        "        sentiment = sid.polarity_scores(sentence)\n",
        "        print(f\"Sentence: {sentence}\")\n",
        "        print(f\"Sentiment: {sentiment}\")"
      ],
      "metadata": {
        "id": "51OB5zaYCnLg"
      },
      "execution_count": null,
      "outputs": []
    },
    {
      "cell_type": "code",
      "source": [
        "skill='web development'\n",
        "text=wd_no_experience\n",
        "sa_with_nltk(skill, wd_no_experience)"
      ],
      "metadata": {
        "colab": {
          "base_uri": "https://localhost:8080/"
        },
        "id": "xJY_0lsp8XkO",
        "outputId": "6aac9af5-3eaa-42c7-cf84-af775f7e0a11"
      },
      "execution_count": null,
      "outputs": [
        {
          "output_type": "stream",
          "name": "stdout",
          "text": [
            "[\"While I haven't directly worked on web development projects in the past, I do understand the importance of aligning a website with a brand's identity and customer experience goals.\", \"Overall, while I may not have hands-on experience with web development, I recognize the importance of creating a visually appealing and user-friendly website that aligns with ZARA's brand image and enhances the overall shopping experience for customers.\", \"I'm eager to learn more about web development practices and contribute my skills to help ZARA achieve its digital goals.\"]\n",
            "Sentence: While I haven't directly worked on web development projects in the past, I do understand the importance of aligning a website with a brand's identity and customer experience goals.\n",
            "Sentiment: {'neg': 0.0, 'neu': 0.906, 'pos': 0.094, 'compound': 0.3612}\n",
            "Sentence: Overall, while I may not have hands-on experience with web development, I recognize the importance of creating a visually appealing and user-friendly website that aligns with ZARA's brand image and enhances the overall shopping experience for customers.\n",
            "Sentiment: {'neg': 0.0, 'neu': 0.872, 'pos': 0.128, 'compound': 0.5719}\n",
            "Sentence: I'm eager to learn more about web development practices and contribute my skills to help ZARA achieve its digital goals.\n",
            "Sentiment: {'neg': 0.0, 'neu': 0.776, 'pos': 0.224, 'compound': 0.6369}\n"
          ]
        }
      ]
    },
    {
      "cell_type": "code",
      "source": [
        "sa_with_nltk(skill, wd_experience)"
      ],
      "metadata": {
        "colab": {
          "base_uri": "https://localhost:8080/"
        },
        "id": "1mfaQ8wF8XhO",
        "outputId": "dd6c846f-66c4-457e-fb26-4449b083ed34"
      },
      "execution_count": null,
      "outputs": [
        {
          "output_type": "stream",
          "name": "stdout",
          "text": [
            "['In my most recent web development project, I had the opportunity to create an immersive online shopping experience for a fashion e-commerce platform.', 'Leveraging the latest web development technologies and responsive design principles, we ensured that the website delivers a seamless experience across all devices, from desktop to mobile.\\n\\n', \"I'm excited about the opportunity to bring my expertise in web development to ZARA and contribute to creating exceptional digital experiences for its customers.\\n\"]\n",
            "Sentence: In my most recent web development project, I had the opportunity to create an immersive online shopping experience for a fashion e-commerce platform.\n",
            "Sentiment: {'neg': 0.0, 'neu': 0.795, 'pos': 0.205, 'compound': 0.5994}\n",
            "Sentence: Leveraging the latest web development technologies and responsive design principles, we ensured that the website delivers a seamless experience across all devices, from desktop to mobile.\n",
            "\n",
            "\n",
            "Sentiment: {'neg': 0.0, 'neu': 0.906, 'pos': 0.094, 'compound': 0.3612}\n",
            "Sentence: I'm excited about the opportunity to bring my expertise in web development to ZARA and contribute to creating exceptional digital experiences for its customers.\n",
            "\n",
            "Sentiment: {'neg': 0.0, 'neu': 0.739, 'pos': 0.261, 'compound': 0.7506}\n"
          ]
        }
      ]
    },
    {
      "cell_type": "markdown",
      "source": [
        "## ExplainableAI"
      ],
      "metadata": {
        "id": "bpE1yigjrb3U"
      }
    },
    {
      "cell_type": "code",
      "source": [
        "pip install transformers-interpret"
      ],
      "metadata": {
        "id": "XHprIYemrh8j"
      },
      "execution_count": null,
      "outputs": []
    },
    {
      "cell_type": "code",
      "source": [
        "from transformers_interpret import SequenceClassificationExplainer"
      ],
      "metadata": {
        "id": "14q9cE_Y8Xda"
      },
      "execution_count": null,
      "outputs": []
    },
    {
      "cell_type": "code",
      "source": [
        "# Load SpaCy's English model\n",
        "nlp = spacy.load(\"en_core_web_sm\")\n",
        "\n",
        "# Load NLTK's sentiment intensity analyzer\n",
        "sid = SentimentIntensityAnalyzer()\n",
        "\n",
        "# Extract entities related to the topic\n",
        "topic = skill\n",
        "doc = nlp(text)\n",
        "topic_sentences = [sent.text for sent in doc.sents if topic in sent.text.lower()]\n",
        "print(topic_sentences)\n",
        "\n",
        "# Perform sentiment analysis on sentences related to the topic\n",
        "for sentence in topic_sentences:\n",
        "    sentiment = sid.polarity_scores(sentence)\n",
        "    print(f\"Sentence: {sentence}\")\n",
        "    print(f\"Sentiment: {sentiment}\")"
      ],
      "metadata": {
        "colab": {
          "base_uri": "https://localhost:8080/"
        },
        "id": "iSZxQgw1sS15",
        "outputId": "8d736b38-8c46-448c-d860-048a08dcf8dd"
      },
      "execution_count": null,
      "outputs": [
        {
          "output_type": "stream",
          "name": "stdout",
          "text": [
            "[\"While I haven't directly worked on web development projects in the past, I do understand the importance of aligning a website with a brand's identity and customer experience goals.\", \"Overall, while I may not have hands-on experience with web development, I recognize the importance of creating a visually appealing and user-friendly website that aligns with ZARA's brand image and enhances the overall shopping experience for customers.\", \"I'm eager to learn more about web development practices and contribute my skills to help ZARA achieve its digital goals.\"]\n",
            "Sentence: While I haven't directly worked on web development projects in the past, I do understand the importance of aligning a website with a brand's identity and customer experience goals.\n",
            "Sentiment: {'neg': 0.0, 'neu': 0.906, 'pos': 0.094, 'compound': 0.3612}\n",
            "Sentence: Overall, while I may not have hands-on experience with web development, I recognize the importance of creating a visually appealing and user-friendly website that aligns with ZARA's brand image and enhances the overall shopping experience for customers.\n",
            "Sentiment: {'neg': 0.0, 'neu': 0.872, 'pos': 0.128, 'compound': 0.5719}\n",
            "Sentence: I'm eager to learn more about web development practices and contribute my skills to help ZARA achieve its digital goals.\n",
            "Sentiment: {'neg': 0.0, 'neu': 0.776, 'pos': 0.224, 'compound': 0.6369}\n"
          ]
        }
      ]
    },
    {
      "cell_type": "code",
      "source": [
        "sentence"
      ],
      "metadata": {
        "colab": {
          "base_uri": "https://localhost:8080/",
          "height": 36
        },
        "id": "F-0BnM1utcXM",
        "outputId": "d08e0583-72ca-4146-d1d7-44bab36880f6"
      },
      "execution_count": null,
      "outputs": [
        {
          "output_type": "execute_result",
          "data": {
            "text/plain": [
              "\"I'm eager to learn more about web development practices and contribute my skills to help ZARA achieve its digital goals.\""
            ],
            "application/vnd.google.colaboratory.intrinsic+json": {
              "type": "string"
            }
          },
          "metadata": {},
          "execution_count": 98
        }
      ]
    },
    {
      "cell_type": "code",
      "source": [
        "anti_sentence=\"I'm not eager to learn more about web development practices. And, also, I do not want to contribute my skills to help ZARA achieve its digital goals.\""
      ],
      "metadata": {
        "id": "jEQdMcUqzAT1"
      },
      "execution_count": null,
      "outputs": []
    },
    {
      "cell_type": "code",
      "source": [
        "from transformers import AutoModelForSequenceClassification, AutoTokenizer\n",
        "from transformers_interpret import SequenceClassificationExplainer\n",
        "\n",
        "model_name_for_sentplainer = 'distilbert-base-uncased-finetuned-sst-2-english'\n",
        "model_for_sentplainer = AutoModelForSequenceClassification.from_pretrained(model_name)\n",
        "tokenizer_for_sentplainer = AutoTokenizer.from_pretrained(model_name)\n",
        "\n",
        "sentplainer = SequenceClassificationExplainer(model_for_sentplainer,tokenizer_for_sentplainer)"
      ],
      "metadata": {
        "id": "3MEMh9Gm8XW7",
        "colab": {
          "base_uri": "https://localhost:8080/"
        },
        "outputId": "8a015341-7d10-4554-b3ef-2f8d57c01e55"
      },
      "execution_count": null,
      "outputs": [
        {
          "output_type": "stream",
          "name": "stderr",
          "text": [
            "Some weights of DistilBertForSequenceClassification were not initialized from the model checkpoint at GalalEwida/LLM-BERT-Model-Based-Skills-Extraction-from-jobdescription and are newly initialized: ['pre_classifier.bias', 'pre_classifier.weight']\n",
            "You should probably TRAIN this model on a down-stream task to be able to use it for predictions and inference.\n"
          ]
        }
      ]
    },
    {
      "cell_type": "code",
      "source": [
        "word_attributions = sentplainer(sentence)\n",
        "sentplainer.predicted_class_name"
      ],
      "metadata": {
        "colab": {
          "base_uri": "https://localhost:8080/",
          "height": 36
        },
        "id": "CfaxBSVRuN1P",
        "outputId": "361282d9-31ae-4d0b-e177-36ddcc91a87a"
      },
      "execution_count": null,
      "outputs": [
        {
          "output_type": "execute_result",
          "data": {
            "text/plain": [
              "'O'"
            ],
            "application/vnd.google.colaboratory.intrinsic+json": {
              "type": "string"
            }
          },
          "metadata": {},
          "execution_count": 100
        }
      ]
    },
    {
      "cell_type": "code",
      "source": [
        "sentplainer.visualize()"
      ],
      "metadata": {
        "colab": {
          "base_uri": "https://localhost:8080/",
          "height": 178
        },
        "id": "uydsZAttut-Y",
        "outputId": "0d5d917f-0732-4f29-974c-ff75475723ad"
      },
      "execution_count": null,
      "outputs": [
        {
          "output_type": "display_data",
          "data": {
            "text/plain": [
              "<IPython.core.display.HTML object>"
            ],
            "text/html": [
              "<table width: 100%><div style=\"border-top: 1px solid; margin-top: 5px;             padding-top: 5px; display: inline-block\"><b>Legend: </b><span style=\"display: inline-block; width: 10px; height: 10px;                 border: 1px solid; background-color:                 hsl(0, 75%, 60%)\"></span> Negative  <span style=\"display: inline-block; width: 10px; height: 10px;                 border: 1px solid; background-color:                 hsl(0, 75%, 100%)\"></span> Neutral  <span style=\"display: inline-block; width: 10px; height: 10px;                 border: 1px solid; background-color:                 hsl(120, 75%, 50%)\"></span> Positive  </div><tr><th>True Label</th><th>Predicted Label</th><th>Attribution Label</th><th>Attribution Score</th><th>Word Importance</th><tr><td><text style=\"padding-right:2em\"><b>0</b></text></td><td><text style=\"padding-right:2em\"><b>O (0.26)</b></text></td><td><text style=\"padding-right:2em\"><b>O</b></text></td><td><text style=\"padding-right:2em\"><b>0.29</b></text></td><td><mark style=\"background-color: hsl(0, 75%, 100%); opacity:1.0;                     line-height:1.75\"><font color=\"black\"> [CLS]                    </font></mark><mark style=\"background-color: hsl(120, 75%, 98%); opacity:1.0;                     line-height:1.75\"><font color=\"black\"> i                    </font></mark><mark style=\"background-color: hsl(120, 75%, 99%); opacity:1.0;                     line-height:1.75\"><font color=\"black\"> '                    </font></mark><mark style=\"background-color: hsl(0, 75%, 95%); opacity:1.0;                     line-height:1.75\"><font color=\"black\"> m                    </font></mark><mark style=\"background-color: hsl(0, 75%, 96%); opacity:1.0;                     line-height:1.75\"><font color=\"black\"> eager                    </font></mark><mark style=\"background-color: hsl(0, 75%, 91%); opacity:1.0;                     line-height:1.75\"><font color=\"black\"> to                    </font></mark><mark style=\"background-color: hsl(0, 75%, 93%); opacity:1.0;                     line-height:1.75\"><font color=\"black\"> learn                    </font></mark><mark style=\"background-color: hsl(120, 75%, 92%); opacity:1.0;                     line-height:1.75\"><font color=\"black\"> more                    </font></mark><mark style=\"background-color: hsl(120, 75%, 100%); opacity:1.0;                     line-height:1.75\"><font color=\"black\"> about                    </font></mark><mark style=\"background-color: hsl(0, 75%, 96%); opacity:1.0;                     line-height:1.75\"><font color=\"black\"> web                    </font></mark><mark style=\"background-color: hsl(0, 75%, 98%); opacity:1.0;                     line-height:1.75\"><font color=\"black\"> development                    </font></mark><mark style=\"background-color: hsl(0, 75%, 97%); opacity:1.0;                     line-height:1.75\"><font color=\"black\"> practices                    </font></mark><mark style=\"background-color: hsl(0, 75%, 97%); opacity:1.0;                     line-height:1.75\"><font color=\"black\"> and                    </font></mark><mark style=\"background-color: hsl(120, 75%, 98%); opacity:1.0;                     line-height:1.75\"><font color=\"black\"> contribute                    </font></mark><mark style=\"background-color: hsl(0, 75%, 100%); opacity:1.0;                     line-height:1.75\"><font color=\"black\"> my                    </font></mark><mark style=\"background-color: hsl(120, 75%, 99%); opacity:1.0;                     line-height:1.75\"><font color=\"black\"> skills                    </font></mark><mark style=\"background-color: hsl(0, 75%, 97%); opacity:1.0;                     line-height:1.75\"><font color=\"black\"> to                    </font></mark><mark style=\"background-color: hsl(120, 75%, 95%); opacity:1.0;                     line-height:1.75\"><font color=\"black\"> help                    </font></mark><mark style=\"background-color: hsl(120, 75%, 94%); opacity:1.0;                     line-height:1.75\"><font color=\"black\"> za                    </font></mark><mark style=\"background-color: hsl(0, 75%, 95%); opacity:1.0;                     line-height:1.75\"><font color=\"black\"> ##ra                    </font></mark><mark style=\"background-color: hsl(120, 75%, 98%); opacity:1.0;                     line-height:1.75\"><font color=\"black\"> achieve                    </font></mark><mark style=\"background-color: hsl(0, 75%, 85%); opacity:1.0;                     line-height:1.75\"><font color=\"black\"> its                    </font></mark><mark style=\"background-color: hsl(120, 75%, 78%); opacity:1.0;                     line-height:1.75\"><font color=\"black\"> digital                    </font></mark><mark style=\"background-color: hsl(120, 75%, 83%); opacity:1.0;                     line-height:1.75\"><font color=\"black\"> goals                    </font></mark><mark style=\"background-color: hsl(120, 75%, 75%); opacity:1.0;                     line-height:1.75\"><font color=\"black\"> .                    </font></mark><mark style=\"background-color: hsl(0, 75%, 100%); opacity:1.0;                     line-height:1.75\"><font color=\"black\"> [SEP]                    </font></mark></td><tr></table>"
            ]
          },
          "metadata": {}
        },
        {
          "output_type": "execute_result",
          "data": {
            "text/plain": [
              "<IPython.core.display.HTML object>"
            ],
            "text/html": [
              "<table width: 100%><div style=\"border-top: 1px solid; margin-top: 5px;             padding-top: 5px; display: inline-block\"><b>Legend: </b><span style=\"display: inline-block; width: 10px; height: 10px;                 border: 1px solid; background-color:                 hsl(0, 75%, 60%)\"></span> Negative  <span style=\"display: inline-block; width: 10px; height: 10px;                 border: 1px solid; background-color:                 hsl(0, 75%, 100%)\"></span> Neutral  <span style=\"display: inline-block; width: 10px; height: 10px;                 border: 1px solid; background-color:                 hsl(120, 75%, 50%)\"></span> Positive  </div><tr><th>True Label</th><th>Predicted Label</th><th>Attribution Label</th><th>Attribution Score</th><th>Word Importance</th><tr><td><text style=\"padding-right:2em\"><b>0</b></text></td><td><text style=\"padding-right:2em\"><b>O (0.26)</b></text></td><td><text style=\"padding-right:2em\"><b>O</b></text></td><td><text style=\"padding-right:2em\"><b>0.29</b></text></td><td><mark style=\"background-color: hsl(0, 75%, 100%); opacity:1.0;                     line-height:1.75\"><font color=\"black\"> [CLS]                    </font></mark><mark style=\"background-color: hsl(120, 75%, 98%); opacity:1.0;                     line-height:1.75\"><font color=\"black\"> i                    </font></mark><mark style=\"background-color: hsl(120, 75%, 99%); opacity:1.0;                     line-height:1.75\"><font color=\"black\"> '                    </font></mark><mark style=\"background-color: hsl(0, 75%, 95%); opacity:1.0;                     line-height:1.75\"><font color=\"black\"> m                    </font></mark><mark style=\"background-color: hsl(0, 75%, 96%); opacity:1.0;                     line-height:1.75\"><font color=\"black\"> eager                    </font></mark><mark style=\"background-color: hsl(0, 75%, 91%); opacity:1.0;                     line-height:1.75\"><font color=\"black\"> to                    </font></mark><mark style=\"background-color: hsl(0, 75%, 93%); opacity:1.0;                     line-height:1.75\"><font color=\"black\"> learn                    </font></mark><mark style=\"background-color: hsl(120, 75%, 92%); opacity:1.0;                     line-height:1.75\"><font color=\"black\"> more                    </font></mark><mark style=\"background-color: hsl(120, 75%, 100%); opacity:1.0;                     line-height:1.75\"><font color=\"black\"> about                    </font></mark><mark style=\"background-color: hsl(0, 75%, 96%); opacity:1.0;                     line-height:1.75\"><font color=\"black\"> web                    </font></mark><mark style=\"background-color: hsl(0, 75%, 98%); opacity:1.0;                     line-height:1.75\"><font color=\"black\"> development                    </font></mark><mark style=\"background-color: hsl(0, 75%, 97%); opacity:1.0;                     line-height:1.75\"><font color=\"black\"> practices                    </font></mark><mark style=\"background-color: hsl(0, 75%, 97%); opacity:1.0;                     line-height:1.75\"><font color=\"black\"> and                    </font></mark><mark style=\"background-color: hsl(120, 75%, 98%); opacity:1.0;                     line-height:1.75\"><font color=\"black\"> contribute                    </font></mark><mark style=\"background-color: hsl(0, 75%, 100%); opacity:1.0;                     line-height:1.75\"><font color=\"black\"> my                    </font></mark><mark style=\"background-color: hsl(120, 75%, 99%); opacity:1.0;                     line-height:1.75\"><font color=\"black\"> skills                    </font></mark><mark style=\"background-color: hsl(0, 75%, 97%); opacity:1.0;                     line-height:1.75\"><font color=\"black\"> to                    </font></mark><mark style=\"background-color: hsl(120, 75%, 95%); opacity:1.0;                     line-height:1.75\"><font color=\"black\"> help                    </font></mark><mark style=\"background-color: hsl(120, 75%, 94%); opacity:1.0;                     line-height:1.75\"><font color=\"black\"> za                    </font></mark><mark style=\"background-color: hsl(0, 75%, 95%); opacity:1.0;                     line-height:1.75\"><font color=\"black\"> ##ra                    </font></mark><mark style=\"background-color: hsl(120, 75%, 98%); opacity:1.0;                     line-height:1.75\"><font color=\"black\"> achieve                    </font></mark><mark style=\"background-color: hsl(0, 75%, 85%); opacity:1.0;                     line-height:1.75\"><font color=\"black\"> its                    </font></mark><mark style=\"background-color: hsl(120, 75%, 78%); opacity:1.0;                     line-height:1.75\"><font color=\"black\"> digital                    </font></mark><mark style=\"background-color: hsl(120, 75%, 83%); opacity:1.0;                     line-height:1.75\"><font color=\"black\"> goals                    </font></mark><mark style=\"background-color: hsl(120, 75%, 75%); opacity:1.0;                     line-height:1.75\"><font color=\"black\"> .                    </font></mark><mark style=\"background-color: hsl(0, 75%, 100%); opacity:1.0;                     line-height:1.75\"><font color=\"black\"> [SEP]                    </font></mark></td><tr></table>"
            ]
          },
          "metadata": {},
          "execution_count": 101
        }
      ]
    },
    {
      "cell_type": "code",
      "source": [
        "word_attributions_anti = sentplainer(anti_sentence)\n",
        "sentplainer.predicted_class_name"
      ],
      "metadata": {
        "colab": {
          "base_uri": "https://localhost:8080/",
          "height": 36
        },
        "id": "suMlIxhvzPjv",
        "outputId": "431e9d35-ef22-48f2-b98c-b2a5317285bc"
      },
      "execution_count": null,
      "outputs": [
        {
          "output_type": "execute_result",
          "data": {
            "text/plain": [
              "'O'"
            ],
            "application/vnd.google.colaboratory.intrinsic+json": {
              "type": "string"
            }
          },
          "metadata": {},
          "execution_count": 108
        }
      ]
    },
    {
      "cell_type": "code",
      "source": [
        "sentplainer.visualize()"
      ],
      "metadata": {
        "id": "xqPB7ECQzbJp",
        "outputId": "cf365f13-5823-492e-b250-a45361123b07",
        "colab": {
          "base_uri": "https://localhost:8080/",
          "height": 178
        }
      },
      "execution_count": null,
      "outputs": [
        {
          "output_type": "display_data",
          "data": {
            "text/plain": [
              "<IPython.core.display.HTML object>"
            ],
            "text/html": [
              "<table width: 100%><div style=\"border-top: 1px solid; margin-top: 5px;             padding-top: 5px; display: inline-block\"><b>Legend: </b><span style=\"display: inline-block; width: 10px; height: 10px;                 border: 1px solid; background-color:                 hsl(0, 75%, 60%)\"></span> Negative  <span style=\"display: inline-block; width: 10px; height: 10px;                 border: 1px solid; background-color:                 hsl(0, 75%, 100%)\"></span> Neutral  <span style=\"display: inline-block; width: 10px; height: 10px;                 border: 1px solid; background-color:                 hsl(120, 75%, 50%)\"></span> Positive  </div><tr><th>True Label</th><th>Predicted Label</th><th>Attribution Label</th><th>Attribution Score</th><th>Word Importance</th><tr><td><text style=\"padding-right:2em\"><b>0</b></text></td><td><text style=\"padding-right:2em\"><b>O (0.25)</b></text></td><td><text style=\"padding-right:2em\"><b>O</b></text></td><td><text style=\"padding-right:2em\"><b>-0.30</b></text></td><td><mark style=\"background-color: hsl(0, 75%, 100%); opacity:1.0;                     line-height:1.75\"><font color=\"black\"> [CLS]                    </font></mark><mark style=\"background-color: hsl(0, 75%, 99%); opacity:1.0;                     line-height:1.75\"><font color=\"black\"> i                    </font></mark><mark style=\"background-color: hsl(120, 75%, 100%); opacity:1.0;                     line-height:1.75\"><font color=\"black\"> '                    </font></mark><mark style=\"background-color: hsl(0, 75%, 96%); opacity:1.0;                     line-height:1.75\"><font color=\"black\"> m                    </font></mark><mark style=\"background-color: hsl(120, 75%, 98%); opacity:1.0;                     line-height:1.75\"><font color=\"black\"> not                    </font></mark><mark style=\"background-color: hsl(0, 75%, 98%); opacity:1.0;                     line-height:1.75\"><font color=\"black\"> eager                    </font></mark><mark style=\"background-color: hsl(0, 75%, 97%); opacity:1.0;                     line-height:1.75\"><font color=\"black\"> to                    </font></mark><mark style=\"background-color: hsl(0, 75%, 96%); opacity:1.0;                     line-height:1.75\"><font color=\"black\"> learn                    </font></mark><mark style=\"background-color: hsl(0, 75%, 100%); opacity:1.0;                     line-height:1.75\"><font color=\"black\"> more                    </font></mark><mark style=\"background-color: hsl(0, 75%, 100%); opacity:1.0;                     line-height:1.75\"><font color=\"black\"> about                    </font></mark><mark style=\"background-color: hsl(0, 75%, 89%); opacity:1.0;                     line-height:1.75\"><font color=\"black\"> web                    </font></mark><mark style=\"background-color: hsl(0, 75%, 93%); opacity:1.0;                     line-height:1.75\"><font color=\"black\"> development                    </font></mark><mark style=\"background-color: hsl(0, 75%, 93%); opacity:1.0;                     line-height:1.75\"><font color=\"black\"> practices                    </font></mark><mark style=\"background-color: hsl(0, 75%, 91%); opacity:1.0;                     line-height:1.75\"><font color=\"black\"> .                    </font></mark><mark style=\"background-color: hsl(120, 75%, 100%); opacity:1.0;                     line-height:1.75\"><font color=\"black\"> and                    </font></mark><mark style=\"background-color: hsl(0, 75%, 99%); opacity:1.0;                     line-height:1.75\"><font color=\"black\"> ,                    </font></mark><mark style=\"background-color: hsl(120, 75%, 94%); opacity:1.0;                     line-height:1.75\"><font color=\"black\"> also                    </font></mark><mark style=\"background-color: hsl(120, 75%, 99%); opacity:1.0;                     line-height:1.75\"><font color=\"black\"> ,                    </font></mark><mark style=\"background-color: hsl(0, 75%, 89%); opacity:1.0;                     line-height:1.75\"><font color=\"black\"> i                    </font></mark><mark style=\"background-color: hsl(0, 75%, 100%); opacity:1.0;                     line-height:1.75\"><font color=\"black\"> do                    </font></mark><mark style=\"background-color: hsl(120, 75%, 95%); opacity:1.0;                     line-height:1.75\"><font color=\"black\"> not                    </font></mark><mark style=\"background-color: hsl(120, 75%, 100%); opacity:1.0;                     line-height:1.75\"><font color=\"black\"> want                    </font></mark><mark style=\"background-color: hsl(0, 75%, 98%); opacity:1.0;                     line-height:1.75\"><font color=\"black\"> to                    </font></mark><mark style=\"background-color: hsl(0, 75%, 100%); opacity:1.0;                     line-height:1.75\"><font color=\"black\"> contribute                    </font></mark><mark style=\"background-color: hsl(120, 75%, 96%); opacity:1.0;                     line-height:1.75\"><font color=\"black\"> my                    </font></mark><mark style=\"background-color: hsl(120, 75%, 95%); opacity:1.0;                     line-height:1.75\"><font color=\"black\"> skills                    </font></mark><mark style=\"background-color: hsl(0, 75%, 98%); opacity:1.0;                     line-height:1.75\"><font color=\"black\"> to                    </font></mark><mark style=\"background-color: hsl(120, 75%, 89%); opacity:1.0;                     line-height:1.75\"><font color=\"black\"> help                    </font></mark><mark style=\"background-color: hsl(120, 75%, 96%); opacity:1.0;                     line-height:1.75\"><font color=\"black\"> za                    </font></mark><mark style=\"background-color: hsl(0, 75%, 90%); opacity:1.0;                     line-height:1.75\"><font color=\"black\"> ##ra                    </font></mark><mark style=\"background-color: hsl(120, 75%, 99%); opacity:1.0;                     line-height:1.75\"><font color=\"black\"> achieve                    </font></mark><mark style=\"background-color: hsl(0, 75%, 92%); opacity:1.0;                     line-height:1.75\"><font color=\"black\"> its                    </font></mark><mark style=\"background-color: hsl(120, 75%, 82%); opacity:1.0;                     line-height:1.75\"><font color=\"black\"> digital                    </font></mark><mark style=\"background-color: hsl(120, 75%, 91%); opacity:1.0;                     line-height:1.75\"><font color=\"black\"> goals                    </font></mark><mark style=\"background-color: hsl(120, 75%, 75%); opacity:1.0;                     line-height:1.75\"><font color=\"black\"> .                    </font></mark><mark style=\"background-color: hsl(0, 75%, 100%); opacity:1.0;                     line-height:1.75\"><font color=\"black\"> [SEP]                    </font></mark></td><tr></table>"
            ]
          },
          "metadata": {}
        },
        {
          "output_type": "execute_result",
          "data": {
            "text/plain": [
              "<IPython.core.display.HTML object>"
            ],
            "text/html": [
              "<table width: 100%><div style=\"border-top: 1px solid; margin-top: 5px;             padding-top: 5px; display: inline-block\"><b>Legend: </b><span style=\"display: inline-block; width: 10px; height: 10px;                 border: 1px solid; background-color:                 hsl(0, 75%, 60%)\"></span> Negative  <span style=\"display: inline-block; width: 10px; height: 10px;                 border: 1px solid; background-color:                 hsl(0, 75%, 100%)\"></span> Neutral  <span style=\"display: inline-block; width: 10px; height: 10px;                 border: 1px solid; background-color:                 hsl(120, 75%, 50%)\"></span> Positive  </div><tr><th>True Label</th><th>Predicted Label</th><th>Attribution Label</th><th>Attribution Score</th><th>Word Importance</th><tr><td><text style=\"padding-right:2em\"><b>0</b></text></td><td><text style=\"padding-right:2em\"><b>O (0.25)</b></text></td><td><text style=\"padding-right:2em\"><b>O</b></text></td><td><text style=\"padding-right:2em\"><b>-0.30</b></text></td><td><mark style=\"background-color: hsl(0, 75%, 100%); opacity:1.0;                     line-height:1.75\"><font color=\"black\"> [CLS]                    </font></mark><mark style=\"background-color: hsl(0, 75%, 99%); opacity:1.0;                     line-height:1.75\"><font color=\"black\"> i                    </font></mark><mark style=\"background-color: hsl(120, 75%, 100%); opacity:1.0;                     line-height:1.75\"><font color=\"black\"> '                    </font></mark><mark style=\"background-color: hsl(0, 75%, 96%); opacity:1.0;                     line-height:1.75\"><font color=\"black\"> m                    </font></mark><mark style=\"background-color: hsl(120, 75%, 98%); opacity:1.0;                     line-height:1.75\"><font color=\"black\"> not                    </font></mark><mark style=\"background-color: hsl(0, 75%, 98%); opacity:1.0;                     line-height:1.75\"><font color=\"black\"> eager                    </font></mark><mark style=\"background-color: hsl(0, 75%, 97%); opacity:1.0;                     line-height:1.75\"><font color=\"black\"> to                    </font></mark><mark style=\"background-color: hsl(0, 75%, 96%); opacity:1.0;                     line-height:1.75\"><font color=\"black\"> learn                    </font></mark><mark style=\"background-color: hsl(0, 75%, 100%); opacity:1.0;                     line-height:1.75\"><font color=\"black\"> more                    </font></mark><mark style=\"background-color: hsl(0, 75%, 100%); opacity:1.0;                     line-height:1.75\"><font color=\"black\"> about                    </font></mark><mark style=\"background-color: hsl(0, 75%, 89%); opacity:1.0;                     line-height:1.75\"><font color=\"black\"> web                    </font></mark><mark style=\"background-color: hsl(0, 75%, 93%); opacity:1.0;                     line-height:1.75\"><font color=\"black\"> development                    </font></mark><mark style=\"background-color: hsl(0, 75%, 93%); opacity:1.0;                     line-height:1.75\"><font color=\"black\"> practices                    </font></mark><mark style=\"background-color: hsl(0, 75%, 91%); opacity:1.0;                     line-height:1.75\"><font color=\"black\"> .                    </font></mark><mark style=\"background-color: hsl(120, 75%, 100%); opacity:1.0;                     line-height:1.75\"><font color=\"black\"> and                    </font></mark><mark style=\"background-color: hsl(0, 75%, 99%); opacity:1.0;                     line-height:1.75\"><font color=\"black\"> ,                    </font></mark><mark style=\"background-color: hsl(120, 75%, 94%); opacity:1.0;                     line-height:1.75\"><font color=\"black\"> also                    </font></mark><mark style=\"background-color: hsl(120, 75%, 99%); opacity:1.0;                     line-height:1.75\"><font color=\"black\"> ,                    </font></mark><mark style=\"background-color: hsl(0, 75%, 89%); opacity:1.0;                     line-height:1.75\"><font color=\"black\"> i                    </font></mark><mark style=\"background-color: hsl(0, 75%, 100%); opacity:1.0;                     line-height:1.75\"><font color=\"black\"> do                    </font></mark><mark style=\"background-color: hsl(120, 75%, 95%); opacity:1.0;                     line-height:1.75\"><font color=\"black\"> not                    </font></mark><mark style=\"background-color: hsl(120, 75%, 100%); opacity:1.0;                     line-height:1.75\"><font color=\"black\"> want                    </font></mark><mark style=\"background-color: hsl(0, 75%, 98%); opacity:1.0;                     line-height:1.75\"><font color=\"black\"> to                    </font></mark><mark style=\"background-color: hsl(0, 75%, 100%); opacity:1.0;                     line-height:1.75\"><font color=\"black\"> contribute                    </font></mark><mark style=\"background-color: hsl(120, 75%, 96%); opacity:1.0;                     line-height:1.75\"><font color=\"black\"> my                    </font></mark><mark style=\"background-color: hsl(120, 75%, 95%); opacity:1.0;                     line-height:1.75\"><font color=\"black\"> skills                    </font></mark><mark style=\"background-color: hsl(0, 75%, 98%); opacity:1.0;                     line-height:1.75\"><font color=\"black\"> to                    </font></mark><mark style=\"background-color: hsl(120, 75%, 89%); opacity:1.0;                     line-height:1.75\"><font color=\"black\"> help                    </font></mark><mark style=\"background-color: hsl(120, 75%, 96%); opacity:1.0;                     line-height:1.75\"><font color=\"black\"> za                    </font></mark><mark style=\"background-color: hsl(0, 75%, 90%); opacity:1.0;                     line-height:1.75\"><font color=\"black\"> ##ra                    </font></mark><mark style=\"background-color: hsl(120, 75%, 99%); opacity:1.0;                     line-height:1.75\"><font color=\"black\"> achieve                    </font></mark><mark style=\"background-color: hsl(0, 75%, 92%); opacity:1.0;                     line-height:1.75\"><font color=\"black\"> its                    </font></mark><mark style=\"background-color: hsl(120, 75%, 82%); opacity:1.0;                     line-height:1.75\"><font color=\"black\"> digital                    </font></mark><mark style=\"background-color: hsl(120, 75%, 91%); opacity:1.0;                     line-height:1.75\"><font color=\"black\"> goals                    </font></mark><mark style=\"background-color: hsl(120, 75%, 75%); opacity:1.0;                     line-height:1.75\"><font color=\"black\"> .                    </font></mark><mark style=\"background-color: hsl(0, 75%, 100%); opacity:1.0;                     line-height:1.75\"><font color=\"black\"> [SEP]                    </font></mark></td><tr></table>"
            ]
          },
          "metadata": {},
          "execution_count": 109
        }
      ]
    },
    {
      "cell_type": "code",
      "source": [
        "for word_score in word_attributions:\n",
        "    print(word_score)"
      ],
      "metadata": {
        "colab": {
          "base_uri": "https://localhost:8080/"
        },
        "id": "TFytPXtNut5v",
        "outputId": "a389dafe-78c2-4c44-e5c7-f406847e55af"
      },
      "execution_count": null,
      "outputs": [
        {
          "output_type": "stream",
          "name": "stdout",
          "text": [
            "('[CLS]', 0.0)\n",
            "('i', 0.046450978904313114)\n",
            "(\"'\", 0.03690035709920041)\n",
            "('m', -0.14261494061296567)\n",
            "('eager', -0.12437612932817055)\n",
            "('to', -0.24188678787133025)\n",
            "('learn', -0.1993534516618855)\n",
            "('more', 0.17417982175785113)\n",
            "('about', 0.007850685355967668)\n",
            "('web', -0.12261596927474522)\n",
            "('development', -0.05289519956232029)\n",
            "('practices', -0.08119742162372776)\n",
            "('and', -0.08972649023946894)\n",
            "('contribute', 0.04434349141590119)\n",
            "('my', -0.008547472143264883)\n",
            "('skills', 0.03224244258868263)\n",
            "('to', -0.09146203200005201)\n",
            "('help', 0.11006685972845463)\n",
            "('za', 0.12228060450965295)\n",
            "('##ra', -0.13278012031711978)\n",
            "('achieve', 0.056740532399892823)\n",
            "('its', -0.37629971689466984)\n",
            "('digital', 0.4525986874048284)\n",
            "('goals', 0.35562719838867335)\n",
            "('.', 0.516976963162343)\n",
            "('[SEP]', 0.0)\n"
          ]
        }
      ]
    },
    {
      "cell_type": "code",
      "source": [],
      "metadata": {
        "id": "adDMSimgut2D"
      },
      "execution_count": null,
      "outputs": []
    },
    {
      "cell_type": "code",
      "source": [],
      "metadata": {
        "id": "LY-km3U6uttJ"
      },
      "execution_count": null,
      "outputs": []
    },
    {
      "cell_type": "code",
      "source": [
        "# this might be useful in the future\n",
        "categories = {\n",
        "    \"technology\": [\"technology\", \"microservices\"],\n",
        "    \"NLP\": [\"NLP\", \"Natural Language Processing\"],\n",
        "    \"models\": [\"models\", \"machine learning\"],\n",
        "    \"programming\": [\"Python\", \"Java\", \"C++\"]  # Example programming languages\n",
        "}\n"
      ],
      "metadata": {
        "id": "HQ1tEK6l5BtL"
      },
      "execution_count": null,
      "outputs": []
    },
    {
      "cell_type": "markdown",
      "source": [
        "# Training data exploration"
      ],
      "metadata": {
        "id": "MFjBtnfh9F6q"
      }
    },
    {
      "cell_type": "code",
      "source": [
        "import pandas as pd"
      ],
      "metadata": {
        "id": "y9G03rIV9Fdf"
      },
      "execution_count": null,
      "outputs": []
    },
    {
      "cell_type": "code",
      "source": [
        "data='/content/examples.csv'\n",
        "df=pd.read_csv(data, delimiter=\"/\")"
      ],
      "metadata": {
        "colab": {
          "base_uri": "https://localhost:8080/",
          "height": 217
        },
        "id": "yvGMzh2k9Fak",
        "outputId": "42e2f4fb-7d37-42d6-bdaf-17c7307aef14"
      },
      "execution_count": null,
      "outputs": [
        {
          "output_type": "error",
          "ename": "ParserError",
          "evalue": "Error tokenizing data. C error: Expected 1 fields in line 10, saw 6\n",
          "traceback": [
            "\u001b[0;31m---------------------------------------------------------------------------\u001b[0m",
            "\u001b[0;31mParserError\u001b[0m                               Traceback (most recent call last)",
            "\u001b[0;32m<ipython-input-29-12c091e58fda>\u001b[0m in \u001b[0;36m<cell line: 2>\u001b[0;34m()\u001b[0m\n\u001b[1;32m      1\u001b[0m \u001b[0mdata\u001b[0m\u001b[0;34m=\u001b[0m\u001b[0;34m'/content/examples.csv'\u001b[0m\u001b[0;34m\u001b[0m\u001b[0;34m\u001b[0m\u001b[0m\n\u001b[0;32m----> 2\u001b[0;31m \u001b[0mdf\u001b[0m\u001b[0;34m=\u001b[0m\u001b[0mpd\u001b[0m\u001b[0;34m.\u001b[0m\u001b[0mread_csv\u001b[0m\u001b[0;34m(\u001b[0m\u001b[0mdata\u001b[0m\u001b[0;34m,\u001b[0m \u001b[0mdelimiter\u001b[0m\u001b[0;34m=\u001b[0m\u001b[0;34m\"/\"\u001b[0m\u001b[0;34m)\u001b[0m\u001b[0;34m\u001b[0m\u001b[0;34m\u001b[0m\u001b[0m\n\u001b[0m",
            "\u001b[0;32m/usr/local/lib/python3.10/dist-packages/pandas/io/parsers/readers.py\u001b[0m in \u001b[0;36mread_csv\u001b[0;34m(filepath_or_buffer, sep, delimiter, header, names, index_col, usecols, dtype, engine, converters, true_values, false_values, skipinitialspace, skiprows, skipfooter, nrows, na_values, keep_default_na, na_filter, verbose, skip_blank_lines, parse_dates, infer_datetime_format, keep_date_col, date_parser, date_format, dayfirst, cache_dates, iterator, chunksize, compression, thousands, decimal, lineterminator, quotechar, quoting, doublequote, escapechar, comment, encoding, encoding_errors, dialect, on_bad_lines, delim_whitespace, low_memory, memory_map, float_precision, storage_options, dtype_backend)\u001b[0m\n\u001b[1;32m    910\u001b[0m     \u001b[0mkwds\u001b[0m\u001b[0;34m.\u001b[0m\u001b[0mupdate\u001b[0m\u001b[0;34m(\u001b[0m\u001b[0mkwds_defaults\u001b[0m\u001b[0;34m)\u001b[0m\u001b[0;34m\u001b[0m\u001b[0;34m\u001b[0m\u001b[0m\n\u001b[1;32m    911\u001b[0m \u001b[0;34m\u001b[0m\u001b[0m\n\u001b[0;32m--> 912\u001b[0;31m     \u001b[0;32mreturn\u001b[0m \u001b[0m_read\u001b[0m\u001b[0;34m(\u001b[0m\u001b[0mfilepath_or_buffer\u001b[0m\u001b[0;34m,\u001b[0m \u001b[0mkwds\u001b[0m\u001b[0;34m)\u001b[0m\u001b[0;34m\u001b[0m\u001b[0;34m\u001b[0m\u001b[0m\n\u001b[0m\u001b[1;32m    913\u001b[0m \u001b[0;34m\u001b[0m\u001b[0m\n\u001b[1;32m    914\u001b[0m \u001b[0;34m\u001b[0m\u001b[0m\n",
            "\u001b[0;32m/usr/local/lib/python3.10/dist-packages/pandas/io/parsers/readers.py\u001b[0m in \u001b[0;36m_read\u001b[0;34m(filepath_or_buffer, kwds)\u001b[0m\n\u001b[1;32m    581\u001b[0m \u001b[0;34m\u001b[0m\u001b[0m\n\u001b[1;32m    582\u001b[0m     \u001b[0;32mwith\u001b[0m \u001b[0mparser\u001b[0m\u001b[0;34m:\u001b[0m\u001b[0;34m\u001b[0m\u001b[0;34m\u001b[0m\u001b[0m\n\u001b[0;32m--> 583\u001b[0;31m         \u001b[0;32mreturn\u001b[0m \u001b[0mparser\u001b[0m\u001b[0;34m.\u001b[0m\u001b[0mread\u001b[0m\u001b[0;34m(\u001b[0m\u001b[0mnrows\u001b[0m\u001b[0;34m)\u001b[0m\u001b[0;34m\u001b[0m\u001b[0;34m\u001b[0m\u001b[0m\n\u001b[0m\u001b[1;32m    584\u001b[0m \u001b[0;34m\u001b[0m\u001b[0m\n\u001b[1;32m    585\u001b[0m \u001b[0;34m\u001b[0m\u001b[0m\n",
            "\u001b[0;32m/usr/local/lib/python3.10/dist-packages/pandas/io/parsers/readers.py\u001b[0m in \u001b[0;36mread\u001b[0;34m(self, nrows)\u001b[0m\n\u001b[1;32m   1702\u001b[0m                     \u001b[0mcolumns\u001b[0m\u001b[0;34m,\u001b[0m\u001b[0;34m\u001b[0m\u001b[0;34m\u001b[0m\u001b[0m\n\u001b[1;32m   1703\u001b[0m                     \u001b[0mcol_dict\u001b[0m\u001b[0;34m,\u001b[0m\u001b[0;34m\u001b[0m\u001b[0;34m\u001b[0m\u001b[0m\n\u001b[0;32m-> 1704\u001b[0;31m                 \u001b[0;34m)\u001b[0m \u001b[0;34m=\u001b[0m \u001b[0mself\u001b[0m\u001b[0;34m.\u001b[0m\u001b[0m_engine\u001b[0m\u001b[0;34m.\u001b[0m\u001b[0mread\u001b[0m\u001b[0;34m(\u001b[0m  \u001b[0;31m# type: ignore[attr-defined]\u001b[0m\u001b[0;34m\u001b[0m\u001b[0;34m\u001b[0m\u001b[0m\n\u001b[0m\u001b[1;32m   1705\u001b[0m                     \u001b[0mnrows\u001b[0m\u001b[0;34m\u001b[0m\u001b[0;34m\u001b[0m\u001b[0m\n\u001b[1;32m   1706\u001b[0m                 )\n",
            "\u001b[0;32m/usr/local/lib/python3.10/dist-packages/pandas/io/parsers/c_parser_wrapper.py\u001b[0m in \u001b[0;36mread\u001b[0;34m(self, nrows)\u001b[0m\n\u001b[1;32m    232\u001b[0m         \u001b[0;32mtry\u001b[0m\u001b[0;34m:\u001b[0m\u001b[0;34m\u001b[0m\u001b[0;34m\u001b[0m\u001b[0m\n\u001b[1;32m    233\u001b[0m             \u001b[0;32mif\u001b[0m \u001b[0mself\u001b[0m\u001b[0;34m.\u001b[0m\u001b[0mlow_memory\u001b[0m\u001b[0;34m:\u001b[0m\u001b[0;34m\u001b[0m\u001b[0;34m\u001b[0m\u001b[0m\n\u001b[0;32m--> 234\u001b[0;31m                 \u001b[0mchunks\u001b[0m \u001b[0;34m=\u001b[0m \u001b[0mself\u001b[0m\u001b[0;34m.\u001b[0m\u001b[0m_reader\u001b[0m\u001b[0;34m.\u001b[0m\u001b[0mread_low_memory\u001b[0m\u001b[0;34m(\u001b[0m\u001b[0mnrows\u001b[0m\u001b[0;34m)\u001b[0m\u001b[0;34m\u001b[0m\u001b[0;34m\u001b[0m\u001b[0m\n\u001b[0m\u001b[1;32m    235\u001b[0m                 \u001b[0;31m# destructive to chunks\u001b[0m\u001b[0;34m\u001b[0m\u001b[0;34m\u001b[0m\u001b[0m\n\u001b[1;32m    236\u001b[0m                 \u001b[0mdata\u001b[0m \u001b[0;34m=\u001b[0m \u001b[0m_concatenate_chunks\u001b[0m\u001b[0;34m(\u001b[0m\u001b[0mchunks\u001b[0m\u001b[0;34m)\u001b[0m\u001b[0;34m\u001b[0m\u001b[0;34m\u001b[0m\u001b[0m\n",
            "\u001b[0;32m/usr/local/lib/python3.10/dist-packages/pandas/_libs/parsers.pyx\u001b[0m in \u001b[0;36mpandas._libs.parsers.TextReader.read_low_memory\u001b[0;34m()\u001b[0m\n",
            "\u001b[0;32m/usr/local/lib/python3.10/dist-packages/pandas/_libs/parsers.pyx\u001b[0m in \u001b[0;36mpandas._libs.parsers.TextReader._read_rows\u001b[0;34m()\u001b[0m\n",
            "\u001b[0;32m/usr/local/lib/python3.10/dist-packages/pandas/_libs/parsers.pyx\u001b[0m in \u001b[0;36mpandas._libs.parsers.TextReader._tokenize_rows\u001b[0;34m()\u001b[0m\n",
            "\u001b[0;32m/usr/local/lib/python3.10/dist-packages/pandas/_libs/parsers.pyx\u001b[0m in \u001b[0;36mpandas._libs.parsers.TextReader._check_tokenize_status\u001b[0;34m()\u001b[0m\n",
            "\u001b[0;32m/usr/local/lib/python3.10/dist-packages/pandas/_libs/parsers.pyx\u001b[0m in \u001b[0;36mpandas._libs.parsers.raise_parser_error\u001b[0;34m()\u001b[0m\n",
            "\u001b[0;31mParserError\u001b[0m: Error tokenizing data. C error: Expected 1 fields in line 10, saw 6\n"
          ]
        }
      ]
    },
    {
      "cell_type": "code",
      "source": [
        "# Open text file for reading\n",
        "with open(\"examples.rtf\", \"r\") as f:\n",
        "    lines = f.readlines()\n",
        "\n",
        "# Write modified lines to a new file\n",
        "with open(\"examples.csv\", \"w\") as f:\n",
        "    for line in lines:\n",
        "        columns = line.strip().split(\",\")\n",
        "        columns[0] = columns[0].replace(\",\", \"/\")\n",
        "        # Replace the last four commas with slashes\n",
        "        columns[-4:] = [col.replace(\",\", \"/\") for col in columns[-4:]]\n",
        "\n",
        "        # Write the modified line to the new CSV file\n",
        "        f.write(\"/\".join(columns) + \"\\n\")"
      ],
      "metadata": {
        "id": "fM3eO1RB9FQk"
      },
      "execution_count": null,
      "outputs": []
    },
    {
      "cell_type": "code",
      "source": [],
      "metadata": {
        "id": "aZt0AF9F5Y9N"
      },
      "execution_count": null,
      "outputs": []
    }
  ]
}