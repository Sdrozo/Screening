{
  "nbformat": 4,
  "nbformat_minor": 0,
  "metadata": {
    "colab": {
      "provenance": [],
      "gpuType": "T4",
      "collapsed_sections": [
        "j8vkUpIWNTEp",
        "_GKjE0nD0sLK",
        "5paQdp61T57K"
      ]
    },
    "kernelspec": {
      "name": "python3",
      "display_name": "Python 3"
    },
    "language_info": {
      "name": "python"
    },
    "accelerator": "GPU",
    "widgets": {
      "application/vnd.jupyter.widget-state+json": {
        "412483b0dca84e458d26aa6cf15fb6ec": {
          "model_module": "@jupyter-widgets/controls",
          "model_name": "HBoxModel",
          "model_module_version": "1.5.0",
          "state": {
            "_dom_classes": [],
            "_model_module": "@jupyter-widgets/controls",
            "_model_module_version": "1.5.0",
            "_model_name": "HBoxModel",
            "_view_count": null,
            "_view_module": "@jupyter-widgets/controls",
            "_view_module_version": "1.5.0",
            "_view_name": "HBoxView",
            "box_style": "",
            "children": [
              "IPY_MODEL_5814a1140daf4f4d89227b1b1f933a22",
              "IPY_MODEL_fe68464d983d496c89ab29f56e42fbd7",
              "IPY_MODEL_61ced810cdac4a5c940b32b52601f884"
            ],
            "layout": "IPY_MODEL_f47e33e1663441d8a5e68d81fddb63c7"
          }
        },
        "5814a1140daf4f4d89227b1b1f933a22": {
          "model_module": "@jupyter-widgets/controls",
          "model_name": "HTMLModel",
          "model_module_version": "1.5.0",
          "state": {
            "_dom_classes": [],
            "_model_module": "@jupyter-widgets/controls",
            "_model_module_version": "1.5.0",
            "_model_name": "HTMLModel",
            "_view_count": null,
            "_view_module": "@jupyter-widgets/controls",
            "_view_module_version": "1.5.0",
            "_view_name": "HTMLView",
            "description": "",
            "description_tooltip": null,
            "layout": "IPY_MODEL_1919c35a2b9342b6924dec20aed32c16",
            "placeholder": "​",
            "style": "IPY_MODEL_7d26702f4b9f4336baee6973bcc90a3f",
            "value": "tokenizer_config.json: 100%"
          }
        },
        "fe68464d983d496c89ab29f56e42fbd7": {
          "model_module": "@jupyter-widgets/controls",
          "model_name": "FloatProgressModel",
          "model_module_version": "1.5.0",
          "state": {
            "_dom_classes": [],
            "_model_module": "@jupyter-widgets/controls",
            "_model_module_version": "1.5.0",
            "_model_name": "FloatProgressModel",
            "_view_count": null,
            "_view_module": "@jupyter-widgets/controls",
            "_view_module_version": "1.5.0",
            "_view_name": "ProgressView",
            "bar_style": "success",
            "description": "",
            "description_tooltip": null,
            "layout": "IPY_MODEL_0323b26f4bae4757a954ac3c621d492b",
            "max": 48,
            "min": 0,
            "orientation": "horizontal",
            "style": "IPY_MODEL_2e63ba53126f4f679e81d412aa038f6e",
            "value": 48
          }
        },
        "61ced810cdac4a5c940b32b52601f884": {
          "model_module": "@jupyter-widgets/controls",
          "model_name": "HTMLModel",
          "model_module_version": "1.5.0",
          "state": {
            "_dom_classes": [],
            "_model_module": "@jupyter-widgets/controls",
            "_model_module_version": "1.5.0",
            "_model_name": "HTMLModel",
            "_view_count": null,
            "_view_module": "@jupyter-widgets/controls",
            "_view_module_version": "1.5.0",
            "_view_name": "HTMLView",
            "description": "",
            "description_tooltip": null,
            "layout": "IPY_MODEL_5a1700a603344030aca0a720cee2ac00",
            "placeholder": "​",
            "style": "IPY_MODEL_dbf4b95af3d3494c883065f142b4e1ec",
            "value": " 48.0/48.0 [00:00&lt;00:00, 3.22kB/s]"
          }
        },
        "f47e33e1663441d8a5e68d81fddb63c7": {
          "model_module": "@jupyter-widgets/base",
          "model_name": "LayoutModel",
          "model_module_version": "1.2.0",
          "state": {
            "_model_module": "@jupyter-widgets/base",
            "_model_module_version": "1.2.0",
            "_model_name": "LayoutModel",
            "_view_count": null,
            "_view_module": "@jupyter-widgets/base",
            "_view_module_version": "1.2.0",
            "_view_name": "LayoutView",
            "align_content": null,
            "align_items": null,
            "align_self": null,
            "border": null,
            "bottom": null,
            "display": null,
            "flex": null,
            "flex_flow": null,
            "grid_area": null,
            "grid_auto_columns": null,
            "grid_auto_flow": null,
            "grid_auto_rows": null,
            "grid_column": null,
            "grid_gap": null,
            "grid_row": null,
            "grid_template_areas": null,
            "grid_template_columns": null,
            "grid_template_rows": null,
            "height": null,
            "justify_content": null,
            "justify_items": null,
            "left": null,
            "margin": null,
            "max_height": null,
            "max_width": null,
            "min_height": null,
            "min_width": null,
            "object_fit": null,
            "object_position": null,
            "order": null,
            "overflow": null,
            "overflow_x": null,
            "overflow_y": null,
            "padding": null,
            "right": null,
            "top": null,
            "visibility": null,
            "width": null
          }
        },
        "1919c35a2b9342b6924dec20aed32c16": {
          "model_module": "@jupyter-widgets/base",
          "model_name": "LayoutModel",
          "model_module_version": "1.2.0",
          "state": {
            "_model_module": "@jupyter-widgets/base",
            "_model_module_version": "1.2.0",
            "_model_name": "LayoutModel",
            "_view_count": null,
            "_view_module": "@jupyter-widgets/base",
            "_view_module_version": "1.2.0",
            "_view_name": "LayoutView",
            "align_content": null,
            "align_items": null,
            "align_self": null,
            "border": null,
            "bottom": null,
            "display": null,
            "flex": null,
            "flex_flow": null,
            "grid_area": null,
            "grid_auto_columns": null,
            "grid_auto_flow": null,
            "grid_auto_rows": null,
            "grid_column": null,
            "grid_gap": null,
            "grid_row": null,
            "grid_template_areas": null,
            "grid_template_columns": null,
            "grid_template_rows": null,
            "height": null,
            "justify_content": null,
            "justify_items": null,
            "left": null,
            "margin": null,
            "max_height": null,
            "max_width": null,
            "min_height": null,
            "min_width": null,
            "object_fit": null,
            "object_position": null,
            "order": null,
            "overflow": null,
            "overflow_x": null,
            "overflow_y": null,
            "padding": null,
            "right": null,
            "top": null,
            "visibility": null,
            "width": null
          }
        },
        "7d26702f4b9f4336baee6973bcc90a3f": {
          "model_module": "@jupyter-widgets/controls",
          "model_name": "DescriptionStyleModel",
          "model_module_version": "1.5.0",
          "state": {
            "_model_module": "@jupyter-widgets/controls",
            "_model_module_version": "1.5.0",
            "_model_name": "DescriptionStyleModel",
            "_view_count": null,
            "_view_module": "@jupyter-widgets/base",
            "_view_module_version": "1.2.0",
            "_view_name": "StyleView",
            "description_width": ""
          }
        },
        "0323b26f4bae4757a954ac3c621d492b": {
          "model_module": "@jupyter-widgets/base",
          "model_name": "LayoutModel",
          "model_module_version": "1.2.0",
          "state": {
            "_model_module": "@jupyter-widgets/base",
            "_model_module_version": "1.2.0",
            "_model_name": "LayoutModel",
            "_view_count": null,
            "_view_module": "@jupyter-widgets/base",
            "_view_module_version": "1.2.0",
            "_view_name": "LayoutView",
            "align_content": null,
            "align_items": null,
            "align_self": null,
            "border": null,
            "bottom": null,
            "display": null,
            "flex": null,
            "flex_flow": null,
            "grid_area": null,
            "grid_auto_columns": null,
            "grid_auto_flow": null,
            "grid_auto_rows": null,
            "grid_column": null,
            "grid_gap": null,
            "grid_row": null,
            "grid_template_areas": null,
            "grid_template_columns": null,
            "grid_template_rows": null,
            "height": null,
            "justify_content": null,
            "justify_items": null,
            "left": null,
            "margin": null,
            "max_height": null,
            "max_width": null,
            "min_height": null,
            "min_width": null,
            "object_fit": null,
            "object_position": null,
            "order": null,
            "overflow": null,
            "overflow_x": null,
            "overflow_y": null,
            "padding": null,
            "right": null,
            "top": null,
            "visibility": null,
            "width": null
          }
        },
        "2e63ba53126f4f679e81d412aa038f6e": {
          "model_module": "@jupyter-widgets/controls",
          "model_name": "ProgressStyleModel",
          "model_module_version": "1.5.0",
          "state": {
            "_model_module": "@jupyter-widgets/controls",
            "_model_module_version": "1.5.0",
            "_model_name": "ProgressStyleModel",
            "_view_count": null,
            "_view_module": "@jupyter-widgets/base",
            "_view_module_version": "1.2.0",
            "_view_name": "StyleView",
            "bar_color": null,
            "description_width": ""
          }
        },
        "5a1700a603344030aca0a720cee2ac00": {
          "model_module": "@jupyter-widgets/base",
          "model_name": "LayoutModel",
          "model_module_version": "1.2.0",
          "state": {
            "_model_module": "@jupyter-widgets/base",
            "_model_module_version": "1.2.0",
            "_model_name": "LayoutModel",
            "_view_count": null,
            "_view_module": "@jupyter-widgets/base",
            "_view_module_version": "1.2.0",
            "_view_name": "LayoutView",
            "align_content": null,
            "align_items": null,
            "align_self": null,
            "border": null,
            "bottom": null,
            "display": null,
            "flex": null,
            "flex_flow": null,
            "grid_area": null,
            "grid_auto_columns": null,
            "grid_auto_flow": null,
            "grid_auto_rows": null,
            "grid_column": null,
            "grid_gap": null,
            "grid_row": null,
            "grid_template_areas": null,
            "grid_template_columns": null,
            "grid_template_rows": null,
            "height": null,
            "justify_content": null,
            "justify_items": null,
            "left": null,
            "margin": null,
            "max_height": null,
            "max_width": null,
            "min_height": null,
            "min_width": null,
            "object_fit": null,
            "object_position": null,
            "order": null,
            "overflow": null,
            "overflow_x": null,
            "overflow_y": null,
            "padding": null,
            "right": null,
            "top": null,
            "visibility": null,
            "width": null
          }
        },
        "dbf4b95af3d3494c883065f142b4e1ec": {
          "model_module": "@jupyter-widgets/controls",
          "model_name": "DescriptionStyleModel",
          "model_module_version": "1.5.0",
          "state": {
            "_model_module": "@jupyter-widgets/controls",
            "_model_module_version": "1.5.0",
            "_model_name": "DescriptionStyleModel",
            "_view_count": null,
            "_view_module": "@jupyter-widgets/base",
            "_view_module_version": "1.2.0",
            "_view_name": "StyleView",
            "description_width": ""
          }
        },
        "855be8a164fa43fa9e1f749365089209": {
          "model_module": "@jupyter-widgets/controls",
          "model_name": "HBoxModel",
          "model_module_version": "1.5.0",
          "state": {
            "_dom_classes": [],
            "_model_module": "@jupyter-widgets/controls",
            "_model_module_version": "1.5.0",
            "_model_name": "HBoxModel",
            "_view_count": null,
            "_view_module": "@jupyter-widgets/controls",
            "_view_module_version": "1.5.0",
            "_view_name": "HBoxView",
            "box_style": "",
            "children": [
              "IPY_MODEL_83bf5e31f5df40f3a2bae855866c948d",
              "IPY_MODEL_10590cd9f0b84a70ac5266ca3424cf51",
              "IPY_MODEL_6e4a34fdad1f4877b7faa45ac9fb2920"
            ],
            "layout": "IPY_MODEL_54020732006848ab98eaf8886ae47030"
          }
        },
        "83bf5e31f5df40f3a2bae855866c948d": {
          "model_module": "@jupyter-widgets/controls",
          "model_name": "HTMLModel",
          "model_module_version": "1.5.0",
          "state": {
            "_dom_classes": [],
            "_model_module": "@jupyter-widgets/controls",
            "_model_module_version": "1.5.0",
            "_model_name": "HTMLModel",
            "_view_count": null,
            "_view_module": "@jupyter-widgets/controls",
            "_view_module_version": "1.5.0",
            "_view_name": "HTMLView",
            "description": "",
            "description_tooltip": null,
            "layout": "IPY_MODEL_eb15992b765e44f38914ac10a5d38904",
            "placeholder": "​",
            "style": "IPY_MODEL_b0efdad4a2c247489b1cb00c80f30101",
            "value": "vocab.txt: 100%"
          }
        },
        "10590cd9f0b84a70ac5266ca3424cf51": {
          "model_module": "@jupyter-widgets/controls",
          "model_name": "FloatProgressModel",
          "model_module_version": "1.5.0",
          "state": {
            "_dom_classes": [],
            "_model_module": "@jupyter-widgets/controls",
            "_model_module_version": "1.5.0",
            "_model_name": "FloatProgressModel",
            "_view_count": null,
            "_view_module": "@jupyter-widgets/controls",
            "_view_module_version": "1.5.0",
            "_view_name": "ProgressView",
            "bar_style": "success",
            "description": "",
            "description_tooltip": null,
            "layout": "IPY_MODEL_e5f79f8b00f641a3818edb9f5702e150",
            "max": 231508,
            "min": 0,
            "orientation": "horizontal",
            "style": "IPY_MODEL_82cef0cc3ffc40f18e3dd8f4ab3be551",
            "value": 231508
          }
        },
        "6e4a34fdad1f4877b7faa45ac9fb2920": {
          "model_module": "@jupyter-widgets/controls",
          "model_name": "HTMLModel",
          "model_module_version": "1.5.0",
          "state": {
            "_dom_classes": [],
            "_model_module": "@jupyter-widgets/controls",
            "_model_module_version": "1.5.0",
            "_model_name": "HTMLModel",
            "_view_count": null,
            "_view_module": "@jupyter-widgets/controls",
            "_view_module_version": "1.5.0",
            "_view_name": "HTMLView",
            "description": "",
            "description_tooltip": null,
            "layout": "IPY_MODEL_497bc8aeb3d24c7d8c9d4afcc089d6ca",
            "placeholder": "​",
            "style": "IPY_MODEL_b03d5b9ec73e4a00997576e5c850a359",
            "value": " 232k/232k [00:00&lt;00:00, 1.70MB/s]"
          }
        },
        "54020732006848ab98eaf8886ae47030": {
          "model_module": "@jupyter-widgets/base",
          "model_name": "LayoutModel",
          "model_module_version": "1.2.0",
          "state": {
            "_model_module": "@jupyter-widgets/base",
            "_model_module_version": "1.2.0",
            "_model_name": "LayoutModel",
            "_view_count": null,
            "_view_module": "@jupyter-widgets/base",
            "_view_module_version": "1.2.0",
            "_view_name": "LayoutView",
            "align_content": null,
            "align_items": null,
            "align_self": null,
            "border": null,
            "bottom": null,
            "display": null,
            "flex": null,
            "flex_flow": null,
            "grid_area": null,
            "grid_auto_columns": null,
            "grid_auto_flow": null,
            "grid_auto_rows": null,
            "grid_column": null,
            "grid_gap": null,
            "grid_row": null,
            "grid_template_areas": null,
            "grid_template_columns": null,
            "grid_template_rows": null,
            "height": null,
            "justify_content": null,
            "justify_items": null,
            "left": null,
            "margin": null,
            "max_height": null,
            "max_width": null,
            "min_height": null,
            "min_width": null,
            "object_fit": null,
            "object_position": null,
            "order": null,
            "overflow": null,
            "overflow_x": null,
            "overflow_y": null,
            "padding": null,
            "right": null,
            "top": null,
            "visibility": null,
            "width": null
          }
        },
        "eb15992b765e44f38914ac10a5d38904": {
          "model_module": "@jupyter-widgets/base",
          "model_name": "LayoutModel",
          "model_module_version": "1.2.0",
          "state": {
            "_model_module": "@jupyter-widgets/base",
            "_model_module_version": "1.2.0",
            "_model_name": "LayoutModel",
            "_view_count": null,
            "_view_module": "@jupyter-widgets/base",
            "_view_module_version": "1.2.0",
            "_view_name": "LayoutView",
            "align_content": null,
            "align_items": null,
            "align_self": null,
            "border": null,
            "bottom": null,
            "display": null,
            "flex": null,
            "flex_flow": null,
            "grid_area": null,
            "grid_auto_columns": null,
            "grid_auto_flow": null,
            "grid_auto_rows": null,
            "grid_column": null,
            "grid_gap": null,
            "grid_row": null,
            "grid_template_areas": null,
            "grid_template_columns": null,
            "grid_template_rows": null,
            "height": null,
            "justify_content": null,
            "justify_items": null,
            "left": null,
            "margin": null,
            "max_height": null,
            "max_width": null,
            "min_height": null,
            "min_width": null,
            "object_fit": null,
            "object_position": null,
            "order": null,
            "overflow": null,
            "overflow_x": null,
            "overflow_y": null,
            "padding": null,
            "right": null,
            "top": null,
            "visibility": null,
            "width": null
          }
        },
        "b0efdad4a2c247489b1cb00c80f30101": {
          "model_module": "@jupyter-widgets/controls",
          "model_name": "DescriptionStyleModel",
          "model_module_version": "1.5.0",
          "state": {
            "_model_module": "@jupyter-widgets/controls",
            "_model_module_version": "1.5.0",
            "_model_name": "DescriptionStyleModel",
            "_view_count": null,
            "_view_module": "@jupyter-widgets/base",
            "_view_module_version": "1.2.0",
            "_view_name": "StyleView",
            "description_width": ""
          }
        },
        "e5f79f8b00f641a3818edb9f5702e150": {
          "model_module": "@jupyter-widgets/base",
          "model_name": "LayoutModel",
          "model_module_version": "1.2.0",
          "state": {
            "_model_module": "@jupyter-widgets/base",
            "_model_module_version": "1.2.0",
            "_model_name": "LayoutModel",
            "_view_count": null,
            "_view_module": "@jupyter-widgets/base",
            "_view_module_version": "1.2.0",
            "_view_name": "LayoutView",
            "align_content": null,
            "align_items": null,
            "align_self": null,
            "border": null,
            "bottom": null,
            "display": null,
            "flex": null,
            "flex_flow": null,
            "grid_area": null,
            "grid_auto_columns": null,
            "grid_auto_flow": null,
            "grid_auto_rows": null,
            "grid_column": null,
            "grid_gap": null,
            "grid_row": null,
            "grid_template_areas": null,
            "grid_template_columns": null,
            "grid_template_rows": null,
            "height": null,
            "justify_content": null,
            "justify_items": null,
            "left": null,
            "margin": null,
            "max_height": null,
            "max_width": null,
            "min_height": null,
            "min_width": null,
            "object_fit": null,
            "object_position": null,
            "order": null,
            "overflow": null,
            "overflow_x": null,
            "overflow_y": null,
            "padding": null,
            "right": null,
            "top": null,
            "visibility": null,
            "width": null
          }
        },
        "82cef0cc3ffc40f18e3dd8f4ab3be551": {
          "model_module": "@jupyter-widgets/controls",
          "model_name": "ProgressStyleModel",
          "model_module_version": "1.5.0",
          "state": {
            "_model_module": "@jupyter-widgets/controls",
            "_model_module_version": "1.5.0",
            "_model_name": "ProgressStyleModel",
            "_view_count": null,
            "_view_module": "@jupyter-widgets/base",
            "_view_module_version": "1.2.0",
            "_view_name": "StyleView",
            "bar_color": null,
            "description_width": ""
          }
        },
        "497bc8aeb3d24c7d8c9d4afcc089d6ca": {
          "model_module": "@jupyter-widgets/base",
          "model_name": "LayoutModel",
          "model_module_version": "1.2.0",
          "state": {
            "_model_module": "@jupyter-widgets/base",
            "_model_module_version": "1.2.0",
            "_model_name": "LayoutModel",
            "_view_count": null,
            "_view_module": "@jupyter-widgets/base",
            "_view_module_version": "1.2.0",
            "_view_name": "LayoutView",
            "align_content": null,
            "align_items": null,
            "align_self": null,
            "border": null,
            "bottom": null,
            "display": null,
            "flex": null,
            "flex_flow": null,
            "grid_area": null,
            "grid_auto_columns": null,
            "grid_auto_flow": null,
            "grid_auto_rows": null,
            "grid_column": null,
            "grid_gap": null,
            "grid_row": null,
            "grid_template_areas": null,
            "grid_template_columns": null,
            "grid_template_rows": null,
            "height": null,
            "justify_content": null,
            "justify_items": null,
            "left": null,
            "margin": null,
            "max_height": null,
            "max_width": null,
            "min_height": null,
            "min_width": null,
            "object_fit": null,
            "object_position": null,
            "order": null,
            "overflow": null,
            "overflow_x": null,
            "overflow_y": null,
            "padding": null,
            "right": null,
            "top": null,
            "visibility": null,
            "width": null
          }
        },
        "b03d5b9ec73e4a00997576e5c850a359": {
          "model_module": "@jupyter-widgets/controls",
          "model_name": "DescriptionStyleModel",
          "model_module_version": "1.5.0",
          "state": {
            "_model_module": "@jupyter-widgets/controls",
            "_model_module_version": "1.5.0",
            "_model_name": "DescriptionStyleModel",
            "_view_count": null,
            "_view_module": "@jupyter-widgets/base",
            "_view_module_version": "1.2.0",
            "_view_name": "StyleView",
            "description_width": ""
          }
        },
        "42a4061dda6e4aafbcffc38610ec8306": {
          "model_module": "@jupyter-widgets/controls",
          "model_name": "HBoxModel",
          "model_module_version": "1.5.0",
          "state": {
            "_dom_classes": [],
            "_model_module": "@jupyter-widgets/controls",
            "_model_module_version": "1.5.0",
            "_model_name": "HBoxModel",
            "_view_count": null,
            "_view_module": "@jupyter-widgets/controls",
            "_view_module_version": "1.5.0",
            "_view_name": "HBoxView",
            "box_style": "",
            "children": [
              "IPY_MODEL_e23b2512593e4f90980e22a4575141ed",
              "IPY_MODEL_806f3d690c01459991d0c1a607ea3b3b",
              "IPY_MODEL_e084cccd3909420abc6376ec36a2626b"
            ],
            "layout": "IPY_MODEL_d985275edb054e469eb8e5c6cb1d3cad"
          }
        },
        "e23b2512593e4f90980e22a4575141ed": {
          "model_module": "@jupyter-widgets/controls",
          "model_name": "HTMLModel",
          "model_module_version": "1.5.0",
          "state": {
            "_dom_classes": [],
            "_model_module": "@jupyter-widgets/controls",
            "_model_module_version": "1.5.0",
            "_model_name": "HTMLModel",
            "_view_count": null,
            "_view_module": "@jupyter-widgets/controls",
            "_view_module_version": "1.5.0",
            "_view_name": "HTMLView",
            "description": "",
            "description_tooltip": null,
            "layout": "IPY_MODEL_da527d2be8324c64864645393032cd3b",
            "placeholder": "​",
            "style": "IPY_MODEL_8422d60e379e465a81439c7a8869c665",
            "value": "tokenizer.json: 100%"
          }
        },
        "806f3d690c01459991d0c1a607ea3b3b": {
          "model_module": "@jupyter-widgets/controls",
          "model_name": "FloatProgressModel",
          "model_module_version": "1.5.0",
          "state": {
            "_dom_classes": [],
            "_model_module": "@jupyter-widgets/controls",
            "_model_module_version": "1.5.0",
            "_model_name": "FloatProgressModel",
            "_view_count": null,
            "_view_module": "@jupyter-widgets/controls",
            "_view_module_version": "1.5.0",
            "_view_name": "ProgressView",
            "bar_style": "success",
            "description": "",
            "description_tooltip": null,
            "layout": "IPY_MODEL_97b555eaa7c044bc898e63b187c9d33d",
            "max": 466062,
            "min": 0,
            "orientation": "horizontal",
            "style": "IPY_MODEL_72406ab5256e40beaec76d2f2c431b42",
            "value": 466062
          }
        },
        "e084cccd3909420abc6376ec36a2626b": {
          "model_module": "@jupyter-widgets/controls",
          "model_name": "HTMLModel",
          "model_module_version": "1.5.0",
          "state": {
            "_dom_classes": [],
            "_model_module": "@jupyter-widgets/controls",
            "_model_module_version": "1.5.0",
            "_model_name": "HTMLModel",
            "_view_count": null,
            "_view_module": "@jupyter-widgets/controls",
            "_view_module_version": "1.5.0",
            "_view_name": "HTMLView",
            "description": "",
            "description_tooltip": null,
            "layout": "IPY_MODEL_90fb9d884eec486182775b8cc32442d8",
            "placeholder": "​",
            "style": "IPY_MODEL_97477caeb00543208cede28657608454",
            "value": " 466k/466k [00:00&lt;00:00, 6.51MB/s]"
          }
        },
        "d985275edb054e469eb8e5c6cb1d3cad": {
          "model_module": "@jupyter-widgets/base",
          "model_name": "LayoutModel",
          "model_module_version": "1.2.0",
          "state": {
            "_model_module": "@jupyter-widgets/base",
            "_model_module_version": "1.2.0",
            "_model_name": "LayoutModel",
            "_view_count": null,
            "_view_module": "@jupyter-widgets/base",
            "_view_module_version": "1.2.0",
            "_view_name": "LayoutView",
            "align_content": null,
            "align_items": null,
            "align_self": null,
            "border": null,
            "bottom": null,
            "display": null,
            "flex": null,
            "flex_flow": null,
            "grid_area": null,
            "grid_auto_columns": null,
            "grid_auto_flow": null,
            "grid_auto_rows": null,
            "grid_column": null,
            "grid_gap": null,
            "grid_row": null,
            "grid_template_areas": null,
            "grid_template_columns": null,
            "grid_template_rows": null,
            "height": null,
            "justify_content": null,
            "justify_items": null,
            "left": null,
            "margin": null,
            "max_height": null,
            "max_width": null,
            "min_height": null,
            "min_width": null,
            "object_fit": null,
            "object_position": null,
            "order": null,
            "overflow": null,
            "overflow_x": null,
            "overflow_y": null,
            "padding": null,
            "right": null,
            "top": null,
            "visibility": null,
            "width": null
          }
        },
        "da527d2be8324c64864645393032cd3b": {
          "model_module": "@jupyter-widgets/base",
          "model_name": "LayoutModel",
          "model_module_version": "1.2.0",
          "state": {
            "_model_module": "@jupyter-widgets/base",
            "_model_module_version": "1.2.0",
            "_model_name": "LayoutModel",
            "_view_count": null,
            "_view_module": "@jupyter-widgets/base",
            "_view_module_version": "1.2.0",
            "_view_name": "LayoutView",
            "align_content": null,
            "align_items": null,
            "align_self": null,
            "border": null,
            "bottom": null,
            "display": null,
            "flex": null,
            "flex_flow": null,
            "grid_area": null,
            "grid_auto_columns": null,
            "grid_auto_flow": null,
            "grid_auto_rows": null,
            "grid_column": null,
            "grid_gap": null,
            "grid_row": null,
            "grid_template_areas": null,
            "grid_template_columns": null,
            "grid_template_rows": null,
            "height": null,
            "justify_content": null,
            "justify_items": null,
            "left": null,
            "margin": null,
            "max_height": null,
            "max_width": null,
            "min_height": null,
            "min_width": null,
            "object_fit": null,
            "object_position": null,
            "order": null,
            "overflow": null,
            "overflow_x": null,
            "overflow_y": null,
            "padding": null,
            "right": null,
            "top": null,
            "visibility": null,
            "width": null
          }
        },
        "8422d60e379e465a81439c7a8869c665": {
          "model_module": "@jupyter-widgets/controls",
          "model_name": "DescriptionStyleModel",
          "model_module_version": "1.5.0",
          "state": {
            "_model_module": "@jupyter-widgets/controls",
            "_model_module_version": "1.5.0",
            "_model_name": "DescriptionStyleModel",
            "_view_count": null,
            "_view_module": "@jupyter-widgets/base",
            "_view_module_version": "1.2.0",
            "_view_name": "StyleView",
            "description_width": ""
          }
        },
        "97b555eaa7c044bc898e63b187c9d33d": {
          "model_module": "@jupyter-widgets/base",
          "model_name": "LayoutModel",
          "model_module_version": "1.2.0",
          "state": {
            "_model_module": "@jupyter-widgets/base",
            "_model_module_version": "1.2.0",
            "_model_name": "LayoutModel",
            "_view_count": null,
            "_view_module": "@jupyter-widgets/base",
            "_view_module_version": "1.2.0",
            "_view_name": "LayoutView",
            "align_content": null,
            "align_items": null,
            "align_self": null,
            "border": null,
            "bottom": null,
            "display": null,
            "flex": null,
            "flex_flow": null,
            "grid_area": null,
            "grid_auto_columns": null,
            "grid_auto_flow": null,
            "grid_auto_rows": null,
            "grid_column": null,
            "grid_gap": null,
            "grid_row": null,
            "grid_template_areas": null,
            "grid_template_columns": null,
            "grid_template_rows": null,
            "height": null,
            "justify_content": null,
            "justify_items": null,
            "left": null,
            "margin": null,
            "max_height": null,
            "max_width": null,
            "min_height": null,
            "min_width": null,
            "object_fit": null,
            "object_position": null,
            "order": null,
            "overflow": null,
            "overflow_x": null,
            "overflow_y": null,
            "padding": null,
            "right": null,
            "top": null,
            "visibility": null,
            "width": null
          }
        },
        "72406ab5256e40beaec76d2f2c431b42": {
          "model_module": "@jupyter-widgets/controls",
          "model_name": "ProgressStyleModel",
          "model_module_version": "1.5.0",
          "state": {
            "_model_module": "@jupyter-widgets/controls",
            "_model_module_version": "1.5.0",
            "_model_name": "ProgressStyleModel",
            "_view_count": null,
            "_view_module": "@jupyter-widgets/base",
            "_view_module_version": "1.2.0",
            "_view_name": "StyleView",
            "bar_color": null,
            "description_width": ""
          }
        },
        "90fb9d884eec486182775b8cc32442d8": {
          "model_module": "@jupyter-widgets/base",
          "model_name": "LayoutModel",
          "model_module_version": "1.2.0",
          "state": {
            "_model_module": "@jupyter-widgets/base",
            "_model_module_version": "1.2.0",
            "_model_name": "LayoutModel",
            "_view_count": null,
            "_view_module": "@jupyter-widgets/base",
            "_view_module_version": "1.2.0",
            "_view_name": "LayoutView",
            "align_content": null,
            "align_items": null,
            "align_self": null,
            "border": null,
            "bottom": null,
            "display": null,
            "flex": null,
            "flex_flow": null,
            "grid_area": null,
            "grid_auto_columns": null,
            "grid_auto_flow": null,
            "grid_auto_rows": null,
            "grid_column": null,
            "grid_gap": null,
            "grid_row": null,
            "grid_template_areas": null,
            "grid_template_columns": null,
            "grid_template_rows": null,
            "height": null,
            "justify_content": null,
            "justify_items": null,
            "left": null,
            "margin": null,
            "max_height": null,
            "max_width": null,
            "min_height": null,
            "min_width": null,
            "object_fit": null,
            "object_position": null,
            "order": null,
            "overflow": null,
            "overflow_x": null,
            "overflow_y": null,
            "padding": null,
            "right": null,
            "top": null,
            "visibility": null,
            "width": null
          }
        },
        "97477caeb00543208cede28657608454": {
          "model_module": "@jupyter-widgets/controls",
          "model_name": "DescriptionStyleModel",
          "model_module_version": "1.5.0",
          "state": {
            "_model_module": "@jupyter-widgets/controls",
            "_model_module_version": "1.5.0",
            "_model_name": "DescriptionStyleModel",
            "_view_count": null,
            "_view_module": "@jupyter-widgets/base",
            "_view_module_version": "1.2.0",
            "_view_name": "StyleView",
            "description_width": ""
          }
        },
        "015acc358a384bc6892dfbb99a7c8fb0": {
          "model_module": "@jupyter-widgets/controls",
          "model_name": "HBoxModel",
          "model_module_version": "1.5.0",
          "state": {
            "_dom_classes": [],
            "_model_module": "@jupyter-widgets/controls",
            "_model_module_version": "1.5.0",
            "_model_name": "HBoxModel",
            "_view_count": null,
            "_view_module": "@jupyter-widgets/controls",
            "_view_module_version": "1.5.0",
            "_view_name": "HBoxView",
            "box_style": "",
            "children": [
              "IPY_MODEL_3b2252ba01144c49840bc5f242d3c00e",
              "IPY_MODEL_ee351a414319494d8fdf30364b9c26b0",
              "IPY_MODEL_1a2557cae34a44039cdeabacb2673ebc"
            ],
            "layout": "IPY_MODEL_7e5a07b619894fd480696555a8798431"
          }
        },
        "3b2252ba01144c49840bc5f242d3c00e": {
          "model_module": "@jupyter-widgets/controls",
          "model_name": "HTMLModel",
          "model_module_version": "1.5.0",
          "state": {
            "_dom_classes": [],
            "_model_module": "@jupyter-widgets/controls",
            "_model_module_version": "1.5.0",
            "_model_name": "HTMLModel",
            "_view_count": null,
            "_view_module": "@jupyter-widgets/controls",
            "_view_module_version": "1.5.0",
            "_view_name": "HTMLView",
            "description": "",
            "description_tooltip": null,
            "layout": "IPY_MODEL_481ec28e2dde4e8c83b3336668c11ce2",
            "placeholder": "​",
            "style": "IPY_MODEL_8417d6d380044fb58efad3aba61d15b6",
            "value": "config.json: 100%"
          }
        },
        "ee351a414319494d8fdf30364b9c26b0": {
          "model_module": "@jupyter-widgets/controls",
          "model_name": "FloatProgressModel",
          "model_module_version": "1.5.0",
          "state": {
            "_dom_classes": [],
            "_model_module": "@jupyter-widgets/controls",
            "_model_module_version": "1.5.0",
            "_model_name": "FloatProgressModel",
            "_view_count": null,
            "_view_module": "@jupyter-widgets/controls",
            "_view_module_version": "1.5.0",
            "_view_name": "ProgressView",
            "bar_style": "success",
            "description": "",
            "description_tooltip": null,
            "layout": "IPY_MODEL_d73d9e52f5f44909912b7e636a6ad38b",
            "max": 570,
            "min": 0,
            "orientation": "horizontal",
            "style": "IPY_MODEL_13f80888730a4f4aa8397fe2cb60c66b",
            "value": 570
          }
        },
        "1a2557cae34a44039cdeabacb2673ebc": {
          "model_module": "@jupyter-widgets/controls",
          "model_name": "HTMLModel",
          "model_module_version": "1.5.0",
          "state": {
            "_dom_classes": [],
            "_model_module": "@jupyter-widgets/controls",
            "_model_module_version": "1.5.0",
            "_model_name": "HTMLModel",
            "_view_count": null,
            "_view_module": "@jupyter-widgets/controls",
            "_view_module_version": "1.5.0",
            "_view_name": "HTMLView",
            "description": "",
            "description_tooltip": null,
            "layout": "IPY_MODEL_5952455f1b204b2383d0706fc2fae36b",
            "placeholder": "​",
            "style": "IPY_MODEL_05b221379a2f4b9f894bbf13676adccc",
            "value": " 570/570 [00:00&lt;00:00, 44.1kB/s]"
          }
        },
        "7e5a07b619894fd480696555a8798431": {
          "model_module": "@jupyter-widgets/base",
          "model_name": "LayoutModel",
          "model_module_version": "1.2.0",
          "state": {
            "_model_module": "@jupyter-widgets/base",
            "_model_module_version": "1.2.0",
            "_model_name": "LayoutModel",
            "_view_count": null,
            "_view_module": "@jupyter-widgets/base",
            "_view_module_version": "1.2.0",
            "_view_name": "LayoutView",
            "align_content": null,
            "align_items": null,
            "align_self": null,
            "border": null,
            "bottom": null,
            "display": null,
            "flex": null,
            "flex_flow": null,
            "grid_area": null,
            "grid_auto_columns": null,
            "grid_auto_flow": null,
            "grid_auto_rows": null,
            "grid_column": null,
            "grid_gap": null,
            "grid_row": null,
            "grid_template_areas": null,
            "grid_template_columns": null,
            "grid_template_rows": null,
            "height": null,
            "justify_content": null,
            "justify_items": null,
            "left": null,
            "margin": null,
            "max_height": null,
            "max_width": null,
            "min_height": null,
            "min_width": null,
            "object_fit": null,
            "object_position": null,
            "order": null,
            "overflow": null,
            "overflow_x": null,
            "overflow_y": null,
            "padding": null,
            "right": null,
            "top": null,
            "visibility": null,
            "width": null
          }
        },
        "481ec28e2dde4e8c83b3336668c11ce2": {
          "model_module": "@jupyter-widgets/base",
          "model_name": "LayoutModel",
          "model_module_version": "1.2.0",
          "state": {
            "_model_module": "@jupyter-widgets/base",
            "_model_module_version": "1.2.0",
            "_model_name": "LayoutModel",
            "_view_count": null,
            "_view_module": "@jupyter-widgets/base",
            "_view_module_version": "1.2.0",
            "_view_name": "LayoutView",
            "align_content": null,
            "align_items": null,
            "align_self": null,
            "border": null,
            "bottom": null,
            "display": null,
            "flex": null,
            "flex_flow": null,
            "grid_area": null,
            "grid_auto_columns": null,
            "grid_auto_flow": null,
            "grid_auto_rows": null,
            "grid_column": null,
            "grid_gap": null,
            "grid_row": null,
            "grid_template_areas": null,
            "grid_template_columns": null,
            "grid_template_rows": null,
            "height": null,
            "justify_content": null,
            "justify_items": null,
            "left": null,
            "margin": null,
            "max_height": null,
            "max_width": null,
            "min_height": null,
            "min_width": null,
            "object_fit": null,
            "object_position": null,
            "order": null,
            "overflow": null,
            "overflow_x": null,
            "overflow_y": null,
            "padding": null,
            "right": null,
            "top": null,
            "visibility": null,
            "width": null
          }
        },
        "8417d6d380044fb58efad3aba61d15b6": {
          "model_module": "@jupyter-widgets/controls",
          "model_name": "DescriptionStyleModel",
          "model_module_version": "1.5.0",
          "state": {
            "_model_module": "@jupyter-widgets/controls",
            "_model_module_version": "1.5.0",
            "_model_name": "DescriptionStyleModel",
            "_view_count": null,
            "_view_module": "@jupyter-widgets/base",
            "_view_module_version": "1.2.0",
            "_view_name": "StyleView",
            "description_width": ""
          }
        },
        "d73d9e52f5f44909912b7e636a6ad38b": {
          "model_module": "@jupyter-widgets/base",
          "model_name": "LayoutModel",
          "model_module_version": "1.2.0",
          "state": {
            "_model_module": "@jupyter-widgets/base",
            "_model_module_version": "1.2.0",
            "_model_name": "LayoutModel",
            "_view_count": null,
            "_view_module": "@jupyter-widgets/base",
            "_view_module_version": "1.2.0",
            "_view_name": "LayoutView",
            "align_content": null,
            "align_items": null,
            "align_self": null,
            "border": null,
            "bottom": null,
            "display": null,
            "flex": null,
            "flex_flow": null,
            "grid_area": null,
            "grid_auto_columns": null,
            "grid_auto_flow": null,
            "grid_auto_rows": null,
            "grid_column": null,
            "grid_gap": null,
            "grid_row": null,
            "grid_template_areas": null,
            "grid_template_columns": null,
            "grid_template_rows": null,
            "height": null,
            "justify_content": null,
            "justify_items": null,
            "left": null,
            "margin": null,
            "max_height": null,
            "max_width": null,
            "min_height": null,
            "min_width": null,
            "object_fit": null,
            "object_position": null,
            "order": null,
            "overflow": null,
            "overflow_x": null,
            "overflow_y": null,
            "padding": null,
            "right": null,
            "top": null,
            "visibility": null,
            "width": null
          }
        },
        "13f80888730a4f4aa8397fe2cb60c66b": {
          "model_module": "@jupyter-widgets/controls",
          "model_name": "ProgressStyleModel",
          "model_module_version": "1.5.0",
          "state": {
            "_model_module": "@jupyter-widgets/controls",
            "_model_module_version": "1.5.0",
            "_model_name": "ProgressStyleModel",
            "_view_count": null,
            "_view_module": "@jupyter-widgets/base",
            "_view_module_version": "1.2.0",
            "_view_name": "StyleView",
            "bar_color": null,
            "description_width": ""
          }
        },
        "5952455f1b204b2383d0706fc2fae36b": {
          "model_module": "@jupyter-widgets/base",
          "model_name": "LayoutModel",
          "model_module_version": "1.2.0",
          "state": {
            "_model_module": "@jupyter-widgets/base",
            "_model_module_version": "1.2.0",
            "_model_name": "LayoutModel",
            "_view_count": null,
            "_view_module": "@jupyter-widgets/base",
            "_view_module_version": "1.2.0",
            "_view_name": "LayoutView",
            "align_content": null,
            "align_items": null,
            "align_self": null,
            "border": null,
            "bottom": null,
            "display": null,
            "flex": null,
            "flex_flow": null,
            "grid_area": null,
            "grid_auto_columns": null,
            "grid_auto_flow": null,
            "grid_auto_rows": null,
            "grid_column": null,
            "grid_gap": null,
            "grid_row": null,
            "grid_template_areas": null,
            "grid_template_columns": null,
            "grid_template_rows": null,
            "height": null,
            "justify_content": null,
            "justify_items": null,
            "left": null,
            "margin": null,
            "max_height": null,
            "max_width": null,
            "min_height": null,
            "min_width": null,
            "object_fit": null,
            "object_position": null,
            "order": null,
            "overflow": null,
            "overflow_x": null,
            "overflow_y": null,
            "padding": null,
            "right": null,
            "top": null,
            "visibility": null,
            "width": null
          }
        },
        "05b221379a2f4b9f894bbf13676adccc": {
          "model_module": "@jupyter-widgets/controls",
          "model_name": "DescriptionStyleModel",
          "model_module_version": "1.5.0",
          "state": {
            "_model_module": "@jupyter-widgets/controls",
            "_model_module_version": "1.5.0",
            "_model_name": "DescriptionStyleModel",
            "_view_count": null,
            "_view_module": "@jupyter-widgets/base",
            "_view_module_version": "1.2.0",
            "_view_name": "StyleView",
            "description_width": ""
          }
        }
      }
    }
  },
  "cells": [
    {
      "cell_type": "markdown",
      "source": [
        "#### Load Dependencies"
      ],
      "metadata": {
        "id": "j8vkUpIWNTEp"
      }
    },
    {
      "cell_type": "code",
      "source": [
        "# pip install codecarbon"
      ],
      "metadata": {
        "id": "PCqsIDnubT_h"
      },
      "execution_count": null,
      "outputs": []
    },
    {
      "cell_type": "code",
      "execution_count": null,
      "metadata": {
        "id": "S5bIJ3vUL-On"
      },
      "outputs": [],
      "source": [
        "import pandas as pd\n",
        "import numpy as np\n",
        "from pathlib import Path\n",
        "import matplotlib.pyplot as plt\n",
        "import torch\n",
        "import torch.nn as nn\n",
        "\n",
        "from torch.utils.data import TensorDataset, DataLoader, RandomSampler, SequentialSampler\n",
        "from transformers import BertTokenizer, BertModel, AdamW, get_linear_schedule_with_warmup, AutoTokenizer, AutoModelForMaskedLM\n",
        "from sklearn.model_selection import train_test_split\n",
        "from sklearn.metrics import accuracy_score, confusion_matrix\n",
        "\n",
        "#from codecarbon import EmissionsTracker\n"
      ]
    },
    {
      "cell_type": "code",
      "source": [
        "# current_directory = Path.cwd()\n",
        "# base_directory = current_directory.parent\n",
        "# results_file_sample = base_directory/'data'/'...'"
      ],
      "metadata": {
        "id": "pxx52qs_uytN"
      },
      "execution_count": null,
      "outputs": []
    },
    {
      "cell_type": "markdown",
      "source": [
        "#### Load And Inspect Data"
      ],
      "metadata": {
        "id": "8JPBEVT-Nc7M"
      }
    },
    {
      "cell_type": "code",
      "source": [
        "data_path = '/content/fixed_examples_v03.csv'\n",
        "data = pd.read_csv(data_path, delimiter=\"/\")\n",
        "data.head()"
      ],
      "metadata": {
        "colab": {
          "base_uri": "https://localhost:8080/",
          "height": 293
        },
        "id": "1q1cIKElNgGN",
        "outputId": "0305c76a-f114-4d1f-8dcf-ff8995957d20"
      },
      "execution_count": null,
      "outputs": [
        {
          "output_type": "execute_result",
          "data": {
            "text/plain": [
              "               skills                                            context  \\\n",
              "0          JavaScript  I have developed interactive front-end applica...   \n",
              "1  Data Visualization   Data Visualization is a skill I plan to learn...   \n",
              "2               React   My recent projects involved creating dynamic ...   \n",
              "3    Machine Learning   I’m currently undertaking a course to underst...   \n",
              "4                 SQL   In my previous role, I was responsible for da...   \n",
              "\n",
              "                                          buzzwords      action_verbs  \\\n",
              "0              interactive; front-end; applications         developed   \n",
              "1                                             learn             learn   \n",
              "2                      dynamic; web pages; projects          creating   \n",
              "3                              fundamentals; course       undertaking   \n",
              "4   database management; previous role; responsible   was responsible   \n",
              "\n",
              "  verb_tense  target  \n",
              "0       past     1.0  \n",
              "1    present     0.0  \n",
              "2       past     1.0  \n",
              "3    present     0.0  \n",
              "4       past     1.0  "
            ],
            "text/html": [
              "\n",
              "  <div id=\"df-7fda9eb7-597f-4e70-851a-9bbd52d5f480\" class=\"colab-df-container\">\n",
              "    <div>\n",
              "<style scoped>\n",
              "    .dataframe tbody tr th:only-of-type {\n",
              "        vertical-align: middle;\n",
              "    }\n",
              "\n",
              "    .dataframe tbody tr th {\n",
              "        vertical-align: top;\n",
              "    }\n",
              "\n",
              "    .dataframe thead th {\n",
              "        text-align: right;\n",
              "    }\n",
              "</style>\n",
              "<table border=\"1\" class=\"dataframe\">\n",
              "  <thead>\n",
              "    <tr style=\"text-align: right;\">\n",
              "      <th></th>\n",
              "      <th>skills</th>\n",
              "      <th>context</th>\n",
              "      <th>buzzwords</th>\n",
              "      <th>action_verbs</th>\n",
              "      <th>verb_tense</th>\n",
              "      <th>target</th>\n",
              "    </tr>\n",
              "  </thead>\n",
              "  <tbody>\n",
              "    <tr>\n",
              "      <th>0</th>\n",
              "      <td>JavaScript</td>\n",
              "      <td>I have developed interactive front-end applica...</td>\n",
              "      <td>interactive; front-end; applications</td>\n",
              "      <td>developed</td>\n",
              "      <td>past</td>\n",
              "      <td>1.0</td>\n",
              "    </tr>\n",
              "    <tr>\n",
              "      <th>1</th>\n",
              "      <td>Data Visualization</td>\n",
              "      <td>Data Visualization is a skill I plan to learn...</td>\n",
              "      <td>learn</td>\n",
              "      <td>learn</td>\n",
              "      <td>present</td>\n",
              "      <td>0.0</td>\n",
              "    </tr>\n",
              "    <tr>\n",
              "      <th>2</th>\n",
              "      <td>React</td>\n",
              "      <td>My recent projects involved creating dynamic ...</td>\n",
              "      <td>dynamic; web pages; projects</td>\n",
              "      <td>creating</td>\n",
              "      <td>past</td>\n",
              "      <td>1.0</td>\n",
              "    </tr>\n",
              "    <tr>\n",
              "      <th>3</th>\n",
              "      <td>Machine Learning</td>\n",
              "      <td>I’m currently undertaking a course to underst...</td>\n",
              "      <td>fundamentals; course</td>\n",
              "      <td>undertaking</td>\n",
              "      <td>present</td>\n",
              "      <td>0.0</td>\n",
              "    </tr>\n",
              "    <tr>\n",
              "      <th>4</th>\n",
              "      <td>SQL</td>\n",
              "      <td>In my previous role, I was responsible for da...</td>\n",
              "      <td>database management; previous role; responsible</td>\n",
              "      <td>was responsible</td>\n",
              "      <td>past</td>\n",
              "      <td>1.0</td>\n",
              "    </tr>\n",
              "  </tbody>\n",
              "</table>\n",
              "</div>\n",
              "    <div class=\"colab-df-buttons\">\n",
              "\n",
              "  <div class=\"colab-df-container\">\n",
              "    <button class=\"colab-df-convert\" onclick=\"convertToInteractive('df-7fda9eb7-597f-4e70-851a-9bbd52d5f480')\"\n",
              "            title=\"Convert this dataframe to an interactive table.\"\n",
              "            style=\"display:none;\">\n",
              "\n",
              "  <svg xmlns=\"http://www.w3.org/2000/svg\" height=\"24px\" viewBox=\"0 -960 960 960\">\n",
              "    <path d=\"M120-120v-720h720v720H120Zm60-500h600v-160H180v160Zm220 220h160v-160H400v160Zm0 220h160v-160H400v160ZM180-400h160v-160H180v160Zm440 0h160v-160H620v160ZM180-180h160v-160H180v160Zm440 0h160v-160H620v160Z\"/>\n",
              "  </svg>\n",
              "    </button>\n",
              "\n",
              "  <style>\n",
              "    .colab-df-container {\n",
              "      display:flex;\n",
              "      gap: 12px;\n",
              "    }\n",
              "\n",
              "    .colab-df-convert {\n",
              "      background-color: #E8F0FE;\n",
              "      border: none;\n",
              "      border-radius: 50%;\n",
              "      cursor: pointer;\n",
              "      display: none;\n",
              "      fill: #1967D2;\n",
              "      height: 32px;\n",
              "      padding: 0 0 0 0;\n",
              "      width: 32px;\n",
              "    }\n",
              "\n",
              "    .colab-df-convert:hover {\n",
              "      background-color: #E2EBFA;\n",
              "      box-shadow: 0px 1px 2px rgba(60, 64, 67, 0.3), 0px 1px 3px 1px rgba(60, 64, 67, 0.15);\n",
              "      fill: #174EA6;\n",
              "    }\n",
              "\n",
              "    .colab-df-buttons div {\n",
              "      margin-bottom: 4px;\n",
              "    }\n",
              "\n",
              "    [theme=dark] .colab-df-convert {\n",
              "      background-color: #3B4455;\n",
              "      fill: #D2E3FC;\n",
              "    }\n",
              "\n",
              "    [theme=dark] .colab-df-convert:hover {\n",
              "      background-color: #434B5C;\n",
              "      box-shadow: 0px 1px 3px 1px rgba(0, 0, 0, 0.15);\n",
              "      filter: drop-shadow(0px 1px 2px rgba(0, 0, 0, 0.3));\n",
              "      fill: #FFFFFF;\n",
              "    }\n",
              "  </style>\n",
              "\n",
              "    <script>\n",
              "      const buttonEl =\n",
              "        document.querySelector('#df-7fda9eb7-597f-4e70-851a-9bbd52d5f480 button.colab-df-convert');\n",
              "      buttonEl.style.display =\n",
              "        google.colab.kernel.accessAllowed ? 'block' : 'none';\n",
              "\n",
              "      async function convertToInteractive(key) {\n",
              "        const element = document.querySelector('#df-7fda9eb7-597f-4e70-851a-9bbd52d5f480');\n",
              "        const dataTable =\n",
              "          await google.colab.kernel.invokeFunction('convertToInteractive',\n",
              "                                                    [key], {});\n",
              "        if (!dataTable) return;\n",
              "\n",
              "        const docLinkHtml = 'Like what you see? Visit the ' +\n",
              "          '<a target=\"_blank\" href=https://colab.research.google.com/notebooks/data_table.ipynb>data table notebook</a>'\n",
              "          + ' to learn more about interactive tables.';\n",
              "        element.innerHTML = '';\n",
              "        dataTable['output_type'] = 'display_data';\n",
              "        await google.colab.output.renderOutput(dataTable, element);\n",
              "        const docLink = document.createElement('div');\n",
              "        docLink.innerHTML = docLinkHtml;\n",
              "        element.appendChild(docLink);\n",
              "      }\n",
              "    </script>\n",
              "  </div>\n",
              "\n",
              "\n",
              "<div id=\"df-36187aa3-be41-4adc-9630-02e851c1f6cb\">\n",
              "  <button class=\"colab-df-quickchart\" onclick=\"quickchart('df-36187aa3-be41-4adc-9630-02e851c1f6cb')\"\n",
              "            title=\"Suggest charts\"\n",
              "            style=\"display:none;\">\n",
              "\n",
              "<svg xmlns=\"http://www.w3.org/2000/svg\" height=\"24px\"viewBox=\"0 0 24 24\"\n",
              "     width=\"24px\">\n",
              "    <g>\n",
              "        <path d=\"M19 3H5c-1.1 0-2 .9-2 2v14c0 1.1.9 2 2 2h14c1.1 0 2-.9 2-2V5c0-1.1-.9-2-2-2zM9 17H7v-7h2v7zm4 0h-2V7h2v10zm4 0h-2v-4h2v4z\"/>\n",
              "    </g>\n",
              "</svg>\n",
              "  </button>\n",
              "\n",
              "<style>\n",
              "  .colab-df-quickchart {\n",
              "      --bg-color: #E8F0FE;\n",
              "      --fill-color: #1967D2;\n",
              "      --hover-bg-color: #E2EBFA;\n",
              "      --hover-fill-color: #174EA6;\n",
              "      --disabled-fill-color: #AAA;\n",
              "      --disabled-bg-color: #DDD;\n",
              "  }\n",
              "\n",
              "  [theme=dark] .colab-df-quickchart {\n",
              "      --bg-color: #3B4455;\n",
              "      --fill-color: #D2E3FC;\n",
              "      --hover-bg-color: #434B5C;\n",
              "      --hover-fill-color: #FFFFFF;\n",
              "      --disabled-bg-color: #3B4455;\n",
              "      --disabled-fill-color: #666;\n",
              "  }\n",
              "\n",
              "  .colab-df-quickchart {\n",
              "    background-color: var(--bg-color);\n",
              "    border: none;\n",
              "    border-radius: 50%;\n",
              "    cursor: pointer;\n",
              "    display: none;\n",
              "    fill: var(--fill-color);\n",
              "    height: 32px;\n",
              "    padding: 0;\n",
              "    width: 32px;\n",
              "  }\n",
              "\n",
              "  .colab-df-quickchart:hover {\n",
              "    background-color: var(--hover-bg-color);\n",
              "    box-shadow: 0 1px 2px rgba(60, 64, 67, 0.3), 0 1px 3px 1px rgba(60, 64, 67, 0.15);\n",
              "    fill: var(--button-hover-fill-color);\n",
              "  }\n",
              "\n",
              "  .colab-df-quickchart-complete:disabled,\n",
              "  .colab-df-quickchart-complete:disabled:hover {\n",
              "    background-color: var(--disabled-bg-color);\n",
              "    fill: var(--disabled-fill-color);\n",
              "    box-shadow: none;\n",
              "  }\n",
              "\n",
              "  .colab-df-spinner {\n",
              "    border: 2px solid var(--fill-color);\n",
              "    border-color: transparent;\n",
              "    border-bottom-color: var(--fill-color);\n",
              "    animation:\n",
              "      spin 1s steps(1) infinite;\n",
              "  }\n",
              "\n",
              "  @keyframes spin {\n",
              "    0% {\n",
              "      border-color: transparent;\n",
              "      border-bottom-color: var(--fill-color);\n",
              "      border-left-color: var(--fill-color);\n",
              "    }\n",
              "    20% {\n",
              "      border-color: transparent;\n",
              "      border-left-color: var(--fill-color);\n",
              "      border-top-color: var(--fill-color);\n",
              "    }\n",
              "    30% {\n",
              "      border-color: transparent;\n",
              "      border-left-color: var(--fill-color);\n",
              "      border-top-color: var(--fill-color);\n",
              "      border-right-color: var(--fill-color);\n",
              "    }\n",
              "    40% {\n",
              "      border-color: transparent;\n",
              "      border-right-color: var(--fill-color);\n",
              "      border-top-color: var(--fill-color);\n",
              "    }\n",
              "    60% {\n",
              "      border-color: transparent;\n",
              "      border-right-color: var(--fill-color);\n",
              "    }\n",
              "    80% {\n",
              "      border-color: transparent;\n",
              "      border-right-color: var(--fill-color);\n",
              "      border-bottom-color: var(--fill-color);\n",
              "    }\n",
              "    90% {\n",
              "      border-color: transparent;\n",
              "      border-bottom-color: var(--fill-color);\n",
              "    }\n",
              "  }\n",
              "</style>\n",
              "\n",
              "  <script>\n",
              "    async function quickchart(key) {\n",
              "      const quickchartButtonEl =\n",
              "        document.querySelector('#' + key + ' button');\n",
              "      quickchartButtonEl.disabled = true;  // To prevent multiple clicks.\n",
              "      quickchartButtonEl.classList.add('colab-df-spinner');\n",
              "      try {\n",
              "        const charts = await google.colab.kernel.invokeFunction(\n",
              "            'suggestCharts', [key], {});\n",
              "      } catch (error) {\n",
              "        console.error('Error during call to suggestCharts:', error);\n",
              "      }\n",
              "      quickchartButtonEl.classList.remove('colab-df-spinner');\n",
              "      quickchartButtonEl.classList.add('colab-df-quickchart-complete');\n",
              "    }\n",
              "    (() => {\n",
              "      let quickchartButtonEl =\n",
              "        document.querySelector('#df-36187aa3-be41-4adc-9630-02e851c1f6cb button');\n",
              "      quickchartButtonEl.style.display =\n",
              "        google.colab.kernel.accessAllowed ? 'block' : 'none';\n",
              "    })();\n",
              "  </script>\n",
              "</div>\n",
              "    </div>\n",
              "  </div>\n"
            ],
            "application/vnd.google.colaboratory.intrinsic+json": {
              "type": "dataframe",
              "variable_name": "data",
              "summary": "{\n  \"name\": \"data\",\n  \"rows\": 600,\n  \"fields\": [\n    {\n      \"column\": \"skills\",\n      \"properties\": {\n        \"dtype\": \"category\",\n        \"num_unique_values\": 293,\n        \"samples\": [\n          \"Wearable Fitness Tech\",\n          \"Leadership Development\",\n          \"React Native\"\n        ],\n        \"semantic_type\": \"\",\n        \"description\": \"\"\n      }\n    },\n    {\n      \"column\": \"context\",\n      \"properties\": {\n        \"dtype\": \"string\",\n        \"num_unique_values\": 525,\n        \"samples\": [\n          \"I understand the importance of decision-making skills but haven't had many opportunities to make significant decisions.\",\n          \"I know conflict resolution is important, but I haven't had much practice resolving conflicts in professional settings.\",\n          \" As a team leader, I have implemented Agile methodologies to streamline our workflow.\"\n        ],\n        \"semantic_type\": \"\",\n        \"description\": \"\"\n      }\n    },\n    {\n      \"column\": \"buzzwords\",\n      \"properties\": {\n        \"dtype\": \"string\",\n        \"num_unique_values\": 497,\n        \"samples\": [\n          \"WordPress; familiar\",\n          \" AB testing; improve conversion rates; personalizing user recommendations\",\n          \"know; hands-on experience\"\n        ],\n        \"semantic_type\": \"\",\n        \"description\": \"\"\n      }\n    },\n    {\n      \"column\": \"action_verbs\",\n      \"properties\": {\n        \"dtype\": \"string\",\n        \"num_unique_values\": 312,\n        \"samples\": [\n          \"haven't negotiated\",\n          \" am exploring\",\n          \" involved\"\n        ],\n        \"semantic_type\": \"\",\n        \"description\": \"\"\n      }\n    },\n    {\n      \"column\": \"verb_tense\",\n      \"properties\": {\n        \"dtype\": \"category\",\n        \"num_unique_values\": 4,\n        \"samples\": [\n          \" present\",\n          \"past\",\n          \" past\"\n        ],\n        \"semantic_type\": \"\",\n        \"description\": \"\"\n      }\n    },\n    {\n      \"column\": \"target\",\n      \"properties\": {\n        \"dtype\": \"number\",\n        \"std\": 0.5004144081212235,\n        \"min\": 0.0,\n        \"max\": 1.0,\n        \"num_unique_values\": 2,\n        \"samples\": [\n          0.0,\n          1.0\n        ],\n        \"semantic_type\": \"\",\n        \"description\": \"\"\n      }\n    }\n  ]\n}"
            }
          },
          "metadata": {},
          "execution_count": 4
        }
      ]
    },
    {
      "cell_type": "code",
      "source": [
        "# Convert the target column to integer if it's not already\n",
        "if data['target'].dtype != 'int64':\n",
        "    try:\n",
        "        data['target'] = data['target'].astype(int)\n",
        "        print(\"Target column converted to integer.\")\n",
        "    except ValueError:\n",
        "        print(\"Conversion to integer failed. Check if all values in the target column are numeric.\")\n",
        "else:\n",
        "    print('Target values are in correct format')"
      ],
      "metadata": {
        "colab": {
          "base_uri": "https://localhost:8080/"
        },
        "id": "YJzDyDoBQOok",
        "outputId": "d7a5623b-9b01-428f-8d56-dd531061b855"
      },
      "execution_count": null,
      "outputs": [
        {
          "output_type": "stream",
          "name": "stdout",
          "text": [
            "Target column converted to integer.\n"
          ]
        }
      ]
    },
    {
      "cell_type": "markdown",
      "source": [
        "#### Assign Variables"
      ],
      "metadata": {
        "id": "z9hOodQLNimi"
      }
    },
    {
      "cell_type": "code",
      "source": [
        "# Pre-trained model and tokenizer\n",
        "pretrained_model_name = 'bert-base-uncased'\n",
        "pretrained_tokenizer_name = \"bert-base-uncased\""
      ],
      "metadata": {
        "id": "ySnx6ZzrNl8z"
      },
      "execution_count": null,
      "outputs": []
    },
    {
      "cell_type": "code",
      "source": [
        "features_for_fine_tuning = data['context'] # F1, F2 variable, E.G. data['context', 'skill']\n",
        "target_for_fine_tuning = data['target'] # Y variable"
      ],
      "metadata": {
        "id": "GJBk5bRITTx_"
      },
      "execution_count": null,
      "outputs": []
    },
    {
      "cell_type": "code",
      "source": [
        "# Hyperparameters and other important variables\n",
        "# batch_sizes = [8]\n",
        "batch_sizes = [8, 16, 24, 32, 64]\n",
        "epochs = 10"
      ],
      "metadata": {
        "id": "zAUPvK5JVDH0"
      },
      "execution_count": null,
      "outputs": []
    },
    {
      "cell_type": "code",
      "source": [
        "# Name of fine-tuned model to be exported\n",
        "fine_tuned_model_name = 'screen_bert_2fc_v0_1'\n",
        "tokenizer_directory_name = 'tokenizer_directory'"
      ],
      "metadata": {
        "id": "OMhTTHOqZrT-"
      },
      "execution_count": null,
      "outputs": []
    },
    {
      "cell_type": "code",
      "source": [
        "# Set random seed for reproducibility\n",
        "seed_value = 42\n",
        "torch.manual_seed(seed_value)\n",
        "np.random.seed(seed_value)"
      ],
      "metadata": {
        "id": "Qp7FSMs0cvaN"
      },
      "execution_count": null,
      "outputs": []
    },
    {
      "cell_type": "markdown",
      "source": [
        "#### Check Data"
      ],
      "metadata": {
        "id": "jRh-iEXiN9pc"
      }
    },
    {
      "cell_type": "code",
      "source": [
        "# Plot and check whether data is balanced\n",
        "target_counts = data['target'].value_counts()\n",
        "print(\"Number of values for 'Not Skilled' (0):\", target_counts[0])\n",
        "print(\"Number of values for 'Skilled' (1):\", target_counts[1])\n",
        "print(' ')\n",
        "\n",
        "plt.bar(target_counts.index, target_counts.values)\n",
        "plt.xlabel('Target Values 1 and 0')\n",
        "plt.ylabel('Count')\n",
        "plt.title('Distribution of Target Column')\n",
        "plt.xticks(target_counts.index, ['Skilled','Not skilled'])\n",
        "plt.show()"
      ],
      "metadata": {
        "colab": {
          "base_uri": "https://localhost:8080/",
          "height": 524
        },
        "id": "42DUyDaBOKqH",
        "outputId": "293f3a8c-6aa6-4b88-b0c3-10b569924ffd"
      },
      "execution_count": null,
      "outputs": [
        {
          "output_type": "stream",
          "name": "stdout",
          "text": [
            "Number of values for 'Not Skilled' (0): 299\n",
            "Number of values for 'Skilled' (1): 301\n",
            " \n"
          ]
        },
        {
          "output_type": "display_data",
          "data": {
            "text/plain": [
              "<Figure size 640x480 with 1 Axes>"
            ],
            "image/png": "[encoded data removed]"
          },
          "metadata": {}
        }
      ]
    },
    {
      "cell_type": "markdown",
      "source": [
        "#### Helper Functions For Training, Evaluation, Plotting"
      ],
      "metadata": {
        "id": "_GKjE0nD0sLK"
      }
    },
    {
      "cell_type": "code",
      "source": [
        "def create_dataloader(encodings, labels, batch_size, randomize=True):\n",
        "    \"\"\"Create DataLoader for data with given batch size.\"\"\"\n",
        "    dataset = TensorDataset(torch.tensor(encodings['input_ids']),\n",
        "                            torch.tensor(encodings['attention_mask']),\n",
        "                            labels)\n",
        "\n",
        "    if randomize:\n",
        "        sampler = RandomSampler(dataset)\n",
        "    else:\n",
        "        sampler = None\n",
        "\n",
        "    return DataLoader(dataset, sampler=sampler, batch_size=batch_size)"
      ],
      "metadata": {
        "id": "DuIUTi4MWaMt"
      },
      "execution_count": null,
      "outputs": []
    },
    {
      "cell_type": "markdown",
      "source": [
        "##### K-fold to be continued"
      ],
      "metadata": {
        "id": "5paQdp61T57K"
      }
    },
    {
      "cell_type": "code",
      "source": [
        "# to be updated\n",
        "from sklearn.model_selection import StratifiedKFold\n",
        "def k_fold_train_validate(texts, labels,\n",
        "                    # val_dataset\n",
        "                    pretrained_tokenizer,\n",
        "                    model, optimizer, device, epochs, batch_size,\n",
        "                    n_splits=5):\n",
        "\n",
        "    print(type(labels.to_list()[0]))\n",
        "\n",
        "\n",
        "    # Define cross-validation strategy\n",
        "    kf = StratifiedKFold(n_splits=n_splits,\n",
        "                        shuffle=True,\n",
        "                        random_state=42)\n",
        "    print(\"Strategy is set\")\n",
        "\n",
        "    train_loss_per_fold = []\n",
        "    accuracy_per_fold = []\n",
        "\n",
        "    # Perform cross-validation\n",
        "    for fold, (train_index, val_index) in enumerate(kf.split(texts, labels)):\n",
        "        print('fold', fold)\n",
        "        print('train_index', train_index)\n",
        "        print('val_index', val_index)\n",
        "\n",
        "        train_texts = [texts.to_list()[i] for i in train_index]\n",
        "        train_labels = [labels.to_list()[i] for i in train_index]\n",
        "        val_texts = [texts.to_list()[i] for i in val_index]\n",
        "        val_labels = [labels.to_list()[i] for i in val_index]\n",
        "\n",
        "        print('split completed')\n",
        "\n",
        "        print(type(train_labels[0]), type(val_labels[0]))\n",
        "        train_labels = torch.tensor(train_labels)\n",
        "        val_labels = torch.tensor(val_labels)\n",
        "        print(type(train_labels), type(val_labels))\n",
        "\n",
        "        train_encodings = pretrained_tokenizer(train_texts, truncation=True, padding=True)\n",
        "        print(\"train_encodings done\")\n",
        "        val_encodings = pretrained_tokenizer(val_texts, truncation=True, padding=True)\n",
        "        print(\"val_encodings done\")\n",
        "\n",
        "        train_dataloader = create_dataloader(train_encodings,\n",
        "                                             train_labels,\n",
        "                                             batch_size=batch_size,\n",
        "                                             )\n",
        "        print(\"train_dataloader ready to play\")\n",
        "\n",
        "        val_dataloader = create_dataloader(val_encodings,\n",
        "                                           val_labels,\n",
        "                                           batch_size=batch_size)\n",
        "        print(\"val_dataloader ready to play\")\n",
        "\n",
        "        avg_train_loss = train_model(model, train_dataloader, optimizer, device, epochs, batch_size)\n",
        "        accuracy = evaluate_model(model, val_dataloader, device)\n",
        "\n",
        "        train_loss_per_fold.append(avg_train_loss)\n",
        "        accuracy_per_fold.append(accuracy)\n",
        "\n",
        "    return train_loss_per_fold, accuracy_per_fold"
      ],
      "metadata": {
        "id": "qwPx8HH6YJQL"
      },
      "execution_count": null,
      "outputs": []
    },
    {
      "cell_type": "markdown",
      "source": [
        "#### Defining Model Class"
      ],
      "metadata": {
        "id": "WYWUcomcT-Gr"
      }
    },
    {
      "cell_type": "code",
      "source": [
        "# Define a classification model on top of pre-trained model\n",
        "class ScreenBert(nn.Module):\n",
        "    def __init__(self, pretrained_model_name, dropout_prob=0.1):\n",
        "        super(ScreenBert, self).__init__()\n",
        "        self.bert = BertModel.from_pretrained(pretrained_model_name)\n",
        "        self.dropout = nn.Dropout(dropout_prob)\n",
        "        self.fc1 = nn.Linear(768, 256)\n",
        "        self.fc2 = nn.Linear(256, 1)\n",
        "\n",
        "    def forward(self, input_ids, attention_mask):\n",
        "        outputs = self.bert(input_ids=input_ids, attention_mask=attention_mask)\n",
        "        pooled_output = outputs.pooler_output\n",
        "        pooled_output = self.dropout(pooled_output)\n",
        "        pooled_output = nn.ReLU()(self.fc1(pooled_output))\n",
        "        logits = self.fc2(pooled_output)\n",
        "        return logits"
      ],
      "metadata": {
        "id": "ZyhB_oMj3lf1"
      },
      "execution_count": null,
      "outputs": []
    },
    {
      "cell_type": "code",
      "source": [
        "def train_model(optimizer, epochs, model, dataloader, device):\n",
        "    \"\"\"Training loop for the model.\"\"\"\n",
        "\n",
        "    scheduler = get_linear_schedule_with_warmup(optimizer,\n",
        "                                                num_warmup_steps=0,\n",
        "                                                num_training_steps = epochs * dataloader.dataset.__len__()/ batch_size\n",
        "                                                )\n",
        "    # Set to training mode\n",
        "    model.train()\n",
        "    total_loss = 0\n",
        "    predictions = []\n",
        "    true_labels = []\n",
        "\n",
        "    for step, batch in enumerate(dataloader):\n",
        "\n",
        "        # progress update after every 50 batches\n",
        "        if step % 50 == 0 and not step == 0:\n",
        "            print('  Batch {:>5,}  of  {:>5,}.'.format(step, len(dataloader)))\n",
        "\n",
        "        # push current dataloader batch to respective device\n",
        "        batch = tuple(t.to(device) for t in batch)\n",
        "\n",
        "        input_ids, attention_mask, labels = batch\n",
        "\n",
        "        # clear optimizer gradients\n",
        "        optimizer.zero_grad()\n",
        "\n",
        "        # get model predictions for the current batch\n",
        "        logits = model(input_ids, attention_mask)\n",
        "\n",
        "        # # compute the loss between actual and predicted values\n",
        "        # loss = nn.CrossEntropyLoss()(logits, labels)\n",
        "        loss_function = nn.BCEWithLogitsLoss()\n",
        "        loss = loss_function(logits.squeeze(), labels.float())\n",
        "\n",
        "        # add on to the total loss\n",
        "        total_loss += loss.item()\n",
        "\n",
        "        # compute accuracy for the current batch\n",
        "        batch_predictions = torch.sigmoid(logits).cpu()\n",
        "        batch_predictions = batch_predictions.round().detach().numpy()\n",
        "        predictions.extend(batch_predictions)\n",
        "\n",
        "        # store true labels\n",
        "        true_labels.extend(labels.cpu().numpy())\n",
        "\n",
        "        # backward pass to calculate the gradients\n",
        "        loss.backward()\n",
        "\n",
        "        # clip the the gradients to 1.0 to prevent exploding gradient\n",
        "        torch.nn.utils.clip_grad_norm_(model.parameters(), 1.0)\n",
        "\n",
        "        # update parameters\n",
        "        optimizer.step()\n",
        "        scheduler.step()\n",
        "\n",
        "    # compute training loss and accuracy of epoch\n",
        "    avg_train_loss = total_loss / len(dataloader)\n",
        "    total_train_accuracy = accuracy_score(true_labels, predictions)\n",
        "\n",
        "\n",
        "    return avg_train_loss, total_train_accuracy"
      ],
      "metadata": {
        "id": "zXEGAbZas_zl"
      },
      "execution_count": null,
      "outputs": []
    },
    {
      "cell_type": "code",
      "source": [
        "def evaluate_model(model, dataloader, device):\n",
        "\n",
        "    # Deactivate dropout layers\n",
        "    model.eval()\n",
        "\n",
        "    total_loss = 0\n",
        "    predictions = []\n",
        "    true_labels = []\n",
        "\n",
        "    # Iterate over batches\n",
        "    for step, batch in enumerate(dataloader):\n",
        "\n",
        "        # Progress update every 50 batches.\n",
        "        if step % 50 == 0 and not step == 0:\n",
        "            # Report progress.\n",
        "            print('Batch {:>5,}  of  {:>5,}.'.format(step, len(dataloader)))\n",
        "\n",
        "        # Push batch to device\n",
        "        batch = tuple(t.to(device) for t in batch)\n",
        "        input_ids, attention_mask, labels = batch\n",
        "\n",
        "        # Deactivate autograd\n",
        "        with torch.no_grad():\n",
        "            # Model predictions\n",
        "            logits = model(input_ids, attention_mask)\n",
        "            # Compute the loss between actual and predicted values\n",
        "            loss_function = nn.BCEWithLogitsLoss()\n",
        "            loss = loss_function(logits.squeeze(), labels.float())\n",
        "            # Add on to the total loss\n",
        "            total_loss += loss.item()\n",
        "\n",
        "            # # Compute accuracy for the current batch\n",
        "            batch_predictions = torch.sigmoid(logits).cpu()\n",
        "            batch_predictions = batch_predictions.round().numpy()\n",
        "            predictions.extend(batch_predictions)\n",
        "\n",
        "            # Store true labels\n",
        "            true_labels.extend(labels.cpu().numpy())\n",
        "\n",
        "    # Compute evaluation loss and accuracy\n",
        "    avg_loss = total_loss / len(dataloader)\n",
        "    total_accuracy = accuracy_score(true_labels, predictions)\n",
        "\n",
        "    return avg_loss, total_accuracy\n"
      ],
      "metadata": {
        "id": "bfBHTJe9UWqd"
      },
      "execution_count": null,
      "outputs": []
    },
    {
      "cell_type": "code",
      "source": [
        "def train_and_evaluate_model(train_encodings, val_encodings,\n",
        "                             train_labels, val_labels,\n",
        "                             batch_size, epochs, model, device,\n",
        "                             ):\n",
        "\n",
        "\n",
        "    train_dataloader = create_dataloader(train_encodings,\n",
        "                                         train_labels,\n",
        "                                         batch_size=batch_size,\n",
        "                                         )\n",
        "    print(\"train_dataloader ready to play\")\n",
        "\n",
        "    val_dataloader = create_dataloader(val_encodings,\n",
        "                                       val_labels,\n",
        "                                       batch_size=batch_size\n",
        "                                       )\n",
        "    print(\"val_dataloader ready to play\")\n",
        "\n",
        "    # empty lists to store training and validation loss of each epoch\n",
        "    train_losses=[]\n",
        "    valid_losses=[]\n",
        "    train_acc=[]\n",
        "    valid_acc=[]\n",
        "\n",
        "    print(\"Start training ...\")\n",
        "    for epoch in range(epochs):\n",
        "        avg_train_loss, avg_train_accuracy = train_model(optimizer,\n",
        "                                                         epochs,\n",
        "                                                         model,\n",
        "                                                         train_dataloader,\n",
        "                                                         device)\n",
        "        avg_val_loss, avg_val_accuracy = evaluate_model(model, val_dataloader, device)\n",
        "\n",
        "        print(f'Epoch {epoch}/{epochs}')\n",
        "        print(f'Training Loss: {avg_train_loss:.3f}, Validation Loss: {avg_val_loss:.3f}')\n",
        "        print(f'Training Accuracy: {avg_train_accuracy:.3f}, Validation Accuracy: {avg_val_accuracy:.3f}')\n",
        "\n",
        "        # document losses and acc\n",
        "        train_losses.append(avg_train_loss)\n",
        "        valid_losses.append(avg_val_loss)\n",
        "        train_acc.append(avg_train_accuracy)\n",
        "        valid_acc.append(avg_val_accuracy)\n",
        "\n",
        "    return train_losses, valid_losses, train_acc, valid_acc"
      ],
      "metadata": {
        "id": "ykXr7VAZ4-18"
      },
      "execution_count": null,
      "outputs": []
    },
    {
      "cell_type": "code",
      "source": [
        "def train_and_evaluate_model_with_early_stopping(train_encodings, val_encodings,\n",
        "                                                 train_labels, val_labels,\n",
        "                                                 batch_size, epochs, model, device,\n",
        "                                                 patience=2):  # Patience parameter for early stopping\n",
        "    train_dataloader = create_dataloader(train_encodings, train_labels, batch_size=batch_size)\n",
        "    val_dataloader = create_dataloader(val_encodings, val_labels, batch_size=batch_size)\n",
        "\n",
        "    best_val_loss = float('inf')  # Initialize best validation loss\n",
        "    best_model_state_dict = None\n",
        "    patience_counter = patience  # Initialize patience counter\n",
        "\n",
        "    for epoch in range(epochs):\n",
        "        avg_train_loss, avg_train_accuracy = train_model(optimizer, epoch, model, train_dataloader, device)\n",
        "        avg_val_loss, avg_val_accuracy = evaluate_model(model, val_dataloader, device)\n",
        "\n",
        "        print(f'Epoch {epoch + 1}/{epochs}')\n",
        "        print(f'Training Loss: {avg_train_loss:.3f}, Validation Loss: {avg_val_loss:.3f}')\n",
        "        print(f'Training Accuracy: {avg_train_accuracy:.3f}, Validation Accuracy: {avg_val_accuracy:.3f}')\n",
        "\n",
        "        # Check if validation loss has improved\n",
        "        if avg_val_loss < best_val_loss:\n",
        "            best_val_loss = avg_val_loss\n",
        "            best_model_state_dict = model.state_dict()\n",
        "            patience_counter = patience  # Reset patience counter\n",
        "        else:\n",
        "            patience_counter -= 1  # Decrement patience counter\n",
        "\n",
        "        # Check for early stopping\n",
        "        if patience_counter == 0:\n",
        "            print(\"Early stopping: No improvement in validation loss for {} epochs\".format(patience))\n",
        "            break\n",
        "\n",
        "    # Load best model state\n",
        "    if best_model_state_dict is not None:\n",
        "        model.load_state_dict(best_model_state_dict)\n",
        "\n",
        "    return train_losses, valid_losses, train_acc, valid_acc\n"
      ],
      "metadata": {
        "id": "4HbBRzpNXNkS"
      },
      "execution_count": null,
      "outputs": []
    },
    {
      "cell_type": "code",
      "source": [
        "##Graph each batch size\n",
        "def plot_results(batch_size_data):\n",
        "  # Define colors for each batch size\n",
        "  colors = ['b', 'g', 'r', 'c', 'm', 'y', 'k']\n",
        "\n",
        "  # Plot losses for each batch size\n",
        "  for idx, (batch_size, data) in enumerate(batch_size_data.items()):\n",
        "      train_losses = data['train_losses']\n",
        "      valid_losses = data['valid_losses']\n",
        "      epochs = range(1, len(train_losses) + 1)\n",
        "      color = colors[idx % len(colors)]  # Cycle through colors for each batch size\n",
        "\n",
        "      plt.figure(figsize=(10, 5))\n",
        "      plt.plot(epochs, train_losses, linestyle='--', color=color, label='Train Loss')\n",
        "      plt.plot(epochs, valid_losses, linestyle='-', color=color, label='Validation Loss')\n",
        "      plt.title(f'Training and Validation Loss (Batch Size: {batch_size})')\n",
        "      plt.xlabel('Epochs')\n",
        "      plt.ylabel('Loss')\n",
        "      plt.legend()\n",
        "      plt.show()\n",
        "\n",
        "  # Plot accuracies for each batch size\n",
        "  for idx, (batch_size, data) in enumerate(batch_size_data.items()):\n",
        "      train_acc = data['train_acc']\n",
        "      valid_acc = data['valid_acc']\n",
        "      epochs = range(1, len(train_acc) + 1)\n",
        "      color = colors[idx % len(colors)]  # Cycle through colors for each batch size\n",
        "\n",
        "      plt.figure(figsize=(10, 5))\n",
        "      plt.plot(epochs, train_acc, linestyle='--', color=color, label='Train Accuracy')\n",
        "      plt.plot(epochs, valid_acc, linestyle='-', color=color, label='Validation Accuracy')\n",
        "      plt.title(f'Training and Validation Accuracy (Batch Size: {batch_size})')\n",
        "      plt.xlabel('Epochs')\n",
        "      plt.ylabel('Accuracy')\n",
        "      plt.legend()\n",
        "      plt.show()\n"
      ],
      "metadata": {
        "id": "ovuubRAled4d"
      },
      "execution_count": null,
      "outputs": []
    },
    {
      "cell_type": "markdown",
      "source": [
        "#### Fine-Tuning Pre-Trained Model"
      ],
      "metadata": {
        "id": "nDtswCLCS59R"
      }
    },
    {
      "cell_type": "code",
      "source": [
        "# Split data into train, test and validation sets\n",
        "train_texts, temp_texts, train_labels, temp_labels = train_test_split(\n",
        "    features_for_fine_tuning,\n",
        "    target_for_fine_tuning,\n",
        "    test_size=0.2,\n",
        "    stratify = target_for_fine_tuning,\n",
        "    random_state=42\n",
        ")\n",
        "\n",
        "test_texts, val_texts, test_labels, val_labels = train_test_split(\n",
        "    temp_texts,\n",
        "    temp_labels,\n",
        "    test_size=0.5,\n",
        "    stratify = temp_labels,\n",
        "    random_state=42\n",
        ")\n",
        "\n",
        "# Validate sizes and proportion of target\n",
        "print(train_texts.shape, test_texts.shape, val_texts.shape)\n",
        "print(train_labels.shape, test_labels.shape, val_labels.shape)\n",
        "print('---')\n",
        "print(train_labels.value_counts(normalize=True))\n",
        "print(test_labels.value_counts(normalize=True))\n",
        "print(val_labels.value_counts(normalize=True))"
      ],
      "metadata": {
        "colab": {
          "base_uri": "https://localhost:8080/"
        },
        "id": "uamLLClytHa_",
        "outputId": "2b2fdfef-9b00-460f-883a-baa5e0f14de9"
      },
      "execution_count": null,
      "outputs": [
        {
          "output_type": "stream",
          "name": "stdout",
          "text": [
            "(480,) (60,) (60,)\n",
            "(480,) (60,) (60,)\n",
            "---\n",
            "target\n",
            "1    0.502083\n",
            "0    0.497917\n",
            "Name: proportion, dtype: float64\n",
            "target\n",
            "0    0.5\n",
            "1    0.5\n",
            "Name: proportion, dtype: float64\n",
            "target\n",
            "0    0.5\n",
            "1    0.5\n",
            "Name: proportion, dtype: float64\n"
          ]
        }
      ]
    },
    {
      "cell_type": "code",
      "source": [
        "# Load tokenizer\n",
        "pretrained_tokenizer = BertTokenizer.from_pretrained(pretrained_tokenizer_name)"
      ],
      "metadata": {
        "id": "uf0vfrpzUGOl",
        "colab": {
          "base_uri": "https://localhost:8080/",
          "height": 269,
          "referenced_widgets": [
            "412483b0dca84e458d26aa6cf15fb6ec",
            "5814a1140daf4f4d89227b1b1f933a22",
            "fe68464d983d496c89ab29f56e42fbd7",
            "61ced810cdac4a5c940b32b52601f884",
            "f47e33e1663441d8a5e68d81fddb63c7",
            "1919c35a2b9342b6924dec20aed32c16",
            "7d26702f4b9f4336baee6973bcc90a3f",
            "0323b26f4bae4757a954ac3c621d492b",
            "2e63ba53126f4f679e81d412aa038f6e",
            "5a1700a603344030aca0a720cee2ac00",
            "dbf4b95af3d3494c883065f142b4e1ec",
            "855be8a164fa43fa9e1f749365089209",
            "83bf5e31f5df40f3a2bae855866c948d",
            "10590cd9f0b84a70ac5266ca3424cf51",
            "6e4a34fdad1f4877b7faa45ac9fb2920",
            "54020732006848ab98eaf8886ae47030",
            "eb15992b765e44f38914ac10a5d38904",
            "b0efdad4a2c247489b1cb00c80f30101",
            "e5f79f8b00f641a3818edb9f5702e150",
            "82cef0cc3ffc40f18e3dd8f4ab3be551",
            "497bc8aeb3d24c7d8c9d4afcc089d6ca",
            "b03d5b9ec73e4a00997576e5c850a359",
            "42a4061dda6e4aafbcffc38610ec8306",
            "e23b2512593e4f90980e22a4575141ed",
            "806f3d690c01459991d0c1a607ea3b3b",
            "e084cccd3909420abc6376ec36a2626b",
            "d985275edb054e469eb8e5c6cb1d3cad",
            "da527d2be8324c64864645393032cd3b",
            "8422d60e379e465a81439c7a8869c665",
            "97b555eaa7c044bc898e63b187c9d33d",
            "72406ab5256e40beaec76d2f2c431b42",
            "90fb9d884eec486182775b8cc32442d8",
            "97477caeb00543208cede28657608454",
            "015acc358a384bc6892dfbb99a7c8fb0",
            "3b2252ba01144c49840bc5f242d3c00e",
            "ee351a414319494d8fdf30364b9c26b0",
            "1a2557cae34a44039cdeabacb2673ebc",
            "7e5a07b619894fd480696555a8798431",
            "481ec28e2dde4e8c83b3336668c11ce2",
            "8417d6d380044fb58efad3aba61d15b6",
            "d73d9e52f5f44909912b7e636a6ad38b",
            "13f80888730a4f4aa8397fe2cb60c66b",
            "5952455f1b204b2383d0706fc2fae36b",
            "05b221379a2f4b9f894bbf13676adccc"
          ]
        },
        "outputId": "ad95b1dd-cbed-44e3-82f7-c2b810bf933d"
      },
      "execution_count": null,
      "outputs": [
        {
          "output_type": "stream",
          "name": "stderr",
          "text": [
            "/usr/local/lib/python3.10/dist-packages/huggingface_hub/utils/_token.py:88: UserWarning: \n",
            "The secret `HF_TOKEN` does not exist in your Colab secrets.\n",
            "To authenticate with the Hugging Face Hub, create a token in your settings tab (https://huggingface.co/settings/tokens), set it as secret in your Google Colab and restart your session.\n",
            "You will be able to reuse this secret in all of your notebooks.\n",
            "Please note that authentication is recommended but still optional to access public models or datasets.\n",
            "  warnings.warn(\n"
          ]
        },
        {
          "output_type": "display_data",
          "data": {
            "text/plain": [
              "tokenizer_config.json:   0%|          | 0.00/48.0 [00:00<?, ?B/s]"
            ],
            "application/vnd.jupyter.widget-view+json": {
              "version_major": 2,
              "version_minor": 0,
              "model_id": "412483b0dca84e458d26aa6cf15fb6ec"
            }
          },
          "metadata": {}
        },
        {
          "output_type": "display_data",
          "data": {
            "text/plain": [
              "vocab.txt:   0%|          | 0.00/232k [00:00<?, ?B/s]"
            ],
            "application/vnd.jupyter.widget-view+json": {
              "version_major": 2,
              "version_minor": 0,
              "model_id": "855be8a164fa43fa9e1f749365089209"
            }
          },
          "metadata": {}
        },
        {
          "output_type": "display_data",
          "data": {
            "text/plain": [
              "tokenizer.json:   0%|          | 0.00/466k [00:00<?, ?B/s]"
            ],
            "application/vnd.jupyter.widget-view+json": {
              "version_major": 2,
              "version_minor": 0,
              "model_id": "42a4061dda6e4aafbcffc38610ec8306"
            }
          },
          "metadata": {}
        },
        {
          "output_type": "display_data",
          "data": {
            "text/plain": [
              "config.json:   0%|          | 0.00/570 [00:00<?, ?B/s]"
            ],
            "application/vnd.jupyter.widget-view+json": {
              "version_major": 2,
              "version_minor": 0,
              "model_id": "015acc358a384bc6892dfbb99a7c8fb0"
            }
          },
          "metadata": {}
        }
      ]
    },
    {
      "cell_type": "code",
      "source": [
        "# Tokenize and encode text data\n",
        "test_encodings = pretrained_tokenizer(test_texts.tolist(),\n",
        "                                      truncation=True,\n",
        "                                      padding=True)\n",
        "\n",
        "train_encodings = pretrained_tokenizer(train_texts.tolist(),\n",
        "                                       truncation=True,\n",
        "                                       padding=True)\n",
        "\n",
        "val_encodings = pretrained_tokenizer(val_texts.tolist(),\n",
        "                                     truncation=True,\n",
        "                                     padding=True)\n",
        "\n",
        "print(\"Encodings done\")"
      ],
      "metadata": {
        "colab": {
          "base_uri": "https://localhost:8080/"
        },
        "id": "vnWfl3ieyMxF",
        "outputId": "0a17f086-9e81-4e92-80f0-fce44c8b9fa2"
      },
      "execution_count": null,
      "outputs": [
        {
          "output_type": "stream",
          "name": "stdout",
          "text": [
            "Encodings done\n"
          ]
        }
      ]
    },
    {
      "cell_type": "code",
      "source": [
        "# Convert Convert Integer Sequences from Labels to Tensors\n",
        "train_labels = torch.tensor(train_labels.tolist())\n",
        "test_labels = torch.tensor(test_labels.tolist())\n",
        "val_labels = torch.tensor(val_labels.tolist())\n",
        "print(\"Converting labels to tensors done\")"
      ],
      "metadata": {
        "id": "LTxWeYlyrWdZ",
        "colab": {
          "base_uri": "https://localhost:8080/"
        },
        "outputId": "78ca6c31-4a31-42a2-8002-f51b11f6513f"
      },
      "execution_count": null,
      "outputs": [
        {
          "output_type": "stream",
          "name": "stdout",
          "text": [
            "Converting labels to tensors done\n"
          ]
        }
      ]
    },
    {
      "cell_type": "code",
      "source": [
        "# Prepare for model loading. If running on GPU, assign compute unified device architecture\n",
        "if torch.cuda.is_available():\n",
        "    device = torch.device(\"cuda\")\n",
        "    print(f'GPU computation device: {device}')\n",
        "else:\n",
        "    device = 'cpu'\n",
        "    print(f'Computation device: {device}')\n"
      ],
      "metadata": {
        "colab": {
          "base_uri": "https://localhost:8080/"
        },
        "id": "bnS1ziAKWROo",
        "outputId": "db6aa185-258f-40e5-9f58-415e356f3a65"
      },
      "execution_count": null,
      "outputs": [
        {
          "output_type": "stream",
          "name": "stdout",
          "text": [
            "GPU computation device: cuda\n"
          ]
        }
      ]
    },
    {
      "cell_type": "code",
      "source": [
        "# Training loop with initialised CodeCarbon tracker\n",
        "\n",
        "batch_size_data = {}\n",
        "best_model = None\n",
        "best_val_acc = 0.0\n",
        "\n",
        "for batch_size in batch_sizes:\n",
        "  print(f'Batch Size: {batch_size}')\n",
        "\n",
        "  # Instantiate the model and move it to the appropriate device\n",
        "  #Base BERT model\n",
        "  model = ScreenBert(pretrained_model_name).to(device)\n",
        "\n",
        "  optimizer = AdamW(model.parameters(), lr=2e-5, eps=1e-8)\n",
        "\n",
        "  # Train and evaluate the model\n",
        "  train_losses, valid_losses, train_acc, valid_acc = train_and_evaluate_model(train_encodings,\n",
        "                                                                              val_encodings,\n",
        "                                                                              train_labels,\n",
        "                                                                              val_labels,\n",
        "                                                                              batch_size,\n",
        "                                                                              epochs,\n",
        "                                                                              model,\n",
        "                                                                              device)\n",
        "\n",
        "  # Store the results in a nested dictionary\n",
        "  batch_size_data[batch_size] = {\n",
        "      'train_losses': train_losses,\n",
        "      'valid_losses': valid_losses,\n",
        "      'train_acc': train_acc,\n",
        "      'valid_acc': valid_acc\n",
        "  }\n",
        "\n",
        "  # Save the trained model\n",
        "\n",
        "  model_name = fine_tuned_model_name + '_' + str(batch_size) + '_.pth'\n",
        "  print(model_name)\n",
        "  torch.save(model.state_dict(), model_name)\n",
        "\n",
        "  # Track the best model based on validation accuracy\n",
        "  if valid_acc[-1] > best_val_acc:\n",
        "      best_val_acc = valid_acc[-1]\n",
        "      best_model = model\n",
        "      best_model_name = model_name\n",
        "\n",
        "# Print the best validation accuracy and model's state dictionary\n",
        "print(f'Best Validation Accuracy: {best_val_acc}')\n",
        "print(f'Best model = {best_model_name}')\n"
      ],
      "metadata": {
        "colab": {
          "base_uri": "https://localhost:8080/"
        },
        "id": "sslzS_6pezCs",
        "outputId": "81c2f069-ec8a-4ecd-8a13-f851c0a0ed19"
      },
      "execution_count": null,
      "outputs": [
        {
          "output_type": "stream",
          "name": "stdout",
          "text": [
            "Batch Size: 8\n"
          ]
        },
        {
          "output_type": "stream",
          "name": "stderr",
          "text": [
            "/usr/local/lib/python3.10/dist-packages/transformers/optimization.py:521: FutureWarning: This implementation of AdamW is deprecated and will be removed in a future version. Use the PyTorch implementation torch.optim.AdamW instead, or set `no_deprecation_warning=True` to disable this warning\n",
            "  warnings.warn(\n"
          ]
        },
        {
          "output_type": "stream",
          "name": "stdout",
          "text": [
            "train_dataloader ready to play\n",
            "val_dataloader ready to play\n",
            "Start training ...\n",
            "  Batch    50  of     60.\n",
            "Epoch 0/10\n",
            "Training Loss: 0.478, Validation Loss: 0.190\n",
            "Training Accuracy: 0.833, Validation Accuracy: 0.983\n",
            "  Batch    50  of     60.\n",
            "Epoch 1/10\n",
            "Training Loss: 0.075, Validation Loss: 0.022\n",
            "Training Accuracy: 0.992, Validation Accuracy: 1.000\n",
            "  Batch    50  of     60.\n",
            "Epoch 2/10\n",
            "Training Loss: 0.014, Validation Loss: 0.053\n",
            "Training Accuracy: 1.000, Validation Accuracy: 0.983\n",
            "  Batch    50  of     60.\n",
            "Epoch 3/10\n",
            "Training Loss: 0.006, Validation Loss: 0.012\n",
            "Training Accuracy: 1.000, Validation Accuracy: 1.000\n",
            "  Batch    50  of     60.\n",
            "Epoch 4/10\n",
            "Training Loss: 0.004, Validation Loss: 0.005\n",
            "Training Accuracy: 1.000, Validation Accuracy: 1.000\n",
            "  Batch    50  of     60.\n",
            "Epoch 5/10\n",
            "Training Loss: 0.003, Validation Loss: 0.004\n",
            "Training Accuracy: 1.000, Validation Accuracy: 1.000\n",
            "  Batch    50  of     60.\n",
            "Epoch 6/10\n",
            "Training Loss: 0.002, Validation Loss: 0.002\n",
            "Training Accuracy: 1.000, Validation Accuracy: 1.000\n",
            "  Batch    50  of     60.\n",
            "Epoch 7/10\n",
            "Training Loss: 0.001, Validation Loss: 0.001\n",
            "Training Accuracy: 1.000, Validation Accuracy: 1.000\n",
            "  Batch    50  of     60.\n",
            "Epoch 8/10\n",
            "Training Loss: 0.001, Validation Loss: 0.001\n",
            "Training Accuracy: 1.000, Validation Accuracy: 1.000\n",
            "  Batch    50  of     60.\n",
            "Epoch 9/10\n",
            "Training Loss: 0.001, Validation Loss: 0.001\n",
            "Training Accuracy: 1.000, Validation Accuracy: 1.000\n",
            "screen_bert_2fc_v0_1_8_.pth\n",
            "Batch Size: 16\n"
          ]
        },
        {
          "output_type": "stream",
          "name": "stderr",
          "text": [
            "/usr/local/lib/python3.10/dist-packages/transformers/optimization.py:521: FutureWarning: This implementation of AdamW is deprecated and will be removed in a future version. Use the PyTorch implementation torch.optim.AdamW instead, or set `no_deprecation_warning=True` to disable this warning\n",
            "  warnings.warn(\n"
          ]
        },
        {
          "output_type": "stream",
          "name": "stdout",
          "text": [
            "train_dataloader ready to play\n",
            "val_dataloader ready to play\n",
            "Start training ...\n",
            "Epoch 0/10\n",
            "Training Loss: 0.638, Validation Loss: 0.435\n",
            "Training Accuracy: 0.735, Validation Accuracy: 0.967\n",
            "Epoch 1/10\n",
            "Training Loss: 0.286, Validation Loss: 0.131\n",
            "Training Accuracy: 0.973, Validation Accuracy: 1.000\n",
            "Epoch 2/10\n",
            "Training Loss: 0.103, Validation Loss: 0.045\n",
            "Training Accuracy: 0.985, Validation Accuracy: 1.000\n",
            "Epoch 3/10\n",
            "Training Loss: 0.038, Validation Loss: 0.024\n",
            "Training Accuracy: 0.998, Validation Accuracy: 1.000\n",
            "Epoch 4/10\n",
            "Training Loss: 0.016, Validation Loss: 0.013\n",
            "Training Accuracy: 1.000, Validation Accuracy: 1.000\n",
            "Epoch 5/10\n",
            "Training Loss: 0.010, Validation Loss: 0.012\n",
            "Training Accuracy: 1.000, Validation Accuracy: 1.000\n",
            "Epoch 6/10\n",
            "Training Loss: 0.007, Validation Loss: 0.013\n",
            "Training Accuracy: 1.000, Validation Accuracy: 1.000\n",
            "Epoch 7/10\n",
            "Training Loss: 0.005, Validation Loss: 0.015\n",
            "Training Accuracy: 1.000, Validation Accuracy: 1.000\n",
            "Epoch 8/10\n",
            "Training Loss: 0.004, Validation Loss: 0.021\n",
            "Training Accuracy: 1.000, Validation Accuracy: 0.983\n",
            "Epoch 9/10\n",
            "Training Loss: 0.003, Validation Loss: 0.017\n",
            "Training Accuracy: 1.000, Validation Accuracy: 0.983\n",
            "screen_bert_2fc_v0_1_16_.pth\n",
            "Batch Size: 24\n"
          ]
        },
        {
          "output_type": "stream",
          "name": "stderr",
          "text": [
            "/usr/local/lib/python3.10/dist-packages/transformers/optimization.py:521: FutureWarning: This implementation of AdamW is deprecated and will be removed in a future version. Use the PyTorch implementation torch.optim.AdamW instead, or set `no_deprecation_warning=True` to disable this warning\n",
            "  warnings.warn(\n"
          ]
        },
        {
          "output_type": "stream",
          "name": "stdout",
          "text": [
            "train_dataloader ready to play\n",
            "val_dataloader ready to play\n",
            "Start training ...\n",
            "Epoch 0/10\n",
            "Training Loss: 0.556, Validation Loss: 0.380\n",
            "Training Accuracy: 0.835, Validation Accuracy: 0.950\n",
            "Epoch 1/10\n",
            "Training Loss: 0.254, Validation Loss: 0.179\n",
            "Training Accuracy: 0.985, Validation Accuracy: 0.967\n",
            "Epoch 2/10\n",
            "Training Loss: 0.109, Validation Loss: 0.079\n",
            "Training Accuracy: 0.994, Validation Accuracy: 1.000\n",
            "Epoch 3/10\n",
            "Training Loss: 0.042, Validation Loss: 0.028\n",
            "Training Accuracy: 1.000, Validation Accuracy: 1.000\n",
            "Epoch 4/10\n",
            "Training Loss: 0.023, Validation Loss: 0.017\n",
            "Training Accuracy: 1.000, Validation Accuracy: 1.000\n",
            "Epoch 5/10\n",
            "Training Loss: 0.015, Validation Loss: 0.012\n",
            "Training Accuracy: 1.000, Validation Accuracy: 1.000\n",
            "Epoch 6/10\n",
            "Training Loss: 0.011, Validation Loss: 0.009\n",
            "Training Accuracy: 1.000, Validation Accuracy: 1.000\n",
            "Epoch 7/10\n",
            "Training Loss: 0.008, Validation Loss: 0.007\n",
            "Training Accuracy: 1.000, Validation Accuracy: 1.000\n",
            "Epoch 8/10\n",
            "Training Loss: 0.007, Validation Loss: 0.006\n",
            "Training Accuracy: 1.000, Validation Accuracy: 1.000\n",
            "Epoch 9/10\n",
            "Training Loss: 0.006, Validation Loss: 0.005\n",
            "Training Accuracy: 1.000, Validation Accuracy: 1.000\n",
            "screen_bert_2fc_v0_1_24_.pth\n",
            "Batch Size: 32\n"
          ]
        },
        {
          "output_type": "stream",
          "name": "stderr",
          "text": [
            "/usr/local/lib/python3.10/dist-packages/transformers/optimization.py:521: FutureWarning: This implementation of AdamW is deprecated and will be removed in a future version. Use the PyTorch implementation torch.optim.AdamW instead, or set `no_deprecation_warning=True` to disable this warning\n",
            "  warnings.warn(\n"
          ]
        },
        {
          "output_type": "stream",
          "name": "stdout",
          "text": [
            "train_dataloader ready to play\n",
            "val_dataloader ready to play\n",
            "Start training ...\n",
            "Epoch 0/10\n",
            "Training Loss: 0.619, Validation Loss: 0.483\n",
            "Training Accuracy: 0.798, Validation Accuracy: 0.933\n",
            "Epoch 1/10\n",
            "Training Loss: 0.382, Validation Loss: 0.248\n",
            "Training Accuracy: 0.967, Validation Accuracy: 1.000\n",
            "Epoch 2/10\n",
            "Training Loss: 0.187, Validation Loss: 0.135\n",
            "Training Accuracy: 0.992, Validation Accuracy: 0.983\n",
            "Epoch 3/10\n",
            "Training Loss: 0.082, Validation Loss: 0.093\n",
            "Training Accuracy: 1.000, Validation Accuracy: 0.983\n",
            "Epoch 4/10\n",
            "Training Loss: 0.039, Validation Loss: 0.029\n",
            "Training Accuracy: 1.000, Validation Accuracy: 1.000\n",
            "Epoch 5/10\n",
            "Training Loss: 0.022, Validation Loss: 0.027\n",
            "Training Accuracy: 1.000, Validation Accuracy: 1.000\n",
            "Epoch 6/10\n",
            "Training Loss: 0.015, Validation Loss: 0.063\n",
            "Training Accuracy: 1.000, Validation Accuracy: 0.983\n",
            "Epoch 7/10\n",
            "Training Loss: 0.011, Validation Loss: 0.061\n",
            "Training Accuracy: 1.000, Validation Accuracy: 0.983\n",
            "Epoch 8/10\n",
            "Training Loss: 0.009, Validation Loss: 0.066\n",
            "Training Accuracy: 1.000, Validation Accuracy: 0.983\n",
            "Epoch 9/10\n",
            "Training Loss: 0.007, Validation Loss: 0.066\n",
            "Training Accuracy: 1.000, Validation Accuracy: 0.983\n",
            "screen_bert_2fc_v0_1_32_.pth\n",
            "Batch Size: 64\n"
          ]
        },
        {
          "output_type": "stream",
          "name": "stderr",
          "text": [
            "/usr/local/lib/python3.10/dist-packages/transformers/optimization.py:521: FutureWarning: This implementation of AdamW is deprecated and will be removed in a future version. Use the PyTorch implementation torch.optim.AdamW instead, or set `no_deprecation_warning=True` to disable this warning\n",
            "  warnings.warn(\n"
          ]
        },
        {
          "output_type": "stream",
          "name": "stdout",
          "text": [
            "train_dataloader ready to play\n",
            "val_dataloader ready to play\n",
            "Start training ...\n",
            "Epoch 0/10\n",
            "Training Loss: 0.668, Validation Loss: 0.600\n",
            "Training Accuracy: 0.673, Validation Accuracy: 0.950\n",
            "Epoch 1/10\n",
            "Training Loss: 0.552, Validation Loss: 0.445\n",
            "Training Accuracy: 0.927, Validation Accuracy: 0.983\n",
            "Epoch 2/10\n",
            "Training Loss: 0.406, Validation Loss: 0.319\n",
            "Training Accuracy: 0.969, Validation Accuracy: 1.000\n",
            "Epoch 3/10\n",
            "Training Loss: 0.275, Validation Loss: 0.225\n",
            "Training Accuracy: 0.996, Validation Accuracy: 0.983\n",
            "Epoch 4/10\n",
            "Training Loss: 0.179, Validation Loss: 0.141\n",
            "Training Accuracy: 0.998, Validation Accuracy: 1.000\n",
            "Epoch 5/10\n",
            "Training Loss: 0.115, Validation Loss: 0.093\n",
            "Training Accuracy: 1.000, Validation Accuracy: 1.000\n",
            "Epoch 6/10\n",
            "Training Loss: 0.074, Validation Loss: 0.067\n",
            "Training Accuracy: 1.000, Validation Accuracy: 1.000\n",
            "Epoch 7/10\n",
            "Training Loss: 0.051, Validation Loss: 0.043\n",
            "Training Accuracy: 1.000, Validation Accuracy: 1.000\n",
            "Epoch 8/10\n",
            "Training Loss: 0.037, Validation Loss: 0.032\n",
            "Training Accuracy: 1.000, Validation Accuracy: 1.000\n",
            "Epoch 9/10\n",
            "Training Loss: 0.028, Validation Loss: 0.026\n",
            "Training Accuracy: 1.000, Validation Accuracy: 1.000\n",
            "screen_bert_2fc_v0_1_64_.pth\n",
            "Best Validation Accuracy: 1.0\n",
            "Best model = screen_bert_2fc_v0_1_8_.pth\n"
          ]
        }
      ]
    },
    {
      "cell_type": "code",
      "source": [
        "plot_results(batch_size_data)"
      ],
      "metadata": {
        "colab": {
          "base_uri": "https://localhost:8080/",
          "height": 1000
        },
        "id": "VxTLEcJS56dq",
        "outputId": "e1b0f6d1-d8f4-4a81-9f60-79f264a939bc"
      },
      "execution_count": null,
      "outputs": [
        {
          "output_type": "display_data",
          "data": {
            "text/plain": [
              "<Figure size 1000x500 with 1 Axes>"
            ],
            "image/png": "[encoded data removed]"
          },
          "metadata": {}
        },
        {
          "output_type": "display_data",
          "data": {
            "text/plain": [
              "<Figure size 1000x500 with 1 Axes>"
            ],
            "image/png": "[encoded data removed]"
          },
          "metadata": {}
        },
        {
          "output_type": "display_data",
          "data": {
            "text/plain": [
              "<Figure size 1000x500 with 1 Axes>"
            ],
            "image/png": "[encoded data removed]"
          },
          "metadata": {}
        },
        {
          "output_type": "display_data",
          "data": {
            "text/plain": [
              "<Figure size 1000x500 with 1 Axes>"
            ],
            "image/png": "[encoded data removed]"
          },
          "metadata": {}
        },
        {
          "output_type": "display_data",
          "data": {
            "text/plain": [
              "<Figure size 1000x500 with 1 Axes>"
            ],
            "image/png": "[encoded data removed]"
          },
          "metadata": {}
        },
        {
          "output_type": "display_data",
          "data": {
            "text/plain": [
              "<Figure size 1000x500 with 1 Axes>"
            ],
            "image/png": "[encoded data removed]"
          },
          "metadata": {}
        },
        {
          "output_type": "display_data",
          "data": {
            "text/plain": [
              "<Figure size 1000x500 with 1 Axes>"
            ],
            "image/png": "[encoded data removed]"
          },
          "metadata": {}
        },
        {
          "output_type": "display_data",
          "data": {
            "text/plain": [
              "<Figure size 1000x500 with 1 Axes>"
            ],
            "image/png": "[encoded data removed]"
          },
          "metadata": {}
        },
        {
          "output_type": "display_data",
          "data": {
            "text/plain": [
              "<Figure size 1000x500 with 1 Axes>"
            ],
            "image/png": "[encoded data removed]"
          },
          "metadata": {}
        },
        {
          "output_type": "display_data",
          "data": {
            "text/plain": [
              "<Figure size 1000x500 with 1 Axes>"
            ],
            "image/png": "[encoded data removed]"
          },
          "metadata": {}
        }
      ]
    },
    {
      "cell_type": "markdown",
      "source": [
        "# Evaluate model performance on unseen test data"
      ],
      "metadata": {
        "id": "P9qy24i5eaBt"
      }
    },
    {
      "cell_type": "code",
      "source": [
        "def test_data_evaluation(texts, test_encodings, test_labels, model):\n",
        "    # Create dataloader for test data\n",
        "    test_dataloader = create_dataloader(test_encodings, test_labels, batch_size=64, randomize=False)\n",
        "\n",
        "    # Evaluate model on test data\n",
        "    test_loss, test_acc = evaluate_model(model, test_dataloader, device)\n",
        "    print(f'Test Loss: {test_loss}')\n",
        "    print(f'Test Accuracy: {test_acc}')\n",
        "\n",
        "    # Switch model to evaluation mode\n",
        "    model.eval()\n",
        "\n",
        "    # Initialize lists for predictions and true labels\n",
        "    predictions = []\n",
        "    true_labels = []\n",
        "\n",
        "    # Iterate through batches in test dataloader\n",
        "    for batch in test_dataloader:\n",
        "        batch = tuple(t.to(device) for t in batch)\n",
        "        input_ids, attention_mask, labels = batch\n",
        "\n",
        "        # Disable gradient calculation\n",
        "        with torch.no_grad():\n",
        "            logits = model(input_ids, attention_mask)\n",
        "            preds = torch.sigmoid(logits).round()\n",
        "\n",
        "            # Extend lists with predictions and true labels\n",
        "            predictions.extend(preds.cpu().numpy())\n",
        "            true_labels.extend(labels.cpu().numpy())\n",
        "\n",
        "    # Convert numpy arrays to lists\n",
        "    predictions = [pred.item() for pred in predictions]\n",
        "\n",
        "    # Create DataFrame to store results\n",
        "    final_df = pd.DataFrame({\n",
        "        'context': texts,\n",
        "        'true_label': true_labels,\n",
        "        'model_predictions': predictions\n",
        "    })\n",
        "\n",
        "    # Calculate accuracy\n",
        "    accuracy = accuracy_score(final_df['true_label'], final_df['model_predictions'])\n",
        "    print(\"Accuracy:\", accuracy, '\\n')\n",
        "\n",
        "    # Display confusion matrix\n",
        "    matrix = confusion_matrix(true_labels, predictions)\n",
        "    print(\"Confusion Matrix:\")\n",
        "    print(matrix, '\\n')\n",
        "\n",
        "    # Find misclassifications\n",
        "    misclass_df = final_df[final_df['true_label'] != final_df['model_predictions']]\n",
        "    print(\"List of Misclassifications:\")\n",
        "\n",
        "    return misclass_df\n"
      ],
      "metadata": {
        "id": "E5dBitXjDbFn"
      },
      "execution_count": null,
      "outputs": []
    },
    {
      "cell_type": "code",
      "source": [
        "best_model_name"
      ],
      "metadata": {
        "colab": {
          "base_uri": "https://localhost:8080/",
          "height": 35
        },
        "id": "ICd-nNU3V_0K",
        "outputId": "cc82cbfd-455d-4f16-acb5-d105341874b2"
      },
      "execution_count": null,
      "outputs": [
        {
          "output_type": "execute_result",
          "data": {
            "text/plain": [
              "'screen_bert_2fc_v0_1_8_.pth'"
            ],
            "application/vnd.google.colaboratory.intrinsic+json": {
              "type": "string"
            }
          },
          "metadata": {},
          "execution_count": 29
        }
      ]
    },
    {
      "cell_type": "code",
      "source": [
        "test_data_evaluation(test_texts, test_encodings, test_labels, best_model)"
      ],
      "metadata": {
        "colab": {
          "base_uri": "https://localhost:8080/",
          "height": 237
        },
        "id": "Zbqp62amudIh",
        "outputId": "0fbc63b5-e18e-47b4-c4de-522cfdbe2509"
      },
      "execution_count": null,
      "outputs": [
        {
          "output_type": "stream",
          "name": "stdout",
          "text": [
            "Test Loss: 0.12122342735528946\n",
            "Test Accuracy: 0.9833333333333333\n",
            "Accuracy: 0.9833333333333333 \n",
            "\n",
            "Confusion Matrix:\n",
            "[[30  0]\n",
            " [ 1 29]] \n",
            "\n",
            "List of Misclassifications:\n"
          ]
        },
        {
          "output_type": "execute_result",
          "data": {
            "text/plain": [
              "                                               context  true_label  \\\n",
              "173  Agile practices are something I'm deeply famil...           1   \n",
              "\n",
              "     model_predictions  \n",
              "173                0.0  "
            ],
            "text/html": [
              "\n",
              "  <div id=\"df-756b94bd-2667-4bf3-882e-320d33f16d1d\" class=\"colab-df-container\">\n",
              "    <div>\n",
              "<style scoped>\n",
              "    .dataframe tbody tr th:only-of-type {\n",
              "        vertical-align: middle;\n",
              "    }\n",
              "\n",
              "    .dataframe tbody tr th {\n",
              "        vertical-align: top;\n",
              "    }\n",
              "\n",
              "    .dataframe thead th {\n",
              "        text-align: right;\n",
              "    }\n",
              "</style>\n",
              "<table border=\"1\" class=\"dataframe\">\n",
              "  <thead>\n",
              "    <tr style=\"text-align: right;\">\n",
              "      <th></th>\n",
              "      <th>context</th>\n",
              "      <th>true_label</th>\n",
              "      <th>model_predictions</th>\n",
              "    </tr>\n",
              "  </thead>\n",
              "  <tbody>\n",
              "    <tr>\n",
              "      <th>173</th>\n",
              "      <td>Agile practices are something I'm deeply famil...</td>\n",
              "      <td>1</td>\n",
              "      <td>0.0</td>\n",
              "    </tr>\n",
              "  </tbody>\n",
              "</table>\n",
              "</div>\n",
              "    <div class=\"colab-df-buttons\">\n",
              "\n",
              "  <div class=\"colab-df-container\">\n",
              "    <button class=\"colab-df-convert\" onclick=\"convertToInteractive('df-756b94bd-2667-4bf3-882e-320d33f16d1d')\"\n",
              "            title=\"Convert this dataframe to an interactive table.\"\n",
              "            style=\"display:none;\">\n",
              "\n",
              "  <svg xmlns=\"http://www.w3.org/2000/svg\" height=\"24px\" viewBox=\"0 -960 960 960\">\n",
              "    <path d=\"M120-120v-720h720v720H120Zm60-500h600v-160H180v160Zm220 220h160v-160H400v160Zm0 220h160v-160H400v160ZM180-400h160v-160H180v160Zm440 0h160v-160H620v160ZM180-180h160v-160H180v160Zm440 0h160v-160H620v160Z\"/>\n",
              "  </svg>\n",
              "    </button>\n",
              "\n",
              "  <style>\n",
              "    .colab-df-container {\n",
              "      display:flex;\n",
              "      gap: 12px;\n",
              "    }\n",
              "\n",
              "    .colab-df-convert {\n",
              "      background-color: #E8F0FE;\n",
              "      border: none;\n",
              "      border-radius: 50%;\n",
              "      cursor: pointer;\n",
              "      display: none;\n",
              "      fill: #1967D2;\n",
              "      height: 32px;\n",
              "      padding: 0 0 0 0;\n",
              "      width: 32px;\n",
              "    }\n",
              "\n",
              "    .colab-df-convert:hover {\n",
              "      background-color: #E2EBFA;\n",
              "      box-shadow: 0px 1px 2px rgba(60, 64, 67, 0.3), 0px 1px 3px 1px rgba(60, 64, 67, 0.15);\n",
              "      fill: #174EA6;\n",
              "    }\n",
              "\n",
              "    .colab-df-buttons div {\n",
              "      margin-bottom: 4px;\n",
              "    }\n",
              "\n",
              "    [theme=dark] .colab-df-convert {\n",
              "      background-color: #3B4455;\n",
              "      fill: #D2E3FC;\n",
              "    }\n",
              "\n",
              "    [theme=dark] .colab-df-convert:hover {\n",
              "      background-color: #434B5C;\n",
              "      box-shadow: 0px 1px 3px 1px rgba(0, 0, 0, 0.15);\n",
              "      filter: drop-shadow(0px 1px 2px rgba(0, 0, 0, 0.3));\n",
              "      fill: #FFFFFF;\n",
              "    }\n",
              "  </style>\n",
              "\n",
              "    <script>\n",
              "      const buttonEl =\n",
              "        document.querySelector('#df-756b94bd-2667-4bf3-882e-320d33f16d1d button.colab-df-convert');\n",
              "      buttonEl.style.display =\n",
              "        google.colab.kernel.accessAllowed ? 'block' : 'none';\n",
              "\n",
              "      async function convertToInteractive(key) {\n",
              "        const element = document.querySelector('#df-756b94bd-2667-4bf3-882e-320d33f16d1d');\n",
              "        const dataTable =\n",
              "          await google.colab.kernel.invokeFunction('convertToInteractive',\n",
              "                                                    [key], {});\n",
              "        if (!dataTable) return;\n",
              "\n",
              "        const docLinkHtml = 'Like what you see? Visit the ' +\n",
              "          '<a target=\"_blank\" href=https://colab.research.google.com/notebooks/data_table.ipynb>data table notebook</a>'\n",
              "          + ' to learn more about interactive tables.';\n",
              "        element.innerHTML = '';\n",
              "        dataTable['output_type'] = 'display_data';\n",
              "        await google.colab.output.renderOutput(dataTable, element);\n",
              "        const docLink = document.createElement('div');\n",
              "        docLink.innerHTML = docLinkHtml;\n",
              "        element.appendChild(docLink);\n",
              "      }\n",
              "    </script>\n",
              "  </div>\n",
              "\n",
              "    </div>\n",
              "  </div>\n"
            ],
            "application/vnd.google.colaboratory.intrinsic+json": {
              "type": "dataframe",
              "summary": "{\n  \"name\": \"test_data_evaluation(test_texts, test_encodings, test_labels, best_model)\",\n  \"rows\": 1,\n  \"fields\": [\n    {\n      \"column\": \"context\",\n      \"properties\": {\n        \"dtype\": \"string\",\n        \"num_unique_values\": 1,\n        \"samples\": [\n          \"Agile practices are something I'm deeply familiar with especially in fast-paced environments.\"\n        ],\n        \"semantic_type\": \"\",\n        \"description\": \"\"\n      }\n    },\n    {\n      \"column\": \"true_label\",\n      \"properties\": {\n        \"dtype\": \"number\",\n        \"std\": null,\n        \"min\": 1,\n        \"max\": 1,\n        \"num_unique_values\": 1,\n        \"samples\": [\n          1\n        ],\n        \"semantic_type\": \"\",\n        \"description\": \"\"\n      }\n    },\n    {\n      \"column\": \"model_predictions\",\n      \"properties\": {\n        \"dtype\": \"number\",\n        \"std\": null,\n        \"min\": 0.0,\n        \"max\": 0.0,\n        \"num_unique_values\": 1,\n        \"samples\": [\n          0.0\n        ],\n        \"semantic_type\": \"\",\n        \"description\": \"\"\n      }\n    }\n  ]\n}"
            }
          },
          "metadata": {},
          "execution_count": 30
        }
      ]
    },
    {
      "cell_type": "code",
      "source": [
        "test_data_evaluation(val_texts, val_encodings, val_labels, best_model)"
      ],
      "metadata": {
        "colab": {
          "base_uri": "https://localhost:8080/",
          "height": 209
        },
        "id": "kD_1bblwVBEa",
        "outputId": "71660687-7a20-4165-c974-211a5eab8e57"
      },
      "execution_count": null,
      "outputs": [
        {
          "output_type": "stream",
          "name": "stdout",
          "text": [
            "Test Loss: 0.000972175388596952\n",
            "Test Accuracy: 1.0\n",
            "Accuracy: 1.0 \n",
            "\n",
            "Confusion Matrix:\n",
            "[[30  0]\n",
            " [ 0 30]] \n",
            "\n",
            "List of Misclassifications:\n"
          ]
        },
        {
          "output_type": "execute_result",
          "data": {
            "text/plain": [
              "Empty DataFrame\n",
              "Columns: [context, true_label, model_predictions]\n",
              "Index: []"
            ],
            "text/html": [
              "\n",
              "  <div id=\"df-a17de568-e6e7-4fe3-9e06-4559c5f36549\" class=\"colab-df-container\">\n",
              "    <div>\n",
              "<style scoped>\n",
              "    .dataframe tbody tr th:only-of-type {\n",
              "        vertical-align: middle;\n",
              "    }\n",
              "\n",
              "    .dataframe tbody tr th {\n",
              "        vertical-align: top;\n",
              "    }\n",
              "\n",
              "    .dataframe thead th {\n",
              "        text-align: right;\n",
              "    }\n",
              "</style>\n",
              "<table border=\"1\" class=\"dataframe\">\n",
              "  <thead>\n",
              "    <tr style=\"text-align: right;\">\n",
              "      <th></th>\n",
              "      <th>context</th>\n",
              "      <th>true_label</th>\n",
              "      <th>model_predictions</th>\n",
              "    </tr>\n",
              "  </thead>\n",
              "  <tbody>\n",
              "  </tbody>\n",
              "</table>\n",
              "</div>\n",
              "    <div class=\"colab-df-buttons\">\n",
              "\n",
              "  <div class=\"colab-df-container\">\n",
              "    <button class=\"colab-df-convert\" onclick=\"convertToInteractive('df-a17de568-e6e7-4fe3-9e06-4559c5f36549')\"\n",
              "            title=\"Convert this dataframe to an interactive table.\"\n",
              "            style=\"display:none;\">\n",
              "\n",
              "  <svg xmlns=\"http://www.w3.org/2000/svg\" height=\"24px\" viewBox=\"0 -960 960 960\">\n",
              "    <path d=\"M120-120v-720h720v720H120Zm60-500h600v-160H180v160Zm220 220h160v-160H400v160Zm0 220h160v-160H400v160ZM180-400h160v-160H180v160Zm440 0h160v-160H620v160ZM180-180h160v-160H180v160Zm440 0h160v-160H620v160Z\"/>\n",
              "  </svg>\n",
              "    </button>\n",
              "\n",
              "  <style>\n",
              "    .colab-df-container {\n",
              "      display:flex;\n",
              "      gap: 12px;\n",
              "    }\n",
              "\n",
              "    .colab-df-convert {\n",
              "      background-color: #E8F0FE;\n",
              "      border: none;\n",
              "      border-radius: 50%;\n",
              "      cursor: pointer;\n",
              "      display: none;\n",
              "      fill: #1967D2;\n",
              "      height: 32px;\n",
              "      padding: 0 0 0 0;\n",
              "      width: 32px;\n",
              "    }\n",
              "\n",
              "    .colab-df-convert:hover {\n",
              "      background-color: #E2EBFA;\n",
              "      box-shadow: 0px 1px 2px rgba(60, 64, 67, 0.3), 0px 1px 3px 1px rgba(60, 64, 67, 0.15);\n",
              "      fill: #174EA6;\n",
              "    }\n",
              "\n",
              "    .colab-df-buttons div {\n",
              "      margin-bottom: 4px;\n",
              "    }\n",
              "\n",
              "    [theme=dark] .colab-df-convert {\n",
              "      background-color: #3B4455;\n",
              "      fill: #D2E3FC;\n",
              "    }\n",
              "\n",
              "    [theme=dark] .colab-df-convert:hover {\n",
              "      background-color: #434B5C;\n",
              "      box-shadow: 0px 1px 3px 1px rgba(0, 0, 0, 0.15);\n",
              "      filter: drop-shadow(0px 1px 2px rgba(0, 0, 0, 0.3));\n",
              "      fill: #FFFFFF;\n",
              "    }\n",
              "  </style>\n",
              "\n",
              "    <script>\n",
              "      const buttonEl =\n",
              "        document.querySelector('#df-a17de568-e6e7-4fe3-9e06-4559c5f36549 button.colab-df-convert');\n",
              "      buttonEl.style.display =\n",
              "        google.colab.kernel.accessAllowed ? 'block' : 'none';\n",
              "\n",
              "      async function convertToInteractive(key) {\n",
              "        const element = document.querySelector('#df-a17de568-e6e7-4fe3-9e06-4559c5f36549');\n",
              "        const dataTable =\n",
              "          await google.colab.kernel.invokeFunction('convertToInteractive',\n",
              "                                                    [key], {});\n",
              "        if (!dataTable) return;\n",
              "\n",
              "        const docLinkHtml = 'Like what you see? Visit the ' +\n",
              "          '<a target=\"_blank\" href=https://colab.research.google.com/notebooks/data_table.ipynb>data table notebook</a>'\n",
              "          + ' to learn more about interactive tables.';\n",
              "        element.innerHTML = '';\n",
              "        dataTable['output_type'] = 'display_data';\n",
              "        await google.colab.output.renderOutput(dataTable, element);\n",
              "        const docLink = document.createElement('div');\n",
              "        docLink.innerHTML = docLinkHtml;\n",
              "        element.appendChild(docLink);\n",
              "      }\n",
              "    </script>\n",
              "  </div>\n",
              "\n",
              "    </div>\n",
              "  </div>\n"
            ],
            "application/vnd.google.colaboratory.intrinsic+json": {
              "type": "dataframe",
              "repr_error": "Out of range float values are not JSON compliant: nan"
            }
          },
          "metadata": {},
          "execution_count": 31
        }
      ]
    },
    {
      "cell_type": "code",
      "source": [
        "test_data_evaluation(train_texts, train_encodings, train_labels, best_model)"
      ],
      "metadata": {
        "colab": {
          "base_uri": "https://localhost:8080/",
          "height": 209
        },
        "id": "stwpUlTWVIq3",
        "outputId": "6897bfda-7f80-4701-8d65-fd9a5cb6f657"
      },
      "execution_count": null,
      "outputs": [
        {
          "output_type": "stream",
          "name": "stdout",
          "text": [
            "Test Loss: 0.0007634387366124429\n",
            "Test Accuracy: 1.0\n",
            "Accuracy: 1.0 \n",
            "\n",
            "Confusion Matrix:\n",
            "[[239   0]\n",
            " [  0 241]] \n",
            "\n",
            "List of Misclassifications:\n"
          ]
        },
        {
          "output_type": "execute_result",
          "data": {
            "text/plain": [
              "Empty DataFrame\n",
              "Columns: [context, true_label, model_predictions]\n",
              "Index: []"
            ],
            "text/html": [
              "\n",
              "  <div id=\"df-ab0f510f-2f3e-4c8f-bd0e-dfcc3b285326\" class=\"colab-df-container\">\n",
              "    <div>\n",
              "<style scoped>\n",
              "    .dataframe tbody tr th:only-of-type {\n",
              "        vertical-align: middle;\n",
              "    }\n",
              "\n",
              "    .dataframe tbody tr th {\n",
              "        vertical-align: top;\n",
              "    }\n",
              "\n",
              "    .dataframe thead th {\n",
              "        text-align: right;\n",
              "    }\n",
              "</style>\n",
              "<table border=\"1\" class=\"dataframe\">\n",
              "  <thead>\n",
              "    <tr style=\"text-align: right;\">\n",
              "      <th></th>\n",
              "      <th>context</th>\n",
              "      <th>true_label</th>\n",
              "      <th>model_predictions</th>\n",
              "    </tr>\n",
              "  </thead>\n",
              "  <tbody>\n",
              "  </tbody>\n",
              "</table>\n",
              "</div>\n",
              "    <div class=\"colab-df-buttons\">\n",
              "\n",
              "  <div class=\"colab-df-container\">\n",
              "    <button class=\"colab-df-convert\" onclick=\"convertToInteractive('df-ab0f510f-2f3e-4c8f-bd0e-dfcc3b285326')\"\n",
              "            title=\"Convert this dataframe to an interactive table.\"\n",
              "            style=\"display:none;\">\n",
              "\n",
              "  <svg xmlns=\"http://www.w3.org/2000/svg\" height=\"24px\" viewBox=\"0 -960 960 960\">\n",
              "    <path d=\"M120-120v-720h720v720H120Zm60-500h600v-160H180v160Zm220 220h160v-160H400v160Zm0 220h160v-160H400v160ZM180-400h160v-160H180v160Zm440 0h160v-160H620v160ZM180-180h160v-160H180v160Zm440 0h160v-160H620v160Z\"/>\n",
              "  </svg>\n",
              "    </button>\n",
              "\n",
              "  <style>\n",
              "    .colab-df-container {\n",
              "      display:flex;\n",
              "      gap: 12px;\n",
              "    }\n",
              "\n",
              "    .colab-df-convert {\n",
              "      background-color: #E8F0FE;\n",
              "      border: none;\n",
              "      border-radius: 50%;\n",
              "      cursor: pointer;\n",
              "      display: none;\n",
              "      fill: #1967D2;\n",
              "      height: 32px;\n",
              "      padding: 0 0 0 0;\n",
              "      width: 32px;\n",
              "    }\n",
              "\n",
              "    .colab-df-convert:hover {\n",
              "      background-color: #E2EBFA;\n",
              "      box-shadow: 0px 1px 2px rgba(60, 64, 67, 0.3), 0px 1px 3px 1px rgba(60, 64, 67, 0.15);\n",
              "      fill: #174EA6;\n",
              "    }\n",
              "\n",
              "    .colab-df-buttons div {\n",
              "      margin-bottom: 4px;\n",
              "    }\n",
              "\n",
              "    [theme=dark] .colab-df-convert {\n",
              "      background-color: #3B4455;\n",
              "      fill: #D2E3FC;\n",
              "    }\n",
              "\n",
              "    [theme=dark] .colab-df-convert:hover {\n",
              "      background-color: #434B5C;\n",
              "      box-shadow: 0px 1px 3px 1px rgba(0, 0, 0, 0.15);\n",
              "      filter: drop-shadow(0px 1px 2px rgba(0, 0, 0, 0.3));\n",
              "      fill: #FFFFFF;\n",
              "    }\n",
              "  </style>\n",
              "\n",
              "    <script>\n",
              "      const buttonEl =\n",
              "        document.querySelector('#df-ab0f510f-2f3e-4c8f-bd0e-dfcc3b285326 button.colab-df-convert');\n",
              "      buttonEl.style.display =\n",
              "        google.colab.kernel.accessAllowed ? 'block' : 'none';\n",
              "\n",
              "      async function convertToInteractive(key) {\n",
              "        const element = document.querySelector('#df-ab0f510f-2f3e-4c8f-bd0e-dfcc3b285326');\n",
              "        const dataTable =\n",
              "          await google.colab.kernel.invokeFunction('convertToInteractive',\n",
              "                                                    [key], {});\n",
              "        if (!dataTable) return;\n",
              "\n",
              "        const docLinkHtml = 'Like what you see? Visit the ' +\n",
              "          '<a target=\"_blank\" href=https://colab.research.google.com/notebooks/data_table.ipynb>data table notebook</a>'\n",
              "          + ' to learn more about interactive tables.';\n",
              "        element.innerHTML = '';\n",
              "        dataTable['output_type'] = 'display_data';\n",
              "        await google.colab.output.renderOutput(dataTable, element);\n",
              "        const docLink = document.createElement('div');\n",
              "        docLink.innerHTML = docLinkHtml;\n",
              "        element.appendChild(docLink);\n",
              "      }\n",
              "    </script>\n",
              "  </div>\n",
              "\n",
              "    </div>\n",
              "  </div>\n"
            ],
            "application/vnd.google.colaboratory.intrinsic+json": {
              "type": "dataframe",
              "repr_error": "Out of range float values are not JSON compliant: nan"
            }
          },
          "metadata": {},
          "execution_count": 32
        }
      ]
    },
    {
      "cell_type": "markdown",
      "source": [
        "#### Export The Fine-Tuned Model"
      ],
      "metadata": {
        "id": "1uTJmzjOZg9k"
      }
    },
    {
      "cell_type": "code",
      "source": [
        "# # Uncomment if export is needed\n",
        "# torch.save(model.state_dict(), fine_tuned_model_name)\n",
        "# tokenizer.save_pretrained(tokenizer_directory_name)"
      ],
      "metadata": {
        "id": "pK4iuPdUZgk8"
      },
      "execution_count": null,
      "outputs": []
    },
    {
      "cell_type": "code",
      "source": [
        "from google.colab import drive\n",
        "drive.mount('/content/drive')"
      ],
      "metadata": {
        "colab": {
          "base_uri": "https://localhost:8080/"
        },
        "id": "6ZM-sfpuAbgY",
        "outputId": "75b6ed78-266f-4d57-ac4c-96859816b242"
      },
      "execution_count": null,
      "outputs": [
        {
          "output_type": "stream",
          "name": "stdout",
          "text": [
            "Mounted at /content/drive\n"
          ]
        }
      ]
    },
    {
      "cell_type": "markdown",
      "source": [
        "# Testing model import for pipeline"
      ],
      "metadata": {
        "id": "kXHC4vlF7qeM"
      }
    },
    {
      "cell_type": "markdown",
      "source": [
        "### Knowledge Assesment"
      ],
      "metadata": {
        "id": "_i7EsG6eQI39"
      }
    },
    {
      "cell_type": "code",
      "source": [
        "import spacy\n",
        "from transformers import pipeline"
      ],
      "metadata": {
        "id": "c2Hbz6_sIFQe"
      },
      "execution_count": null,
      "outputs": []
    },
    {
      "cell_type": "code",
      "source": [
        "#Function to load skill extraction pipeline\n",
        "def load_skill_extraction_pipeline():\n",
        "    \"\"\"\n",
        "    Load a BERT-based Named Entity Recognition (NER) model for skills extraction.\n",
        "\n",
        "    Returns:\n",
        "        pipeline: A pipeline object for skill extraction using the loaded NER model.\n",
        "                  Returns None if an error occurs during loading.\n",
        "    \"\"\"\n",
        "    try:\n",
        "        model_name = \"GalalEwida/LLM-BERT-Model-Based-Skills-Extraction-from-jobdescription\"\n",
        "        ner = pipeline(task=\"ner\", model=model_name)\n",
        "        print(\"NER for skills extraction loaded loaded successflly.\")\n",
        "        return ner\n",
        "    except Exception as e:\n",
        "        raise Exception(\"Error occurred while loading the skill extraction pipeline:\", e)\n",
        "        return None"
      ],
      "metadata": {
        "id": "eF5W75fpYADT"
      },
      "execution_count": null,
      "outputs": []
    },
    {
      "cell_type": "code",
      "source": [
        "# Function to extract skills from text using the NER model\n",
        "def extract_skills(input, ner):\n",
        "    \"\"\"\n",
        "    Extract skills from the given input text using the provided NER model.\n",
        "\n",
        "    Args:\n",
        "        input (str): The input text from which skills are to be extracted.\n",
        "        ner (pipeline): The NER model pipeline for skill extraction.\n",
        "\n",
        "    Returns:\n",
        "        list: A list of extracted skills. Returns None if an error occurs during extraction.\n",
        "    \"\"\"\n",
        "    try:\n",
        "        predictions = ner(input)\n",
        "        print(\"Skills extracted successfully.\")\n",
        "        return predictions\n",
        "    except Exception as e:\n",
        "        raise Exception(\"Error occurred while extracting skills:\", e)\n",
        "        return None"
      ],
      "metadata": {
        "id": "FW5uZKCZ9usc"
      },
      "execution_count": null,
      "outputs": []
    },
    {
      "cell_type": "code",
      "source": [
        "#function to turn the raw output to a list of skills\n",
        "def skill_preprocessing(input):\n",
        "    \"\"\"\n",
        "    Preprocess the output of the skill extraction model.\n",
        "\n",
        "    Args:\n",
        "        input (list): A list of dictionaries representing the output of the skill extraction model.\n",
        "                      Each dictionary contains 'word' and 'entity' keys representing a predicted token and its entity label.\n",
        "\n",
        "    Returns:\n",
        "        list: A list of unique skills extracted from the input.\n",
        "              Returns None if an error occurs during preprocessing.\n",
        "    \"\"\"\n",
        "    try:\n",
        "        skill_set = set()\n",
        "        current_skill = None\n",
        "        for element in input:\n",
        "            word = element.get('word')\n",
        "            entity_label = element.get('entity')\n",
        "            if word is None or entity_label is None:\n",
        "                continue\n",
        "            if entity_label.startswith('B'):\n",
        "                if current_skill:\n",
        "                    skill_set.add(current_skill)\n",
        "                current_skill = word\n",
        "            elif entity_label.startswith('I'):\n",
        "                if current_skill:\n",
        "                    if '##' in word:\n",
        "                        word = word.replace('##', '')\n",
        "                        current_skill += word\n",
        "                    else:\n",
        "                        current_skill += ' ' + word\n",
        "        if current_skill:\n",
        "            skill_set.add(current_skill)\n",
        "        print(\"Skill set extraced successfully.\")\n",
        "        return list(skill_set)\n",
        "    except Exception as e:\n",
        "        print(\"Error occurred during skill preprocessing:\", e)\n",
        "        return None"
      ],
      "metadata": {
        "id": "sNWfa_9Y9ujy"
      },
      "execution_count": null,
      "outputs": []
    },
    {
      "cell_type": "code",
      "source": [
        "# Extract entities related to the topic\n",
        "def sentence_extraction(doc, skill_set):\n",
        "    doc = nlp(doc)\n",
        "    topic_sentences = {}\n",
        "    for skill in skill_set:\n",
        "      topic_sentences[skill] = [sent.text for sent in doc.sents if skill in sent.text.lower()]\n",
        "    print(\"Entities related to skills extracted successfully.\")\n",
        "    return topic_sentences"
      ],
      "metadata": {
        "id": "sD-c0trUfDUH"
      },
      "execution_count": null,
      "outputs": []
    },
    {
      "cell_type": "code",
      "source": [
        "def classify_this(text):\n",
        "    inputs = tokenizer.encode_plus(text, add_special_tokens=True, return_tensors='pt')\n",
        "    input_ids = inputs['input_ids'].to(device)\n",
        "    attention_mask = inputs['attention_mask'].to(device)\n",
        "\n",
        "    with torch.no_grad():\n",
        "        raw_scores = model(input_ids, attention_mask)\n",
        "        print(f'Raw scores for both classes (positive and negative) = {raw_scores}')\n",
        "\n",
        "    probabilities = torch.sigmoid(raw_scores).item()\n",
        "    # logger.info(f'probabilities: {probabilities}')\n",
        "\n",
        "    # here we could introduce multi-classification\n",
        "    prediction = 1 if probabilities > 0.5 else 0\n",
        "    # logger.info(f'prediction: {prediction}')\n",
        "\n",
        "    return prediction, probabilities"
      ],
      "metadata": {
        "id": "bHYxbbYx-qJw"
      },
      "execution_count": null,
      "outputs": []
    },
    {
      "cell_type": "code",
      "source": [
        "def run_pipeline(text):\n",
        "\n",
        "    predictions = extract_skills(text, ner)\n",
        "    skill_list = skill_preprocessing(predictions)\n",
        "\n",
        "    topic_sentences = sentence_extraction(text, skill_list)\n",
        "\n",
        "    print(\"Classifying ...\")\n",
        "\n",
        "    for skill, sentences in topic_sentences.items():\n",
        "        for sentence in sentences:\n",
        "            prediction, probability = classify_this(sentence)\n",
        "            print('Skill:', skill)\n",
        "            print('Sentence:', sentence)\n",
        "            print('Prediction:', prediction)\n",
        "            print('Probability:', probability, '\\n')"
      ],
      "metadata": {
        "id": "JhZzjJ0RXogL"
      },
      "execution_count": null,
      "outputs": []
    },
    {
      "cell_type": "code",
      "source": [
        "# Initialize global variables\n",
        "ner = load_skill_extraction_pipeline()\n",
        "nlp = spacy.load(\"en_core_web_sm\")\n",
        "model = best_model\n",
        "tokenizer = pretrained_tokenizer"
      ],
      "metadata": {
        "id": "upobiW8ZYZ1_",
        "colab": {
          "base_uri": "https://localhost:8080/"
        },
        "outputId": "47e14a1b-5c6e-48d4-c887-16d71af6f85d"
      },
      "execution_count": null,
      "outputs": [
        {
          "output_type": "stream",
          "name": "stdout",
          "text": [
            "NER for skills extraction loaded loaded successflly.\n"
          ]
        }
      ]
    },
    {
      "cell_type": "code",
      "source": [
        "text1 = '''I've heard the term machine learning before, but I must admit that I don't have extensive knowledge about them.'''"
      ],
      "metadata": {
        "id": "3YWde8U2_XFw"
      },
      "execution_count": null,
      "outputs": []
    },
    {
      "cell_type": "code",
      "source": [
        "run_pipeline(text1)"
      ],
      "metadata": {
        "colab": {
          "base_uri": "https://localhost:8080/"
        },
        "id": "OBU4XHPeDwFk",
        "outputId": "333e4b0c-5454-4ac0-8930-2a9e906d3bd8"
      },
      "execution_count": null,
      "outputs": [
        {
          "output_type": "stream",
          "name": "stdout",
          "text": [
            "Skills extracted successfully.\n",
            "Skill set extraced successfully.\n",
            "Entities related to skills extracted successfully.\n",
            "Classifying ...\n",
            "Raw scores for both classes (positive and negative) = tensor([[-6.4422]], device='cuda:0')\n",
            "Skill: machine learning\n",
            "Sentence: I've heard the term machine learning before, but I must admit that I don't have extensive knowledge about them.\n",
            "Prediction: 0\n",
            "Probability: 0.0015903905732557178 \n",
            "\n"
          ]
        }
      ]
    },
    {
      "cell_type": "code",
      "source": [
        "text3 = \"For example, in a project I worked on during my studies, I used a machine learning to classify different types of fruits from images.\""
      ],
      "metadata": {
        "id": "oB-ICXop_ayk"
      },
      "execution_count": null,
      "outputs": []
    },
    {
      "cell_type": "code",
      "source": [
        "run_pipeline(text3)"
      ],
      "metadata": {
        "colab": {
          "base_uri": "https://localhost:8080/"
        },
        "id": "gSi960M5_xF8",
        "outputId": "a7984b1d-7946-46ba-a65d-33ecf364e5a3"
      },
      "execution_count": null,
      "outputs": [
        {
          "output_type": "stream",
          "name": "stdout",
          "text": [
            "Skills extracted successfully.\n",
            "Skill set extraced successfully.\n",
            "Entities related to skills extracted successfully.\n",
            "Classifying ...\n",
            "Raw scores for both classes (positive and negative) = tensor([[6.7465]], device='cuda:0')\n",
            "Skill: machine learning\n",
            "Sentence: For example, in a project I worked on during my studies, I used a machine learning to classify different types of fruits from images.\n",
            "Prediction: 1\n",
            "Probability: 0.9988264441490173 \n",
            "\n"
          ]
        }
      ]
    },
    {
      "cell_type": "code",
      "source": [
        "text2 = '''i know computer science because i contributed to a computer science project'''\n",
        "run_pipeline(text2)"
      ],
      "metadata": {
        "colab": {
          "base_uri": "https://localhost:8080/"
        },
        "id": "9CdRAPIdCNtq",
        "outputId": "98864903-92de-46f2-d6e8-f52f33cdb6b5"
      },
      "execution_count": null,
      "outputs": [
        {
          "output_type": "stream",
          "name": "stdout",
          "text": [
            "Skills extracted successfully.\n",
            "Skill set extraced successfully.\n",
            "Entities related to skills extracted successfully.\n",
            "Classifying ...\n",
            "Raw scores for both classes (positive and negative) = tensor([[6.5549]], device='cuda:0')\n",
            "Skill: computer science\n",
            "Sentence: i know computer science because i contributed to a computer science project\n",
            "Prediction: 1\n",
            "Probability: 0.9985789060592651 \n",
            "\n"
          ]
        }
      ]
    },
    {
      "cell_type": "code",
      "source": [
        "text2 = '''neural networks is something i am familiar with, since i worked with it in the past'''\n",
        "run_pipeline(text2)"
      ],
      "metadata": {
        "colab": {
          "base_uri": "https://localhost:8080/"
        },
        "id": "8N61xQ3-CPgP",
        "outputId": "8a906003-019a-4b0a-bc3a-11107d813f6f"
      },
      "execution_count": null,
      "outputs": [
        {
          "output_type": "stream",
          "name": "stdout",
          "text": [
            "Skills extracted successfully.\n",
            "Skill set extraced successfully.\n",
            "Entities related to skills extracted successfully.\n",
            "Classifying ...\n",
            "Raw scores for both classes (positive and negative) = tensor([[-6.3850]], device='cuda:0')\n",
            "Skill: neural networks\n",
            "Sentence: neural networks is something i am familiar with, since i worked with it in the past\n",
            "Prediction: 0\n",
            "Probability: 0.0016837703296914697 \n",
            "\n"
          ]
        }
      ]
    },
    {
      "cell_type": "code",
      "source": [
        "text2 = '''i know computer science'''\n",
        "run_pipeline(text2)"
      ],
      "metadata": {
        "colab": {
          "base_uri": "https://localhost:8080/"
        },
        "id": "MWFMOpomB9a5",
        "outputId": "1252eb74-0c91-416f-94f4-edebac332231"
      },
      "execution_count": null,
      "outputs": [
        {
          "output_type": "stream",
          "name": "stdout",
          "text": [
            "Skills extracted successfully.\n",
            "Skill set extraced successfully.\n",
            "Entities related to skills extracted successfully.\n",
            "Classifying ...\n",
            "Raw scores for both classes (positive and negative) = tensor([[6.5411]], device='cuda:0')\n",
            "Skill: computer science\n",
            "Sentence: i know computer science\n",
            "Prediction: 1\n",
            "Probability: 0.9985591769218445 \n",
            "\n"
          ]
        }
      ]
    },
    {
      "cell_type": "code",
      "source": [],
      "metadata": {
        "id": "8WtwfWiKCRHV"
      },
      "execution_count": null,
      "outputs": []
    }
  ]
}