{
  "nbformat": 4,
  "nbformat_minor": 0,
  "metadata": {
    "colab": {
      "provenance": [],
      "gpuType": "L4"
    },
    "kernelspec": {
      "name": "python3",
      "display_name": "Python 3"
    },
    "language_info": {
      "name": "python"
    },
    "widgets": {
      "application/vnd.jupyter.widget-state+json": {
        "7ebddf2bd9804490af8a1e72fa6c1fc8": {
          "model_module": "@jupyter-widgets/controls",
          "model_name": "HBoxModel",
          "model_module_version": "1.5.0",
          "state": {
            "_dom_classes": [],
            "_model_module": "@jupyter-widgets/controls",
            "_model_module_version": "1.5.0",
            "_model_name": "HBoxModel",
            "_view_count": null,
            "_view_module": "@jupyter-widgets/controls",
            "_view_module_version": "1.5.0",
            "_view_name": "HBoxView",
            "box_style": "",
            "children": [
              "IPY_MODEL_48b12509611d48c6b872ac7e6f04cafd",
              "IPY_MODEL_84b1019b31bd46b2ac9e7726f586a1b2",
              "IPY_MODEL_02f61df53f624eca9c702bca0b57ba4c"
            ],
            "layout": "IPY_MODEL_6e8fd1d0eaba4ddd910e0320a5e5dce0"
          }
        },
        "48b12509611d48c6b872ac7e6f04cafd": {
          "model_module": "@jupyter-widgets/controls",
          "model_name": "HTMLModel",
          "model_module_version": "1.5.0",
          "state": {
            "_dom_classes": [],
            "_model_module": "@jupyter-widgets/controls",
            "_model_module_version": "1.5.0",
            "_model_name": "HTMLModel",
            "_view_count": null,
            "_view_module": "@jupyter-widgets/controls",
            "_view_module_version": "1.5.0",
            "_view_name": "HTMLView",
            "description": "",
            "description_tooltip": null,
            "layout": "IPY_MODEL_10fadc3dc49441f49733790b84dd62f8",
            "placeholder": "​",
            "style": "IPY_MODEL_8660d838777540319e47f021fb147b4c",
            "value": "tokenizer_config.json: 100%"
          }
        },
        "84b1019b31bd46b2ac9e7726f586a1b2": {
          "model_module": "@jupyter-widgets/controls",
          "model_name": "FloatProgressModel",
          "model_module_version": "1.5.0",
          "state": {
            "_dom_classes": [],
            "_model_module": "@jupyter-widgets/controls",
            "_model_module_version": "1.5.0",
            "_model_name": "FloatProgressModel",
            "_view_count": null,
            "_view_module": "@jupyter-widgets/controls",
            "_view_module_version": "1.5.0",
            "_view_name": "ProgressView",
            "bar_style": "success",
            "description": "",
            "description_tooltip": null,
            "layout": "IPY_MODEL_5ba1c5d931e545fba19a31f0c68101af",
            "max": 48,
            "min": 0,
            "orientation": "horizontal",
            "style": "IPY_MODEL_08589c3eafd5418e8a54921103033746",
            "value": 48
          }
        },
        "02f61df53f624eca9c702bca0b57ba4c": {
          "model_module": "@jupyter-widgets/controls",
          "model_name": "HTMLModel",
          "model_module_version": "1.5.0",
          "state": {
            "_dom_classes": [],
            "_model_module": "@jupyter-widgets/controls",
            "_model_module_version": "1.5.0",
            "_model_name": "HTMLModel",
            "_view_count": null,
            "_view_module": "@jupyter-widgets/controls",
            "_view_module_version": "1.5.0",
            "_view_name": "HTMLView",
            "description": "",
            "description_tooltip": null,
            "layout": "IPY_MODEL_9b06e36165e749e08c87a7e21a6ffbe1",
            "placeholder": "​",
            "style": "IPY_MODEL_1c4a07339b864374ae582df4a568b51e",
            "value": " 48.0/48.0 [00:00&lt;00:00, 3.67kB/s]"
          }
        },
        "6e8fd1d0eaba4ddd910e0320a5e5dce0": {
          "model_module": "@jupyter-widgets/base",
          "model_name": "LayoutModel",
          "model_module_version": "1.2.0",
          "state": {
            "_model_module": "@jupyter-widgets/base",
            "_model_module_version": "1.2.0",
            "_model_name": "LayoutModel",
            "_view_count": null,
            "_view_module": "@jupyter-widgets/base",
            "_view_module_version": "1.2.0",
            "_view_name": "LayoutView",
            "align_content": null,
            "align_items": null,
            "align_self": null,
            "border": null,
            "bottom": null,
            "display": null,
            "flex": null,
            "flex_flow": null,
            "grid_area": null,
            "grid_auto_columns": null,
            "grid_auto_flow": null,
            "grid_auto_rows": null,
            "grid_column": null,
            "grid_gap": null,
            "grid_row": null,
            "grid_template_areas": null,
            "grid_template_columns": null,
            "grid_template_rows": null,
            "height": null,
            "justify_content": null,
            "justify_items": null,
            "left": null,
            "margin": null,
            "max_height": null,
            "max_width": null,
            "min_height": null,
            "min_width": null,
            "object_fit": null,
            "object_position": null,
            "order": null,
            "overflow": null,
            "overflow_x": null,
            "overflow_y": null,
            "padding": null,
            "right": null,
            "top": null,
            "visibility": null,
            "width": null
          }
        },
        "10fadc3dc49441f49733790b84dd62f8": {
          "model_module": "@jupyter-widgets/base",
          "model_name": "LayoutModel",
          "model_module_version": "1.2.0",
          "state": {
            "_model_module": "@jupyter-widgets/base",
            "_model_module_version": "1.2.0",
            "_model_name": "LayoutModel",
            "_view_count": null,
            "_view_module": "@jupyter-widgets/base",
            "_view_module_version": "1.2.0",
            "_view_name": "LayoutView",
            "align_content": null,
            "align_items": null,
            "align_self": null,
            "border": null,
            "bottom": null,
            "display": null,
            "flex": null,
            "flex_flow": null,
            "grid_area": null,
            "grid_auto_columns": null,
            "grid_auto_flow": null,
            "grid_auto_rows": null,
            "grid_column": null,
            "grid_gap": null,
            "grid_row": null,
            "grid_template_areas": null,
            "grid_template_columns": null,
            "grid_template_rows": null,
            "height": null,
            "justify_content": null,
            "justify_items": null,
            "left": null,
            "margin": null,
            "max_height": null,
            "max_width": null,
            "min_height": null,
            "min_width": null,
            "object_fit": null,
            "object_position": null,
            "order": null,
            "overflow": null,
            "overflow_x": null,
            "overflow_y": null,
            "padding": null,
            "right": null,
            "top": null,
            "visibility": null,
            "width": null
          }
        },
        "8660d838777540319e47f021fb147b4c": {
          "model_module": "@jupyter-widgets/controls",
          "model_name": "DescriptionStyleModel",
          "model_module_version": "1.5.0",
          "state": {
            "_model_module": "@jupyter-widgets/controls",
            "_model_module_version": "1.5.0",
            "_model_name": "DescriptionStyleModel",
            "_view_count": null,
            "_view_module": "@jupyter-widgets/base",
            "_view_module_version": "1.2.0",
            "_view_name": "StyleView",
            "description_width": ""
          }
        },
        "5ba1c5d931e545fba19a31f0c68101af": {
          "model_module": "@jupyter-widgets/base",
          "model_name": "LayoutModel",
          "model_module_version": "1.2.0",
          "state": {
            "_model_module": "@jupyter-widgets/base",
            "_model_module_version": "1.2.0",
            "_model_name": "LayoutModel",
            "_view_count": null,
            "_view_module": "@jupyter-widgets/base",
            "_view_module_version": "1.2.0",
            "_view_name": "LayoutView",
            "align_content": null,
            "align_items": null,
            "align_self": null,
            "border": null,
            "bottom": null,
            "display": null,
            "flex": null,
            "flex_flow": null,
            "grid_area": null,
            "grid_auto_columns": null,
            "grid_auto_flow": null,
            "grid_auto_rows": null,
            "grid_column": null,
            "grid_gap": null,
            "grid_row": null,
            "grid_template_areas": null,
            "grid_template_columns": null,
            "grid_template_rows": null,
            "height": null,
            "justify_content": null,
            "justify_items": null,
            "left": null,
            "margin": null,
            "max_height": null,
            "max_width": null,
            "min_height": null,
            "min_width": null,
            "object_fit": null,
            "object_position": null,
            "order": null,
            "overflow": null,
            "overflow_x": null,
            "overflow_y": null,
            "padding": null,
            "right": null,
            "top": null,
            "visibility": null,
            "width": null
          }
        },
        "08589c3eafd5418e8a54921103033746": {
          "model_module": "@jupyter-widgets/controls",
          "model_name": "ProgressStyleModel",
          "model_module_version": "1.5.0",
          "state": {
            "_model_module": "@jupyter-widgets/controls",
            "_model_module_version": "1.5.0",
            "_model_name": "ProgressStyleModel",
            "_view_count": null,
            "_view_module": "@jupyter-widgets/base",
            "_view_module_version": "1.2.0",
            "_view_name": "StyleView",
            "bar_color": null,
            "description_width": ""
          }
        },
        "9b06e36165e749e08c87a7e21a6ffbe1": {
          "model_module": "@jupyter-widgets/base",
          "model_name": "LayoutModel",
          "model_module_version": "1.2.0",
          "state": {
            "_model_module": "@jupyter-widgets/base",
            "_model_module_version": "1.2.0",
            "_model_name": "LayoutModel",
            "_view_count": null,
            "_view_module": "@jupyter-widgets/base",
            "_view_module_version": "1.2.0",
            "_view_name": "LayoutView",
            "align_content": null,
            "align_items": null,
            "align_self": null,
            "border": null,
            "bottom": null,
            "display": null,
            "flex": null,
            "flex_flow": null,
            "grid_area": null,
            "grid_auto_columns": null,
            "grid_auto_flow": null,
            "grid_auto_rows": null,
            "grid_column": null,
            "grid_gap": null,
            "grid_row": null,
            "grid_template_areas": null,
            "grid_template_columns": null,
            "grid_template_rows": null,
            "height": null,
            "justify_content": null,
            "justify_items": null,
            "left": null,
            "margin": null,
            "max_height": null,
            "max_width": null,
            "min_height": null,
            "min_width": null,
            "object_fit": null,
            "object_position": null,
            "order": null,
            "overflow": null,
            "overflow_x": null,
            "overflow_y": null,
            "padding": null,
            "right": null,
            "top": null,
            "visibility": null,
            "width": null
          }
        },
        "1c4a07339b864374ae582df4a568b51e": {
          "model_module": "@jupyter-widgets/controls",
          "model_name": "DescriptionStyleModel",
          "model_module_version": "1.5.0",
          "state": {
            "_model_module": "@jupyter-widgets/controls",
            "_model_module_version": "1.5.0",
            "_model_name": "DescriptionStyleModel",
            "_view_count": null,
            "_view_module": "@jupyter-widgets/base",
            "_view_module_version": "1.2.0",
            "_view_name": "StyleView",
            "description_width": ""
          }
        },
        "d274c52990a14086900d58cfd5b6e69e": {
          "model_module": "@jupyter-widgets/controls",
          "model_name": "HBoxModel",
          "model_module_version": "1.5.0",
          "state": {
            "_dom_classes": [],
            "_model_module": "@jupyter-widgets/controls",
            "_model_module_version": "1.5.0",
            "_model_name": "HBoxModel",
            "_view_count": null,
            "_view_module": "@jupyter-widgets/controls",
            "_view_module_version": "1.5.0",
            "_view_name": "HBoxView",
            "box_style": "",
            "children": [
              "IPY_MODEL_ecdeb2bb5a924cc3b578bf5c8f8755bd",
              "IPY_MODEL_0a244f6ec74749f683d8d840fc2e39cf",
              "IPY_MODEL_e56eecab6d0e4ea3a7cb08c36c70cc2b"
            ],
            "layout": "IPY_MODEL_14ff840386cf49cbaf3fe06a7fdb5e9b"
          }
        },
        "ecdeb2bb5a924cc3b578bf5c8f8755bd": {
          "model_module": "@jupyter-widgets/controls",
          "model_name": "HTMLModel",
          "model_module_version": "1.5.0",
          "state": {
            "_dom_classes": [],
            "_model_module": "@jupyter-widgets/controls",
            "_model_module_version": "1.5.0",
            "_model_name": "HTMLModel",
            "_view_count": null,
            "_view_module": "@jupyter-widgets/controls",
            "_view_module_version": "1.5.0",
            "_view_name": "HTMLView",
            "description": "",
            "description_tooltip": null,
            "layout": "IPY_MODEL_ffa82e5a85f241bcbd95705b0c7311b1",
            "placeholder": "​",
            "style": "IPY_MODEL_ba64c8c65aeb4615b12fe8b5e289f967",
            "value": "vocab.txt: 100%"
          }
        },
        "0a244f6ec74749f683d8d840fc2e39cf": {
          "model_module": "@jupyter-widgets/controls",
          "model_name": "FloatProgressModel",
          "model_module_version": "1.5.0",
          "state": {
            "_dom_classes": [],
            "_model_module": "@jupyter-widgets/controls",
            "_model_module_version": "1.5.0",
            "_model_name": "FloatProgressModel",
            "_view_count": null,
            "_view_module": "@jupyter-widgets/controls",
            "_view_module_version": "1.5.0",
            "_view_name": "ProgressView",
            "bar_style": "success",
            "description": "",
            "description_tooltip": null,
            "layout": "IPY_MODEL_672182fc3dd24614b97d23d787ea1fb2",
            "max": 231508,
            "min": 0,
            "orientation": "horizontal",
            "style": "IPY_MODEL_3580adf908ae4e1cae1e2fdf2394ab79",
            "value": 231508
          }
        },
        "e56eecab6d0e4ea3a7cb08c36c70cc2b": {
          "model_module": "@jupyter-widgets/controls",
          "model_name": "HTMLModel",
          "model_module_version": "1.5.0",
          "state": {
            "_dom_classes": [],
            "_model_module": "@jupyter-widgets/controls",
            "_model_module_version": "1.5.0",
            "_model_name": "HTMLModel",
            "_view_count": null,
            "_view_module": "@jupyter-widgets/controls",
            "_view_module_version": "1.5.0",
            "_view_name": "HTMLView",
            "description": "",
            "description_tooltip": null,
            "layout": "IPY_MODEL_e0079a656135494fb03b969f1e66335a",
            "placeholder": "​",
            "style": "IPY_MODEL_173708c25ee54d1a85c0996c2eb2e744",
            "value": " 232k/232k [00:00&lt;00:00, 1.40MB/s]"
          }
        },
        "14ff840386cf49cbaf3fe06a7fdb5e9b": {
          "model_module": "@jupyter-widgets/base",
          "model_name": "LayoutModel",
          "model_module_version": "1.2.0",
          "state": {
            "_model_module": "@jupyter-widgets/base",
            "_model_module_version": "1.2.0",
            "_model_name": "LayoutModel",
            "_view_count": null,
            "_view_module": "@jupyter-widgets/base",
            "_view_module_version": "1.2.0",
            "_view_name": "LayoutView",
            "align_content": null,
            "align_items": null,
            "align_self": null,
            "border": null,
            "bottom": null,
            "display": null,
            "flex": null,
            "flex_flow": null,
            "grid_area": null,
            "grid_auto_columns": null,
            "grid_auto_flow": null,
            "grid_auto_rows": null,
            "grid_column": null,
            "grid_gap": null,
            "grid_row": null,
            "grid_template_areas": null,
            "grid_template_columns": null,
            "grid_template_rows": null,
            "height": null,
            "justify_content": null,
            "justify_items": null,
            "left": null,
            "margin": null,
            "max_height": null,
            "max_width": null,
            "min_height": null,
            "min_width": null,
            "object_fit": null,
            "object_position": null,
            "order": null,
            "overflow": null,
            "overflow_x": null,
            "overflow_y": null,
            "padding": null,
            "right": null,
            "top": null,
            "visibility": null,
            "width": null
          }
        },
        "ffa82e5a85f241bcbd95705b0c7311b1": {
          "model_module": "@jupyter-widgets/base",
          "model_name": "LayoutModel",
          "model_module_version": "1.2.0",
          "state": {
            "_model_module": "@jupyter-widgets/base",
            "_model_module_version": "1.2.0",
            "_model_name": "LayoutModel",
            "_view_count": null,
            "_view_module": "@jupyter-widgets/base",
            "_view_module_version": "1.2.0",
            "_view_name": "LayoutView",
            "align_content": null,
            "align_items": null,
            "align_self": null,
            "border": null,
            "bottom": null,
            "display": null,
            "flex": null,
            "flex_flow": null,
            "grid_area": null,
            "grid_auto_columns": null,
            "grid_auto_flow": null,
            "grid_auto_rows": null,
            "grid_column": null,
            "grid_gap": null,
            "grid_row": null,
            "grid_template_areas": null,
            "grid_template_columns": null,
            "grid_template_rows": null,
            "height": null,
            "justify_content": null,
            "justify_items": null,
            "left": null,
            "margin": null,
            "max_height": null,
            "max_width": null,
            "min_height": null,
            "min_width": null,
            "object_fit": null,
            "object_position": null,
            "order": null,
            "overflow": null,
            "overflow_x": null,
            "overflow_y": null,
            "padding": null,
            "right": null,
            "top": null,
            "visibility": null,
            "width": null
          }
        },
        "ba64c8c65aeb4615b12fe8b5e289f967": {
          "model_module": "@jupyter-widgets/controls",
          "model_name": "DescriptionStyleModel",
          "model_module_version": "1.5.0",
          "state": {
            "_model_module": "@jupyter-widgets/controls",
            "_model_module_version": "1.5.0",
            "_model_name": "DescriptionStyleModel",
            "_view_count": null,
            "_view_module": "@jupyter-widgets/base",
            "_view_module_version": "1.2.0",
            "_view_name": "StyleView",
            "description_width": ""
          }
        },
        "672182fc3dd24614b97d23d787ea1fb2": {
          "model_module": "@jupyter-widgets/base",
          "model_name": "LayoutModel",
          "model_module_version": "1.2.0",
          "state": {
            "_model_module": "@jupyter-widgets/base",
            "_model_module_version": "1.2.0",
            "_model_name": "LayoutModel",
            "_view_count": null,
            "_view_module": "@jupyter-widgets/base",
            "_view_module_version": "1.2.0",
            "_view_name": "LayoutView",
            "align_content": null,
            "align_items": null,
            "align_self": null,
            "border": null,
            "bottom": null,
            "display": null,
            "flex": null,
            "flex_flow": null,
            "grid_area": null,
            "grid_auto_columns": null,
            "grid_auto_flow": null,
            "grid_auto_rows": null,
            "grid_column": null,
            "grid_gap": null,
            "grid_row": null,
            "grid_template_areas": null,
            "grid_template_columns": null,
            "grid_template_rows": null,
            "height": null,
            "justify_content": null,
            "justify_items": null,
            "left": null,
            "margin": null,
            "max_height": null,
            "max_width": null,
            "min_height": null,
            "min_width": null,
            "object_fit": null,
            "object_position": null,
            "order": null,
            "overflow": null,
            "overflow_x": null,
            "overflow_y": null,
            "padding": null,
            "right": null,
            "top": null,
            "visibility": null,
            "width": null
          }
        },
        "3580adf908ae4e1cae1e2fdf2394ab79": {
          "model_module": "@jupyter-widgets/controls",
          "model_name": "ProgressStyleModel",
          "model_module_version": "1.5.0",
          "state": {
            "_model_module": "@jupyter-widgets/controls",
            "_model_module_version": "1.5.0",
            "_model_name": "ProgressStyleModel",
            "_view_count": null,
            "_view_module": "@jupyter-widgets/base",
            "_view_module_version": "1.2.0",
            "_view_name": "StyleView",
            "bar_color": null,
            "description_width": ""
          }
        },
        "e0079a656135494fb03b969f1e66335a": {
          "model_module": "@jupyter-widgets/base",
          "model_name": "LayoutModel",
          "model_module_version": "1.2.0",
          "state": {
            "_model_module": "@jupyter-widgets/base",
            "_model_module_version": "1.2.0",
            "_model_name": "LayoutModel",
            "_view_count": null,
            "_view_module": "@jupyter-widgets/base",
            "_view_module_version": "1.2.0",
            "_view_name": "LayoutView",
            "align_content": null,
            "align_items": null,
            "align_self": null,
            "border": null,
            "bottom": null,
            "display": null,
            "flex": null,
            "flex_flow": null,
            "grid_area": null,
            "grid_auto_columns": null,
            "grid_auto_flow": null,
            "grid_auto_rows": null,
            "grid_column": null,
            "grid_gap": null,
            "grid_row": null,
            "grid_template_areas": null,
            "grid_template_columns": null,
            "grid_template_rows": null,
            "height": null,
            "justify_content": null,
            "justify_items": null,
            "left": null,
            "margin": null,
            "max_height": null,
            "max_width": null,
            "min_height": null,
            "min_width": null,
            "object_fit": null,
            "object_position": null,
            "order": null,
            "overflow": null,
            "overflow_x": null,
            "overflow_y": null,
            "padding": null,
            "right": null,
            "top": null,
            "visibility": null,
            "width": null
          }
        },
        "173708c25ee54d1a85c0996c2eb2e744": {
          "model_module": "@jupyter-widgets/controls",
          "model_name": "DescriptionStyleModel",
          "model_module_version": "1.5.0",
          "state": {
            "_model_module": "@jupyter-widgets/controls",
            "_model_module_version": "1.5.0",
            "_model_name": "DescriptionStyleModel",
            "_view_count": null,
            "_view_module": "@jupyter-widgets/base",
            "_view_module_version": "1.2.0",
            "_view_name": "StyleView",
            "description_width": ""
          }
        },
        "d1251bf8a7274a37bffefe870fff659d": {
          "model_module": "@jupyter-widgets/controls",
          "model_name": "HBoxModel",
          "model_module_version": "1.5.0",
          "state": {
            "_dom_classes": [],
            "_model_module": "@jupyter-widgets/controls",
            "_model_module_version": "1.5.0",
            "_model_name": "HBoxModel",
            "_view_count": null,
            "_view_module": "@jupyter-widgets/controls",
            "_view_module_version": "1.5.0",
            "_view_name": "HBoxView",
            "box_style": "",
            "children": [
              "IPY_MODEL_2ef183e276ec4a98a46aafce144efb96",
              "IPY_MODEL_dade7329e4ab4dd7bf52c98e5a64a314",
              "IPY_MODEL_abb46c42ded74d12a6b831bbec0b787f"
            ],
            "layout": "IPY_MODEL_05253abac1364fdd9123b94423b813c3"
          }
        },
        "2ef183e276ec4a98a46aafce144efb96": {
          "model_module": "@jupyter-widgets/controls",
          "model_name": "HTMLModel",
          "model_module_version": "1.5.0",
          "state": {
            "_dom_classes": [],
            "_model_module": "@jupyter-widgets/controls",
            "_model_module_version": "1.5.0",
            "_model_name": "HTMLModel",
            "_view_count": null,
            "_view_module": "@jupyter-widgets/controls",
            "_view_module_version": "1.5.0",
            "_view_name": "HTMLView",
            "description": "",
            "description_tooltip": null,
            "layout": "IPY_MODEL_a971807c49ae4bb692a8892fccf23d04",
            "placeholder": "​",
            "style": "IPY_MODEL_f84196bf842d45cebf10d7c4cebc9f43",
            "value": "tokenizer.json: 100%"
          }
        },
        "dade7329e4ab4dd7bf52c98e5a64a314": {
          "model_module": "@jupyter-widgets/controls",
          "model_name": "FloatProgressModel",
          "model_module_version": "1.5.0",
          "state": {
            "_dom_classes": [],
            "_model_module": "@jupyter-widgets/controls",
            "_model_module_version": "1.5.0",
            "_model_name": "FloatProgressModel",
            "_view_count": null,
            "_view_module": "@jupyter-widgets/controls",
            "_view_module_version": "1.5.0",
            "_view_name": "ProgressView",
            "bar_style": "success",
            "description": "",
            "description_tooltip": null,
            "layout": "IPY_MODEL_8b5f9e269da14764b37e491f56808a27",
            "max": 466062,
            "min": 0,
            "orientation": "horizontal",
            "style": "IPY_MODEL_cdf4f101543b4ce5bcfd9ad2178a3a9c",
            "value": 466062
          }
        },
        "abb46c42ded74d12a6b831bbec0b787f": {
          "model_module": "@jupyter-widgets/controls",
          "model_name": "HTMLModel",
          "model_module_version": "1.5.0",
          "state": {
            "_dom_classes": [],
            "_model_module": "@jupyter-widgets/controls",
            "_model_module_version": "1.5.0",
            "_model_name": "HTMLModel",
            "_view_count": null,
            "_view_module": "@jupyter-widgets/controls",
            "_view_module_version": "1.5.0",
            "_view_name": "HTMLView",
            "description": "",
            "description_tooltip": null,
            "layout": "IPY_MODEL_681761c5b9b94fe7bebcf9178cb23464",
            "placeholder": "​",
            "style": "IPY_MODEL_83b5945f4e2740409aa330f6656ebcaf",
            "value": " 466k/466k [00:00&lt;00:00, 6.81MB/s]"
          }
        },
        "05253abac1364fdd9123b94423b813c3": {
          "model_module": "@jupyter-widgets/base",
          "model_name": "LayoutModel",
          "model_module_version": "1.2.0",
          "state": {
            "_model_module": "@jupyter-widgets/base",
            "_model_module_version": "1.2.0",
            "_model_name": "LayoutModel",
            "_view_count": null,
            "_view_module": "@jupyter-widgets/base",
            "_view_module_version": "1.2.0",
            "_view_name": "LayoutView",
            "align_content": null,
            "align_items": null,
            "align_self": null,
            "border": null,
            "bottom": null,
            "display": null,
            "flex": null,
            "flex_flow": null,
            "grid_area": null,
            "grid_auto_columns": null,
            "grid_auto_flow": null,
            "grid_auto_rows": null,
            "grid_column": null,
            "grid_gap": null,
            "grid_row": null,
            "grid_template_areas": null,
            "grid_template_columns": null,
            "grid_template_rows": null,
            "height": null,
            "justify_content": null,
            "justify_items": null,
            "left": null,
            "margin": null,
            "max_height": null,
            "max_width": null,
            "min_height": null,
            "min_width": null,
            "object_fit": null,
            "object_position": null,
            "order": null,
            "overflow": null,
            "overflow_x": null,
            "overflow_y": null,
            "padding": null,
            "right": null,
            "top": null,
            "visibility": null,
            "width": null
          }
        },
        "a971807c49ae4bb692a8892fccf23d04": {
          "model_module": "@jupyter-widgets/base",
          "model_name": "LayoutModel",
          "model_module_version": "1.2.0",
          "state": {
            "_model_module": "@jupyter-widgets/base",
            "_model_module_version": "1.2.0",
            "_model_name": "LayoutModel",
            "_view_count": null,
            "_view_module": "@jupyter-widgets/base",
            "_view_module_version": "1.2.0",
            "_view_name": "LayoutView",
            "align_content": null,
            "align_items": null,
            "align_self": null,
            "border": null,
            "bottom": null,
            "display": null,
            "flex": null,
            "flex_flow": null,
            "grid_area": null,
            "grid_auto_columns": null,
            "grid_auto_flow": null,
            "grid_auto_rows": null,
            "grid_column": null,
            "grid_gap": null,
            "grid_row": null,
            "grid_template_areas": null,
            "grid_template_columns": null,
            "grid_template_rows": null,
            "height": null,
            "justify_content": null,
            "justify_items": null,
            "left": null,
            "margin": null,
            "max_height": null,
            "max_width": null,
            "min_height": null,
            "min_width": null,
            "object_fit": null,
            "object_position": null,
            "order": null,
            "overflow": null,
            "overflow_x": null,
            "overflow_y": null,
            "padding": null,
            "right": null,
            "top": null,
            "visibility": null,
            "width": null
          }
        },
        "f84196bf842d45cebf10d7c4cebc9f43": {
          "model_module": "@jupyter-widgets/controls",
          "model_name": "DescriptionStyleModel",
          "model_module_version": "1.5.0",
          "state": {
            "_model_module": "@jupyter-widgets/controls",
            "_model_module_version": "1.5.0",
            "_model_name": "DescriptionStyleModel",
            "_view_count": null,
            "_view_module": "@jupyter-widgets/base",
            "_view_module_version": "1.2.0",
            "_view_name": "StyleView",
            "description_width": ""
          }
        },
        "8b5f9e269da14764b37e491f56808a27": {
          "model_module": "@jupyter-widgets/base",
          "model_name": "LayoutModel",
          "model_module_version": "1.2.0",
          "state": {
            "_model_module": "@jupyter-widgets/base",
            "_model_module_version": "1.2.0",
            "_model_name": "LayoutModel",
            "_view_count": null,
            "_view_module": "@jupyter-widgets/base",
            "_view_module_version": "1.2.0",
            "_view_name": "LayoutView",
            "align_content": null,
            "align_items": null,
            "align_self": null,
            "border": null,
            "bottom": null,
            "display": null,
            "flex": null,
            "flex_flow": null,
            "grid_area": null,
            "grid_auto_columns": null,
            "grid_auto_flow": null,
            "grid_auto_rows": null,
            "grid_column": null,
            "grid_gap": null,
            "grid_row": null,
            "grid_template_areas": null,
            "grid_template_columns": null,
            "grid_template_rows": null,
            "height": null,
            "justify_content": null,
            "justify_items": null,
            "left": null,
            "margin": null,
            "max_height": null,
            "max_width": null,
            "min_height": null,
            "min_width": null,
            "object_fit": null,
            "object_position": null,
            "order": null,
            "overflow": null,
            "overflow_x": null,
            "overflow_y": null,
            "padding": null,
            "right": null,
            "top": null,
            "visibility": null,
            "width": null
          }
        },
        "cdf4f101543b4ce5bcfd9ad2178a3a9c": {
          "model_module": "@jupyter-widgets/controls",
          "model_name": "ProgressStyleModel",
          "model_module_version": "1.5.0",
          "state": {
            "_model_module": "@jupyter-widgets/controls",
            "_model_module_version": "1.5.0",
            "_model_name": "ProgressStyleModel",
            "_view_count": null,
            "_view_module": "@jupyter-widgets/base",
            "_view_module_version": "1.2.0",
            "_view_name": "StyleView",
            "bar_color": null,
            "description_width": ""
          }
        },
        "681761c5b9b94fe7bebcf9178cb23464": {
          "model_module": "@jupyter-widgets/base",
          "model_name": "LayoutModel",
          "model_module_version": "1.2.0",
          "state": {
            "_model_module": "@jupyter-widgets/base",
            "_model_module_version": "1.2.0",
            "_model_name": "LayoutModel",
            "_view_count": null,
            "_view_module": "@jupyter-widgets/base",
            "_view_module_version": "1.2.0",
            "_view_name": "LayoutView",
            "align_content": null,
            "align_items": null,
            "align_self": null,
            "border": null,
            "bottom": null,
            "display": null,
            "flex": null,
            "flex_flow": null,
            "grid_area": null,
            "grid_auto_columns": null,
            "grid_auto_flow": null,
            "grid_auto_rows": null,
            "grid_column": null,
            "grid_gap": null,
            "grid_row": null,
            "grid_template_areas": null,
            "grid_template_columns": null,
            "grid_template_rows": null,
            "height": null,
            "justify_content": null,
            "justify_items": null,
            "left": null,
            "margin": null,
            "max_height": null,
            "max_width": null,
            "min_height": null,
            "min_width": null,
            "object_fit": null,
            "object_position": null,
            "order": null,
            "overflow": null,
            "overflow_x": null,
            "overflow_y": null,
            "padding": null,
            "right": null,
            "top": null,
            "visibility": null,
            "width": null
          }
        },
        "83b5945f4e2740409aa330f6656ebcaf": {
          "model_module": "@jupyter-widgets/controls",
          "model_name": "DescriptionStyleModel",
          "model_module_version": "1.5.0",
          "state": {
            "_model_module": "@jupyter-widgets/controls",
            "_model_module_version": "1.5.0",
            "_model_name": "DescriptionStyleModel",
            "_view_count": null,
            "_view_module": "@jupyter-widgets/base",
            "_view_module_version": "1.2.0",
            "_view_name": "StyleView",
            "description_width": ""
          }
        },
        "6fc7e4d8d3ae4675b01dfb75a794a4dc": {
          "model_module": "@jupyter-widgets/controls",
          "model_name": "HBoxModel",
          "model_module_version": "1.5.0",
          "state": {
            "_dom_classes": [],
            "_model_module": "@jupyter-widgets/controls",
            "_model_module_version": "1.5.0",
            "_model_name": "HBoxModel",
            "_view_count": null,
            "_view_module": "@jupyter-widgets/controls",
            "_view_module_version": "1.5.0",
            "_view_name": "HBoxView",
            "box_style": "",
            "children": [
              "IPY_MODEL_54b1184994544461b5e633805e0ce5eb",
              "IPY_MODEL_041661084af04234b0278fec25af6d8b",
              "IPY_MODEL_53dfc371bd5a4d13b6e1ecfbae705633"
            ],
            "layout": "IPY_MODEL_352e8f71450f42f29cbd00d0a1d2d121"
          }
        },
        "54b1184994544461b5e633805e0ce5eb": {
          "model_module": "@jupyter-widgets/controls",
          "model_name": "HTMLModel",
          "model_module_version": "1.5.0",
          "state": {
            "_dom_classes": [],
            "_model_module": "@jupyter-widgets/controls",
            "_model_module_version": "1.5.0",
            "_model_name": "HTMLModel",
            "_view_count": null,
            "_view_module": "@jupyter-widgets/controls",
            "_view_module_version": "1.5.0",
            "_view_name": "HTMLView",
            "description": "",
            "description_tooltip": null,
            "layout": "IPY_MODEL_580721ac66a24e2ab6f7f224954580d6",
            "placeholder": "​",
            "style": "IPY_MODEL_b737bdc924d3478b9917423181d66313",
            "value": "config.json: 100%"
          }
        },
        "041661084af04234b0278fec25af6d8b": {
          "model_module": "@jupyter-widgets/controls",
          "model_name": "FloatProgressModel",
          "model_module_version": "1.5.0",
          "state": {
            "_dom_classes": [],
            "_model_module": "@jupyter-widgets/controls",
            "_model_module_version": "1.5.0",
            "_model_name": "FloatProgressModel",
            "_view_count": null,
            "_view_module": "@jupyter-widgets/controls",
            "_view_module_version": "1.5.0",
            "_view_name": "ProgressView",
            "bar_style": "success",
            "description": "",
            "description_tooltip": null,
            "layout": "IPY_MODEL_a999672d7ec7406693ad932e88857379",
            "max": 570,
            "min": 0,
            "orientation": "horizontal",
            "style": "IPY_MODEL_5dcecc7534ac4199ab53efe1ce33ca00",
            "value": 570
          }
        },
        "53dfc371bd5a4d13b6e1ecfbae705633": {
          "model_module": "@jupyter-widgets/controls",
          "model_name": "HTMLModel",
          "model_module_version": "1.5.0",
          "state": {
            "_dom_classes": [],
            "_model_module": "@jupyter-widgets/controls",
            "_model_module_version": "1.5.0",
            "_model_name": "HTMLModel",
            "_view_count": null,
            "_view_module": "@jupyter-widgets/controls",
            "_view_module_version": "1.5.0",
            "_view_name": "HTMLView",
            "description": "",
            "description_tooltip": null,
            "layout": "IPY_MODEL_ffebc5e3172845b6aa7d81dae76bd01b",
            "placeholder": "​",
            "style": "IPY_MODEL_f3ca79de97294d748c6869e3adf5eb4a",
            "value": " 570/570 [00:00&lt;00:00, 48.7kB/s]"
          }
        },
        "352e8f71450f42f29cbd00d0a1d2d121": {
          "model_module": "@jupyter-widgets/base",
          "model_name": "LayoutModel",
          "model_module_version": "1.2.0",
          "state": {
            "_model_module": "@jupyter-widgets/base",
            "_model_module_version": "1.2.0",
            "_model_name": "LayoutModel",
            "_view_count": null,
            "_view_module": "@jupyter-widgets/base",
            "_view_module_version": "1.2.0",
            "_view_name": "LayoutView",
            "align_content": null,
            "align_items": null,
            "align_self": null,
            "border": null,
            "bottom": null,
            "display": null,
            "flex": null,
            "flex_flow": null,
            "grid_area": null,
            "grid_auto_columns": null,
            "grid_auto_flow": null,
            "grid_auto_rows": null,
            "grid_column": null,
            "grid_gap": null,
            "grid_row": null,
            "grid_template_areas": null,
            "grid_template_columns": null,
            "grid_template_rows": null,
            "height": null,
            "justify_content": null,
            "justify_items": null,
            "left": null,
            "margin": null,
            "max_height": null,
            "max_width": null,
            "min_height": null,
            "min_width": null,
            "object_fit": null,
            "object_position": null,
            "order": null,
            "overflow": null,
            "overflow_x": null,
            "overflow_y": null,
            "padding": null,
            "right": null,
            "top": null,
            "visibility": null,
            "width": null
          }
        },
        "580721ac66a24e2ab6f7f224954580d6": {
          "model_module": "@jupyter-widgets/base",
          "model_name": "LayoutModel",
          "model_module_version": "1.2.0",
          "state": {
            "_model_module": "@jupyter-widgets/base",
            "_model_module_version": "1.2.0",
            "_model_name": "LayoutModel",
            "_view_count": null,
            "_view_module": "@jupyter-widgets/base",
            "_view_module_version": "1.2.0",
            "_view_name": "LayoutView",
            "align_content": null,
            "align_items": null,
            "align_self": null,
            "border": null,
            "bottom": null,
            "display": null,
            "flex": null,
            "flex_flow": null,
            "grid_area": null,
            "grid_auto_columns": null,
            "grid_auto_flow": null,
            "grid_auto_rows": null,
            "grid_column": null,
            "grid_gap": null,
            "grid_row": null,
            "grid_template_areas": null,
            "grid_template_columns": null,
            "grid_template_rows": null,
            "height": null,
            "justify_content": null,
            "justify_items": null,
            "left": null,
            "margin": null,
            "max_height": null,
            "max_width": null,
            "min_height": null,
            "min_width": null,
            "object_fit": null,
            "object_position": null,
            "order": null,
            "overflow": null,
            "overflow_x": null,
            "overflow_y": null,
            "padding": null,
            "right": null,
            "top": null,
            "visibility": null,
            "width": null
          }
        },
        "b737bdc924d3478b9917423181d66313": {
          "model_module": "@jupyter-widgets/controls",
          "model_name": "DescriptionStyleModel",
          "model_module_version": "1.5.0",
          "state": {
            "_model_module": "@jupyter-widgets/controls",
            "_model_module_version": "1.5.0",
            "_model_name": "DescriptionStyleModel",
            "_view_count": null,
            "_view_module": "@jupyter-widgets/base",
            "_view_module_version": "1.2.0",
            "_view_name": "StyleView",
            "description_width": ""
          }
        },
        "a999672d7ec7406693ad932e88857379": {
          "model_module": "@jupyter-widgets/base",
          "model_name": "LayoutModel",
          "model_module_version": "1.2.0",
          "state": {
            "_model_module": "@jupyter-widgets/base",
            "_model_module_version": "1.2.0",
            "_model_name": "LayoutModel",
            "_view_count": null,
            "_view_module": "@jupyter-widgets/base",
            "_view_module_version": "1.2.0",
            "_view_name": "LayoutView",
            "align_content": null,
            "align_items": null,
            "align_self": null,
            "border": null,
            "bottom": null,
            "display": null,
            "flex": null,
            "flex_flow": null,
            "grid_area": null,
            "grid_auto_columns": null,
            "grid_auto_flow": null,
            "grid_auto_rows": null,
            "grid_column": null,
            "grid_gap": null,
            "grid_row": null,
            "grid_template_areas": null,
            "grid_template_columns": null,
            "grid_template_rows": null,
            "height": null,
            "justify_content": null,
            "justify_items": null,
            "left": null,
            "margin": null,
            "max_height": null,
            "max_width": null,
            "min_height": null,
            "min_width": null,
            "object_fit": null,
            "object_position": null,
            "order": null,
            "overflow": null,
            "overflow_x": null,
            "overflow_y": null,
            "padding": null,
            "right": null,
            "top": null,
            "visibility": null,
            "width": null
          }
        },
        "5dcecc7534ac4199ab53efe1ce33ca00": {
          "model_module": "@jupyter-widgets/controls",
          "model_name": "ProgressStyleModel",
          "model_module_version": "1.5.0",
          "state": {
            "_model_module": "@jupyter-widgets/controls",
            "_model_module_version": "1.5.0",
            "_model_name": "ProgressStyleModel",
            "_view_count": null,
            "_view_module": "@jupyter-widgets/base",
            "_view_module_version": "1.2.0",
            "_view_name": "StyleView",
            "bar_color": null,
            "description_width": ""
          }
        },
        "ffebc5e3172845b6aa7d81dae76bd01b": {
          "model_module": "@jupyter-widgets/base",
          "model_name": "LayoutModel",
          "model_module_version": "1.2.0",
          "state": {
            "_model_module": "@jupyter-widgets/base",
            "_model_module_version": "1.2.0",
            "_model_name": "LayoutModel",
            "_view_count": null,
            "_view_module": "@jupyter-widgets/base",
            "_view_module_version": "1.2.0",
            "_view_name": "LayoutView",
            "align_content": null,
            "align_items": null,
            "align_self": null,
            "border": null,
            "bottom": null,
            "display": null,
            "flex": null,
            "flex_flow": null,
            "grid_area": null,
            "grid_auto_columns": null,
            "grid_auto_flow": null,
            "grid_auto_rows": null,
            "grid_column": null,
            "grid_gap": null,
            "grid_row": null,
            "grid_template_areas": null,
            "grid_template_columns": null,
            "grid_template_rows": null,
            "height": null,
            "justify_content": null,
            "justify_items": null,
            "left": null,
            "margin": null,
            "max_height": null,
            "max_width": null,
            "min_height": null,
            "min_width": null,
            "object_fit": null,
            "object_position": null,
            "order": null,
            "overflow": null,
            "overflow_x": null,
            "overflow_y": null,
            "padding": null,
            "right": null,
            "top": null,
            "visibility": null,
            "width": null
          }
        },
        "f3ca79de97294d748c6869e3adf5eb4a": {
          "model_module": "@jupyter-widgets/controls",
          "model_name": "DescriptionStyleModel",
          "model_module_version": "1.5.0",
          "state": {
            "_model_module": "@jupyter-widgets/controls",
            "_model_module_version": "1.5.0",
            "_model_name": "DescriptionStyleModel",
            "_view_count": null,
            "_view_module": "@jupyter-widgets/base",
            "_view_module_version": "1.2.0",
            "_view_name": "StyleView",
            "description_width": ""
          }
        },
        "f2faeadb59de46e7b7982e45972f53e4": {
          "model_module": "@jupyter-widgets/controls",
          "model_name": "HBoxModel",
          "model_module_version": "1.5.0",
          "state": {
            "_dom_classes": [],
            "_model_module": "@jupyter-widgets/controls",
            "_model_module_version": "1.5.0",
            "_model_name": "HBoxModel",
            "_view_count": null,
            "_view_module": "@jupyter-widgets/controls",
            "_view_module_version": "1.5.0",
            "_view_name": "HBoxView",
            "box_style": "",
            "children": [
              "IPY_MODEL_3a89f3badc8f4e068dcd8ba4397f35e6",
              "IPY_MODEL_58276c66052b47948c04acc71266ec33",
              "IPY_MODEL_bdbf7157ae194df4a4a705060d1e3f64"
            ],
            "layout": "IPY_MODEL_b2731f31d72b4f708972faa34d168ade"
          }
        },
        "3a89f3badc8f4e068dcd8ba4397f35e6": {
          "model_module": "@jupyter-widgets/controls",
          "model_name": "HTMLModel",
          "model_module_version": "1.5.0",
          "state": {
            "_dom_classes": [],
            "_model_module": "@jupyter-widgets/controls",
            "_model_module_version": "1.5.0",
            "_model_name": "HTMLModel",
            "_view_count": null,
            "_view_module": "@jupyter-widgets/controls",
            "_view_module_version": "1.5.0",
            "_view_name": "HTMLView",
            "description": "",
            "description_tooltip": null,
            "layout": "IPY_MODEL_8efa163d54c64b8e944a17e43e920541",
            "placeholder": "​",
            "style": "IPY_MODEL_3e65ac50340345279f376d0c7d6b1977",
            "value": "model.safetensors: 100%"
          }
        },
        "58276c66052b47948c04acc71266ec33": {
          "model_module": "@jupyter-widgets/controls",
          "model_name": "FloatProgressModel",
          "model_module_version": "1.5.0",
          "state": {
            "_dom_classes": [],
            "_model_module": "@jupyter-widgets/controls",
            "_model_module_version": "1.5.0",
            "_model_name": "FloatProgressModel",
            "_view_count": null,
            "_view_module": "@jupyter-widgets/controls",
            "_view_module_version": "1.5.0",
            "_view_name": "ProgressView",
            "bar_style": "success",
            "description": "",
            "description_tooltip": null,
            "layout": "IPY_MODEL_e5dcffe2141d43e298b263b5ee484046",
            "max": 440449768,
            "min": 0,
            "orientation": "horizontal",
            "style": "IPY_MODEL_73048d1d86e740e5b62ea073eece5502",
            "value": 440449768
          }
        },
        "bdbf7157ae194df4a4a705060d1e3f64": {
          "model_module": "@jupyter-widgets/controls",
          "model_name": "HTMLModel",
          "model_module_version": "1.5.0",
          "state": {
            "_dom_classes": [],
            "_model_module": "@jupyter-widgets/controls",
            "_model_module_version": "1.5.0",
            "_model_name": "HTMLModel",
            "_view_count": null,
            "_view_module": "@jupyter-widgets/controls",
            "_view_module_version": "1.5.0",
            "_view_name": "HTMLView",
            "description": "",
            "description_tooltip": null,
            "layout": "IPY_MODEL_8d9cbbc673a24d0c9fa09aa6779b509a",
            "placeholder": "​",
            "style": "IPY_MODEL_58a10d62c3a24fe195fb03cdf2c3bcf8",
            "value": " 440M/440M [00:01&lt;00:00, 289MB/s]"
          }
        },
        "b2731f31d72b4f708972faa34d168ade": {
          "model_module": "@jupyter-widgets/base",
          "model_name": "LayoutModel",
          "model_module_version": "1.2.0",
          "state": {
            "_model_module": "@jupyter-widgets/base",
            "_model_module_version": "1.2.0",
            "_model_name": "LayoutModel",
            "_view_count": null,
            "_view_module": "@jupyter-widgets/base",
            "_view_module_version": "1.2.0",
            "_view_name": "LayoutView",
            "align_content": null,
            "align_items": null,
            "align_self": null,
            "border": null,
            "bottom": null,
            "display": null,
            "flex": null,
            "flex_flow": null,
            "grid_area": null,
            "grid_auto_columns": null,
            "grid_auto_flow": null,
            "grid_auto_rows": null,
            "grid_column": null,
            "grid_gap": null,
            "grid_row": null,
            "grid_template_areas": null,
            "grid_template_columns": null,
            "grid_template_rows": null,
            "height": null,
            "justify_content": null,
            "justify_items": null,
            "left": null,
            "margin": null,
            "max_height": null,
            "max_width": null,
            "min_height": null,
            "min_width": null,
            "object_fit": null,
            "object_position": null,
            "order": null,
            "overflow": null,
            "overflow_x": null,
            "overflow_y": null,
            "padding": null,
            "right": null,
            "top": null,
            "visibility": null,
            "width": null
          }
        },
        "8efa163d54c64b8e944a17e43e920541": {
          "model_module": "@jupyter-widgets/base",
          "model_name": "LayoutModel",
          "model_module_version": "1.2.0",
          "state": {
            "_model_module": "@jupyter-widgets/base",
            "_model_module_version": "1.2.0",
            "_model_name": "LayoutModel",
            "_view_count": null,
            "_view_module": "@jupyter-widgets/base",
            "_view_module_version": "1.2.0",
            "_view_name": "LayoutView",
            "align_content": null,
            "align_items": null,
            "align_self": null,
            "border": null,
            "bottom": null,
            "display": null,
            "flex": null,
            "flex_flow": null,
            "grid_area": null,
            "grid_auto_columns": null,
            "grid_auto_flow": null,
            "grid_auto_rows": null,
            "grid_column": null,
            "grid_gap": null,
            "grid_row": null,
            "grid_template_areas": null,
            "grid_template_columns": null,
            "grid_template_rows": null,
            "height": null,
            "justify_content": null,
            "justify_items": null,
            "left": null,
            "margin": null,
            "max_height": null,
            "max_width": null,
            "min_height": null,
            "min_width": null,
            "object_fit": null,
            "object_position": null,
            "order": null,
            "overflow": null,
            "overflow_x": null,
            "overflow_y": null,
            "padding": null,
            "right": null,
            "top": null,
            "visibility": null,
            "width": null
          }
        },
        "3e65ac50340345279f376d0c7d6b1977": {
          "model_module": "@jupyter-widgets/controls",
          "model_name": "DescriptionStyleModel",
          "model_module_version": "1.5.0",
          "state": {
            "_model_module": "@jupyter-widgets/controls",
            "_model_module_version": "1.5.0",
            "_model_name": "DescriptionStyleModel",
            "_view_count": null,
            "_view_module": "@jupyter-widgets/base",
            "_view_module_version": "1.2.0",
            "_view_name": "StyleView",
            "description_width": ""
          }
        },
        "e5dcffe2141d43e298b263b5ee484046": {
          "model_module": "@jupyter-widgets/base",
          "model_name": "LayoutModel",
          "model_module_version": "1.2.0",
          "state": {
            "_model_module": "@jupyter-widgets/base",
            "_model_module_version": "1.2.0",
            "_model_name": "LayoutModel",
            "_view_count": null,
            "_view_module": "@jupyter-widgets/base",
            "_view_module_version": "1.2.0",
            "_view_name": "LayoutView",
            "align_content": null,
            "align_items": null,
            "align_self": null,
            "border": null,
            "bottom": null,
            "display": null,
            "flex": null,
            "flex_flow": null,
            "grid_area": null,
            "grid_auto_columns": null,
            "grid_auto_flow": null,
            "grid_auto_rows": null,
            "grid_column": null,
            "grid_gap": null,
            "grid_row": null,
            "grid_template_areas": null,
            "grid_template_columns": null,
            "grid_template_rows": null,
            "height": null,
            "justify_content": null,
            "justify_items": null,
            "left": null,
            "margin": null,
            "max_height": null,
            "max_width": null,
            "min_height": null,
            "min_width": null,
            "object_fit": null,
            "object_position": null,
            "order": null,
            "overflow": null,
            "overflow_x": null,
            "overflow_y": null,
            "padding": null,
            "right": null,
            "top": null,
            "visibility": null,
            "width": null
          }
        },
        "73048d1d86e740e5b62ea073eece5502": {
          "model_module": "@jupyter-widgets/controls",
          "model_name": "ProgressStyleModel",
          "model_module_version": "1.5.0",
          "state": {
            "_model_module": "@jupyter-widgets/controls",
            "_model_module_version": "1.5.0",
            "_model_name": "ProgressStyleModel",
            "_view_count": null,
            "_view_module": "@jupyter-widgets/base",
            "_view_module_version": "1.2.0",
            "_view_name": "StyleView",
            "bar_color": null,
            "description_width": ""
          }
        },
        "8d9cbbc673a24d0c9fa09aa6779b509a": {
          "model_module": "@jupyter-widgets/base",
          "model_name": "LayoutModel",
          "model_module_version": "1.2.0",
          "state": {
            "_model_module": "@jupyter-widgets/base",
            "_model_module_version": "1.2.0",
            "_model_name": "LayoutModel",
            "_view_count": null,
            "_view_module": "@jupyter-widgets/base",
            "_view_module_version": "1.2.0",
            "_view_name": "LayoutView",
            "align_content": null,
            "align_items": null,
            "align_self": null,
            "border": null,
            "bottom": null,
            "display": null,
            "flex": null,
            "flex_flow": null,
            "grid_area": null,
            "grid_auto_columns": null,
            "grid_auto_flow": null,
            "grid_auto_rows": null,
            "grid_column": null,
            "grid_gap": null,
            "grid_row": null,
            "grid_template_areas": null,
            "grid_template_columns": null,
            "grid_template_rows": null,
            "height": null,
            "justify_content": null,
            "justify_items": null,
            "left": null,
            "margin": null,
            "max_height": null,
            "max_width": null,
            "min_height": null,
            "min_width": null,
            "object_fit": null,
            "object_position": null,
            "order": null,
            "overflow": null,
            "overflow_x": null,
            "overflow_y": null,
            "padding": null,
            "right": null,
            "top": null,
            "visibility": null,
            "width": null
          }
        },
        "58a10d62c3a24fe195fb03cdf2c3bcf8": {
          "model_module": "@jupyter-widgets/controls",
          "model_name": "DescriptionStyleModel",
          "model_module_version": "1.5.0",
          "state": {
            "_model_module": "@jupyter-widgets/controls",
            "_model_module_version": "1.5.0",
            "_model_name": "DescriptionStyleModel",
            "_view_count": null,
            "_view_module": "@jupyter-widgets/base",
            "_view_module_version": "1.2.0",
            "_view_name": "StyleView",
            "description_width": ""
          }
        }
      }
    },
    "accelerator": "GPU"
  },
  "cells": [
    {
      "cell_type": "markdown",
      "source": [
        "#### Load Dependencies"
      ],
      "metadata": {
        "id": "j8vkUpIWNTEp"
      }
    },
    {
      "cell_type": "code",
      "source": [
        "# pip install codecarbon"
      ],
      "metadata": {
        "id": "PCqsIDnubT_h"
      },
      "execution_count": null,
      "outputs": []
    },
    {
      "cell_type": "code",
      "execution_count": null,
      "metadata": {
        "id": "S5bIJ3vUL-On"
      },
      "outputs": [],
      "source": [
        "import pandas as pd\n",
        "import numpy as np\n",
        "from pathlib import Path\n",
        "import matplotlib.pyplot as plt\n",
        "import torch\n",
        "import torch.nn as nn\n",
        "\n",
        "from torch.utils.data import TensorDataset, DataLoader, RandomSampler, SequentialSampler\n",
        "from transformers import BertTokenizer, BertModel, AdamW, get_linear_schedule_with_warmup, AutoTokenizer, AutoModelForMaskedLM\n",
        "from sklearn.model_selection import train_test_split\n",
        "from sklearn.metrics import accuracy_score, confusion_matrix\n",
        "\n",
        "#from codecarbon import EmissionsTracker\n"
      ]
    },
    {
      "cell_type": "code",
      "source": [
        "# current_directory = Path.cwd()\n",
        "# base_directory = current_directory.parent\n",
        "# results_file_sample = base_directory/'data'/'...'"
      ],
      "metadata": {
        "id": "pxx52qs_uytN"
      },
      "execution_count": null,
      "outputs": []
    },
    {
      "cell_type": "markdown",
      "source": [
        "#### Load And Inspect Data"
      ],
      "metadata": {
        "id": "8JPBEVT-Nc7M"
      }
    },
    {
      "cell_type": "code",
      "source": [
        "data_path = '/content/fixed_examples_v02.csv'\n",
        "data = pd.read_csv(data_path, delimiter=\"/\")\n",
        "data.head()"
      ],
      "metadata": {
        "colab": {
          "base_uri": "https://localhost:8080/",
          "height": 379
        },
        "id": "1q1cIKElNgGN",
        "outputId": "a9475ad7-4ebc-4bed-f9a0-7e6b87ba210a"
      },
      "execution_count": null,
      "outputs": [
        {
          "output_type": "execute_result",
          "data": {
            "text/plain": [
              "               skills                                            context  \\\n",
              "0          JavaScript  I have developed interactive front-end applica...   \n",
              "1  Data Visualization   Data Visualization is a skill I plan to learn...   \n",
              "2               React   My recent projects involved creating dynamic ...   \n",
              "3    Machine Learning   I’m currently undertaking a course to underst...   \n",
              "4                 SQL   In my previous role, I was responsible for da...   \n",
              "\n",
              "                                          buzzwords      action_verbs  \\\n",
              "0              interactive; front-end; applications         developed   \n",
              "1                                             learn             learn   \n",
              "2                      dynamic; web pages; projects          creating   \n",
              "3                              fundamentals; course       undertaking   \n",
              "4   database management; previous role; responsible   was responsible   \n",
              "\n",
              "  verb_tense  target  \n",
              "0       past     1.0  \n",
              "1    present     0.0  \n",
              "2       past     1.0  \n",
              "3    present     0.0  \n",
              "4       past     1.0  "
            ],
            "text/html": [
              "\n",
              "  <div id=\"df-76e4117b-10ec-4320-bcd5-64582a7c473c\" class=\"colab-df-container\">\n",
              "    <div>\n",
              "<style scoped>\n",
              "    .dataframe tbody tr th:only-of-type {\n",
              "        vertical-align: middle;\n",
              "    }\n",
              "\n",
              "    .dataframe tbody tr th {\n",
              "        vertical-align: top;\n",
              "    }\n",
              "\n",
              "    .dataframe thead th {\n",
              "        text-align: right;\n",
              "    }\n",
              "</style>\n",
              "<table border=\"1\" class=\"dataframe\">\n",
              "  <thead>\n",
              "    <tr style=\"text-align: right;\">\n",
              "      <th></th>\n",
              "      <th>skills</th>\n",
              "      <th>context</th>\n",
              "      <th>buzzwords</th>\n",
              "      <th>action_verbs</th>\n",
              "      <th>verb_tense</th>\n",
              "      <th>target</th>\n",
              "    </tr>\n",
              "  </thead>\n",
              "  <tbody>\n",
              "    <tr>\n",
              "      <th>0</th>\n",
              "      <td>JavaScript</td>\n",
              "      <td>I have developed interactive front-end applica...</td>\n",
              "      <td>interactive; front-end; applications</td>\n",
              "      <td>developed</td>\n",
              "      <td>past</td>\n",
              "      <td>1.0</td>\n",
              "    </tr>\n",
              "    <tr>\n",
              "      <th>1</th>\n",
              "      <td>Data Visualization</td>\n",
              "      <td>Data Visualization is a skill I plan to learn...</td>\n",
              "      <td>learn</td>\n",
              "      <td>learn</td>\n",
              "      <td>present</td>\n",
              "      <td>0.0</td>\n",
              "    </tr>\n",
              "    <tr>\n",
              "      <th>2</th>\n",
              "      <td>React</td>\n",
              "      <td>My recent projects involved creating dynamic ...</td>\n",
              "      <td>dynamic; web pages; projects</td>\n",
              "      <td>creating</td>\n",
              "      <td>past</td>\n",
              "      <td>1.0</td>\n",
              "    </tr>\n",
              "    <tr>\n",
              "      <th>3</th>\n",
              "      <td>Machine Learning</td>\n",
              "      <td>I’m currently undertaking a course to underst...</td>\n",
              "      <td>fundamentals; course</td>\n",
              "      <td>undertaking</td>\n",
              "      <td>present</td>\n",
              "      <td>0.0</td>\n",
              "    </tr>\n",
              "    <tr>\n",
              "      <th>4</th>\n",
              "      <td>SQL</td>\n",
              "      <td>In my previous role, I was responsible for da...</td>\n",
              "      <td>database management; previous role; responsible</td>\n",
              "      <td>was responsible</td>\n",
              "      <td>past</td>\n",
              "      <td>1.0</td>\n",
              "    </tr>\n",
              "  </tbody>\n",
              "</table>\n",
              "</div>\n",
              "    <div class=\"colab-df-buttons\">\n",
              "\n",
              "  <div class=\"colab-df-container\">\n",
              "    <button class=\"colab-df-convert\" onclick=\"convertToInteractive('df-76e4117b-10ec-4320-bcd5-64582a7c473c')\"\n",
              "            title=\"Convert this dataframe to an interactive table.\"\n",
              "            style=\"display:none;\">\n",
              "\n",
              "  <svg xmlns=\"http://www.w3.org/2000/svg\" height=\"24px\" viewBox=\"0 -960 960 960\">\n",
              "    <path d=\"M120-120v-720h720v720H120Zm60-500h600v-160H180v160Zm220 220h160v-160H400v160Zm0 220h160v-160H400v160ZM180-400h160v-160H180v160Zm440 0h160v-160H620v160ZM180-180h160v-160H180v160Zm440 0h160v-160H620v160Z\"/>\n",
              "  </svg>\n",
              "    </button>\n",
              "\n",
              "  <style>\n",
              "    .colab-df-container {\n",
              "      display:flex;\n",
              "      gap: 12px;\n",
              "    }\n",
              "\n",
              "    .colab-df-convert {\n",
              "      background-color: #E8F0FE;\n",
              "      border: none;\n",
              "      border-radius: 50%;\n",
              "      cursor: pointer;\n",
              "      display: none;\n",
              "      fill: #1967D2;\n",
              "      height: 32px;\n",
              "      padding: 0 0 0 0;\n",
              "      width: 32px;\n",
              "    }\n",
              "\n",
              "    .colab-df-convert:hover {\n",
              "      background-color: #E2EBFA;\n",
              "      box-shadow: 0px 1px 2px rgba(60, 64, 67, 0.3), 0px 1px 3px 1px rgba(60, 64, 67, 0.15);\n",
              "      fill: #174EA6;\n",
              "    }\n",
              "\n",
              "    .colab-df-buttons div {\n",
              "      margin-bottom: 4px;\n",
              "    }\n",
              "\n",
              "    [theme=dark] .colab-df-convert {\n",
              "      background-color: #3B4455;\n",
              "      fill: #D2E3FC;\n",
              "    }\n",
              "\n",
              "    [theme=dark] .colab-df-convert:hover {\n",
              "      background-color: #434B5C;\n",
              "      box-shadow: 0px 1px 3px 1px rgba(0, 0, 0, 0.15);\n",
              "      filter: drop-shadow(0px 1px 2px rgba(0, 0, 0, 0.3));\n",
              "      fill: #FFFFFF;\n",
              "    }\n",
              "  </style>\n",
              "\n",
              "    <script>\n",
              "      const buttonEl =\n",
              "        document.querySelector('#df-76e4117b-10ec-4320-bcd5-64582a7c473c button.colab-df-convert');\n",
              "      buttonEl.style.display =\n",
              "        google.colab.kernel.accessAllowed ? 'block' : 'none';\n",
              "\n",
              "      async function convertToInteractive(key) {\n",
              "        const element = document.querySelector('#df-76e4117b-10ec-4320-bcd5-64582a7c473c');\n",
              "        const dataTable =\n",
              "          await google.colab.kernel.invokeFunction('convertToInteractive',\n",
              "                                                    [key], {});\n",
              "        if (!dataTable) return;\n",
              "\n",
              "        const docLinkHtml = 'Like what you see? Visit the ' +\n",
              "          '<a target=\"_blank\" href=https://colab.research.google.com/notebooks/data_table.ipynb>data table notebook</a>'\n",
              "          + ' to learn more about interactive tables.';\n",
              "        element.innerHTML = '';\n",
              "        dataTable['output_type'] = 'display_data';\n",
              "        await google.colab.output.renderOutput(dataTable, element);\n",
              "        const docLink = document.createElement('div');\n",
              "        docLink.innerHTML = docLinkHtml;\n",
              "        element.appendChild(docLink);\n",
              "      }\n",
              "    </script>\n",
              "  </div>\n",
              "\n",
              "\n",
              "<div id=\"df-360308cf-877d-4e8f-bae9-b4e374fb8c47\">\n",
              "  <button class=\"colab-df-quickchart\" onclick=\"quickchart('df-360308cf-877d-4e8f-bae9-b4e374fb8c47')\"\n",
              "            title=\"Suggest charts\"\n",
              "            style=\"display:none;\">\n",
              "\n",
              "<svg xmlns=\"http://www.w3.org/2000/svg\" height=\"24px\"viewBox=\"0 0 24 24\"\n",
              "     width=\"24px\">\n",
              "    <g>\n",
              "        <path d=\"M19 3H5c-1.1 0-2 .9-2 2v14c0 1.1.9 2 2 2h14c1.1 0 2-.9 2-2V5c0-1.1-.9-2-2-2zM9 17H7v-7h2v7zm4 0h-2V7h2v10zm4 0h-2v-4h2v4z\"/>\n",
              "    </g>\n",
              "</svg>\n",
              "  </button>\n",
              "\n",
              "<style>\n",
              "  .colab-df-quickchart {\n",
              "      --bg-color: #E8F0FE;\n",
              "      --fill-color: #1967D2;\n",
              "      --hover-bg-color: #E2EBFA;\n",
              "      --hover-fill-color: #174EA6;\n",
              "      --disabled-fill-color: #AAA;\n",
              "      --disabled-bg-color: #DDD;\n",
              "  }\n",
              "\n",
              "  [theme=dark] .colab-df-quickchart {\n",
              "      --bg-color: #3B4455;\n",
              "      --fill-color: #D2E3FC;\n",
              "      --hover-bg-color: #434B5C;\n",
              "      --hover-fill-color: #FFFFFF;\n",
              "      --disabled-bg-color: #3B4455;\n",
              "      --disabled-fill-color: #666;\n",
              "  }\n",
              "\n",
              "  .colab-df-quickchart {\n",
              "    background-color: var(--bg-color);\n",
              "    border: none;\n",
              "    border-radius: 50%;\n",
              "    cursor: pointer;\n",
              "    display: none;\n",
              "    fill: var(--fill-color);\n",
              "    height: 32px;\n",
              "    padding: 0;\n",
              "    width: 32px;\n",
              "  }\n",
              "\n",
              "  .colab-df-quickchart:hover {\n",
              "    background-color: var(--hover-bg-color);\n",
              "    box-shadow: 0 1px 2px rgba(60, 64, 67, 0.3), 0 1px 3px 1px rgba(60, 64, 67, 0.15);\n",
              "    fill: var(--button-hover-fill-color);\n",
              "  }\n",
              "\n",
              "  .colab-df-quickchart-complete:disabled,\n",
              "  .colab-df-quickchart-complete:disabled:hover {\n",
              "    background-color: var(--disabled-bg-color);\n",
              "    fill: var(--disabled-fill-color);\n",
              "    box-shadow: none;\n",
              "  }\n",
              "\n",
              "  .colab-df-spinner {\n",
              "    border: 2px solid var(--fill-color);\n",
              "    border-color: transparent;\n",
              "    border-bottom-color: var(--fill-color);\n",
              "    animation:\n",
              "      spin 1s steps(1) infinite;\n",
              "  }\n",
              "\n",
              "  @keyframes spin {\n",
              "    0% {\n",
              "      border-color: transparent;\n",
              "      border-bottom-color: var(--fill-color);\n",
              "      border-left-color: var(--fill-color);\n",
              "    }\n",
              "    20% {\n",
              "      border-color: transparent;\n",
              "      border-left-color: var(--fill-color);\n",
              "      border-top-color: var(--fill-color);\n",
              "    }\n",
              "    30% {\n",
              "      border-color: transparent;\n",
              "      border-left-color: var(--fill-color);\n",
              "      border-top-color: var(--fill-color);\n",
              "      border-right-color: var(--fill-color);\n",
              "    }\n",
              "    40% {\n",
              "      border-color: transparent;\n",
              "      border-right-color: var(--fill-color);\n",
              "      border-top-color: var(--fill-color);\n",
              "    }\n",
              "    60% {\n",
              "      border-color: transparent;\n",
              "      border-right-color: var(--fill-color);\n",
              "    }\n",
              "    80% {\n",
              "      border-color: transparent;\n",
              "      border-right-color: var(--fill-color);\n",
              "      border-bottom-color: var(--fill-color);\n",
              "    }\n",
              "    90% {\n",
              "      border-color: transparent;\n",
              "      border-bottom-color: var(--fill-color);\n",
              "    }\n",
              "  }\n",
              "</style>\n",
              "\n",
              "  <script>\n",
              "    async function quickchart(key) {\n",
              "      const quickchartButtonEl =\n",
              "        document.querySelector('#' + key + ' button');\n",
              "      quickchartButtonEl.disabled = true;  // To prevent multiple clicks.\n",
              "      quickchartButtonEl.classList.add('colab-df-spinner');\n",
              "      try {\n",
              "        const charts = await google.colab.kernel.invokeFunction(\n",
              "            'suggestCharts', [key], {});\n",
              "      } catch (error) {\n",
              "        console.error('Error during call to suggestCharts:', error);\n",
              "      }\n",
              "      quickchartButtonEl.classList.remove('colab-df-spinner');\n",
              "      quickchartButtonEl.classList.add('colab-df-quickchart-complete');\n",
              "    }\n",
              "    (() => {\n",
              "      let quickchartButtonEl =\n",
              "        document.querySelector('#df-360308cf-877d-4e8f-bae9-b4e374fb8c47 button');\n",
              "      quickchartButtonEl.style.display =\n",
              "        google.colab.kernel.accessAllowed ? 'block' : 'none';\n",
              "    })();\n",
              "  </script>\n",
              "</div>\n",
              "    </div>\n",
              "  </div>\n"
            ],
            "application/vnd.google.colaboratory.intrinsic+json": {
              "type": "dataframe",
              "variable_name": "data",
              "summary": "{\n  \"name\": \"data\",\n  \"rows\": 500,\n  \"fields\": [\n    {\n      \"column\": \"skills\",\n      \"properties\": {\n        \"dtype\": \"string\",\n        \"num_unique_values\": 277,\n        \"samples\": [\n          \"jQuery\",\n          \"Photovoltaic Technology\",\n          \"Big Data Analytics\"\n        ],\n        \"semantic_type\": \"\",\n        \"description\": \"\"\n      }\n    },\n    {\n      \"column\": \"context\",\n      \"properties\": {\n        \"dtype\": \"string\",\n        \"num_unique_values\": 425,\n        \"samples\": [\n          \"I've demonstrated empathy by actively listening to others and understanding their perspectives, fostering trust and collaboration in teams.\",\n          \" My interest in space tech led me to participate in a CubeSat development program. We focused on creating a miniaturized satellite for space research, which was launched last year and is currently collecting data on low Earth orbit atmospheric conditions.\",\n          \"Django framework is on my learning path; I plan to build my next web app with it.\"\n        ],\n        \"semantic_type\": \"\",\n        \"description\": \"\"\n      }\n    },\n    {\n      \"column\": \"buzzwords\",\n      \"properties\": {\n        \"dtype\": \"string\",\n        \"num_unique_values\": 410,\n        \"samples\": [\n          \"deeply familiar; fast-paced; practices\",\n          \" fascinates; studied models; developmental stages\",\n          \" intrigued by; theoretical knowledge; small experiments\"\n        ],\n        \"semantic_type\": \"\",\n        \"description\": \"\"\n      }\n    },\n    {\n      \"column\": \"action_verbs\",\n      \"properties\": {\n        \"dtype\": \"string\",\n        \"num_unique_values\": 264,\n        \"samples\": [\n          \" exploring\",\n          \"haven't developed\",\n          \" led to the development\"\n        ],\n        \"semantic_type\": \"\",\n        \"description\": \"\"\n      }\n    },\n    {\n      \"column\": \"verb_tense\",\n      \"properties\": {\n        \"dtype\": \"category\",\n        \"num_unique_values\": 4,\n        \"samples\": [\n          \" present\",\n          \"past\",\n          \" past\"\n        ],\n        \"semantic_type\": \"\",\n        \"description\": \"\"\n      }\n    },\n    {\n      \"column\": \"target\",\n      \"properties\": {\n        \"dtype\": \"number\",\n        \"std\": 0.5005007512521914,\n        \"min\": 0.0,\n        \"max\": 1.0,\n        \"num_unique_values\": 2,\n        \"samples\": [\n          0.0,\n          1.0\n        ],\n        \"semantic_type\": \"\",\n        \"description\": \"\"\n      }\n    }\n  ]\n}"
            }
          },
          "metadata": {},
          "execution_count": 4
        }
      ]
    },
    {
      "cell_type": "code",
      "source": [
        "# Convert the target column to integer if it's not already\n",
        "if data['target'].dtype != 'int64':\n",
        "    try:\n",
        "        data['target'] = data['target'].astype(int)\n",
        "        print(\"Target column converted to integer.\")\n",
        "    except ValueError:\n",
        "        print(\"Conversion to integer failed. Check if all values in the target column are numeric.\")\n",
        "else:\n",
        "    print('Target values are in correct format')"
      ],
      "metadata": {
        "colab": {
          "base_uri": "https://localhost:8080/"
        },
        "id": "YJzDyDoBQOok",
        "outputId": "2ca5a00e-592e-4be3-8eeb-ea657c1665a7"
      },
      "execution_count": null,
      "outputs": [
        {
          "output_type": "stream",
          "name": "stdout",
          "text": [
            "Target column converted to integer.\n"
          ]
        }
      ]
    },
    {
      "cell_type": "markdown",
      "source": [
        "#### Assign Variables"
      ],
      "metadata": {
        "id": "z9hOodQLNimi"
      }
    },
    {
      "cell_type": "code",
      "source": [
        "# Pre-trained model and tokenizer\n",
        "pretrained_model_name = 'bert-base-uncased'\n",
        "pretrained_tokenizer_name = \"bert-base-uncased\""
      ],
      "metadata": {
        "id": "ySnx6ZzrNl8z"
      },
      "execution_count": null,
      "outputs": []
    },
    {
      "cell_type": "code",
      "source": [
        "features_for_fine_tuning = data['context']\n",
        "target_for_fine_tuning = data['target']"
      ],
      "metadata": {
        "id": "GJBk5bRITTx_"
      },
      "execution_count": null,
      "outputs": []
    },
    {
      "cell_type": "code",
      "source": [
        "# Hyperparameters and other important variables\n",
        "# batch_sizes = [8]\n",
        "batch_sizes = [8, 16, 24, 32, 64]\n",
        "epochs = 10"
      ],
      "metadata": {
        "id": "zAUPvK5JVDH0"
      },
      "execution_count": null,
      "outputs": []
    },
    {
      "cell_type": "code",
      "source": [
        "# Name of fine-tuned model to be exported\n",
        "fine_tuned_model_name = 'screen_bert_v0_2.pth'\n",
        "tokenizer_directory_name = 'tokenizer_directory'"
      ],
      "metadata": {
        "id": "OMhTTHOqZrT-"
      },
      "execution_count": null,
      "outputs": []
    },
    {
      "cell_type": "code",
      "source": [
        "# Set random seed for reproducibility\n",
        "seed_value = 42\n",
        "torch.manual_seed(seed_value)\n",
        "np.random.seed(seed_value)"
      ],
      "metadata": {
        "id": "Qp7FSMs0cvaN"
      },
      "execution_count": null,
      "outputs": []
    },
    {
      "cell_type": "markdown",
      "source": [
        "#### Check Data"
      ],
      "metadata": {
        "id": "jRh-iEXiN9pc"
      }
    },
    {
      "cell_type": "code",
      "source": [
        "# Plot and check whether data is balanced\n",
        "target_counts = data['target'].value_counts()\n",
        "print(\"Number of values for 'Not Skilled' (0):\", target_counts[0])\n",
        "print(\"Number of values for 'Skilled' (1):\", target_counts[1])\n",
        "print(' ')\n",
        "\n",
        "plt.bar(target_counts.index, target_counts.values)\n",
        "plt.xlabel('Target Values 1 and 0')\n",
        "plt.ylabel('Count')\n",
        "plt.title('Distribution of Target Column')\n",
        "plt.xticks(target_counts.index, ['Skilled','Not skilled'])\n",
        "plt.show()"
      ],
      "metadata": {
        "colab": {
          "base_uri": "https://localhost:8080/",
          "height": 524
        },
        "id": "42DUyDaBOKqH",
        "outputId": "5b06e7ff-3505-4981-a08e-0db81a72235a"
      },
      "execution_count": null,
      "outputs": [
        {
          "output_type": "stream",
          "name": "stdout",
          "text": [
            "Number of values for 'Not Skilled' (0): 250\n",
            "Number of values for 'Skilled' (1): 250\n",
            " \n"
          ]
        },
        {
          "output_type": "display_data",
          "data": {
            "text/plain": [
              "<Figure size 640x480 with 1 Axes>"
            ],
            "image/png": "[encoded data removed]"
          },
          "metadata": {}
        }
      ]
    },
    {
      "cell_type": "markdown",
      "source": [
        "#### Helper Functions For Training, Evaluation, Plotting"
      ],
      "metadata": {
        "id": "_GKjE0nD0sLK"
      }
    },
    {
      "cell_type": "code",
      "source": [
        "def create_dataloader(encodings, labels, batch_size):\n",
        "    \"\"\"Create DataLoader for data with given batch size.\"\"\"\n",
        "    print('entered create_dataloader function')\n",
        "    dataset = TensorDataset(torch.tensor(encodings['input_ids']),\n",
        "                                  torch.tensor(encodings['attention_mask']),\n",
        "                                  labels)\n",
        "    print('created dataset')\n",
        "    sampler = RandomSampler(dataset)\n",
        "    print('randomly sampled stuff ')\n",
        "    return DataLoader(dataset, sampler=sampler, batch_size=batch_size)"
      ],
      "metadata": {
        "id": "DuIUTi4MWaMt"
      },
      "execution_count": null,
      "outputs": []
    },
    {
      "cell_type": "code",
      "source": [
        "# to be updated\n",
        "from sklearn.model_selection import StratifiedKFold\n",
        "def k_fold_train_validate(texts, labels,\n",
        "                    # val_dataset\n",
        "                    pretrained_tokenizer,\n",
        "                    model, optimizer, device, epochs, batch_size,\n",
        "                    n_splits=5):\n",
        "\n",
        "    print(type(labels.to_list()[0]))\n",
        "\n",
        "\n",
        "    # Define cross-validation strategy\n",
        "    kf = StratifiedKFold(n_splits=n_splits,\n",
        "                        shuffle=True,\n",
        "                        random_state=42)\n",
        "    print(\"Strategy is set\")\n",
        "\n",
        "    train_loss_per_fold = []\n",
        "    accuracy_per_fold = []\n",
        "\n",
        "    # Perform cross-validation\n",
        "    for fold, (train_index, val_index) in enumerate(kf.split(texts, labels)):\n",
        "        print('fold', fold)\n",
        "        print('train_index', train_index)\n",
        "        print('val_index', val_index)\n",
        "\n",
        "        train_texts = [texts.to_list()[i] for i in train_index]\n",
        "        train_labels = [labels.to_list()[i] for i in train_index]\n",
        "        val_texts = [texts.to_list()[i] for i in val_index]\n",
        "        val_labels = [labels.to_list()[i] for i in val_index]\n",
        "\n",
        "        print('split completed')\n",
        "\n",
        "        print(type(train_labels[0]), type(val_labels[0]))\n",
        "        train_labels = torch.tensor(train_labels)\n",
        "        val_labels = torch.tensor(val_labels)\n",
        "        print(type(train_labels), type(val_labels))\n",
        "\n",
        "        train_encodings = pretrained_tokenizer(train_texts, truncation=True, padding=True)\n",
        "        print(\"train_encodings done\")\n",
        "        val_encodings = pretrained_tokenizer(val_texts, truncation=True, padding=True)\n",
        "        print(\"val_encodings done\")\n",
        "\n",
        "        train_dataloader = create_dataloader(train_encodings,\n",
        "                                             train_labels,\n",
        "                                             batch_size=batch_size,\n",
        "                                             )\n",
        "        print(\"train_dataloader ready to play\")\n",
        "\n",
        "        val_dataloader = create_dataloader(val_encodings,\n",
        "                                           val_labels,\n",
        "                                           batch_size=batch_size)\n",
        "        print(\"val_dataloader ready to play\")\n",
        "\n",
        "        avg_train_loss = train_model(model, train_dataloader, optimizer, device, epochs, batch_size)\n",
        "        accuracy = evaluate_model(model, val_dataloader, device)\n",
        "\n",
        "        train_loss_per_fold.append(avg_train_loss)\n",
        "        accuracy_per_fold.append(accuracy)\n",
        "\n",
        "    return train_loss_per_fold, accuracy_per_fold"
      ],
      "metadata": {
        "id": "qwPx8HH6YJQL"
      },
      "execution_count": null,
      "outputs": []
    },
    {
      "cell_type": "code",
      "source": [
        "[0.23, 0.67]  -> argmax  -> 1"
      ],
      "metadata": {
        "id": "XHhu2KF5GGSJ"
      },
      "execution_count": null,
      "outputs": []
    },
    {
      "cell_type": "code",
      "source": [
        "def train_model(optimizer, epochs, model, dataloader, device):\n",
        "    \"\"\"Training loop for the model.\"\"\"\n",
        "\n",
        "    scheduler = get_linear_schedule_with_warmup(optimizer,\n",
        "                                                num_warmup_steps=0,\n",
        "                                                num_training_steps = epochs * dataloader.dataset.__len__()/ batch_size\n",
        "                                                )\n",
        "    # Set to training mode\n",
        "    model.train()\n",
        "    total_loss = 0\n",
        "    predictions = []\n",
        "    true_labels = []\n",
        "\n",
        "    for step, batch in enumerate(dataloader):\n",
        "\n",
        "        # progress update after every 50 batches\n",
        "        if step % 50 == 0 and not step == 0:\n",
        "            print('  Batch {:>5,}  of  {:>5,}.'.format(step, len(dataloader)))\n",
        "\n",
        "        # push current dataloader batch to respective device\n",
        "        batch = tuple(t.to(device) for t in batch)\n",
        "\n",
        "        input_ids, attention_mask, labels = batch\n",
        "\n",
        "        # clear optimizer gradients\n",
        "        optimizer.zero_grad()\n",
        "\n",
        "        # get model predictions for the current batch\n",
        "        logits = model(input_ids, attention_mask)\n",
        "\n",
        "        # compute the loss between actual and predicted values\n",
        "        loss = nn.CrossEntropyLoss()(logits, labels)\n",
        "\n",
        "        # add on to the total loss\n",
        "        total_loss += loss.item()\n",
        "\n",
        "        # compute accuracy for the current batch\n",
        "        batch_predictions = torch.argmax(logits, dim=1)\n",
        "        predictions.extend(batch_predictions.cpu().numpy())\n",
        "\n",
        "        # store true labels\n",
        "        true_labels.extend(labels.cpu().numpy())\n",
        "\n",
        "        # backward pass to calculate the gradients\n",
        "        loss.backward()\n",
        "\n",
        "        # clip the the gradients to 1.0 to prevent exploding gradient\n",
        "        torch.nn.utils.clip_grad_norm_(model.parameters(), 1.0)\n",
        "\n",
        "        # update parameters\n",
        "        optimizer.step()\n",
        "        scheduler.step()\n",
        "\n",
        "    # compute training loss and accuracy of epoch\n",
        "    avg_train_loss = total_loss / len(dataloader)\n",
        "    total_train_accuracy = accuracy_score(true_labels, predictions)\n",
        "\n",
        "\n",
        "    return avg_train_loss, total_train_accuracy"
      ],
      "metadata": {
        "id": "zXEGAbZas_zl"
      },
      "execution_count": null,
      "outputs": []
    },
    {
      "cell_type": "code",
      "source": [
        "def evaluate_model(model, dataloader, device):\n",
        "\n",
        "    # deactivate dropout layers\n",
        "    model.eval()\n",
        "\n",
        "    total_loss = 0\n",
        "    predictions = []\n",
        "    true_labels = []\n",
        "\n",
        "    # iterate over batches\n",
        "    for step,batch in enumerate(dataloader):\n",
        "\n",
        "        # Progress update every 50 batches.\n",
        "        if step % 50 == 0 and not step == 0:\n",
        "            # Report progress.\n",
        "            print('Batch {:>5,}  of  {:>5,}.'.format(step, len(dataloader)))\n",
        "\n",
        "        # push batch to device\n",
        "        batch = tuple(t.to(device) for t in batch)\n",
        "        input_ids, attention_mask, labels = batch\n",
        "\n",
        "        # deactivate autograd\n",
        "        with torch.no_grad():\n",
        "            # model predictions\n",
        "            logits = model(input_ids, attention_mask)\n",
        "            # compute the loss between actual and predicted values\n",
        "            loss = nn.CrossEntropyLoss()(logits, labels)\n",
        "            # add on to the total loss\n",
        "            total_loss += loss.item()\n",
        "\n",
        "            # compute accuracy for the current batch\n",
        "            batch_predictions = torch.argmax(logits, dim=1)\n",
        "            predictions.extend(batch_predictions.cpu().numpy())\n",
        "\n",
        "            # store true labels\n",
        "            true_labels.extend(labels.cpu().numpy())\n",
        "\n",
        "    # compute training loss and accuracy of epoch\n",
        "    avg_loss = total_loss / len(dataloader)\n",
        "    total_accuracy = accuracy_score(true_labels, predictions)\n",
        "\n",
        "    return avg_loss, total_accuracy"
      ],
      "metadata": {
        "id": "HlDPHJ480hLR"
      },
      "execution_count": null,
      "outputs": []
    },
    {
      "cell_type": "code",
      "source": [
        "def validate_model(model):\n",
        "    pass"
      ],
      "metadata": {
        "id": "tVK_ndGaf_rO"
      },
      "execution_count": null,
      "outputs": []
    },
    {
      "cell_type": "code",
      "source": [
        "def plot_training_results(train_losses, epochs, batch_size):\n",
        "    fig, ax1 = plt.subplots(figsize=(10, 5))\n",
        "\n",
        "    ax1.set_xlabel('Epoch')\n",
        "    ax1.set_ylabel('Training Loss', color='tab:red')\n",
        "    ax1.plot(range(1, epochs + 1), train_losses, label='Training Loss', color='tab:red')\n",
        "    ax1.tick_params(axis='y', labelcolor='tab:red')\n",
        "    ax1.set_xticks(range(1, epochs + 1))  # Set x-ticks to show only integer epochs\n",
        "\n",
        "    # Add a title and a legend\n",
        "    fig.tight_layout()\n",
        "    fig.suptitle(f'Training Loss over Epochs (Batch Size: {batch_size})', fontsize=14, y=1.05)\n",
        "    fig.legend(loc='upper left', bbox_to_anchor=(0.1, 0.9))\n",
        "\n",
        "    plt.show()\n",
        "\n",
        "    # loss and val_loss, training_acc, val_acc per epoch\n",
        "    # avg_train_loss per epoch\n",
        "\n",
        "    # train_model returns avg_train_loss_per_epoch list"
      ],
      "metadata": {
        "id": "KIbm2iPPLZ-R"
      },
      "execution_count": null,
      "outputs": []
    },
    {
      "cell_type": "code",
      "source": [
        "def train_and_evaluate_model(train_encodings, val_encodings,\n",
        "                             train_labels, val_labels,\n",
        "                             batch_size, epochs, model, device,\n",
        "                             ):\n",
        "\n",
        "\n",
        "    train_dataloader = create_dataloader(train_encodings,\n",
        "                                         train_labels,\n",
        "                                         batch_size=batch_size,\n",
        "                                         )\n",
        "    print(\"train_dataloader ready to play\")\n",
        "\n",
        "    val_dataloader = create_dataloader(val_encodings,\n",
        "                                       val_labels,\n",
        "                                       batch_size=batch_size\n",
        "                                       )\n",
        "    print(\"val_dataloader ready to play\")\n",
        "\n",
        "    # empty lists to store training and validation loss of each epoch\n",
        "    train_losses=[]\n",
        "    valid_losses=[]\n",
        "    train_acc=[]\n",
        "    valid_acc=[]\n",
        "\n",
        "    print(\"Start training ...\")\n",
        "    for epoch in range(epochs):\n",
        "        avg_train_loss, avg_train_accuracy = train_model(optimizer,\n",
        "                                                         epochs,\n",
        "                                                         model,\n",
        "                                                         train_dataloader,\n",
        "                                                         device)\n",
        "        avg_val_loss, avg_val_accuracy = evaluate_model(model, val_dataloader, device)\n",
        "\n",
        "        print(f'Epoch {epoch}/{epochs}')\n",
        "        print(f'Training Loss: {avg_train_loss:.3f}, Validation Loss: {avg_val_loss:.3f}')\n",
        "        print(f'Training Accuracy: {avg_train_accuracy:.3f}, Validation Accuracy: {avg_val_accuracy:.3f}')\n",
        "\n",
        "        # document losses and acc\n",
        "        train_losses.append(avg_train_loss)\n",
        "        valid_losses.append(avg_val_loss)\n",
        "        train_acc.append(avg_train_accuracy)\n",
        "        valid_acc.append(avg_val_accuracy)\n",
        "\n",
        "    return train_losses, valid_losses, train_acc, valid_acc"
      ],
      "metadata": {
        "id": "ykXr7VAZ4-18"
      },
      "execution_count": null,
      "outputs": []
    },
    {
      "cell_type": "markdown",
      "source": [
        "#### Fine-Tuning Pre-Trained Model"
      ],
      "metadata": {
        "id": "nDtswCLCS59R"
      }
    },
    {
      "cell_type": "code",
      "source": [
        "# Split data into train, test and validation sets\n",
        "train_texts, temp_texts, train_labels, temp_labels = train_test_split(\n",
        "    features_for_fine_tuning,\n",
        "    target_for_fine_tuning,\n",
        "    test_size=0.2,\n",
        "    stratify = target_for_fine_tuning,\n",
        "    random_state=42\n",
        ")\n",
        "\n",
        "test_texts, val_texts, test_labels, val_labels = train_test_split(\n",
        "    temp_texts,\n",
        "    temp_labels,\n",
        "    test_size=0.5,\n",
        "    stratify = temp_labels,\n",
        "    random_state=42\n",
        ")\n",
        "\n",
        "# Validate sizes and proportion of target\n",
        "print(train_texts.shape, test_texts.shape, val_texts.shape)\n",
        "print(train_labels.shape, test_labels.shape, val_labels.shape)\n",
        "print('---')\n",
        "print(train_labels.value_counts(normalize=True))\n",
        "print(test_labels.value_counts(normalize=True))\n",
        "print(val_labels.value_counts(normalize=True))"
      ],
      "metadata": {
        "colab": {
          "base_uri": "https://localhost:8080/"
        },
        "id": "uamLLClytHa_",
        "outputId": "99d7d134-522a-4890-97e8-a0eb2864c3ad"
      },
      "execution_count": null,
      "outputs": [
        {
          "output_type": "stream",
          "name": "stdout",
          "text": [
            "(400,) (50,) (50,)\n",
            "(400,) (50,) (50,)\n",
            "---\n",
            "target\n",
            "1    0.5\n",
            "0    0.5\n",
            "Name: proportion, dtype: float64\n",
            "target\n",
            "0    0.5\n",
            "1    0.5\n",
            "Name: proportion, dtype: float64\n",
            "target\n",
            "1    0.5\n",
            "0    0.5\n",
            "Name: proportion, dtype: float64\n"
          ]
        }
      ]
    },
    {
      "cell_type": "code",
      "source": [
        "# Load tokenizer\n",
        "pretrained_tokenizer = BertTokenizer.from_pretrained(pretrained_tokenizer_name)"
      ],
      "metadata": {
        "id": "uf0vfrpzUGOl",
        "colab": {
          "base_uri": "https://localhost:8080/",
          "height": 269,
          "referenced_widgets": [
            "7ebddf2bd9804490af8a1e72fa6c1fc8",
            "48b12509611d48c6b872ac7e6f04cafd",
            "84b1019b31bd46b2ac9e7726f586a1b2",
            "02f61df53f624eca9c702bca0b57ba4c",
            "6e8fd1d0eaba4ddd910e0320a5e5dce0",
            "10fadc3dc49441f49733790b84dd62f8",
            "8660d838777540319e47f021fb147b4c",
            "5ba1c5d931e545fba19a31f0c68101af",
            "08589c3eafd5418e8a54921103033746",
            "9b06e36165e749e08c87a7e21a6ffbe1",
            "1c4a07339b864374ae582df4a568b51e",
            "d274c52990a14086900d58cfd5b6e69e",
            "ecdeb2bb5a924cc3b578bf5c8f8755bd",
            "0a244f6ec74749f683d8d840fc2e39cf",
            "e56eecab6d0e4ea3a7cb08c36c70cc2b",
            "14ff840386cf49cbaf3fe06a7fdb5e9b",
            "ffa82e5a85f241bcbd95705b0c7311b1",
            "ba64c8c65aeb4615b12fe8b5e289f967",
            "672182fc3dd24614b97d23d787ea1fb2",
            "3580adf908ae4e1cae1e2fdf2394ab79",
            "e0079a656135494fb03b969f1e66335a",
            "173708c25ee54d1a85c0996c2eb2e744",
            "d1251bf8a7274a37bffefe870fff659d",
            "2ef183e276ec4a98a46aafce144efb96",
            "dade7329e4ab4dd7bf52c98e5a64a314",
            "abb46c42ded74d12a6b831bbec0b787f",
            "05253abac1364fdd9123b94423b813c3",
            "a971807c49ae4bb692a8892fccf23d04",
            "f84196bf842d45cebf10d7c4cebc9f43",
            "8b5f9e269da14764b37e491f56808a27",
            "cdf4f101543b4ce5bcfd9ad2178a3a9c",
            "681761c5b9b94fe7bebcf9178cb23464",
            "83b5945f4e2740409aa330f6656ebcaf",
            "6fc7e4d8d3ae4675b01dfb75a794a4dc",
            "54b1184994544461b5e633805e0ce5eb",
            "041661084af04234b0278fec25af6d8b",
            "53dfc371bd5a4d13b6e1ecfbae705633",
            "352e8f71450f42f29cbd00d0a1d2d121",
            "580721ac66a24e2ab6f7f224954580d6",
            "b737bdc924d3478b9917423181d66313",
            "a999672d7ec7406693ad932e88857379",
            "5dcecc7534ac4199ab53efe1ce33ca00",
            "ffebc5e3172845b6aa7d81dae76bd01b",
            "f3ca79de97294d748c6869e3adf5eb4a"
          ]
        },
        "outputId": "6a12b8be-42be-4dac-d816-3915af85bf66"
      },
      "execution_count": null,
      "outputs": [
        {
          "output_type": "stream",
          "name": "stderr",
          "text": [
            "/usr/local/lib/python3.10/dist-packages/huggingface_hub/utils/_token.py:88: UserWarning: \n",
            "The secret `HF_TOKEN` does not exist in your Colab secrets.\n",
            "To authenticate with the Hugging Face Hub, create a token in your settings tab (https://huggingface.co/settings/tokens), set it as secret in your Google Colab and restart your session.\n",
            "You will be able to reuse this secret in all of your notebooks.\n",
            "Please note that authentication is recommended but still optional to access public models or datasets.\n",
            "  warnings.warn(\n"
          ]
        },
        {
          "output_type": "display_data",
          "data": {
            "text/plain": [
              "tokenizer_config.json:   0%|          | 0.00/48.0 [00:00<?, ?B/s]"
            ],
            "application/vnd.jupyter.widget-view+json": {
              "version_major": 2,
              "version_minor": 0,
              "model_id": "7ebddf2bd9804490af8a1e72fa6c1fc8"
            }
          },
          "metadata": {}
        },
        {
          "output_type": "display_data",
          "data": {
            "text/plain": [
              "vocab.txt:   0%|          | 0.00/232k [00:00<?, ?B/s]"
            ],
            "application/vnd.jupyter.widget-view+json": {
              "version_major": 2,
              "version_minor": 0,
              "model_id": "d274c52990a14086900d58cfd5b6e69e"
            }
          },
          "metadata": {}
        },
        {
          "output_type": "display_data",
          "data": {
            "text/plain": [
              "tokenizer.json:   0%|          | 0.00/466k [00:00<?, ?B/s]"
            ],
            "application/vnd.jupyter.widget-view+json": {
              "version_major": 2,
              "version_minor": 0,
              "model_id": "d1251bf8a7274a37bffefe870fff659d"
            }
          },
          "metadata": {}
        },
        {
          "output_type": "display_data",
          "data": {
            "text/plain": [
              "config.json:   0%|          | 0.00/570 [00:00<?, ?B/s]"
            ],
            "application/vnd.jupyter.widget-view+json": {
              "version_major": 2,
              "version_minor": 0,
              "model_id": "6fc7e4d8d3ae4675b01dfb75a794a4dc"
            }
          },
          "metadata": {}
        }
      ]
    },
    {
      "cell_type": "code",
      "source": [
        "# Tokenize and encode text data\n",
        "test_encodings = pretrained_tokenizer(test_texts.tolist(),\n",
        "                                      truncation=True,\n",
        "                                      padding=True)\n",
        "\n",
        "train_encodings = pretrained_tokenizer(train_texts.tolist(),\n",
        "                                       truncation=True,\n",
        "                                       padding=True)\n",
        "\n",
        "val_encodings = pretrained_tokenizer(val_texts.tolist(),\n",
        "                                     truncation=True,\n",
        "                                     padding=True)\n",
        "\n",
        "print(\"Encodings done\")"
      ],
      "metadata": {
        "colab": {
          "base_uri": "https://localhost:8080/"
        },
        "id": "vnWfl3ieyMxF",
        "outputId": "9f994e58-ea74-4adf-de5e-ffa116390856"
      },
      "execution_count": null,
      "outputs": [
        {
          "output_type": "stream",
          "name": "stdout",
          "text": [
            "Encodings done\n"
          ]
        }
      ]
    },
    {
      "cell_type": "code",
      "source": [
        "# Convert Convert Integer Sequences from Labels to Tensors\n",
        "train_labels = torch.tensor(train_labels.tolist())\n",
        "test_labels = torch.tensor(test_labels.tolist())\n",
        "val_labels = torch.tensor(val_labels.tolist())\n",
        "print(\"Converting labels to tensors done\")"
      ],
      "metadata": {
        "id": "LTxWeYlyrWdZ",
        "colab": {
          "base_uri": "https://localhost:8080/"
        },
        "outputId": "03ed7632-265d-4733-f03f-27c69ff80386"
      },
      "execution_count": null,
      "outputs": [
        {
          "output_type": "stream",
          "name": "stdout",
          "text": [
            "Converting labels to tensors done\n"
          ]
        }
      ]
    },
    {
      "cell_type": "code",
      "source": [
        "# Prepare for model loading. If running on GPU, assign compute unified device architecture\n",
        "if torch.cuda.is_available():\n",
        "    device = torch.device(\"cuda\")\n",
        "    print(f'GPU computation device: {device}')\n",
        "else:\n",
        "    device = 'cpu'\n",
        "    print(f'Computation device: {device}')\n"
      ],
      "metadata": {
        "colab": {
          "base_uri": "https://localhost:8080/"
        },
        "id": "bnS1ziAKWROo",
        "outputId": "0eecbfd6-e2f0-43d6-cf2a-0540cef150a2"
      },
      "execution_count": null,
      "outputs": [
        {
          "output_type": "stream",
          "name": "stdout",
          "text": [
            "GPU computation device: cuda\n"
          ]
        }
      ]
    },
    {
      "cell_type": "code",
      "source": [
        "# Define a classification model on top of pre-trained model\n",
        "class ScreenBert(nn.Module):\n",
        "    def __init__(self, pretrained_model_name, droput_prob=0.1):\n",
        "        super(ScreenBert, self).__init__()\n",
        "        self.bert = BertModel.from_pretrained(pretrained_model_name)\n",
        "        self.dropout = nn.Dropout(droput_prob)\n",
        "        self.fc = nn.Linear(768, 2)  # 2 classes: knowledge vs no_knowledge\n",
        "    def forward(self, input_ids, attention_mask):\n",
        "        outputs = self.bert(input_ids=input_ids, attention_mask=attention_mask)\n",
        "        pooled_output = outputs.pooler_output\n",
        "        pooled_output = self.dropout(pooled_output)\n",
        "        logits = self.fc(pooled_output)\n",
        "        return logits"
      ],
      "metadata": {
        "id": "ZyhB_oMj3lf1"
      },
      "execution_count": null,
      "outputs": []
    },
    {
      "cell_type": "code",
      "source": [
        "# This is the model instance to be fine-tuned and exported eventually\n",
        "# It is directed to the respective computation device\n",
        "#BaseBert Model\n",
        "model = ScreenBert(pretrained_model_name).to(device)"
      ],
      "metadata": {
        "id": "np_NtN_EVbyV",
        "colab": {
          "base_uri": "https://localhost:8080/",
          "height": 49,
          "referenced_widgets": [
            "f2faeadb59de46e7b7982e45972f53e4",
            "3a89f3badc8f4e068dcd8ba4397f35e6",
            "58276c66052b47948c04acc71266ec33",
            "bdbf7157ae194df4a4a705060d1e3f64",
            "b2731f31d72b4f708972faa34d168ade",
            "8efa163d54c64b8e944a17e43e920541",
            "3e65ac50340345279f376d0c7d6b1977",
            "e5dcffe2141d43e298b263b5ee484046",
            "73048d1d86e740e5b62ea073eece5502",
            "8d9cbbc673a24d0c9fa09aa6779b509a",
            "58a10d62c3a24fe195fb03cdf2c3bcf8"
          ]
        },
        "outputId": "1635c802-6f3b-4384-dc0b-ea65fb45de4a"
      },
      "execution_count": null,
      "outputs": [
        {
          "output_type": "display_data",
          "data": {
            "text/plain": [
              "model.safetensors:   0%|          | 0.00/440M [00:00<?, ?B/s]"
            ],
            "application/vnd.jupyter.widget-view+json": {
              "version_major": 2,
              "version_minor": 0,
              "model_id": "f2faeadb59de46e7b7982e45972f53e4"
            }
          },
          "metadata": {}
        }
      ]
    },
    {
      "cell_type": "code",
      "source": [
        "# Define optimizer and learning rate scheduler\n",
        "optimizer = AdamW(model.parameters(),\n",
        "                  lr=2e-5,\n",
        "                  eps=1e-8)"
      ],
      "metadata": {
        "colab": {
          "base_uri": "https://localhost:8080/"
        },
        "id": "kcYutoR4XGkl",
        "outputId": "0f56993b-0eb4-4a35-aa53-07243122984b"
      },
      "execution_count": null,
      "outputs": [
        {
          "output_type": "stream",
          "name": "stderr",
          "text": [
            "/usr/local/lib/python3.10/dist-packages/transformers/optimization.py:521: FutureWarning: This implementation of AdamW is deprecated and will be removed in a future version. Use the PyTorch implementation torch.optim.AdamW instead, or set `no_deprecation_warning=True` to disable this warning\n",
            "  warnings.warn(\n"
          ]
        }
      ]
    },
    {
      "cell_type": "code",
      "source": [
        "# # If needed: Print the names of the parameters\n",
        "# for name, param in model.named_parameters():\n",
        "#     print(name)"
      ],
      "metadata": {
        "id": "KCsDVf-mYorC"
      },
      "execution_count": null,
      "outputs": []
    },
    {
      "cell_type": "code",
      "source": [
        "# Training loop with initialised CodeCarbon tracker\n",
        "\n",
        "\n",
        "batch_size_data = {}\n",
        "best_model = None\n",
        "best_val_acc = 0.0\n",
        "\n",
        "for batch_size in batch_sizes:\n",
        "  print(f'Batch Size: {batch_size}')\n",
        "\n",
        "  # Instantiate the model and move it to the appropriate device\n",
        "  #Base BERT model\n",
        "  model = ScreenBert(pretrained_model_name).to(device)\n",
        "\n",
        "  #Distilbert Model\n",
        "  # model = ScreenDistilBert(pretrained_model_name).to(device)\n",
        "\n",
        "  optimizer = AdamW(model.parameters(), lr=2e-5, eps=1e-8)\n",
        "\n",
        "  # Train and evaluate the model\n",
        "  train_losses, valid_losses, train_acc, valid_acc = train_and_evaluate_model(train_encodings,\n",
        "                                                                              val_encodings,\n",
        "                                                                              train_labels,\n",
        "                                                                              val_labels,\n",
        "                                                                              batch_size,\n",
        "                                                                              epochs,\n",
        "                                                                              model,\n",
        "                                                                              device)\n",
        "\n",
        "  # Store the results in a nested dictionary\n",
        "  batch_size_data[batch_size] = {\n",
        "      'train_losses': train_losses,\n",
        "      'valid_losses': valid_losses,\n",
        "      'train_acc': train_acc,\n",
        "      'valid_acc': valid_acc\n",
        "  }\n",
        "\n",
        "  # Save the trained model\n",
        "  #model_name = f'screen_bert_batch_size_{batch_size}.pth'\n",
        "  model_name = f'screen_bert_batch_size_{batch_size}.pth'\n",
        "  torch.save(model.state_dict(), model_name)\n",
        "\n",
        "  # Track the best model based on validation accuracy\n",
        "  if valid_acc[-1] > best_val_acc:\n",
        "      best_val_acc = valid_acc[-1]\n",
        "      best_model = model\n",
        "      best_model_name = model_name\n",
        "\n",
        "# Print the best validation accuracy and model's state dictionary\n",
        "print(f'Best Validation Accuracy: {best_val_acc}')\n",
        "print(f'Best model = {best_model_name}')\n"
      ],
      "metadata": {
        "colab": {
          "base_uri": "https://localhost:8080/"
        },
        "id": "sslzS_6pezCs",
        "outputId": "048714f5-94d5-4367-bcfc-b0211b21726d"
      },
      "execution_count": null,
      "outputs": [
        {
          "output_type": "stream",
          "name": "stdout",
          "text": [
            "Batch Size: 8\n"
          ]
        },
        {
          "output_type": "stream",
          "name": "stderr",
          "text": [
            "/usr/local/lib/python3.10/dist-packages/transformers/optimization.py:521: FutureWarning: This implementation of AdamW is deprecated and will be removed in a future version. Use the PyTorch implementation torch.optim.AdamW instead, or set `no_deprecation_warning=True` to disable this warning\n",
            "  warnings.warn(\n"
          ]
        },
        {
          "output_type": "stream",
          "name": "stdout",
          "text": [
            "entered create_dataloader function\n",
            "created dataset\n",
            "randomly sampled stuff \n",
            "train_dataloader ready to play\n",
            "entered create_dataloader function\n",
            "created dataset\n",
            "randomly sampled stuff \n",
            "val_dataloader ready to play\n",
            "Start training ...\n",
            "Epoch 0/10\n",
            "Training Loss: 0.329, Validation Loss: 0.104\n",
            "Training Accuracy: 0.892, Validation Accuracy: 0.960\n",
            "Epoch 1/10\n",
            "Training Loss: 0.016, Validation Loss: 0.081\n",
            "Training Accuracy: 0.998, Validation Accuracy: 0.980\n",
            "Epoch 2/10\n",
            "Training Loss: 0.001, Validation Loss: 0.126\n",
            "Training Accuracy: 1.000, Validation Accuracy: 0.980\n",
            "Epoch 3/10\n",
            "Training Loss: 0.002, Validation Loss: 0.230\n",
            "Training Accuracy: 1.000, Validation Accuracy: 0.960\n",
            "Epoch 4/10\n",
            "Training Loss: 0.000, Validation Loss: 0.262\n",
            "Training Accuracy: 1.000, Validation Accuracy: 0.960\n",
            "Epoch 5/10\n",
            "Training Loss: 0.000, Validation Loss: 0.273\n",
            "Training Accuracy: 1.000, Validation Accuracy: 0.960\n",
            "Epoch 6/10\n",
            "Training Loss: 0.000, Validation Loss: 0.283\n",
            "Training Accuracy: 1.000, Validation Accuracy: 0.960\n",
            "Epoch 7/10\n",
            "Training Loss: 0.000, Validation Loss: 0.291\n",
            "Training Accuracy: 1.000, Validation Accuracy: 0.960\n",
            "Epoch 8/10\n",
            "Training Loss: 0.000, Validation Loss: 0.298\n",
            "Training Accuracy: 1.000, Validation Accuracy: 0.960\n",
            "Epoch 9/10\n",
            "Training Loss: 0.000, Validation Loss: 0.304\n",
            "Training Accuracy: 1.000, Validation Accuracy: 0.960\n",
            "Batch Size: 16\n"
          ]
        },
        {
          "output_type": "stream",
          "name": "stderr",
          "text": [
            "/usr/local/lib/python3.10/dist-packages/transformers/optimization.py:521: FutureWarning: This implementation of AdamW is deprecated and will be removed in a future version. Use the PyTorch implementation torch.optim.AdamW instead, or set `no_deprecation_warning=True` to disable this warning\n",
            "  warnings.warn(\n"
          ]
        },
        {
          "output_type": "stream",
          "name": "stdout",
          "text": [
            "entered create_dataloader function\n",
            "created dataset\n",
            "randomly sampled stuff \n",
            "train_dataloader ready to play\n",
            "entered create_dataloader function\n",
            "created dataset\n",
            "randomly sampled stuff \n",
            "val_dataloader ready to play\n",
            "Start training ...\n",
            "Epoch 0/10\n",
            "Training Loss: 0.455, Validation Loss: 0.163\n",
            "Training Accuracy: 0.823, Validation Accuracy: 0.960\n",
            "Epoch 1/10\n",
            "Training Loss: 0.109, Validation Loss: 0.083\n",
            "Training Accuracy: 0.980, Validation Accuracy: 0.980\n",
            "Epoch 2/10\n",
            "Training Loss: 0.014, Validation Loss: 0.019\n",
            "Training Accuracy: 1.000, Validation Accuracy: 0.980\n",
            "Epoch 3/10\n",
            "Training Loss: 0.002, Validation Loss: 0.021\n",
            "Training Accuracy: 1.000, Validation Accuracy: 0.980\n",
            "Epoch 4/10\n",
            "Training Loss: 0.001, Validation Loss: 0.060\n",
            "Training Accuracy: 1.000, Validation Accuracy: 0.980\n",
            "Epoch 5/10\n",
            "Training Loss: 0.001, Validation Loss: 0.044\n",
            "Training Accuracy: 1.000, Validation Accuracy: 0.980\n",
            "Epoch 6/10\n",
            "Training Loss: 0.001, Validation Loss: 0.043\n",
            "Training Accuracy: 1.000, Validation Accuracy: 0.980\n",
            "Epoch 7/10\n",
            "Training Loss: 0.000, Validation Loss: 0.037\n",
            "Training Accuracy: 1.000, Validation Accuracy: 0.980\n",
            "Epoch 8/10\n",
            "Training Loss: 0.000, Validation Loss: 0.056\n",
            "Training Accuracy: 1.000, Validation Accuracy: 0.980\n",
            "Epoch 9/10\n",
            "Training Loss: 0.000, Validation Loss: 0.060\n",
            "Training Accuracy: 1.000, Validation Accuracy: 0.980\n",
            "Batch Size: 24\n"
          ]
        },
        {
          "output_type": "stream",
          "name": "stderr",
          "text": [
            "/usr/local/lib/python3.10/dist-packages/transformers/optimization.py:521: FutureWarning: This implementation of AdamW is deprecated and will be removed in a future version. Use the PyTorch implementation torch.optim.AdamW instead, or set `no_deprecation_warning=True` to disable this warning\n",
            "  warnings.warn(\n"
          ]
        },
        {
          "output_type": "stream",
          "name": "stdout",
          "text": [
            "entered create_dataloader function\n",
            "created dataset\n",
            "randomly sampled stuff \n",
            "train_dataloader ready to play\n",
            "entered create_dataloader function\n",
            "created dataset\n",
            "randomly sampled stuff \n",
            "val_dataloader ready to play\n",
            "Start training ...\n",
            "Epoch 0/10\n",
            "Training Loss: 0.559, Validation Loss: 0.258\n",
            "Training Accuracy: 0.772, Validation Accuracy: 0.940\n",
            "Epoch 1/10\n",
            "Training Loss: 0.194, Validation Loss: 0.052\n",
            "Training Accuracy: 0.963, Validation Accuracy: 1.000\n",
            "Epoch 2/10\n",
            "Training Loss: 0.032, Validation Loss: 0.025\n",
            "Training Accuracy: 0.998, Validation Accuracy: 0.980\n",
            "Epoch 3/10\n",
            "Training Loss: 0.005, Validation Loss: 0.014\n",
            "Training Accuracy: 1.000, Validation Accuracy: 1.000\n",
            "Epoch 4/10\n",
            "Training Loss: 0.002, Validation Loss: 0.017\n",
            "Training Accuracy: 1.000, Validation Accuracy: 0.980\n",
            "Epoch 5/10\n",
            "Training Loss: 0.001, Validation Loss: 0.024\n",
            "Training Accuracy: 1.000, Validation Accuracy: 0.980\n",
            "Epoch 6/10\n",
            "Training Loss: 0.001, Validation Loss: 0.026\n",
            "Training Accuracy: 1.000, Validation Accuracy: 0.980\n",
            "Epoch 7/10\n",
            "Training Loss: 0.001, Validation Loss: 0.020\n",
            "Training Accuracy: 1.000, Validation Accuracy: 0.980\n",
            "Epoch 8/10\n",
            "Training Loss: 0.001, Validation Loss: 0.021\n",
            "Training Accuracy: 1.000, Validation Accuracy: 0.980\n",
            "Epoch 9/10\n",
            "Training Loss: 0.001, Validation Loss: 0.028\n",
            "Training Accuracy: 1.000, Validation Accuracy: 0.980\n",
            "Batch Size: 32\n"
          ]
        },
        {
          "output_type": "stream",
          "name": "stderr",
          "text": [
            "/usr/local/lib/python3.10/dist-packages/transformers/optimization.py:521: FutureWarning: This implementation of AdamW is deprecated and will be removed in a future version. Use the PyTorch implementation torch.optim.AdamW instead, or set `no_deprecation_warning=True` to disable this warning\n",
            "  warnings.warn(\n"
          ]
        },
        {
          "output_type": "stream",
          "name": "stdout",
          "text": [
            "entered create_dataloader function\n",
            "created dataset\n",
            "randomly sampled stuff \n",
            "train_dataloader ready to play\n",
            "entered create_dataloader function\n",
            "created dataset\n",
            "randomly sampled stuff \n",
            "val_dataloader ready to play\n",
            "Start training ...\n",
            "Epoch 0/10\n",
            "Training Loss: 0.475, Validation Loss: 0.241\n",
            "Training Accuracy: 0.835, Validation Accuracy: 0.980\n",
            "Epoch 1/10\n",
            "Training Loss: 0.198, Validation Loss: 0.160\n",
            "Training Accuracy: 0.973, Validation Accuracy: 0.960\n",
            "Epoch 2/10\n",
            "Training Loss: 0.079, Validation Loss: 0.103\n",
            "Training Accuracy: 0.990, Validation Accuracy: 0.960\n",
            "Epoch 3/10\n",
            "Training Loss: 0.027, Validation Loss: 0.165\n",
            "Training Accuracy: 1.000, Validation Accuracy: 0.960\n",
            "Epoch 4/10\n",
            "Training Loss: 0.009, Validation Loss: 0.125\n",
            "Training Accuracy: 1.000, Validation Accuracy: 0.960\n",
            "Epoch 5/10\n",
            "Training Loss: 0.004, Validation Loss: 0.167\n",
            "Training Accuracy: 1.000, Validation Accuracy: 0.960\n",
            "Epoch 6/10\n",
            "Training Loss: 0.002, Validation Loss: 0.106\n",
            "Training Accuracy: 1.000, Validation Accuracy: 0.960\n",
            "Epoch 7/10\n",
            "Training Loss: 0.002, Validation Loss: 0.181\n",
            "Training Accuracy: 1.000, Validation Accuracy: 0.960\n",
            "Epoch 8/10\n",
            "Training Loss: 0.001, Validation Loss: 0.156\n",
            "Training Accuracy: 1.000, Validation Accuracy: 0.960\n",
            "Epoch 9/10\n",
            "Training Loss: 0.001, Validation Loss: 0.161\n",
            "Training Accuracy: 1.000, Validation Accuracy: 0.960\n",
            "Batch Size: 64\n"
          ]
        },
        {
          "output_type": "stream",
          "name": "stderr",
          "text": [
            "/usr/local/lib/python3.10/dist-packages/transformers/optimization.py:521: FutureWarning: This implementation of AdamW is deprecated and will be removed in a future version. Use the PyTorch implementation torch.optim.AdamW instead, or set `no_deprecation_warning=True` to disable this warning\n",
            "  warnings.warn(\n"
          ]
        },
        {
          "output_type": "stream",
          "name": "stdout",
          "text": [
            "entered create_dataloader function\n",
            "created dataset\n",
            "randomly sampled stuff \n",
            "train_dataloader ready to play\n",
            "entered create_dataloader function\n",
            "created dataset\n",
            "randomly sampled stuff \n",
            "val_dataloader ready to play\n",
            "Start training ...\n",
            "Epoch 0/10\n",
            "Training Loss: 0.569, Validation Loss: 0.395\n",
            "Training Accuracy: 0.752, Validation Accuracy: 0.960\n",
            "Epoch 1/10\n",
            "Training Loss: 0.358, Validation Loss: 0.275\n",
            "Training Accuracy: 0.960, Validation Accuracy: 0.960\n",
            "Epoch 2/10\n",
            "Training Loss: 0.242, Validation Loss: 0.192\n",
            "Training Accuracy: 0.980, Validation Accuracy: 0.980\n",
            "Epoch 3/10\n",
            "Training Loss: 0.155, Validation Loss: 0.112\n",
            "Training Accuracy: 0.993, Validation Accuracy: 1.000\n",
            "Epoch 4/10\n",
            "Training Loss: 0.091, Validation Loss: 0.074\n",
            "Training Accuracy: 0.995, Validation Accuracy: 0.980\n",
            "Epoch 5/10\n",
            "Training Loss: 0.046, Validation Loss: 0.077\n",
            "Training Accuracy: 1.000, Validation Accuracy: 0.980\n",
            "Epoch 6/10\n",
            "Training Loss: 0.022, Validation Loss: 0.039\n",
            "Training Accuracy: 1.000, Validation Accuracy: 0.980\n",
            "Epoch 7/10\n",
            "Training Loss: 0.011, Validation Loss: 0.026\n",
            "Training Accuracy: 1.000, Validation Accuracy: 0.980\n",
            "Epoch 8/10\n",
            "Training Loss: 0.004, Validation Loss: 0.061\n",
            "Training Accuracy: 1.000, Validation Accuracy: 0.980\n",
            "Epoch 9/10\n",
            "Training Loss: 0.002, Validation Loss: 0.068\n",
            "Training Accuracy: 1.000, Validation Accuracy: 0.980\n",
            "Best Validation Accuracy: 0.98\n",
            "Best model = screen_bert_batch_size_16.pth\n"
          ]
        }
      ]
    },
    {
      "cell_type": "code",
      "source": [
        "##Graph each batch size\n",
        "# Define colors for each batch size\n",
        "colors = ['b', 'g', 'r', 'c', 'm', 'y', 'k']\n",
        "\n",
        "# Plot losses for each batch size\n",
        "for idx, (batch_size, data) in enumerate(batch_data.items()):\n",
        "    train_losses = data['train_losses']\n",
        "    valid_losses = data['valid_losses']\n",
        "    epochs = range(1, len(train_losses) + 1)\n",
        "    color = colors[idx % len(colors)]  # Cycle through colors for each batch size\n",
        "\n",
        "    plt.figure(figsize=(10, 5))\n",
        "    plt.plot(epochs, train_losses, linestyle='--', color=color, label='Train Loss')\n",
        "    plt.plot(epochs, valid_losses, linestyle='-', color=color, label='Validation Loss')\n",
        "    plt.title(f'Training and Validation Loss (Batch Size: {batch_size})')\n",
        "    plt.xlabel('Epochs')\n",
        "    plt.ylabel('Loss')\n",
        "    plt.legend()\n",
        "    plt.show()\n",
        "\n",
        "# Plot accuracies for each batch size\n",
        "for idx, (batch_size, data) in enumerate(batch_data.items()):\n",
        "    train_acc = data['train_acc']\n",
        "    valid_acc = data['valid_acc']\n",
        "    epochs = range(1, len(train_acc) + 1)\n",
        "    color = colors[idx % len(colors)]  # Cycle through colors for each batch size\n",
        "\n",
        "    plt.figure(figsize=(10, 5))\n",
        "    plt.plot(epochs, train_acc, linestyle='--', color=color, label='Train Accuracy')\n",
        "    plt.plot(epochs, valid_acc, linestyle='-', color=color, label='Validation Accuracy')\n",
        "    plt.title(f'Training and Validation Accuracy (Batch Size: {batch_size})')\n",
        "    plt.xlabel('Epochs')\n",
        "    plt.ylabel('Accuracy')\n",
        "    plt.legend()\n",
        "    plt.show()\n"
      ],
      "metadata": {
        "colab": {
          "base_uri": "https://localhost:8080/",
          "height": 211
        },
        "id": "ovuubRAled4d",
        "outputId": "88638ff1-6212-4a7a-d2d0-11c6ef4f1e37"
      },
      "execution_count": null,
      "outputs": [
        {
          "output_type": "error",
          "ename": "NameError",
          "evalue": "name 'batch_data' is not defined",
          "traceback": [
            "\u001b[0;31m---------------------------------------------------------------------------\u001b[0m",
            "\u001b[0;31mNameError\u001b[0m                                 Traceback (most recent call last)",
            "\u001b[0;32m<ipython-input-30-dd4b294e9b61>\u001b[0m in \u001b[0;36m<cell line: 6>\u001b[0;34m()\u001b[0m\n\u001b[1;32m      4\u001b[0m \u001b[0;34m\u001b[0m\u001b[0m\n\u001b[1;32m      5\u001b[0m \u001b[0;31m# Plot losses for each batch size\u001b[0m\u001b[0;34m\u001b[0m\u001b[0;34m\u001b[0m\u001b[0m\n\u001b[0;32m----> 6\u001b[0;31m \u001b[0;32mfor\u001b[0m \u001b[0midx\u001b[0m\u001b[0;34m,\u001b[0m \u001b[0;34m(\u001b[0m\u001b[0mbatch_size\u001b[0m\u001b[0;34m,\u001b[0m \u001b[0mdata\u001b[0m\u001b[0;34m)\u001b[0m \u001b[0;32min\u001b[0m \u001b[0menumerate\u001b[0m\u001b[0;34m(\u001b[0m\u001b[0mbatch_data\u001b[0m\u001b[0;34m.\u001b[0m\u001b[0mitems\u001b[0m\u001b[0;34m(\u001b[0m\u001b[0;34m)\u001b[0m\u001b[0;34m)\u001b[0m\u001b[0;34m:\u001b[0m\u001b[0;34m\u001b[0m\u001b[0;34m\u001b[0m\u001b[0m\n\u001b[0m\u001b[1;32m      7\u001b[0m     \u001b[0mtrain_losses\u001b[0m \u001b[0;34m=\u001b[0m \u001b[0mdata\u001b[0m\u001b[0;34m[\u001b[0m\u001b[0;34m'train_losses'\u001b[0m\u001b[0;34m]\u001b[0m\u001b[0;34m\u001b[0m\u001b[0;34m\u001b[0m\u001b[0m\n\u001b[1;32m      8\u001b[0m     \u001b[0mvalid_losses\u001b[0m \u001b[0;34m=\u001b[0m \u001b[0mdata\u001b[0m\u001b[0;34m[\u001b[0m\u001b[0;34m'valid_losses'\u001b[0m\u001b[0;34m]\u001b[0m\u001b[0;34m\u001b[0m\u001b[0;34m\u001b[0m\u001b[0m\n",
            "\u001b[0;31mNameError\u001b[0m: name 'batch_data' is not defined"
          ]
        }
      ]
    },
    {
      "cell_type": "markdown",
      "source": [
        "# Evaluate model performance on unseen test data"
      ],
      "metadata": {
        "id": "P9qy24i5eaBt"
      }
    },
    {
      "cell_type": "code",
      "source": [
        "print(best_model_name)"
      ],
      "metadata": {
        "id": "KHlSEM00gYxn"
      },
      "execution_count": null,
      "outputs": []
    },
    {
      "cell_type": "code",
      "source": [
        "test_dataloader = create_dataloader(test_encodings, test_labels, batch_size=16)\n",
        "test_loss, test_acc = evaluate_model(best_model, test_dataloader, device)\n",
        "test_loss, test_acc"
      ],
      "metadata": {
        "id": "RvLlT79jittu"
      },
      "execution_count": null,
      "outputs": []
    },
    {
      "cell_type": "code",
      "source": [
        "# Evaluation\n",
        "best_model.eval()\n",
        "predictions = []\n",
        "true_labels = []\n",
        "for batch in test_dataloader:\n",
        "    batch = tuple(t.to(device) for t in batch)\n",
        "    input_ids, attention_mask, labels = batch\n",
        "    with torch.no_grad():\n",
        "        logits = best_model(input_ids, attention_mask)\n",
        "        preds = torch.argmax(logits, axis=1)\n",
        "        predictions.extend(preds.cpu().numpy())\n",
        "        true_labels.extend(labels.cpu().numpy())"
      ],
      "metadata": {
        "id": "hBrZb0bSkqWz"
      },
      "execution_count": null,
      "outputs": []
    },
    {
      "cell_type": "code",
      "source": [
        "# Calculate accuracy\n",
        "accuracy = accuracy_score(true_labels, predictions)\n",
        "print(\"Accuracy:\", accuracy)"
      ],
      "metadata": {
        "id": "OtA8LSq8mkzu"
      },
      "execution_count": null,
      "outputs": []
    },
    {
      "cell_type": "code",
      "source": [
        "#confusion matrix\n",
        "matrix  = confusion_matrix(true_labels, predictions)\n",
        "matrix"
      ],
      "metadata": {
        "id": "ErvlZx9y8uEA"
      },
      "execution_count": null,
      "outputs": []
    },
    {
      "cell_type": "code",
      "source": [
        "# # Get size of model if needed\n",
        "# import os\n",
        "# for batch_size in batch_sizes:\n",
        "#   model_name = f'screen_bert_batch_size_{batch_size}.pth'\n",
        "#   # torch.save(model.state_dict(), model_name)\n",
        "\n",
        "#   # Get the file size in bytes\n",
        "#   file_size_bytes = os.path.getsize(f'/content/{model_name}')\n",
        "\n",
        "#   # Convert bytes to megabytes (MB)\n",
        "#   file_size_mb = file_size_bytes / (1024 * 1024)\n",
        "\n",
        "#   print(f\"File size of saved model: {file_size_mb:.2f} MB\")"
      ],
      "metadata": {
        "id": "2Z0P9BhTfHxv"
      },
      "execution_count": null,
      "outputs": []
    },
    {
      "cell_type": "code",
      "source": [
        "import matplotlib.pyplot as plt\n",
        "\n",
        "# Plot for losses\n",
        "fig, (ax1, ax2) = plt.subplots(2, 1, figsize=(10, 10), sharex=True)\n",
        "\n",
        "# Plot losses\n",
        "ax1.set_ylabel('Loss', color='tab:red')\n",
        "ax1.plot(range(1, epochs + 1), train_losses, label='Training Loss', color='tab:red')\n",
        "ax1.plot(range(1, epochs + 1), valid_losses, label='Validation Loss', color='tab:blue')\n",
        "ax1.tick_params(axis='y', labelcolor='tab:red')\n",
        "ax1.set_xticks(range(1, epochs + 1))\n",
        "\n",
        "# Add legend to the first plot\n",
        "ax1.legend()\n",
        "\n",
        "# Plot accuracies\n",
        "ax2.set_xlabel('Epoch')\n",
        "ax2.set_ylabel('Accuracy', color='tab:green')\n",
        "ax2.plot(range(1, epochs + 1), train_acc, label='Training Accuracy', color='tab:green')\n",
        "ax2.plot(range(1, epochs + 1), valid_acc, label='Validation Accuracy', color='tab:orange')\n",
        "ax2.tick_params(axis='y', labelcolor='tab:green')\n",
        "\n",
        "# Add legend to the second plot\n",
        "ax2.legend()\n",
        "\n",
        "# Add title to the whole figure\n",
        "fig.suptitle(f'Training Metrics over Epochs (Batch Size: {batch_size})', fontsize=14, y=0.95)\n",
        "\n",
        "plt.show()\n"
      ],
      "metadata": {
        "id": "9Yq4UsPzVZmQ"
      },
      "execution_count": null,
      "outputs": []
    },
    {
      "cell_type": "code",
      "source": [
        "# # Visualize results\n",
        "# plot_training_results(epoch_training_losses, accuracy_scores, epochs)"
      ],
      "metadata": {
        "id": "oqi6XClqmRpM"
      },
      "execution_count": null,
      "outputs": []
    },
    {
      "cell_type": "markdown",
      "source": [
        "#### Evaluation Of Fine-Tuned Model"
      ],
      "metadata": {
        "id": "WJJ2HsZSYs1f"
      }
    },
    {
      "cell_type": "code",
      "source": [
        "# model.eval()\n",
        "# predictions = []\n",
        "# true_labels = []\n",
        "# for batch in test_dataloader:\n",
        "#     batch = tuple(t.to(device) for t in batch)\n",
        "#     input_ids, attention_mask, labels = batch\n",
        "#     with torch.no_grad():\n",
        "#         logits = model(input_ids, attention_mask)\n",
        "#     preds = torch.argmax(logits, axis=1)\n",
        "#     predictions.extend(preds.cpu().numpy())\n",
        "#     true_labels.extend(labels.cpu().numpy())"
      ],
      "metadata": {
        "id": "jFdID3_eYw6H"
      },
      "execution_count": null,
      "outputs": []
    },
    {
      "cell_type": "code",
      "source": [
        "# accuracy = accuracy_score(true_labels, predictions)\n",
        "# print(\"Accuracy on validation data:\", accuracy)"
      ],
      "metadata": {
        "id": "JxPJBfWCZEzA"
      },
      "execution_count": null,
      "outputs": []
    },
    {
      "cell_type": "code",
      "source": [
        "# matrix  = confusion_matrix(true_labels, predictions)\n",
        "# matrix"
      ],
      "metadata": {
        "id": "k9n76M0qZMaf"
      },
      "execution_count": null,
      "outputs": []
    },
    {
      "cell_type": "markdown",
      "source": [
        "#### Export The Fine-Tuned Model"
      ],
      "metadata": {
        "id": "1uTJmzjOZg9k"
      }
    },
    {
      "cell_type": "code",
      "source": [
        "# # Uncomment if export is needed\n",
        "# torch.save(model.state_dict(), fine_tuned_model_name)\n",
        "# tokenizer.save_pretrained(tokenizer_directory_name)"
      ],
      "metadata": {
        "id": "pK4iuPdUZgk8"
      },
      "execution_count": null,
      "outputs": []
    },
    {
      "cell_type": "markdown",
      "source": [
        "# Testing model import for pipeline"
      ],
      "metadata": {
        "id": "kXHC4vlF7qeM"
      }
    },
    {
      "cell_type": "code",
      "source": [
        "model_path = '/content/screen_bert_batch_size_16.pth'"
      ],
      "metadata": {
        "id": "zkE3ZagQ88UE"
      },
      "execution_count": null,
      "outputs": []
    },
    {
      "cell_type": "code",
      "source": [
        "def classify_this(text):\n",
        "  inputs = pretrained_tokenizer.encode_plus(text, add_special_tokens=True, return_tensors='pt')\n",
        "  input_ids = inputs['input_ids'].to(device)\n",
        "  attention_mask = inputs['attention_mask'].to(device)\n",
        "  with torch.no_grad():\n",
        "    output = best_model(input_ids, attention_mask)\n",
        "  return torch.argmax(output, dim=1).item()"
      ],
      "metadata": {
        "id": "JP3cBkes_36L"
      },
      "execution_count": null,
      "outputs": []
    },
    {
      "cell_type": "code",
      "source": [
        "text1 = '''I've heard the term machine learning before, but I must admit that I don't have extensive knowledge about them.'''"
      ],
      "metadata": {
        "id": "3YWde8U2_XFw"
      },
      "execution_count": null,
      "outputs": []
    },
    {
      "cell_type": "code",
      "source": [
        "classify_this(text1)"
      ],
      "metadata": {
        "colab": {
          "base_uri": "https://localhost:8080/"
        },
        "id": "OBU4XHPeDwFk",
        "outputId": "b3c37d95-502d-40ff-be5d-8183cb43634f"
      },
      "execution_count": null,
      "outputs": [
        {
          "output_type": "execute_result",
          "data": {
            "text/plain": [
              "0"
            ]
          },
          "metadata": {},
          "execution_count": 47
        }
      ]
    },
    {
      "cell_type": "code",
      "source": [
        "text3 = \"For example, in a project I worked on during my studies, I used a CNN to classify different types of fruits from images.\""
      ],
      "metadata": {
        "id": "oB-ICXop_ayk"
      },
      "execution_count": null,
      "outputs": []
    },
    {
      "cell_type": "code",
      "source": [
        "classify_this(text3)"
      ],
      "metadata": {
        "colab": {
          "base_uri": "https://localhost:8080/"
        },
        "id": "gSi960M5_xF8",
        "outputId": "5655c489-228a-493a-c9a4-217339e74bba"
      },
      "execution_count": null,
      "outputs": [
        {
          "output_type": "execute_result",
          "data": {
            "text/plain": [
              "1"
            ]
          },
          "metadata": {},
          "execution_count": 94
        }
      ]
    },
    {
      "cell_type": "code",
      "source": [
        "'''i know <SKILL>'''"
      ],
      "metadata": {
        "colab": {
          "base_uri": "https://localhost:8080/",
          "height": 35
        },
        "id": "BgXanvG2_z1t",
        "outputId": "6eebb987-0158-43c7-cee7-bea66b156d1d"
      },
      "execution_count": null,
      "outputs": [
        {
          "output_type": "execute_result",
          "data": {
            "text/plain": [
              "'i know <SKILL>'"
            ],
            "application/vnd.google.colaboratory.intrinsic+json": {
              "type": "string"
            }
          },
          "metadata": {},
          "execution_count": 112
        }
      ]
    },
    {
      "cell_type": "code",
      "source": [],
      "metadata": {
        "id": "_2H8B9XGCTCk"
      },
      "execution_count": null,
      "outputs": []
    },
    {
      "cell_type": "code",
      "source": [
        "text2 = '''i know <SKILL>'''"
      ],
      "metadata": {
        "id": "Dtw3tVNHChS0"
      },
      "execution_count": null,
      "outputs": []
    },
    {
      "cell_type": "code",
      "source": [],
      "metadata": {
        "id": "8ID3IipvCTNL"
      },
      "execution_count": null,
      "outputs": []
    },
    {
      "cell_type": "code",
      "source": [
        "text2 = '''i know computer'''\n",
        "classify_this(text2)"
      ],
      "metadata": {
        "colab": {
          "base_uri": "https://localhost:8080/"
        },
        "id": "9CdRAPIdCNtq",
        "outputId": "983e9ff4-d8d1-4d55-bfec-b48c9b5592da"
      },
      "execution_count": null,
      "outputs": [
        {
          "output_type": "execute_result",
          "data": {
            "text/plain": [
              "1"
            ]
          },
          "metadata": {},
          "execution_count": 114
        }
      ]
    },
    {
      "cell_type": "code",
      "source": [
        "text2 = '''i know science'''\n",
        "classify_this(text2)"
      ],
      "metadata": {
        "colab": {
          "base_uri": "https://localhost:8080/"
        },
        "id": "8N61xQ3-CPgP",
        "outputId": "9406598f-a9d2-4690-bc0b-6c275605be1e"
      },
      "execution_count": null,
      "outputs": [
        {
          "output_type": "execute_result",
          "data": {
            "text/plain": [
              "1"
            ]
          },
          "metadata": {},
          "execution_count": 115
        }
      ]
    },
    {
      "cell_type": "code",
      "source": [
        "text2 = '''i know computer science'''\n",
        "classify_this(text2)"
      ],
      "metadata": {
        "colab": {
          "base_uri": "https://localhost:8080/"
        },
        "id": "MWFMOpomB9a5",
        "outputId": "eab9ff38-b29b-4c93-f751-f74b2ddeba65"
      },
      "execution_count": null,
      "outputs": [
        {
          "output_type": "execute_result",
          "data": {
            "text/plain": [
              "0"
            ]
          },
          "metadata": {},
          "execution_count": 113
        }
      ]
    },
    {
      "cell_type": "code",
      "source": [],
      "metadata": {
        "id": "8WtwfWiKCRHV"
      },
      "execution_count": null,
      "outputs": []
    }
  ]
}